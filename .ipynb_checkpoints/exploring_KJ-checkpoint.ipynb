{
 "cells": [
  {
   "cell_type": "code",
   "execution_count": 1,
   "metadata": {},
   "outputs": [],
   "source": [
    "import matplotlib.pyplot as plt\n",
    "from matplotlib import colors\n",
    "import seaborn as sns\n",
    "from functions import *\n",
    "%matplotlib widget\n",
    "plt.style.use('ggplot')"
   ]
  },
  {
   "cell_type": "code",
   "execution_count": 2,
   "metadata": {},
   "outputs": [],
   "source": [
    "df = root_to_df('root_files/Bender.root')\n",
    "df2 = root_to_df('~/Bs2KKmumu/Bs2KKmumu_2017_MagUp.root')"
   ]
  },
  {
   "cell_type": "code",
   "execution_count": 26,
   "metadata": {},
   "outputs": [],
   "source": [
    "def root_to_df2(fname,drop_na = False):\n",
    "    file = uproot.open('{}'.format(fname))\n",
    "    decay_tuple = file['DecayTuple/DecayTuple']\n",
    "    col_names = [col.decode(\"utf-8\") for col in decay_tuple.keys()]\n",
    "    columns = set([col.split('_')[0] for col in col_names])\n",
    "\n",
    "    # df = pd.DataFrame(decay_tuple.arrays(columns, flatten=None))\n",
    "    # df.columns = columns\n",
    "    #df = decay_tuple.pandas.df(columns, flatten=True)\n",
    "    variables = []\n",
    "    df = pd.DataFrame()\n",
    "\n",
    "    for col in col_names:\n",
    "        #variables.append(decay_tuple.pandas.df(\"{}*\".format(col), flatten=True))\n",
    "        print(col)\n",
    "        df = df.join(decay_tuple.pandas.df(\"{}\".format(col), flatten=True), how = 'outer')\n",
    "#     for var in variables:\n",
    "#         df = df.join(var, how = 'outer')\n",
    "    \n",
    "#     Bs = decay_tuple.pandas.df(\"Bs*\", flatten=True)\n",
    "#     phi = decay_tuple.pandas.df(\"phi3*\", flatten=True)\n",
    "#     dist = decay_tuple.pandas.df(\"DOCA*\", flatten=True)\n",
    "#     ip = decay_tuple.pandas.df(\"IP*\", flatten=True)\n",
    "#     fd = decay_tuple.pandas.df(\"FD*\", flatten=True)\n",
    "#     muminus = decay_tuple.pandas.df(\"muminus*\", flatten=True)\n",
    "#     muplus = decay_tuple.pandas.df(\"muplus*\", flatten=True)\n",
    "#     tauminus = decay_tuple.pandas.df(\"tauminus*\", flatten=True)\n",
    "#     tauplus = decay_tuple.pandas.df(\"tauplus*\", flatten=True)\n",
    "#     Kminus = decay_tuple.pandas.df(\"Kminus*\", flatten=True)\n",
    "#     Kplus = decay_tuple.pandas.df(\"Kplus*\", flatten=True)\n",
    "#     # dfs = [Bs, phi, dist, mu, Kplus, Kminus]\n",
    "#     df = Bs.join(phi, how=\"outer\").join(dist, how=\"outer\").join(ip, how=\"outer\").join(fd, how=\"outer\").join(muplus, how=\"outer\").join(muminus, how=\"outer\").join(tauplus, how=\"outer\").join(tauminus, how=\"outer\").join(Kminus, how=\"outer\").join(Kplus, how=\"outer\")\n",
    "    if drop_na:\n",
    "        df.dropna(inplace=True)\n",
    "    return df"
   ]
  },
  {
   "cell_type": "code",
   "execution_count": 27,
   "metadata": {},
   "outputs": [
    {
     "name": "stdout",
     "output_type": "stream",
     "text": [
      "Bs_TRUE_M\n",
      "Bs_TRUE_PX\n",
      "Bs_TRUE_PY\n",
      "Bs_TRUE_PZ\n",
      "Bs_TRUE_E\n",
      "Bs_TRUE_P\n"
     ]
    },
    {
     "ename": "ValueError",
     "evalue": "columns overlap but no suffix specified: Index(['Bs_TRUE_PX', 'Bs_TRUE_PY', 'Bs_TRUE_PZ'], dtype='object')",
     "output_type": "error",
     "traceback": [
      "\u001b[0;31m---------------------------------------------------------------------------\u001b[0m",
      "\u001b[0;31mValueError\u001b[0m                                Traceback (most recent call last)",
      "\u001b[0;32m<ipython-input-27-85349c66428d>\u001b[0m in \u001b[0;36m<module>\u001b[0;34m\u001b[0m\n\u001b[0;32m----> 1\u001b[0;31m \u001b[0mdf3\u001b[0m \u001b[0;34m=\u001b[0m \u001b[0mroot_to_df2\u001b[0m\u001b[0;34m(\u001b[0m\u001b[0;34m'root_files/Bender.root'\u001b[0m\u001b[0;34m)\u001b[0m\u001b[0;34m\u001b[0m\u001b[0;34m\u001b[0m\u001b[0m\n\u001b[0m",
      "\u001b[0;32m<ipython-input-26-331bec0d853e>\u001b[0m in \u001b[0;36mroot_to_df2\u001b[0;34m(fname, drop_na)\u001b[0m\n\u001b[1;32m     14\u001b[0m         \u001b[0;31m#variables.append(decay_tuple.pandas.df(\"{}*\".format(col), flatten=True))\u001b[0m\u001b[0;34m\u001b[0m\u001b[0;34m\u001b[0m\u001b[0;34m\u001b[0m\u001b[0m\n\u001b[1;32m     15\u001b[0m         \u001b[0mprint\u001b[0m\u001b[0;34m(\u001b[0m\u001b[0mcol\u001b[0m\u001b[0;34m)\u001b[0m\u001b[0;34m\u001b[0m\u001b[0;34m\u001b[0m\u001b[0m\n\u001b[0;32m---> 16\u001b[0;31m         \u001b[0mdf\u001b[0m \u001b[0;34m=\u001b[0m \u001b[0mdf\u001b[0m\u001b[0;34m.\u001b[0m\u001b[0mjoin\u001b[0m\u001b[0;34m(\u001b[0m\u001b[0mdecay_tuple\u001b[0m\u001b[0;34m.\u001b[0m\u001b[0mpandas\u001b[0m\u001b[0;34m.\u001b[0m\u001b[0mdf\u001b[0m\u001b[0;34m(\u001b[0m\u001b[0;34m\"{}*\"\u001b[0m\u001b[0;34m.\u001b[0m\u001b[0mformat\u001b[0m\u001b[0;34m(\u001b[0m\u001b[0mcol\u001b[0m\u001b[0;34m)\u001b[0m\u001b[0;34m,\u001b[0m \u001b[0mflatten\u001b[0m\u001b[0;34m=\u001b[0m\u001b[0;32mTrue\u001b[0m\u001b[0;34m)\u001b[0m\u001b[0;34m,\u001b[0m \u001b[0mhow\u001b[0m \u001b[0;34m=\u001b[0m \u001b[0;34m'outer'\u001b[0m\u001b[0;34m)\u001b[0m\u001b[0;34m\u001b[0m\u001b[0;34m\u001b[0m\u001b[0m\n\u001b[0m\u001b[1;32m     17\u001b[0m \u001b[0;31m#     for var in variables:\u001b[0m\u001b[0;34m\u001b[0m\u001b[0;34m\u001b[0m\u001b[0;34m\u001b[0m\u001b[0m\n\u001b[1;32m     18\u001b[0m \u001b[0;31m#         df = df.join(var, how = 'outer')\u001b[0m\u001b[0;34m\u001b[0m\u001b[0;34m\u001b[0m\u001b[0;34m\u001b[0m\u001b[0m\n",
      "\u001b[0;32m~/anaconda2/envs/py3/lib/python3.8/site-packages/pandas/core/frame.py\u001b[0m in \u001b[0;36mjoin\u001b[0;34m(self, other, on, how, lsuffix, rsuffix, sort)\u001b[0m\n\u001b[1;32m   8105\u001b[0m         \u001b[0;36m5\u001b[0m  \u001b[0mK5\u001b[0m  \u001b[0mA5\u001b[0m  \u001b[0mNaN\u001b[0m\u001b[0;34m\u001b[0m\u001b[0;34m\u001b[0m\u001b[0m\n\u001b[1;32m   8106\u001b[0m         \"\"\"\n\u001b[0;32m-> 8107\u001b[0;31m         return self._join_compat(\n\u001b[0m\u001b[1;32m   8108\u001b[0m             \u001b[0mother\u001b[0m\u001b[0;34m,\u001b[0m \u001b[0mon\u001b[0m\u001b[0;34m=\u001b[0m\u001b[0mon\u001b[0m\u001b[0;34m,\u001b[0m \u001b[0mhow\u001b[0m\u001b[0;34m=\u001b[0m\u001b[0mhow\u001b[0m\u001b[0;34m,\u001b[0m \u001b[0mlsuffix\u001b[0m\u001b[0;34m=\u001b[0m\u001b[0mlsuffix\u001b[0m\u001b[0;34m,\u001b[0m \u001b[0mrsuffix\u001b[0m\u001b[0;34m=\u001b[0m\u001b[0mrsuffix\u001b[0m\u001b[0;34m,\u001b[0m \u001b[0msort\u001b[0m\u001b[0;34m=\u001b[0m\u001b[0msort\u001b[0m\u001b[0;34m\u001b[0m\u001b[0;34m\u001b[0m\u001b[0m\n\u001b[1;32m   8109\u001b[0m         )\n",
      "\u001b[0;32m~/anaconda2/envs/py3/lib/python3.8/site-packages/pandas/core/frame.py\u001b[0m in \u001b[0;36m_join_compat\u001b[0;34m(self, other, on, how, lsuffix, rsuffix, sort)\u001b[0m\n\u001b[1;32m   8130\u001b[0m                     \u001b[0msort\u001b[0m\u001b[0;34m=\u001b[0m\u001b[0msort\u001b[0m\u001b[0;34m,\u001b[0m\u001b[0;34m\u001b[0m\u001b[0;34m\u001b[0m\u001b[0m\n\u001b[1;32m   8131\u001b[0m                 )\n\u001b[0;32m-> 8132\u001b[0;31m             return merge(\n\u001b[0m\u001b[1;32m   8133\u001b[0m                 \u001b[0mself\u001b[0m\u001b[0;34m,\u001b[0m\u001b[0;34m\u001b[0m\u001b[0;34m\u001b[0m\u001b[0m\n\u001b[1;32m   8134\u001b[0m                 \u001b[0mother\u001b[0m\u001b[0;34m,\u001b[0m\u001b[0;34m\u001b[0m\u001b[0;34m\u001b[0m\u001b[0m\n",
      "\u001b[0;32m~/anaconda2/envs/py3/lib/python3.8/site-packages/pandas/core/reshape/merge.py\u001b[0m in \u001b[0;36mmerge\u001b[0;34m(left, right, how, on, left_on, right_on, left_index, right_index, sort, suffixes, copy, indicator, validate)\u001b[0m\n\u001b[1;32m     87\u001b[0m         \u001b[0mvalidate\u001b[0m\u001b[0;34m=\u001b[0m\u001b[0mvalidate\u001b[0m\u001b[0;34m,\u001b[0m\u001b[0;34m\u001b[0m\u001b[0;34m\u001b[0m\u001b[0m\n\u001b[1;32m     88\u001b[0m     )\n\u001b[0;32m---> 89\u001b[0;31m     \u001b[0;32mreturn\u001b[0m \u001b[0mop\u001b[0m\u001b[0;34m.\u001b[0m\u001b[0mget_result\u001b[0m\u001b[0;34m(\u001b[0m\u001b[0;34m)\u001b[0m\u001b[0;34m\u001b[0m\u001b[0;34m\u001b[0m\u001b[0m\n\u001b[0m\u001b[1;32m     90\u001b[0m \u001b[0;34m\u001b[0m\u001b[0m\n\u001b[1;32m     91\u001b[0m \u001b[0;34m\u001b[0m\u001b[0m\n",
      "\u001b[0;32m~/anaconda2/envs/py3/lib/python3.8/site-packages/pandas/core/reshape/merge.py\u001b[0m in \u001b[0;36mget_result\u001b[0;34m(self)\u001b[0m\n\u001b[1;32m    684\u001b[0m         \u001b[0mjoin_index\u001b[0m\u001b[0;34m,\u001b[0m \u001b[0mleft_indexer\u001b[0m\u001b[0;34m,\u001b[0m \u001b[0mright_indexer\u001b[0m \u001b[0;34m=\u001b[0m \u001b[0mself\u001b[0m\u001b[0;34m.\u001b[0m\u001b[0m_get_join_info\u001b[0m\u001b[0;34m(\u001b[0m\u001b[0;34m)\u001b[0m\u001b[0;34m\u001b[0m\u001b[0;34m\u001b[0m\u001b[0m\n\u001b[1;32m    685\u001b[0m \u001b[0;34m\u001b[0m\u001b[0m\n\u001b[0;32m--> 686\u001b[0;31m         llabels, rlabels = _items_overlap_with_suffix(\n\u001b[0m\u001b[1;32m    687\u001b[0m             \u001b[0mself\u001b[0m\u001b[0;34m.\u001b[0m\u001b[0mleft\u001b[0m\u001b[0;34m.\u001b[0m\u001b[0m_info_axis\u001b[0m\u001b[0;34m,\u001b[0m \u001b[0mself\u001b[0m\u001b[0;34m.\u001b[0m\u001b[0mright\u001b[0m\u001b[0;34m.\u001b[0m\u001b[0m_info_axis\u001b[0m\u001b[0;34m,\u001b[0m \u001b[0mself\u001b[0m\u001b[0;34m.\u001b[0m\u001b[0msuffixes\u001b[0m\u001b[0;34m\u001b[0m\u001b[0;34m\u001b[0m\u001b[0m\n\u001b[1;32m    688\u001b[0m         )\n",
      "\u001b[0;32m~/anaconda2/envs/py3/lib/python3.8/site-packages/pandas/core/reshape/merge.py\u001b[0m in \u001b[0;36m_items_overlap_with_suffix\u001b[0;34m(left, right, suffixes)\u001b[0m\n\u001b[1;32m   2176\u001b[0m \u001b[0;34m\u001b[0m\u001b[0m\n\u001b[1;32m   2177\u001b[0m     \u001b[0;32mif\u001b[0m \u001b[0;32mnot\u001b[0m \u001b[0mlsuffix\u001b[0m \u001b[0;32mand\u001b[0m \u001b[0;32mnot\u001b[0m \u001b[0mrsuffix\u001b[0m\u001b[0;34m:\u001b[0m\u001b[0;34m\u001b[0m\u001b[0;34m\u001b[0m\u001b[0m\n\u001b[0;32m-> 2178\u001b[0;31m         \u001b[0;32mraise\u001b[0m \u001b[0mValueError\u001b[0m\u001b[0;34m(\u001b[0m\u001b[0;34mf\"columns overlap but no suffix specified: {to_rename}\"\u001b[0m\u001b[0;34m)\u001b[0m\u001b[0;34m\u001b[0m\u001b[0;34m\u001b[0m\u001b[0m\n\u001b[0m\u001b[1;32m   2179\u001b[0m \u001b[0;34m\u001b[0m\u001b[0m\n\u001b[1;32m   2180\u001b[0m     \u001b[0;32mdef\u001b[0m \u001b[0mrenamer\u001b[0m\u001b[0;34m(\u001b[0m\u001b[0mx\u001b[0m\u001b[0;34m,\u001b[0m \u001b[0msuffix\u001b[0m\u001b[0;34m)\u001b[0m\u001b[0;34m:\u001b[0m\u001b[0;34m\u001b[0m\u001b[0;34m\u001b[0m\u001b[0m\n",
      "\u001b[0;31mValueError\u001b[0m: columns overlap but no suffix specified: Index(['Bs_TRUE_PX', 'Bs_TRUE_PY', 'Bs_TRUE_PZ'], dtype='object')"
     ]
    }
   ],
   "source": [
    "df3 = root_to_df2('root_files/Bender.root')"
   ]
  },
  {
   "cell_type": "code",
   "execution_count": 4,
   "metadata": {},
   "outputs": [],
   "source": [
    "import uproot\n",
    "\n",
    "file = uproot.open('root_files/Bender_fd_ip_doca.root')\n",
    "decay_tuple = file['DecayTuple/DecayTuple']\n",
    "col_names = [col.decode(\"utf-8\") for col in decay_tuple.keys()]\n",
    "df = pd.DataFrame(decay_tuple.arrays())\n",
    "df.columns = col_names\n",
    "\n",
    "df.dropna(inplace=True)"
   ]
  },
  {
   "cell_type": "code",
   "execution_count": 25,
   "metadata": {},
   "outputs": [
    {
     "data": {
      "text/plain": [
       "{'Bs',\n",
       " 'DOCA',\n",
       " 'Kminus',\n",
       " 'Kplus',\n",
       " 'PV',\n",
       " 'eventNumber',\n",
       " 'muminus',\n",
       " 'muplus',\n",
       " 'nBackTracks',\n",
       " 'nBs',\n",
       " 'nCaloElectrons',\n",
       " 'nCaloPhotons',\n",
       " 'nDownstreamTracks',\n",
       " 'nFTClusters',\n",
       " 'nGhosts',\n",
       " 'nITClusters',\n",
       " 'nKminus',\n",
       " 'nKplus',\n",
       " 'nLongTracks',\n",
       " 'nMuonCoordsS0',\n",
       " 'nMuonCoordsS1',\n",
       " 'nMuonCoordsS2',\n",
       " 'nMuonCoordsS3',\n",
       " 'nMuonCoordsS4',\n",
       " 'nMuonTracks',\n",
       " 'nOTClusters',\n",
       " 'nPV',\n",
       " 'nPVs',\n",
       " 'nProtoCharged',\n",
       " 'nProtoNeutral',\n",
       " 'nRich1Hits',\n",
       " 'nRich2Hits',\n",
       " 'nSPDhits',\n",
       " 'nTTClusters',\n",
       " 'nTTracks',\n",
       " 'nTracks',\n",
       " 'nUTClusters',\n",
       " 'nUpstreamTracks',\n",
       " 'nVeloClusters',\n",
       " 'nVeloTracks',\n",
       " 'nmuminus',\n",
       " 'nmuplus',\n",
       " 'nphi3',\n",
       " 'ntauminus',\n",
       " 'ntauplus',\n",
       " 'phi3',\n",
       " 'runNumber',\n",
       " 'tauminus',\n",
       " 'tauplus'}"
      ]
     },
     "execution_count": 25,
     "metadata": {},
     "output_type": "execute_result"
    }
   ],
   "source": [
    "col_names_ = set([col.split('_')[0] for col in col_names])\n",
    "col_names_"
   ]
  },
  {
   "cell_type": "code",
   "execution_count": null,
   "metadata": {},
   "outputs": [],
   "source": [
    "df[['phi3_VX','phi3_VY','phi3_VZ']].applymap(lambda x:x[0]).dropna()"
   ]
  },
  {
   "cell_type": "code",
   "execution_count": null,
   "metadata": {},
   "outputs": [],
   "source": [
    "doca_cols_chi2 = ['DOCA_mu_plus','DOCA_chi2_mu_plus','DOCA_mu_minus', 'DOCA_chi2_mu_minus', 'DOCA_analytic_plus', 'DOCA_analytic_minus']\n",
    "doca_cols = ['DOCA_mu_plus','DOCA_mu_minus', 'DOCA_analytic_plus', 'DOCA_analytic_minus']\n",
    "df[doca_cols].describe()"
   ]
  },
  {
   "cell_type": "code",
   "execution_count": null,
   "metadata": {},
   "outputs": [],
   "source": [
    "plt.figure()\n",
    "df['DOCA_mu_plus'].hist(bins = 'auto', range = (0,0.1))\n",
    "plt.yscale('log')\n",
    "plt.title('DOCA_mu_plus')\n",
    "plt.tight_layout()\n",
    "plt.show()"
   ]
  },
  {
   "cell_type": "code",
   "execution_count": null,
   "metadata": {},
   "outputs": [],
   "source": [
    "fig, ax = plt.subplots(nrows = 2 , ncols = 2, figsize = (10,6))\n",
    "i = 0\n",
    "for row in ax:\n",
    "    for col in row:\n",
    "        N, bins, patches = col.hist(df[doca_cols[i]], bins = 'auto', range = (0,0.1))\n",
    "        fracs = N / N.max()\n",
    "        norm = colors.Normalize(fracs.min(), fracs.max())\n",
    "        for thisfrac, thispatch in zip(fracs, patches):\n",
    "            color = plt.cm.viridis(norm(thisfrac))\n",
    "            thispatch.set_facecolor(color)\n",
    "        col.set_yscale('log')\n",
    "        col.set_xlabel(doca_cols[i])\n",
    "        i+=1\n",
    "plt.suptitle('DOCA (log y)')\n",
    "plt.tight_layout()\n",
    "plt.show()"
   ]
  },
  {
   "cell_type": "code",
   "execution_count": null,
   "metadata": {},
   "outputs": [],
   "source": [
    "plt.figure()\n",
    "plt.hist(df['DOCA_mu_plus'], range = (0,0.1), alpha = 0.5, bins = 'auto', label = 'DOCA')\n",
    "plt.hist(df['DOCA_analytic_plus'], range = (0,0.1),alpha = 0.5, bins = 'auto', label = 'analytic')\n",
    "plt.yscale('log')\n",
    "plt.legend()\n",
    "plt.title('DOCA_mu_plus bender and analytic (log y)')\n",
    "plt.tight_layout()\n",
    "plt.show()"
   ]
  },
  {
   "cell_type": "code",
   "execution_count": null,
   "metadata": {},
   "outputs": [],
   "source": [
    "n = int(len(doca_cols)/2)\n",
    "fig,ax = plt.subplots(nrows =  n, ncols = n, figsize = (10,6))\n",
    "i = 0\n",
    "j = 0\n",
    "for row in ax:\n",
    "    for col in row:\n",
    "        col.scatter(df[doca_cols[i]],df[doca_cols[j]])\n",
    "        col.set_xlabel(doca_cols[i])\n",
    "        col.set_ylabel(doca_cols[j])\n",
    "        j+=1\n",
    "    i+=1\n",
    "plt.suptitle('Pairplot')\n",
    "plt.tight_layout()\n",
    "plt.show()"
   ]
  },
  {
   "cell_type": "code",
   "execution_count": null,
   "metadata": {},
   "outputs": [],
   "source": [
    "pairplot = sns.pairplot(df[doca_cols], diag_kind = None)\n",
    "pairplot.set(xlim = (0,1), ylim = (0,1))"
   ]
  },
  {
   "cell_type": "code",
   "execution_count": null,
   "metadata": {},
   "outputs": [],
   "source": [
    "df[['DOCA_mu_plus','DOCA_analytic_plus']]"
   ]
  },
  {
   "cell_type": "code",
   "execution_count": null,
   "metadata": {},
   "outputs": [],
   "source": [
    "fig, ax = plt.subplots(1,2, figsize = (10,5))\n",
    "ax[0].scatter(df['DOCA_mu_plus'], df['DOCA_mu_plus_err'], marker = 'x')\n",
    "ax[0].set_xlabel('DOCA_mu_plus')\n",
    "ax[0].set_ylabel('DOCA_mu_plus_err')\n",
    "ax[0].set_xlim(0,0.1)\n",
    "ax[0].set_ylim(0,1)\n",
    "ax[1].scatter(df['DOCA_mu_minus'], df['DOCA_mu_minus_err'], marker = 'x')\n",
    "ax[1].set_xlabel('DOCA_mu_minus')\n",
    "ax[1].set_ylabel('DOCA_mu_minus_err')\n",
    "ax[1].set_xlim(0,0.1)\n",
    "ax[1].set_ylim(0,1)\n",
    "plt.suptitle('DOCA error vs DOCA')\n",
    "plt.tight_layout()\n",
    "plt.show()"
   ]
  },
  {
   "cell_type": "code",
   "execution_count": null,
   "metadata": {},
   "outputs": [],
   "source": [
    "fig, ax = plt.subplots(1,2, figsize = (10,5))\n",
    "ax[0].hist(df['DOCA_mu_plus_err'], bins = 'auto', range = (0,0.1))\n",
    "ax[0].set_xlabel('DOCA_mu_plus_err')\n",
    "ax[1].hist(df['DOCA_mu_minus_err'], bins = 'auto', range = (0,0.1))\n",
    "ax[1].set_xlabel('DOCA_mu_minus_err')\n",
    "plt.suptitle('Distribution of DOCA error')\n",
    "plt.tight_layout()\n",
    "plt.show()"
   ]
  },
  {
   "cell_type": "code",
   "execution_count": null,
   "metadata": {},
   "outputs": [],
   "source": [
    "fig, ax = plt.subplots(1,2, figsize = (10,5))\n",
    "ax[0].hist(df['DOCA_mu_plus_err'], bins = 'auto', range = (0,0.5))\n",
    "ax[0].set_xlabel('DOCA_mu_plus_err')\n",
    "ax[0].set_yscale('log')\n",
    "ax[1].hist(df['DOCA_mu_minus_err'], bins = 'auto', range = (0,0.5))\n",
    "ax[1].set_xlabel('DOCA_mu_minus_err')\n",
    "ax[1].set_yscale('log')\n",
    "plt.suptitle('Distribution of DOCA error (log y) (larger range)')\n",
    "plt.tight_layout()\n",
    "plt.show()"
   ]
  },
  {
   "cell_type": "code",
   "execution_count": null,
   "metadata": {},
   "outputs": [],
   "source": [
    "df[['DOCA_mu_plus','DOCA_mu_plus_err','DOCA_mu_minus', 'DOCA_mu_minus_err']].describe()"
   ]
  },
  {
   "cell_type": "code",
   "execution_count": null,
   "metadata": {},
   "outputs": [],
   "source": [
    "fig, ax = plt.subplots(1,2, figsize = (10,5))\n",
    "ax[0].hist(df['DOCA_mu_plus_err'], bins = 'auto', range = (0,0.1), alpha = 0.5, label = 'DOCA_mu_plus_err')\n",
    "ax[0].hist(df['DOCA_mu_plus'], bins = 'auto', range = (0,0.1), alpha = 0.5, label = 'DOCA_mu_plus')\n",
    "ax[0].set_xlabel('DOCA_mu_plus/DOCA_mu_plus_err')\n",
    "ax[0].set_yscale('log')\n",
    "ax[0].legend()\n",
    "ax[1].hist(df['DOCA_mu_minus_err'], bins = 'auto', range = (0,0.1), alpha = 0.5, label = 'DOCA_mu_minus_err')\n",
    "ax[1].hist(df['DOCA_mu_minus'], bins = 'auto', range = (0,0.1), alpha = 0.5, label = 'DOCA_mu_minus')\n",
    "ax[1].set_xlabel('DOCA_mu_minus/DOCA_mu_minus_err')\n",
    "ax[1].set_yscale('log')\n",
    "ax[1].legend()\n",
    "plt.suptitle('Distribution of DOCA & error (log y)')\n",
    "plt.tight_layout()\n",
    "plt.show()"
   ]
  },
  {
   "cell_type": "code",
   "execution_count": null,
   "metadata": {},
   "outputs": [],
   "source": [
    "fig, ax = plt.subplots(nrows = 1 , ncols = 2, figsize = (10,6))\n",
    "i = 0\n",
    "doca_columns = ['DOCA_analytic_plus', 'DOCA_analytic_minus']\n",
    "for col in ax:\n",
    "    N, bins, patches = col.hist(df2[doca_columns[i]], bins = 'auto', range = (0,0.02))\n",
    "    fracs = N / N.max()\n",
    "    norm = colors.Normalize(fracs.min(), fracs.max())\n",
    "    for thisfrac, thispatch in zip(fracs, patches):\n",
    "        color = plt.cm.viridis(norm(thisfrac))\n",
    "        thispatch.set_facecolor(color)\n",
    "    col.set_yscale('log')\n",
    "    col.set_xlabel(doca_columns[i])\n",
    "    i+=1\n",
    "fig.suptitle('DOCA analytic ditribution (log y) (Bs2KKmumu_MC_phimumu_MagUp_PID.root)')\n",
    "plt.tight_layout()\n",
    "plt.show()"
   ]
  },
  {
   "cell_type": "code",
   "execution_count": null,
   "metadata": {},
   "outputs": [],
   "source": [
    "fig, ax = plt.subplots(nrows = 1 , ncols = 2, figsize = (10,6))\n",
    "i = 0\n",
    "doca_columns = ['DOCA_analytic_plus', 'DOCA_analytic_minus']\n",
    "for col in ax:\n",
    "    N, bins, patches = col.hist(df[doca_columns[i]], bins = 'auto', range = (0,0.02))\n",
    "    fracs = N / N.max()\n",
    "    norm = colors.Normalize(fracs.min(), fracs.max())\n",
    "    for thisfrac, thispatch in zip(fracs, patches):\n",
    "        color = plt.cm.viridis(norm(thisfrac))\n",
    "        thispatch.set_facecolor(color)\n",
    "    col.set_yscale('log')\n",
    "    col.set_xlabel(doca_columns[i])\n",
    "    i+=1\n",
    "fig.suptitle('DOCA analytic ditribution (log y) (Bender.root)')\n",
    "plt.tight_layout()\n",
    "plt.show()"
   ]
  },
  {
   "cell_type": "code",
   "execution_count": null,
   "metadata": {},
   "outputs": [],
   "source": [
    "df2[doca_columns].describe()"
   ]
  },
  {
   "cell_type": "code",
   "execution_count": null,
   "metadata": {},
   "outputs": [],
   "source": [
    "df[doca_columns].describe()"
   ]
  },
  {
   "cell_type": "code",
   "execution_count": null,
   "metadata": {},
   "outputs": [],
   "source": [
    "df2_reduced = pd.read_pickle('/home/hep/kj3417/UROP_notebooks/Bs_reduced_tau_reconstructed_data_frame_MC_phimumu.pkl.gz')"
   ]
  },
  {
   "cell_type": "code",
   "execution_count": null,
   "metadata": {},
   "outputs": [],
   "source": [
    "fig, ax = plt.subplots(nrows = 1 , ncols = 2, figsize = (10,6))\n",
    "i = 0\n",
    "doca_columns = ['_tau_plus_closest_dist', '_tau_minus_closest_dist']\n",
    "for col in ax:\n",
    "    N, bins, patches = col.hist(df2_reduced[doca_columns[i]], bins = 'auto', range = (0,0.02))\n",
    "    fracs = N / N.max()\n",
    "    norm = colors.Normalize(fracs.min(), fracs.max())\n",
    "    for thisfrac, thispatch in zip(fracs, patches):\n",
    "        color = plt.cm.viridis(norm(thisfrac))\n",
    "        thispatch.set_facecolor(color)\n",
    "    col.set_yscale('log')\n",
    "    col.set_xlabel(doca_columns[i])\n",
    "    i+=1\n",
    "fig.suptitle('tau CDA (emanuelle reduced)')\n",
    "plt.tight_layout()\n",
    "plt.show()"
   ]
  },
  {
   "cell_type": "code",
   "execution_count": null,
   "metadata": {},
   "outputs": [],
   "source": [
    "bs_point_1 = df2_reduced[['Bs_OWNPV_X', 'Bs_OWNPV_Y', 'Bs_OWNPV_Z']].to_numpy() #on Bs LOF\n",
    "bs_point_2 = df2_reduced[['Bs_ENDVERTEX_X', 'Bs_ENDVERTEX_Y', 'Bs_ENDVERTEX_Z']].to_numpy() #on Bs LOF\n",
    "mu_plus_point = df2_reduced[['mu_plus_REFPX', 'mu_plus_REFPY', 'mu_plus_REFPZ']].to_numpy() #on mu + LOF\n",
    "#mu_plus_point = df[['mu_plus_OWNPV_X','mu_plus_OWNPV_Y','mu_plus_OWNPV_Z']].applymap(lambda x: x[0]).to_numpy() #on mu + LOF\n",
    "mu_minus_point = df2_reduced[['mu_minus_REFPX', 'mu_minus_REFPY', 'mu_minus_REFPZ']].to_numpy() #on mu - LOF\n",
    "#mu_minus_point = df[['mu_minus_OWNPV_X','mu_minus_OWNPV_Y','mu_minus_OWNPV_Z']].applymap(lambda x: x[0]).to_numpy() #on mu - LOF\n",
    "\n",
    "bs_dir = bs_point_1 - bs_point_2\n",
    "mu_plus_dir = df2_reduced[['mu_plus_AtVtx_PX', 'mu_plus_AtVtx_PY', 'mu_plus_AtVtx_PZ']].to_numpy()\n",
    "mu_minus_dir = df2_reduced[['mu_minus_AtVtx_PX', 'mu_minus_AtVtx_PY', 'mu_minus_AtVtx_PZ']].to_numpy()\n",
    "\n",
    "n_plus = np.cross(bs_dir,mu_plus_dir)\n",
    "n_plus = n_plus/np.linalg.norm(n_plus, axis = 1, keepdims = True)\n",
    "n_minus = np.cross(bs_dir,mu_minus_dir)\n",
    "n_minus = n_minus/np.linalg.norm(n_minus, axis = 1, keepdims = True)\n",
    "\n",
    "DOCA_plus = np.abs(((mu_plus_point - bs_point_1)*n_plus).sum(1))\n",
    "DOCA_minus = np.abs(((mu_minus_point - bs_point_1)*n_minus).sum(1))\n",
    "\n",
    "df2_reduced['DOCA_analytic_plus'] = DOCA_plus\n",
    "df2_reduced['DOCA_analytic_minus'] = DOCA_minus"
   ]
  },
  {
   "cell_type": "code",
   "execution_count": null,
   "metadata": {},
   "outputs": [],
   "source": [
    "fig, ax = plt.subplots(nrows = 1 , ncols = 2, figsize = (10,6))\n",
    "i = 0\n",
    "doca_columns = ['DOCA_analytic_plus', 'DOCA_analytic_minus']\n",
    "for col in ax:\n",
    "    N, bins, patches = col.hist(df2_reduced[doca_columns[i]], bins = 'auto', range = (0,0.02))\n",
    "    fracs = N / N.max()\n",
    "    norm = colors.Normalize(fracs.min(), fracs.max())\n",
    "    for thisfrac, thispatch in zip(fracs, patches):\n",
    "        color = plt.cm.viridis(norm(thisfrac))\n",
    "        thispatch.set_facecolor(color)\n",
    "    col.set_yscale('log')\n",
    "    col.set_xlabel(doca_columns[i])\n",
    "    i+=1\n",
    "fig.suptitle('DOCA analytic (log y) (emanuelle reduced)')\n",
    "plt.tight_layout()\n",
    "plt.show()"
   ]
  },
  {
   "cell_type": "code",
   "execution_count": null,
   "metadata": {},
   "outputs": [],
   "source": [
    "df[]"
   ]
  }
 ],
 "metadata": {
  "kernelspec": {
   "display_name": "Python 3",
   "language": "python",
   "name": "python3"
  },
  "language_info": {
   "codemirror_mode": {
    "name": "ipython",
    "version": 3
   },
   "file_extension": ".py",
   "mimetype": "text/x-python",
   "name": "python",
   "nbconvert_exporter": "python",
   "pygments_lexer": "ipython3",
   "version": "3.8.5"
  }
 },
 "nbformat": 4,
 "nbformat_minor": 4
}
