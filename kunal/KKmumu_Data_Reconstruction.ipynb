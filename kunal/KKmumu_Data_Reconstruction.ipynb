{
 "cells": [
  {
   "cell_type": "markdown",
   "metadata": {
    "colab_type": "text",
    "id": "gt8sjN6LEEHx"
   },
   "source": [
    "# $B_s \\rightarrow KK\\mu\\mu$ Data Documentation"
   ]
  },
  {
   "cell_type": "markdown",
   "metadata": {
    "colab_type": "text",
    "id": "BoecKBPj1JGc"
   },
   "source": [
    "## Preamble"
   ]
  },
  {
   "cell_type": "markdown",
   "metadata": {
    "colab_type": "text",
    "id": "Ln9yih0j1LpC"
   },
   "source": [
    "This investigation has been detailed in 2 parts:\n",
    "1. Background Reduction and Decay Reconstruction (this notebook)\n",
    "2. Machine Learning and Branching Fraction\n",
    "\n"
   ]
  },
  {
   "cell_type": "markdown",
   "metadata": {
    "colab_type": "text",
    "id": "8ycYWoqSx-Br"
   },
   "source": [
    "This notebook is entirely independent and can be run in its entirety by clicking the \"Run all\" button above. If you want to perform the reconstruction on the MC, just \"uncomment\" the relative cells below. The reconstruction will work all right, but clearly all of the discussion of the notebook assumes that your are looking at actual data"
   ]
  },
  {
   "cell_type": "markdown",
   "metadata": {
    "colab_type": "text",
    "id": "odixm-AQwFVC"
   },
   "source": [
    "# Colab Notebook Setup"
   ]
  },
  {
   "cell_type": "markdown",
   "metadata": {
    "colab_type": "text",
    "id": "l5y62UgnwMaX"
   },
   "source": [
    "## Data"
   ]
  },
  {
   "cell_type": "code",
   "execution_count": 1,
   "metadata": {
    "colab": {},
    "colab_type": "code",
    "id": "b3T14J5evh2p"
   },
   "outputs": [
    {
     "name": "stderr",
     "output_type": "stream",
     "text": [
      "/home/hep/kj3417/anaconda2/envs/py3/lib/python3.8/site-packages/uproot3/__init__.py:127: FutureWarning: Consider switching from 'uproot3' to 'uproot', since the new interface became the default in 2020.\n",
      "\n",
      "    pip install -U uproot\n",
      "\n",
      "In Python:\n",
      "\n",
      "    >>> import uproot\n",
      "    >>> with uproot.open(...) as file:\n",
      "    ...\n",
      "\n",
      "  warnings.warn(\n",
      "/home/hep/kj3417/anaconda2/envs/py3/lib/python3.8/site-packages/awkward0/__init__.py:12: FutureWarning: Consider switching from 'awkward0' to 'awkward', since the new interface became the default in 2020.\n",
      "\n",
      "    pip install -U awkward\n",
      "\n",
      "In Python:\n",
      "\n",
      "    >>> import awkward as ak\n",
      "    >>> new_style_array = ak.from_awkward0(old_style_array)\n",
      "    >>> old_style_array = ak.to_awkward0(new_style_array)\n",
      "\n",
      "  warnings.warn(\n"
     ]
    }
   ],
   "source": [
    "import os\n",
    "import zipfile\n",
    "import pandas as pd\n",
    "import logging\n",
    "import sys\n",
    "from pathlib import Path\n",
    "from typing import List\n",
    "import numpy as np\n",
    "import pandas as pd\n",
    "import uproot\n",
    "import uproot3\n",
    "import matplotlib.pyplot as plt"
   ]
  },
  {
   "cell_type": "markdown",
   "metadata": {
    "colab_type": "text",
    "id": "pJOzMv6TCAEa"
   },
   "source": [
    "### Loading from ROOT files"
   ]
  },
  {
   "cell_type": "markdown",
   "metadata": {
    "colab_type": "text",
    "id": "NUfrvox1CNhN"
   },
   "source": [
    "The data can also be loaded by calling the following `load_data` function. \n",
    "\n",
    "This requires the `uproot` package which can be installed with `pip install uproot`."
   ]
  },
  {
   "cell_type": "code",
   "execution_count": 2,
   "metadata": {
    "colab": {
     "base_uri": "https://localhost:8080/",
     "height": 241
    },
    "colab_type": "code",
    "id": "Hm7Cyes6mbgt",
    "outputId": "f1dc2870-9326-4789-be3e-ecdc80ed7920"
   },
   "outputs": [],
   "source": [
    "#!pip install uproot"
   ]
  },
  {
   "cell_type": "code",
   "execution_count": 3,
   "metadata": {
    "colab": {},
    "colab_type": "code",
    "id": "Sf1tfSr3CA94"
   },
   "outputs": [],
   "source": [
    "import logging\n",
    "import time\n",
    "from contextlib import contextmanager\n",
    "\n",
    "logger = logging.getLogger(\"Timer\")\n",
    "\n",
    "\n",
    "@contextmanager\n",
    "def timer(process: str, print_starting: bool = False):\n",
    "    start_time = time.time()\n",
    "    if print_starting:\n",
    "        logger.info(f\"{process} starting...\")\n",
    "    try:\n",
    "        yield\n",
    "    finally:\n",
    "        logger.info(f\"{process} took {time.time() - start_time:.3f}s\")\n"
   ]
  },
  {
   "cell_type": "markdown",
   "metadata": {
    "colab": {
     "base_uri": "https://localhost:8080/",
     "height": 395
    },
    "colab_type": "code",
    "id": "aE0btNC_CD_v",
    "outputId": "7ba127d8-6a0a-4cb7-9732-9ce512386b4c"
   },
   "source": [
    "# import logging\n",
    "import sys\n",
    "from pathlib import Path\n",
    "from typing import List\n",
    "\n",
    "import numpy as np\n",
    "import pandas as pd\n",
    "import uproot\n",
    "\n",
    "\n",
    "logger = logging.getLogger('data_loader')\n",
    "\n",
    "parent_folder = Path(\"/home/hep/kj3417/Bs2KKmumu/\")\n",
    "# # Change the above to be the Path to the folder containing .root files.\n",
    "\n",
    "\n",
    "def load_data(df_name: str = 'Bs_data') -> pd.DataFrame:\n",
    " \"\"\"\n",
    " Load data sets with the specified column names\n",
    " :param df_name: name of df to use (Lb_data, B_MC or Lb_MC)\n",
    " :return:\n",
    " \"\"\"\n",
    " file_names_dict = {\n",
    "      'Bs_data': ['Bs2KKmumu_2018_MagUp.root', 'Bs2KKmumu_2018_MagDown.root','Bs2KKmumu_2017_MagUp.root', 'Bs2KKmumu_2017_MagDown.root']\n",
    "#          'Bs_data': ['Bs2KKmumu_2018_MagUp_SL_line.root', 'Bs2KKmumu_2018_MagDown_SL_line.root'],\n",
    " }\n",
    "\n",
    " if df_name not in file_names_dict:\n",
    "     raise ValueError(f'df_name must be one of: {known_names}, not {df_name}')\n",
    "\n",
    " with timer(\"Loading data\", print_starting=True):\n",
    "     columns = add_branches(df_name)\n",
    "     columns = set(columns)\n",
    "     file_names = file_names_dict[df_name]\n",
    "     events_frame = pd.DataFrame()\n",
    "     for f in file_names:\n",
    "         file = uproot.open(str(parent_folder / f))\n",
    "         # events = file['DecayTree'] if 'B2' not in f else file['LbTuple/DecayTree']\n",
    "         events = file['DecayTree']\n",
    "         events_frame = pd.concat([events_frame, events.pandas.df(columns)], axis=0, ignore_index=True)\n",
    "     logger.info(f\"DataFrame memory used: {sys.getsizeof(events_frame):,} bytes.\")\n",
    " return events_frame\n",
    "\n",
    "\n",
    "def add_branches(df_name: str = 'Bs_data') -> List[str]:\n",
    " \"\"\"\n",
    " Returns branches needed for analysis\n",
    " :param df_name: name of data frame which needs branch loading\n",
    " :return:\n",
    " \"\"\"\n",
    "\n",
    " #Bs=['Bs_M','Bs_P','Bs_PT','Bs_pmu_ISOLATION_BDT1','Bs_pmu_ISOLATION_BDT2','Bs_pmu_ISOLATION_BDT3','Bs_pmu_ISOLATION_BDT4','Bs_DIRA_OWNPV','Bs_IP_OWNPV','Bs_IPCHI2_OWNPV','Bs_FDCHI2_OWNPV','Bs_OWNPV_X', 'Bs_OWNPV_Y', 'Bs_OWNPV_Z','Bs_OWNPV_NDOF','Bs_ENDVERTEX_CHI2','Bs_ENDVERTEX_NDOF','Bs_ENDVERTEX_X', 'Bs_ENDVERTEX_Y', 'Bs_ENDVERTEX_Z']\n",
    "\n",
    " Bs=['Bs_M','Bs_P','Bs_PT', 'Bs_pmu_ISOLATION_BDT1','Bs_DIRA_OWNPV','Bs_IP_OWNPV','Bs_IPCHI2_OWNPV','Bs_FDCHI2_OWNPV','Bs_OWNPV_X', 'Bs_OWNPV_Y', 'Bs_OWNPV_Z','Bs_OWNPV_NDOF','Bs_ENDVERTEX_CHI2','Bs_ENDVERTEX_NDOF','Bs_ENDVERTEX_X', 'Bs_ENDVERTEX_Y', 'Bs_ENDVERTEX_Z',\n",
    "     'Bs_Hlt2TopoMu2BodyDecision_TOS','Bs_Hlt2TopoMu3BodyDecision_TOS', 'Bs_Hlt2TopoMu4BodyDecision_TOS','Bs_Hlt2DiMuonDecision_TOS','Bs_Hlt2SingleMuonDecision_TOS','Bs_Hlt2Topo2BodyDecision_TOS',\n",
    "     'Bs_Hlt2Topo3BodyDecision_TOS', 'Bs_Hlt2Topo4BodyDecision_TOS', 'Bs_Hlt1TrackMVADecision_TOS', 'Bs_Hlt1TrackMuonDecision_TOS', 'Bs_L0MuonDecision_TOS', 'Bs_L0DiMuonDecision_TOS','eventNumber','runNumber']\n",
    " jpsi=['jpsi_M','jpsi_P','jpsi_PT']\n",
    " phi=['phi_M','phi_P','phi_PX','phi_PY','phi_PZ','phi_PT','phi_ENDVERTEX_X', 'phi_ENDVERTEX_Y', 'phi_ENDVERTEX_Z','phi_ENDVERTEX_CHI2','phi_ORIVX_CHI2']\n",
    "\n",
    " mu_plus = ['mu_plus_M','mu_plus_PE', 'mu_plus_PX', 'mu_plus_PY', 'mu_plus_PZ', 'mu_plus_P', 'mu_plus_PT', 'mu_plus_isMuon', 'mu_plus_ProbNNe', 'mu_plus_ProbNNk', 'mu_plus_ProbNNp', 'mu_plus_ProbNNpi', 'mu_plus_ProbNNmu',\n",
    "            'mu_plus_ProbNNd', 'mu_plus_ProbNNghost','mu_plus_PIDmu','mu_plus_PIDK','mu_plus_IPCHI2_OWNPV','mu_plus_MINIPCHI2','mu_plus_AtVtx_PX','mu_plus_AtVtx_PY','mu_plus_AtVtx_PZ','mu_plus_REFPX', 'mu_plus_REFPY', 'mu_plus_REFPZ','mu_plus_TRACK_CloneDist','mu_plus_TRACK_GhostProb']\n",
    " mu_minus = ['mu_minus_M','mu_minus_PE', 'mu_minus_PX', 'mu_minus_PY', 'mu_minus_PZ', 'mu_minus_P', 'mu_minus_PT', 'mu_minus_isMuon', 'mu_minus_ProbNNe', 'mu_minus_ProbNNk', 'mu_minus_ProbNNp', 'mu_minus_ProbNNpi', 'mu_minus_ProbNNmu',\n",
    "             'mu_minus_ProbNNd', 'mu_minus_ProbNNghost','mu_minus_PIDmu','mu_minus_PIDK','mu_minus_IPCHI2_OWNPV','mu_minus_MINIPCHI2','mu_minus_AtVtx_PX','mu_minus_AtVtx_PY','mu_minus_AtVtx_PZ','mu_minus_REFPX', 'mu_minus_REFPY', 'mu_minus_REFPZ','mu_minus_TRACK_CloneDist','mu_minus_TRACK_GhostProb']\n",
    " K_plus = ['K_plus_M','K_plus_PE', 'K_plus_PX', 'K_plus_PY', 'K_plus_PZ', 'K_plus_P', 'K_plus_PT', 'K_plus_isMuon', 'K_plus_ProbNNe', 'K_plus_ProbNNk', 'K_plus_ProbNNp', 'K_plus_ProbNNpi', 'K_plus_ProbNNmu',\n",
    "            'K_plus_ProbNNd', 'K_plus_ProbNNghost','K_plus_PIDK','K_plus_PIDmu','K_plus_PIDd','K_plus_PIDp','K_plus_IPCHI2_OWNPV','K_plus_MINIPCHI2','K_plus_TRACK_CloneDist','K_plus_TRACK_GhostProb']\n",
    " K_minus = ['K_minus_M','K_minus_PE', 'K_minus_PX', 'K_minus_PY', 'K_minus_PZ', 'K_minus_P', 'K_minus_PT', 'K_minus_isMuon', 'K_minus_ProbNNe', 'K_minus_ProbNNk', 'K_minus_ProbNNp', 'K_minus_ProbNNpi', 'K_minus_ProbNNmu',\n",
    "             'K_minus_ProbNNd', 'K_minus_ProbNNghost','K_minus_PIDK','K_minus_PIDmu','K_minus_PIDd','K_minus_PIDp','K_minus_IPCHI2_OWNPV','K_minus_MINIPCHI2','K_minus_TRACK_CloneDist','K_minus_TRACK_GhostProb']\n",
    "\n",
    " return Bs+phi+jpsi+mu_plus+mu_minus+K_plus+K_minus\n",
    "\n",
    "Bs_data=load_data()\n"
   ]
  },
  {
   "cell_type": "markdown",
   "metadata": {},
   "source": [
    "# Make this cell \"CODE\" to load MC phi3tautau \n",
    "\n",
    "import logging\n",
    "import sys\n",
    "from pathlib import Path\n",
    "from typing import List\n",
    "\n",
    "import numpy as np\n",
    "import pandas as pd\n",
    "import uproot\n",
    "\n",
    "\n",
    "logger = logging.getLogger('data_loader')\n",
    "\n",
    "parent_folder = Path(\"/home/hep/kj3417/Bs2KKmumu/\")\n",
    "# # Change the above to be the Path to the folder containing .root files.\n",
    "\n",
    "\n",
    "def load_data(df_name: str = 'Bs_data') -> pd.DataFrame:\n",
    "     \"\"\"\n",
    "     Load data sets with the specified column names\n",
    "     :param df_name: name of df to use (Lb_data, B_MC or Lb_MC)\n",
    "     :return:\n",
    "     \"\"\"\n",
    "     file_names_dict = {\n",
    "#          'Bs_data': ['Bs2KKmumu_2mil_MCtruth_wTrig.root']\n",
    "          'Bs_data': ['Bs2KKmumu_MC_MD_part3_2mil_PID.root','Bs2KKmumu_MC_MD_SL_take2.root']\n",
    "#          'Bs_data': ['Bs2KKmumu_2018_MagUp_SL_line.root', 'Bs2KKmumu_2018_MagDown_SL_line.root'],\n",
    "     }\n",
    "\n",
    "     if df_name not in file_names_dict:\n",
    "         raise ValueError(f'df_name must be one of: {known_names}, not {df_name}')\n",
    "\n",
    "     with timer(\"Loading data\", print_starting=True):\n",
    "         columns = add_branches(df_name)\n",
    "         columns = set(columns)\n",
    "         file_names = file_names_dict[df_name]\n",
    "         events_frame = pd.DataFrame()\n",
    "         i=0\n",
    "         for f in file_names:\n",
    "             file = uproot.open(str(parent_folder / f))\n",
    "             if i==0:\n",
    "                 events = file['DecayTree'] if 'B2' not in f else file['Bs2KKmumu/DecayTree']\n",
    "             #events = file['Bs2KKmumu/DecayTree']\n",
    "                 events_frame = pd.concat([events_frame, events.pandas.df(columns)], axis=0, ignore_index=True)\n",
    "                 i=1\n",
    "             else:\n",
    "                 #events = file['Bs2KKmumu/DecayTree'] if 'B2' not in f else file['Bs2KKmumu/DecayTree']\n",
    "                 events = file['Bs2KKmumu/DecayTree']\n",
    "                 events_frame = pd.concat([events_frame, events.pandas.df(columns)], axis=0, ignore_index=True)\n",
    "         logger.info(f\"DataFrame memory used: {sys.getsizeof(events_frame):,} bytes.\")\n",
    "     return events_frame\n",
    "\n",
    "\n",
    "def add_branches(df_name: str = 'Bs_data') -> List[str]:\n",
    "     \"\"\"\n",
    "     Returns branches needed for analysis\n",
    "     :param df_name: name of data frame which needs branch loading\n",
    "     :return:\n",
    "     \"\"\"\n",
    "\n",
    "     #Bs=['Bs_M','Bs_P','Bs_PT','Bs_pmu_ISOLATION_BDT1','Bs_pmu_ISOLATION_BDT2','Bs_pmu_ISOLATION_BDT3','Bs_pmu_ISOLATION_BDT4','Bs_DIRA_OWNPV','Bs_IP_OWNPV','Bs_IPCHI2_OWNPV','Bs_FDCHI2_OWNPV','Bs_OWNPV_X', 'Bs_OWNPV_Y', 'Bs_OWNPV_Z','Bs_OWNPV_NDOF','Bs_ENDVERTEX_CHI2','Bs_ENDVERTEX_NDOF','Bs_ENDVERTEX_X', 'Bs_ENDVERTEX_Y', 'Bs_ENDVERTEX_Z']\n",
    "     \n",
    "     Bs=['Bs_M','Bs_P','Bs_PT','Bs_pmu_ISOLATION_BDT1','Bs_DIRA_OWNPV','Bs_IP_OWNPV','Bs_IPCHI2_OWNPV','Bs_FDCHI2_OWNPV','Bs_FD_OWNPV','Bs_OWNPV_X', 'Bs_OWNPV_Y', 'Bs_OWNPV_Z','Bs_OWNPV_NDOF','Bs_ENDVERTEX_CHI2','Bs_ENDVERTEX_NDOF','Bs_ENDVERTEX_X', 'Bs_ENDVERTEX_Y', 'Bs_ENDVERTEX_Z','Bs_TRUEENDVERTEX_X', 'Bs_TRUEENDVERTEX_Y', 'Bs_TRUEENDVERTEX_Z','Bs_OWNPV_CHI2','Bs_OWNPV_NDOF','Bs_Hlt2TopoMu2BodyDecision_TOS','Bs_Hlt2TopoMu3BodyDecision_TOS',\n",
    "         'Bs_Hlt2TopoMu4BodyDecision_TOS','Bs_Hlt2DiMuonDecision_TOS','Bs_Hlt2SingleMuonDecision_TOS','Bs_Hlt2Topo2BodyDecision_TOS',\n",
    "         'Bs_Hlt2Topo3BodyDecision_TOS', 'Bs_Hlt2Topo4BodyDecision_TOS', 'Bs_Hlt1TrackMVADecision_TOS', 'Bs_Hlt1TrackMuonDecision_TOS', 'Bs_L0MuonDecision_TOS', 'Bs_L0DiMuonDecision_TOS', 'eventNumber','runNumber']\n",
    "     jpsi=['jpsi_M','jpsi_P','jpsi_PT']\n",
    "     phi=['phi_M','phi_P','phi_PX','phi_PY','phi_PZ','phi_PT','phi_ENDVERTEX_X', 'phi_ENDVERTEX_Y', 'phi_ENDVERTEX_Z','phi_ENDVERTEX_CHI2','phi_TRUEID','phi_MC_MOTHER_ID','phi_OWNPV_CHI2','phi_OWNPV_NDOF','phi_MINIPCHI2','phi_DIRA_ORIVX','phi_ORIVX_CHI2']\n",
    "\n",
    "     mu_plus = ['mu_plus_M','mu_plus_PE', 'mu_plus_PX', 'mu_plus_PY', 'mu_plus_PZ', 'mu_plus_P', 'mu_plus_PT', 'mu_plus_isMuon', 'mu_plus_ProbNNe', 'mu_plus_ProbNNk', 'mu_plus_ProbNNp', 'mu_plus_ProbNNpi', 'mu_plus_ProbNNmu',\n",
    "                'mu_plus_ProbNNd', 'mu_plus_ProbNNghost','mu_plus_PIDmu','mu_minus_PIDp','mu_plus_PIDK','mu_plus_IPCHI2_OWNPV','mu_plus_MINIPCHI2','mu_plus_AtVtx_PX','mu_plus_AtVtx_PY','mu_plus_AtVtx_PZ','mu_plus_REFPX', 'mu_plus_REFPY', 'mu_plus_REFPZ','mu_plus_TRUEID','mu_plus_MC_MOTHER_ID','mu_plus_MC_GD_MOTHER_ID','mu_plus_MC_GD_MOTHER_KEY','mu_plus_TRUEORIGINVERTEX_X','mu_plus_TRUEORIGINVERTEX_Y','mu_plus_TRUEORIGINVERTEX_Z','mu_plus_TRACK_CloneDist','mu_plus_TRACK_GhostProb']\n",
    "     mu_minus = ['mu_minus_M','mu_minus_PE', 'mu_minus_PX', 'mu_minus_PY', 'mu_minus_PZ', 'mu_minus_P', 'mu_minus_PT', 'mu_minus_isMuon', 'mu_minus_ProbNNe', 'mu_minus_ProbNNk', 'mu_minus_ProbNNp', 'mu_minus_ProbNNpi', 'mu_minus_ProbNNmu',\n",
    "                 'mu_minus_ProbNNd', 'mu_minus_ProbNNghost','mu_minus_PIDmu','mu_plus_PIDp','mu_minus_PIDK','mu_minus_IPCHI2_OWNPV','mu_minus_MINIPCHI2','mu_minus_AtVtx_PX','mu_minus_AtVtx_PY','mu_minus_AtVtx_PZ','mu_minus_REFPX', 'mu_minus_REFPY', 'mu_minus_REFPZ','mu_minus_TRUEID','mu_minus_MC_MOTHER_ID','mu_minus_MC_GD_MOTHER_ID','mu_minus_MC_GD_MOTHER_KEY','mu_minus_TRUEORIGINVERTEX_X','mu_minus_TRUEORIGINVERTEX_Y','mu_minus_TRUEORIGINVERTEX_Z','mu_minus_TRACK_CloneDist','mu_minus_TRACK_GhostProb']\n",
    "     K_plus = ['K_plus_M','K_plus_PE', 'K_plus_PX', 'K_plus_PY', 'K_plus_PZ', 'K_plus_P', 'K_plus_PT', 'K_plus_isMuon', 'K_plus_ProbNNe', 'K_plus_ProbNNk', 'K_plus_ProbNNp', 'K_plus_ProbNNpi', 'K_plus_ProbNNmu',\n",
    "                'K_plus_ProbNNd', 'K_plus_ProbNNghost','K_plus_PIDK','K_plus_PIDmu','K_plus_PIDd','K_plus_PIDp','K_plus_IPCHI2_OWNPV','K_plus_MINIPCHI2','K_plus_TRUEID','K_plus_MC_MOTHER_ID','K_plus_MC_GD_MOTHER_ID','K_plus_TRACK_CloneDist','K_plus_TRACK_GhostProb']\n",
    "     K_minus = ['K_minus_M','K_minus_PE', 'K_minus_PX', 'K_minus_PY', 'K_minus_PZ', 'K_minus_P', 'K_minus_PT', 'K_minus_isMuon', 'K_minus_ProbNNe', 'K_minus_ProbNNk', 'K_minus_ProbNNp', 'K_minus_ProbNNpi', 'K_minus_ProbNNmu',\n",
    "                 'K_minus_ProbNNd', 'K_minus_ProbNNghost','K_minus_PIDK','K_minus_PIDmu','K_minus_PIDd','K_minus_PIDp','K_minus_IPCHI2_OWNPV','K_minus_MINIPCHI2','K_minus_TRUEID','K_minus_MC_MOTHER_ID','K_minus_MC_GD_MOTHER_ID','K_minus_TRACK_CloneDist','K_minus_TRACK_GhostProb']\n",
    "\n",
    "     return Bs+phi+jpsi+mu_plus+mu_minus+K_plus+K_minus\n",
    "\n",
    "Bs_data=load_data()"
   ]
  },
  {
   "cell_type": "markdown",
   "metadata": {},
   "source": [
    "import logging\n",
    "import sys\n",
    "from pathlib import Path\n",
    "from typing import List\n",
    "\n",
    "import numpy as np\n",
    "import pandas as pd\n",
    "import uproot\n",
    "import uproot3\n",
    "\n",
    "\n",
    "logger = logging.getLogger('data_loader')\n",
    "\n",
    "parent_folder = Path(\"~/code/data/\")\n",
    "# # Change the above to be the Path to the folder containing .root files.\n",
    "\n",
    "\n",
    "def load_data(df_name: str = 'Bs_data') -> pd.DataFrame:\n",
    "    \"\"\"\n",
    "    Load data sets with the specified column names\n",
    "    :param df_name: name of df to use (Lb_data, B_MC or Lb_MC)\n",
    "    :return:\n",
    "    \"\"\"\n",
    "    file_names_dict = {\n",
    "      'Bs_data': ['bender_mc_PID.root']\n",
    "    #          'Bs_data': ['Bs2KKmumu_2018_MagUp_SL_line.root', 'Bs2KKmumu_2018_MagDown_SL_line.root'],\n",
    "    }\n",
    "\n",
    "    if df_name not in file_names_dict:\n",
    "        raise ValueError(f'df_name must be one of: {known_names}, not {df_name}')\n",
    "\n",
    "    with timer(\"Loading data\", print_starting=True):\n",
    "        columns = add_branches(df_name)\n",
    "        columns = set(columns)\n",
    "        file_names = file_names_dict[df_name]\n",
    "        events_frame = pd.DataFrame()\n",
    "        for f in file_names:\n",
    "            file = uproot3.open(str(parent_folder / f))\n",
    "            # events = file['DecayTree'] if 'B2' not in f else file['LbTuple/DecayTree']\n",
    "            events = file['DecayTree']\n",
    "            events_frame = pd.concat([events_frame, events.pandas.df(columns)], flatten=False, axis=0, ignore_index=True)\n",
    "        logger.info(f\"DataFrame memory used: {sys.getsizeof(events_frame):,} bytes.\")\n",
    "    return events_frame\n",
    "\n",
    "\n",
    "def add_branches(df_name: str = 'Bs_data') -> List[str]:\n",
    "    \"\"\"\n",
    "    Returns branches needed for analysis\n",
    "    :param df_name: name of data frame which needs branch loading\n",
    "    :return:\n",
    "    \"\"\"\n",
    "    \"\"\"\n",
    "    Bs=['Bs_M','Bs_P','Bs_PT','Bs_pmu_ISOLATION_BDT1','Bs_DIRA_OWNPV','Bs_IP_OWNPV','Bs_IPCHI2_OWNPV','Bs_FDCHI2_OWNPV','Bs_OWNPV_X', 'Bs_OWNPV_Y', 'Bs_OWNPV_Z','Bs_OWNPV_NDOF','Bs_ENDVERTEX_CHI2','Bs_ENDVERTEX_NDOF','Bs_ENDVERTEX_X', 'Bs_ENDVERTEX_Y', 'Bs_ENDVERTEX_Z', 'Bs_Hlt2TopoMu2BodyDecision_TOS','Bs_Hlt2TopoMu3BodyDecision_TOS',\n",
    "     'Bs_Hlt2TopoMu4BodyDecision_TOS','Bs_Hlt2DiMuonDecision_TOS','Bs_Hlt2SingleMuonDecision_TOS','Bs_Hlt2Topo2BodyDecision_TOS',\n",
    "     'Bs_Hlt2Topo3BodyDecision_TOS', 'Bs_Hlt2Topo4BodyDecision_TOS', 'Bs_Hlt1TrackMVADecision_TOS', 'Bs_Hlt1TrackMuonDecision_TOS', 'Bs_L0MuonDecision_TOS', 'Bs_L0DiMuonDecision_TOS', 'eventNumber','runNumber']\n",
    "    jpsi=['jpsi_M','jpsi_P','jpsi_PT']\n",
    "    phi=['phi_M','phi_P','phi_PX','phi_PY','phi_PZ','phi_PT','phi_ENDVERTEX_X', 'phi_ENDVERTEX_Y', 'phi_ENDVERTEX_Z','phi_ENDVERTEX_CHI2','phi_ORIVX_CHI2','phi_TRUEID']\n",
    "\n",
    "    mu_plus = ['mu_plus_M','mu_plus_PE', 'mu_plus_PX', 'mu_plus_PY', 'mu_plus_PZ', 'mu_plus_P', 'mu_plus_PT', 'mu_plus_isMuon', 'mu_plus_ProbNNe', 'mu_plus_ProbNNk', 'mu_plus_ProbNNp', 'mu_plus_ProbNNpi', 'mu_plus_ProbNNmu',\n",
    "            'mu_plus_ProbNNd', 'mu_plus_ProbNNghost','mu_plus_PIDmu','mu_plus_PIDK','mu_plus_PIDd','mu_plus_PIDp','mu_plus_IPCHI2_OWNPV','mu_plus_MINIPCHI2','mu_plus_AtVtx_PX','mu_plus_AtVtx_PY','mu_plus_AtVtx_PZ','mu_plus_REFPX', 'mu_plus_REFPY', 'mu_plus_REFPZ','mu_plus_IPCHI2_OWNPV','mu_plus_TRUEID','mu_plus_MC_MOTHER_ID','mu_plus_MC_GD_MOTHER_ID','mu_plus_MC_GD_MOTHER_KEY','mu_plus_TRACK_CloneDist','mu_plus_TRACK_GhostProb']\n",
    "    mu_minus = ['mu_minus_M','mu_minus_PE', 'mu_minus_PX', 'mu_minus_PY', 'mu_minus_PZ', 'mu_minus_P', 'mu_minus_PT', 'mu_minus_isMuon', 'mu_minus_ProbNNe', 'mu_minus_ProbNNk', 'mu_minus_ProbNNp', 'mu_minus_ProbNNpi', 'mu_minus_ProbNNmu',\n",
    "             'mu_minus_ProbNNd', 'mu_minus_ProbNNghost','mu_minus_PIDmu','mu_minus_PIDK','mu_minus_PIDd','mu_minus_PIDp','mu_minus_IPCHI2_OWNPV','mu_minus_MINIPCHI2','mu_minus_AtVtx_PX','mu_minus_AtVtx_PY','mu_minus_AtVtx_PZ','mu_minus_REFPX', 'mu_minus_REFPY', 'mu_minus_REFPZ','mu_minus_IPCHI2_OWNPV','mu_minus_TRUEID','mu_minus_MC_MOTHER_ID','mu_minus_MC_GD_MOTHER_ID','mu_minus_MC_GD_MOTHER_KEY','mu_minus_TRACK_CloneDist','mu_minus_TRACK_GhostProb']\n",
    "    K_plus = ['K_plus_M','K_plus_PE', 'K_plus_PX', 'K_plus_PY', 'K_plus_PZ', 'K_plus_P', 'K_plus_PT', 'K_plus_isMuon', 'K_plus_ProbNNe', 'K_plus_ProbNNk', 'K_plus_ProbNNp', 'K_plus_ProbNNpi', 'K_plus_ProbNNmu',\n",
    "            'K_plus_ProbNNd', 'K_plus_ProbNNghost','K_plus_PIDK','K_plus_PIDmu','K_plus_PIDd','K_plus_PIDp','K_plus_IPCHI2_OWNPV','K_plus_MINIPCHI2','K_plus_TRUEID','K_plus_MC_MOTHER_ID','K_plus_MC_GD_MOTHER_ID','K_plus_MC_GD_MOTHER_KEY','K_plus_TRACK_CloneDist','K_plus_TRACK_GhostProb']\n",
    "    K_minus = ['K_minus_M','K_minus_PE', 'K_minus_PX', 'K_minus_PY', 'K_minus_PZ', 'K_minus_P', 'K_minus_PT', 'K_minus_isMuon', 'K_minus_ProbNNe', 'K_minus_ProbNNk', 'K_minus_ProbNNp', 'K_minus_ProbNNpi', 'K_minus_ProbNNmu',\n",
    "             'K_minus_ProbNNd', 'K_minus_ProbNNghost','K_minus_PIDK','K_minus_PIDmu','K_minus_PIDd','K_minus_PIDp','K_minus_IPCHI2_OWNPV','K_minus_MINIPCHI2','K_minus_TRUEID','K_minus_MC_MOTHER_ID','K_minus_MC_GD_MOTHER_ID','K_minus_MC_GD_MOTHER_KEY','K_minus_TRACK_CloneDist','K_minus_TRACK_GhostProb']\n",
    "    \"\"\"\n",
    "\n",
    "    Bs=['Bs_M','Bs_P','Bs_PT','Bs_MINIPCHI2','Bs_FDCHI2','Bs_TRUE_OVX', 'Bs_TRUE_OVY', 'Bs_TRUE_OVZ','Bs_VCHI2','Bs_VNDOF','Bs_VX', 'Bs_VY', 'Bs_VZ', 'Bs_Hlt2TopoMu2BodyDecision_TOS','Bs_Hlt2TopoMu3BodyDecision_TOS',\n",
    "     'Bs_Hlt2TopoMu4BodyDecision_TOS','Bs_Hlt2DiMuonDecision_TOS','Bs_Hlt2SingleMuonDecision_TOS','Bs_Hlt2Topo2BodyDecision_TOS',\n",
    "     'Bs_Hlt2Topo3BodyDecision_TOS', 'Bs_Hlt2Topo4BodyDecision_TOS', 'Bs_Hlt1TrackMVADecision_TOS', 'Bs_Hlt1TrackMuonDecision_TOS', 'Bs_L0MuonDecision_TOS', 'Bs_L0DiMuonDecision_TOS', 'eventNumber','runNumber']\n",
    "    # jpsi=['jpsi_M','jpsi_P','jpsi_PT']\n",
    "    phi=['phi3_M','phi3_P','phi3_PX','phi3_PY','phi3_PZ','phi3_PT','phi3_VX', 'phi3_VY', 'phi3_VZ','phi3_VCHI2','phi3_TRUE_ID']\n",
    "\n",
    "    mu_plus = ['muplus_M','muplus_E', 'muplus_PX', 'muplus_PY', 'muplus_PZ', 'muplus_P', 'muplus_PT', 'muplus_IsMuon', 'muplus_ProbNNe', 'muplus_ProbNNk', 'muplus_ProbNNp', 'muplus_ProbNNpi', 'muplus_ProbNNmu',\n",
    "            'muplus_ProbNNd', 'muplus_ProbNNghost','muplus_PIDmu_corr','muplus_MINIPCHI2','muplus_RefPoint_X', 'muplus_RefPoint_Y', 'muplus_RefPoint_Z','muplus_ID','muplus_ghostProb']\n",
    "    mu_minus = ['muminus_M','muminus_E', 'muminus_PX', 'muminus_PY', 'muminus_PZ', 'muminus_P', 'muminus_PT', 'muminus_IsMuon', 'muminus_ProbNNe', 'muminus_ProbNNk', 'muminus_ProbNNp', 'muminus_ProbNNpi', 'muminus_ProbNNmu',\n",
    "            'muminus_ProbNNd', 'muminus_ProbNNghost','muminus_PIDmu_corr','muminus_MINIPCHI2','muminus_RefPoint_X', 'muminus_RefPoint_Y', 'muminus_RefPoint_Z','muminus_ID','muminus_ghostProb']\n",
    "   \n",
    "    K_plus = ['Kplus_M','Kplus_E', 'Kplus_PX', 'Kplus_PY', 'Kplus_PZ', 'Kplus_P', 'Kplus_PT', 'Kplus_IsMuon', 'Kplus_ProbNNe', 'Kplus_ProbNNk', 'Kplus_ProbNNp', 'Kplus_ProbNNpi', 'Kplus_ProbNNmu',\n",
    "            'Kplus_ProbNNd', 'Kplus_ProbNNghost','Kplus_PIDK_corr','Kplus_MINIPCHI2','Kplus_TRUE_ID','Kplus_ghostProb']\n",
    "    \n",
    "    K_minus = ['Kminus_M','Kminus_E', 'Kminus_PX', 'Kminus_PY', 'Kminus_PZ', 'Kminus_P', 'Kminus_PT', 'Kminus_IsMuon', 'Kminus_ProbNNe', 'Kminus_ProbNNk', 'Kminus_ProbNNp', 'Kminus_ProbNNpi', 'Kminus_ProbNNmu',\n",
    "            'Kminus_ProbNNd', 'Kminus_ProbNNghost','Kminus_PIDK_corr','Kminus_MINIPCHI2','Kminus_TRUE_ID','Kminus_ghostProb']\n",
    "    \n",
    "    geom = ['DOCA_mu_plus','DOCA_mu_minus','DOCA_chi2_mu_plus','DOCA_chi2_mu_minus','IP_mu_plus','IP_mu_minus','IP_chi2_mu_plus','IP_chi2_mu_minus'\n",
    "            ,'FD_tau_plus','FD_tau_minus','FD_tau_plus','FD_chi2_tau_plus','FD_chi2_tau_minus', 'VFIT_plus_x', 'VFIT_plus_y', 'VFIT_plus_z', 'VFIT_minus_x', 'VFIT_minus_y', 'VFIT_minus_z']\n",
    "    \n",
    "    return Bs+phi+mu_plus+mu_minus+K_plus+K_minus+geom\n",
    "\n",
    "Bs_data=load_data()"
   ]
  },
  {
   "cell_type": "code",
   "execution_count": 4,
   "metadata": {},
   "outputs": [],
   "source": [
    "def root_to_df2(fname,drop_na = False):\n",
    "    file = uproot3.open('{}'.format(fname))\n",
    "    #decay_tuple = file['DecayTree']\n",
    "    decay_tuple = file['DecayTree/DecayTree']\n",
    "    col_names = decay_tuple.keys()\n",
    "    columns = [col.decode(\"utf-8\") for col in col_names]\n",
    "    # df = pd.DataFrame(decay_tuple.arrays(columns, flatten=None))\n",
    "    # df.columns = columns\n",
    "    #df = decay_tuple.pandas.df(columns, flatten=True)\n",
    "    Bs = decay_tuple.pandas.df(\"Bs*\", flatten=True)\n",
    "    phi = decay_tuple.pandas.df(\"phi3*\", flatten=True)\n",
    "    dist = decay_tuple.pandas.df(\"DOCA*\", flatten=True)\n",
    "    ip = decay_tuple.pandas.df(\"IP*\", flatten=True)\n",
    "    fd = decay_tuple.pandas.df(\"FD*\", flatten=True)\n",
    "    vfit = decay_tuple.pandas.df(\"VFIT*\", flatten=True)\n",
    "    muminus = decay_tuple.pandas.df(\"muminus*\", flatten=True)\n",
    "    muplus = decay_tuple.pandas.df(\"muplus*\", flatten=True)\n",
    "    tauminus = decay_tuple.pandas.df(\"tauminus*\", flatten=True)\n",
    "    tauplus = decay_tuple.pandas.df(\"tauplus*\", flatten=True)\n",
    "    Kminus = decay_tuple.pandas.df(\"Kminus*\", flatten=True)\n",
    "    Kplus = decay_tuple.pandas.df(\"Kplus*\", flatten=True)\n",
    "    events = decay_tuple.pandas.df(\"event*\", flatten=True)\n",
    "    # dfs = [Bs, phi, dist, mu, Kplus, Kminus]\n",
    "    df = Bs.join(phi, how=\"outer\").join(dist, how=\"outer\").join(ip, how=\"outer\").join(vfit, how=\"outer\").join(fd, how=\"outer\").join(muplus, how=\"outer\").join(muminus, how=\"outer\").join(tauplus, how=\"outer\").join(tauminus, how=\"outer\").join(Kminus, how=\"outer\").join(Kplus, how=\"outer\").join(events, how=\"outer\")\n",
    "    if drop_na:\n",
    "        df.dropna(inplace=True)\n",
    "    np.savetxt('columns/{}_columns.txt'.format(fname.split('.')[0].split('/')[-1]),df.columns.to_numpy(),fmt='%s')\n",
    "    return df\n",
    "\n",
    "Bs_data_1=root_to_df2('../data/bender_data_2018_part1.root', drop_na=True)\n",
    "Bs_data_2=root_to_df2('../data/bender_data_2018_part2.root', drop_na=True)\n",
    "Bs_data = pd.concat([Bs_data_1,Bs_data_2])"
   ]
  },
  {
   "cell_type": "markdown",
   "metadata": {},
   "source": [
    "Add J_psi mass:"
   ]
  },
  {
   "cell_type": "code",
   "execution_count": 5,
   "metadata": {},
   "outputs": [
    {
     "data": {
      "image/png": "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\n",
      "text/plain": [
       "<Figure size 432x288 with 1 Axes>"
      ]
     },
     "metadata": {
      "needs_background": "light"
     },
     "output_type": "display_data"
    }
   ],
   "source": [
    "Bs_data['muplus_E'] = np.sqrt(Bs_data['muplus_M']**2 + np.linalg.norm(Bs_data[['muplus_PX','muplus_PY','muplus_PZ']].to_numpy(), axis = 1)**2)\n",
    "Bs_data['muminus_E'] = np.sqrt(Bs_data['muminus_M']**2 + np.linalg.norm(Bs_data[['muminus_PX','muminus_PY','muminus_PZ']].to_numpy(), axis = 1)**2)\n",
    "\n",
    "mu_plus_4mom = Bs_data[['muplus_E','muplus_PX','muplus_PY','muplus_PZ']].to_numpy()\n",
    "mu_minus_4mom = Bs_data[['muminus_E','muminus_PX','muminus_PY','muminus_PZ']].to_numpy()\n",
    "\n",
    "def metric_norm(x):\n",
    "    e = x[:,0]\n",
    "    p = x[:,1:4]\n",
    "    return e**2 - np.linalg.norm(p,axis = 1)**2\n",
    "\n",
    "Bs_data['jpsi_M'] = np.sqrt(metric_norm(mu_plus_4mom + mu_minus_4mom))\n",
    "plt.hist(Bs_data['jpsi_M'] , bins='auto', range=(0, 4000), alpha = 0.5, label = \"jpsi_M\")\n",
    "plt.xlabel('$m_{J / \\psi}$')\n",
    "plt.tight_layout(pad=0.5)\n",
    "plt.legend()\n",
    "\n",
    "plt.show()"
   ]
  },
  {
   "cell_type": "markdown",
   "metadata": {
    "colab_type": "text",
    "id": "sB1vJU5a8OoS"
   },
   "source": [
    "## Plotting options"
   ]
  },
  {
   "cell_type": "code",
   "execution_count": 6,
   "metadata": {
    "colab": {
     "base_uri": "https://localhost:8080/",
     "height": 85
    },
    "colab_type": "code",
    "id": "n12V0iRp8SAf",
    "outputId": "b0963707-14e5-4f29-ea9b-d5079309f5ba"
   },
   "outputs": [
    {
     "name": "stdout",
     "output_type": "stream",
     "text": [
      "Set xtick.major.size to 1.5 from 3.5\n",
      "Set xtick.major.pad to 1.5 from 3.5\n",
      "Set axes.labelpad to 2 from 4.0\n",
      "Set axes.grid to True from False\n"
     ]
    }
   ],
   "source": [
    "import matplotlib.pyplot as plt\n",
    "\n",
    "plt.rcdefaults()\n",
    "\n",
    "rcParams = {\n",
    "    'xtick.major.size': 1.5,\n",
    "    'xtick.major.pad': 1.5,\n",
    "    'axes.labelpad': 2,\n",
    "    'axes.grid': True,\n",
    "}\n",
    "for k, v in rcParams.items():\n",
    "    print(f\"Set {k} to {v} from {plt.rcParams[k]}\")\n",
    "    plt.rcParams[k] = v"
   ]
  },
  {
   "cell_type": "code",
   "execution_count": 7,
   "metadata": {},
   "outputs": [],
   "source": [
    "\n",
    "\"\"\"\n",
    "=============\n",
    "plot settings\n",
    "=============\n",
    "\"\"\"\n",
    "\n",
    "override = {\n",
    "   'axes.labelsize':40,\n",
    "   'font.size': 40,\n",
    "   'legend.fontsize': 40,\n",
    "   'legend.framealpha': 1,\n",
    "   'legend.edgecolor': 'black',\n",
    "   'grid.color': 'gainsboro',\n",
    "   'grid.linewidth': 1.75,\n",
    "   'xtick.labelsize': 40,\n",
    "   'ytick.labelsize': 40,\n",
    "   'figure.figsize': [13, 10],\n",
    "   'lines.linewidth': 3,\n",
    "   'font.family': 'DejaVu Sans',\n",
    "   'mathtext.fontset': 'cm',\n",
    "   'text.usetex': True ### attention! May raise errors if you have not set up python to use LaTex\n",
    "   } \n",
    "\n",
    "overridesmall = {\n",
    "   'axes.labelsize':28,\n",
    "   'font.size': 28,\n",
    "   'legend.fontsize': 32,\n",
    "   'legend.framealpha': 1,\n",
    "   'legend.edgecolor': 'black',\n",
    "   'grid.color': 'gainsboro',\n",
    "   'xtick.labelsize': 28,\n",
    "   'ytick.labelsize': 28,   \n",
    "   'figure.figsize': [11, 8.5],\n",
    "   'lines.linewidth': 3,\n",
    "   'font.sans-serif': 'Computer Modern Sans serif',\n",
    "   'mathtext.fontset': 'cm'\n",
    "   } \n",
    "\n",
    "colors=[\"indianred\",\"dodgerblue\",\"darkorange\",\"forestgreen\",\"hotpink\",\n",
    "        \"cornflowerblue\",\"darkgoldenrod\",\"sienna\",\"yellowgreen\",\"tomato\"]\n"
   ]
  },
  {
   "cell_type": "markdown",
   "metadata": {},
   "source": [
    "Let's plot the $KK \\mu \\mu$ and $KK$ spectra before any analysis and cuts:"
   ]
  },
  {
   "cell_type": "code",
   "execution_count": 8,
   "metadata": {},
   "outputs": [
    {
     "data": {
      "image/png": "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\n",
      "text/plain": [
       "<Figure size 600x300 with 1 Axes>"
      ]
     },
     "metadata": {},
     "output_type": "display_data"
    },
    {
     "data": {
      "image/png": "iVBORw0KGgoAAAANSUhEUgAAAl4AAAEyCAYAAAAr/946AAAAOXRFWHRTb2Z0d2FyZQBNYXRwbG90bGliIHZlcnNpb24zLjMuMiwgaHR0cHM6Ly9tYXRwbG90bGliLm9yZy8vihELAAAACXBIWXMAAA9hAAAPYQGoP6dpAAA0iUlEQVR4nO3df1RU953/8RfhxwgUJygLOBWjPWuJBpO4JEHUjVoFzIo0zdm1Lckkdl3iLoksQfPDpmkxZ8VoFN3C5pf1xJygJX8Y0xx1yWCaaDkiGpQ0qKs9rfFHA+LqOPgrwwTv/pEv95txQDQZLj/yfJyT087nvu+9n/suhFc/d+ZOiGEYhgAAANDjburtCQAAAHxbELwAAAAsQvACAACwCMELAADAIgQvAAAAixC8AAAALELwAgAAsAjBCwAAwCJhvT2Bvu7KlSv67LPPFBMTo5CQkN6eDgAACBLDMHT+/Hk5HA7ddJM1a1EEr2589tlnSkpK6u1pAACAHnLixAkNHz7cknMRvLoRExMj6cv/UQYPHtzLs7l+Pp9PLpdLmZmZCg8P7+3pDHj021r021r02zr02lpnz57VqFGjzL/1ViB4daPj9uLgwYP7XfCKiorS4MGD+eW1AP22Fv22Fv22Dr22ls/nkyRL30rEm+sBAAAsQvACAACwCMELAADAIgQvAAAAixC8AAAALELwAgAAsAjBCwAAwCIELwAAAIsQvAAAACzCk+u/pUY+szVg7NMXZvXCTAAA+PZgxQsAAMAiBC8AAACLELwAAAAsQvACAACwCMELAADAIgQvAAAAixC8AAAALELwAgAAsAjBCwAAwCIELwAAAIsQvAAAACxC8AIAALAIwQsAAMAiBC8AAACLELwAAAAsQvACAACwCMELAADAIgQvAAAAi9xw8Nq5c6dmz54th8OhkJAQvfPOO+Y2n8+np59+WuPGjVN0dLQcDocefvhhffbZZ37H8Hq9WrBggeLi4hQdHa2cnBydPHnSr8btdsvpdMput8tut8vpdOrcuXN+NcePH9fs2bMVHR2tuLg4FRQUqK2tza/mk08+0ZQpUxQZGanvfve7ev7552UYxo1eNgAAwDd2w8Hr4sWLuuOOO1ReXh6w7dKlS9q3b5+ee+457du3T2+//baOHDminJwcv7rCwkJt3rxZlZWVqqmp0YULF5Sdna329nazJjc3Vw0NDaqqqlJVVZUaGhrkdDrN7e3t7Zo1a5YuXryompoaVVZWatOmTVq4cKFZ09raqoyMDDkcDu3du1dlZWVauXKlSktLb/SyAQAAvrGwG93hvvvu03333dfpNrvdrurqar+xsrIy3XPPPTp+/LhGjBghj8ejdevW6c0339SMGTMkSRUVFUpKStL27duVlZWlQ4cOqaqqSrt371ZaWpokae3atUpPT9fhw4eVnJwsl8ulgwcP6sSJE3I4HJKkVatWae7cuVq6dKkGDx6sDRs26PPPP9f69etls9mUkpKiI0eOqLS0VEVFRQoJCbnRywcAAPjabjh43SiPx6OQkBDdfPPNkqT6+nr5fD5lZmaaNQ6HQykpKdq1a5eysrJUW1sru91uhi5JmjBhgux2u3bt2qXk5GTV1tYqJSXFDF2SlJWVJa/Xq/r6ek2bNk21tbWaMmWKbDabX83ixYv16aefatSoUQHz9Xq98nq95uvW1lZJX95G9fl8QetLT+uYa1dztoUG3m7tT9fX13TXbwQX/bYW/bYOvbZWb/S5R4PX559/rmeeeUa5ubkaPHiwJKm5uVkRERGKjY31q01ISFBzc7NZEx8fH3C8+Ph4v5qEhAS/7bGxsYqIiPCrGTlyZMB5OrZ1FryWLVumJUuWBIy7XC5FRUVdz2X3KVevQHZYcU/g2LZt23p4NgNfV/1Gz6Df1qLf1qHX1rh06ZLl5+yx4OXz+fSTn/xEV65c0UsvvdRtvWEYfrf+OrsNGIyajjfWd3WbcfHixSoqKjJft7a2KikpSZmZmWZ47A98Pp+qq6uVkZGh8PDwgO0pxe8FjDUWZ1kxtQGpu34juOi3tei3dei1tc6cOWP5OXskePl8Ps2ZM0dHjx7V73//e7/AkpiYqLa2Nrndbr9Vr5aWFk2cONGsOXXqVMBxT58+ba5YJSYmqq6uzm+72+2Wz+fzq+lY/frqeSQFrJZ1sNlsfrcmO4SHh/fLX4Ku5u1tDwye/fH6+pr++nPSX9Fva9Fv69Bra/RGj4P+HK+O0PWnP/1J27dv19ChQ/22p6amKjw83G8ZtampSY2NjWbwSk9Pl8fj0Z49e8yauro6eTwev5rGxkY1NTWZNS6XSzabTampqWbNzp07/R4x4XK55HA4Am5BAgAA9LQbDl4XLlxQQ0ODGhoaJElHjx5VQ0ODjh8/ri+++EL/+I//qI8++kgbNmxQe3u7mpub1dzcbIYfu92uefPmaeHChXr//fe1f/9+PfTQQxo3bpz5KccxY8Zo5syZysvL0+7du7V7927l5eUpOztbycnJkqTMzEyNHTtWTqdT+/fv1/vvv69FixYpLy/PXGHLzc2VzWbT3Llz1djYqM2bN6ukpIRPNAIAgF5xw7caP/roI02bNs183fF+qEceeUTFxcV69913JUl33nmn334ffPCBpk6dKklavXq1wsLCNGfOHF2+fFnTp0/X+vXrFRoaatZv2LBBBQUF5qcfc3Jy/J4dFhoaqq1btyo/P1+TJk1SZGSkcnNztXLlSrOm4/EWjz32mO666y7FxsaqqKjI7z1cAAAAVrnh4DV16tRrPvn9ep4KP2jQIJWVlamsrKzLmiFDhqiiouKaxxkxYoS2bNlyzZpx48Zp586d3c4JAACgp/FdjQAAABYheAEAAFiE4AUAAGARghcAAIBFCF4AAAAWIXgBAABYhOAFAABgEYIXAACARQheAAAAFiF4AQAAWITgBQAAYBGCFwAAgEUIXgAAABYheAEAAFiE4AUAAGARghcAAIBFCF4AAAAWIXgBAABYhOAFAABgEYIXAACARQheAAAAFiF4AQAAWITgBQAAYBGCFwAAgEUIXgAAABa54eC1c+dOzZ49Ww6HQyEhIXrnnXf8thuGoeLiYjkcDkVGRmrq1Kk6cOCAX43X69WCBQsUFxen6Oho5eTk6OTJk341brdbTqdTdrtddrtdTqdT586d86s5fvy4Zs+erejoaMXFxamgoEBtbW1+NZ988ommTJmiyMhIffe739Xzzz8vwzBu9LIBAAC+sRsOXhcvXtQdd9yh8vLyTrevWLFCpaWlKi8v1969e5WYmKiMjAydP3/erCksLNTmzZtVWVmpmpoaXbhwQdnZ2WpvbzdrcnNz1dDQoKqqKlVVVamhoUFOp9Pc3t7erlmzZunixYuqqalRZWWlNm3apIULF5o1ra2tysjIkMPh0N69e1VWVqaVK1eqtLT0Ri8bAADgGwu70R3uu+8+3XfffZ1uMwxDa9as0bPPPqsHHnhAkvTGG28oISFBGzdu1Pz58+XxeLRu3Tq9+eabmjFjhiSpoqJCSUlJ2r59u7KysnTo0CFVVVVp9+7dSktLkyStXbtW6enpOnz4sJKTk+VyuXTw4EGdOHFCDodDkrRq1SrNnTtXS5cu1eDBg7VhwwZ9/vnnWr9+vWw2m1JSUnTkyBGVlpaqqKhIISEhX6tpAAAAX8cNB69rOXr0qJqbm5WZmWmO2Ww2TZkyRbt27dL8+fNVX18vn8/nV+NwOJSSkqJdu3YpKytLtbW1stvtZuiSpAkTJshut2vXrl1KTk5WbW2tUlJSzNAlSVlZWfJ6vaqvr9e0adNUW1urKVOmyGaz+dUsXrxYn376qUaNGhVwDV6vV16v13zd2toqSfL5fPL5fMFplAU65trVnG2hgbdb+9P19TXd9RvBRb+tRb+tQ6+t1Rt9Dmrwam5uliQlJCT4jSckJOjYsWNmTUREhGJjYwNqOvZvbm5WfHx8wPHj4+P9aq4+T2xsrCIiIvxqRo4cGXCejm2dBa9ly5ZpyZIlAeMul0tRUVGdX3gfVl1d3en4insCx7Zt29bDsxn4uuo3egb9thb9tg69tsalS5csP2dQg1eHq2/hGYbR7W29q2s6qw9GTccb67uaz+LFi1VUVGS+bm1tVVJSkjIzMzV48OBrXkNf4vP5VF1drYyMDIWHhwdsTyl+L2CssTjLiqkNSN31G8FFv61Fv61Dr6115swZy88Z1OCVmJgo6cvVpGHDhpnjLS0t5kpTYmKi2tra5Ha7/Va9WlpaNHHiRLPm1KlTAcc/ffq033Hq6ur8trvdbvl8Pr+ajtWvr55HClyV62Cz2fxuTXYIDw/vl78EXc3b2x4YPPvj9fU1/fXnpL+i39ai39ah19bojR4H9Tleo0aNUmJiot8SaVtbm3bs2GGGqtTUVIWHh/vVNDU1qbGx0axJT0+Xx+PRnj17zJq6ujp5PB6/msbGRjU1NZk1LpdLNptNqampZs3OnTv9HjHhcrnkcDgCbkECAAD0tBsOXhcuXFBDQ4MaGhokffmG+oaGBh0/flwhISEqLCxUSUmJNm/erMbGRs2dO1dRUVHKzc2VJNntds2bN08LFy7U+++/r/379+uhhx7SuHHjzE85jhkzRjNnzlReXp52796t3bt3Ky8vT9nZ2UpOTpYkZWZmauzYsXI6ndq/f7/ef/99LVq0SHl5eeYtwdzcXNlsNs2dO1eNjY3avHmzSkpK+EQjAADoFTd8q/Gjjz7StGnTzNcd74d65JFHtH79ej311FO6fPmy8vPz5Xa7lZaWJpfLpZiYGHOf1atXKywsTHPmzNHly5c1ffp0rV+/XqGhoWbNhg0bVFBQYH76MScnx+/ZYaGhodq6davy8/M1adIkRUZGKjc3VytXrjRr7Ha7qqur9dhjj+muu+5SbGysioqK/N7DBQAAYJUbDl5Tp0695pPfQ0JCVFxcrOLi4i5rBg0apLKyMpWVlXVZM2TIEFVUVFxzLiNGjNCWLVuuWTNu3Djt3LnzmjUAAABW4LsaAQAALELwAgAAsAjBCwAAwCIELwAAAIsQvAAAACxC8AIAALAIwQsAAMAiBC8AAACLELwAAAAsQvACAACwCMELAADAIgQvAAAAixC8AAAALELwAgAAsAjBCwAAwCIELwAAAIsQvAAAACxC8AIAALAIwQsAAMAiBC8AAACLELwAAAAsQvACAACwCMELAADAIgQvAAAAixC8AAAALBL04PXFF1/oF7/4hUaNGqXIyEh973vf0/PPP68rV66YNYZhqLi4WA6HQ5GRkZo6daoOHDjgdxyv16sFCxYoLi5O0dHRysnJ0cmTJ/1q3G63nE6n7Ha77Ha7nE6nzp0751dz/PhxzZ49W9HR0YqLi1NBQYHa2tqCfdkAAADdCnrwWr58uV555RWVl5fr0KFDWrFihV588UWVlZWZNStWrFBpaanKy8u1d+9eJSYmKiMjQ+fPnzdrCgsLtXnzZlVWVqqmpkYXLlxQdna22tvbzZrc3Fw1NDSoqqpKVVVVamhokNPpNLe3t7dr1qxZunjxompqalRZWalNmzZp4cKFwb5sAACAboUF+4C1tbX64Q9/qFmzZkmSRo4cqd/+9rf66KOPJH252rVmzRo9++yzeuCBByRJb7zxhhISErRx40bNnz9fHo9H69at05tvvqkZM2ZIkioqKpSUlKTt27crKytLhw4dUlVVlXbv3q20tDRJ0tq1a5Wenq7Dhw8rOTlZLpdLBw8e1IkTJ+RwOCRJq1at0ty5c7V06VINHjw42JcPAADQpaAHr8mTJ+uVV17RkSNH9P3vf18ff/yxampqtGbNGknS0aNH1dzcrMzMTHMfm82mKVOmaNeuXZo/f77q6+vl8/n8ahwOh1JSUrRr1y5lZWWptrZWdrvdDF2SNGHCBNntdu3atUvJycmqra1VSkqKGbokKSsrS16vV/X19Zo2bVrA/L1er7xer/m6tbVVkuTz+eTz+YLWp57WMdeu5mwLNbrcBzeuu34juOi3tei3dei1tXqjz0EPXk8//bQ8Ho9uvfVWhYaGqr29XUuXLtVPf/pTSVJzc7MkKSEhwW+/hIQEHTt2zKyJiIhQbGxsQE3H/s3NzYqPjw84f3x8vF/N1eeJjY1VRESEWXO1ZcuWacmSJQHjLpdLUVFR3V5/X1NdXd3p+Ip7Ase2bdvWw7MZ+LrqN3oG/bYW/bYOvbbGpUuXLD9n0IPXW2+9pYqKCm3cuFG33XabGhoaVFhYKIfDoUceecSsCwkJ8dvPMIyAsatdXdNZ/dep+arFixerqKjIfN3a2qqkpCRlZmb2q1uTPp9P1dXVysjIUHh4eMD2lOL3AsYai7OsmNqA1F2/EVz021r02zr02lpnzpyx/JxBD15PPvmknnnmGf3kJz+RJI0bN07Hjh3TsmXL9MgjjygxMVHSl6tRw4YNM/draWkxV6cSExPV1tYmt9vtt+rV0tKiiRMnmjWnTp0KOP/p06f9jlNXV+e33e12y+fzBayEdbDZbLLZbAHj4eHh/fKXoKt5e9sDg2d/vL6+pr/+nPRX9Nta9Ns69NoavdHjoH+q8dKlS7rpJv/DhoaGmo+TGDVqlBITE/2WUdva2rRjxw4zVKWmpio8PNyvpqmpSY2NjWZNenq6PB6P9uzZY9bU1dXJ4/H41TQ2NqqpqcmscblcstlsSk1NDfKVAwAAXFvQV7xmz56tpUuXasSIEbrtttu0f/9+lZaW6p//+Z8lfXnrr7CwUCUlJRo9erRGjx6tkpISRUVFKTc3V5Jkt9s1b948LVy4UEOHDtWQIUO0aNEijRs3zvyU45gxYzRz5kzl5eXp1VdflSQ9+uijys7OVnJysiQpMzNTY8eOldPp1IsvvqizZ89q0aJFysvL61e3DQEAwMAQ9OBVVlam5557Tvn5+WppaZHD4dD8+fP1y1/+0qx56qmndPnyZeXn58vtdistLU0ul0sxMTFmzerVqxUWFqY5c+bo8uXLmj59utavX6/Q0FCzZsOGDSooKDA//ZiTk6Py8nJze2hoqLZu3ar8/HxNmjRJkZGRys3N1cqVK4N92QAAAN0KevCKiYnRmjVrzMdHdCYkJETFxcUqLi7usmbQoEEqKyvze/Dq1YYMGaKKioprzmfEiBHasmVLd9MGAADocXxXIwAAgEUIXgAAABYheAEAAFiE4AUAAGARghcAAIBFCF4AAAAWIXgBAABYhOAFAABgEYIXAACARQheAAAAFiF4AQAAWITgBQAAYBGCFwAAgEUIXgAAABYheAEAAFiE4AUAAGARghcAAIBFCF4AAAAWIXgBAABYhOAFAABgEYIXAACARQheAAAAFiF4AQAAWITgBQAAYJEeCV5//etf9dBDD2no0KGKiorSnXfeqfr6enO7YRgqLi6Ww+FQZGSkpk6dqgMHDvgdw+v1asGCBYqLi1N0dLRycnJ08uRJvxq32y2n0ym73S673S6n06lz58751Rw/flyzZ89WdHS04uLiVFBQoLa2tp64bAAAgGsKevByu92aNGmSwsPD9d///d86ePCgVq1apZtvvtmsWbFihUpLS1VeXq69e/cqMTFRGRkZOn/+vFlTWFiozZs3q7KyUjU1Nbpw4YKys7PV3t5u1uTm5qqhoUFVVVWqqqpSQ0ODnE6nub29vV2zZs3SxYsXVVNTo8rKSm3atEkLFy4M9mUDAAB0KyzYB1y+fLmSkpL0+uuvm2MjR440/7thGFqzZo2effZZPfDAA5KkN954QwkJCdq4caPmz58vj8ejdevW6c0339SMGTMkSRUVFUpKStL27duVlZWlQ4cOqaqqSrt371ZaWpokae3atUpPT9fhw4eVnJwsl8ulgwcP6sSJE3I4HJKkVatWae7cuVq6dKkGDx4c7MsHAADoUtBXvN59913ddddd+qd/+ifFx8dr/PjxWrt2rbn96NGjam5uVmZmpjlms9k0ZcoU7dq1S5JUX18vn8/nV+NwOJSSkmLW1NbWym63m6FLkiZMmCC73e5Xk5KSYoYuScrKypLX6/W79QkAAGCFoK94/eUvf9HLL7+soqIi/fznP9eePXtUUFAgm82mhx9+WM3NzZKkhIQEv/0SEhJ07NgxSVJzc7MiIiIUGxsbUNOxf3Nzs+Lj4wPOHx8f71dz9XliY2MVERFh1lzN6/XK6/War1tbWyVJPp9PPp/vuvvQ2zrm2tWcbaFGl/vgxnXXbwQX/bYW/bYOvbZWb/Q56MHrypUruuuuu1RSUiJJGj9+vA4cOKCXX35ZDz/8sFkXEhLit59hGAFjV7u6prP6r1PzVcuWLdOSJUsCxl0ul6Kioq45v76ourq60/EV9wSObdu2rYdnM/B11W/0DPptLfptHXptjUuXLll+zqAHr2HDhmns2LF+Y2PGjNGmTZskSYmJiZK+XI0aNmyYWdPS0mKuTiUmJqqtrU1ut9tv1aulpUUTJ040a06dOhVw/tOnT/sdp66uzm+72+2Wz+cLWAnrsHjxYhUVFZmvW1tblZSUpMzMzH71njCfz6fq6mplZGQoPDw8YHtK8XsBY43FWVZMbUDqrt8ILvptLfptHXptrTNnzlh+zqAHr0mTJunw4cN+Y0eOHNEtt9wiSRo1apQSExNVXV2t8ePHS5La2tq0Y8cOLV++XJKUmpqq8PBwVVdXa86cOZKkpqYmNTY2asWKFZKk9PR0eTwe7dmzR/fc8+XyTV1dnTwejxnO0tPTtXTpUjU1NZkhz+VyyWazKTU1tdP522w22Wy2gPHw8PB++UvQ1by97YErfv3x+vqa/vpz0l/Rb2vRb+vQa2v0Ro+DHryeeOIJTZw4USUlJZozZ4727Nmj1157Ta+99pqkL2/9FRYWqqSkRKNHj9bo0aNVUlKiqKgo5ebmSpLsdrvmzZunhQsXaujQoRoyZIgWLVqkcePGmZ9yHDNmjGbOnKm8vDy9+uqrkqRHH31U2dnZSk5OliRlZmZq7NixcjqdevHFF3X27FktWrRIeXl5/Wr1CgAADAxBD1533323Nm/erMWLF+v555/XqFGjtGbNGj344INmzVNPPaXLly8rPz9fbrdbaWlpcrlciomJMWtWr16tsLAwzZkzR5cvX9b06dO1fv16hYaGmjUbNmxQQUGB+enHnJwclZeXm9tDQ0O1detW5efna9KkSYqMjFRubq5WrlwZ7MsGAADoVtCDlyRlZ2crOzu7y+0hISEqLi5WcXFxlzWDBg1SWVmZysrKuqwZMmSIKioqrjmXESNGaMuWLd3OGQAAoKfxXY0AAAAWIXgBAABYhOAFAABgEYIXAACARQheAAAAFiF4AQAAWITgBQAAYBGCFwAAgEUIXgAAABYheAEAAFiE4AUAAGARghcAAIBFCF4AAAAWIXgBAABYhOAFAABgEYIXAACARQheAAAAFiF4AQAAWITgBQAAYBGCFwAAgEUIXgAAABYheAEAAFiE4AUAAGARghcAAIBFCF4AAAAW6fHgtWzZMoWEhKiwsNAcMwxDxcXFcjgcioyM1NSpU3XgwAG//bxerxYsWKC4uDhFR0crJydHJ0+e9Ktxu91yOp2y2+2y2+1yOp06d+6cX83x48c1e/ZsRUdHKy4uTgUFBWpra+upywUAAOhSjwavvXv36rXXXtPtt9/uN75ixQqVlpaqvLxce/fuVWJiojIyMnT+/HmzprCwUJs3b1ZlZaVqamp04cIFZWdnq7293azJzc1VQ0ODqqqqVFVVpYaGBjmdTnN7e3u7Zs2apYsXL6qmpkaVlZXatGmTFi5c2JOXDQAA0KkeC14XLlzQgw8+qLVr1yo2NtYcNwxDa9as0bPPPqsHHnhAKSkpeuONN3Tp0iVt3LhRkuTxeLRu3TqtWrVKM2bM0Pjx41VRUaFPPvlE27dvlyQdOnRIVVVV+s1vfqP09HSlp6dr7dq12rJliw4fPixJcrlcOnjwoCoqKjR+/HjNmDFDq1at0tq1a9Xa2tpTlw4AANCpHgtejz32mGbNmqUZM2b4jR89elTNzc3KzMw0x2w2m6ZMmaJdu3ZJkurr6+Xz+fxqHA6HUlJSzJra2lrZ7XalpaWZNRMmTJDdbverSUlJkcPhMGuysrLk9XpVX18f/IsGAAC4hrCeOGhlZaX27dunvXv3Bmxrbm6WJCUkJPiNJyQk6NixY2ZNRESE30pZR03H/s3NzYqPjw84fnx8vF/N1eeJjY1VRESEWXM1r9crr9drvu5YGfP5fPL5fF1fdB/TMdeu5mwLNbrcBzeuu34juOi3tei3dei1tXqjz0EPXidOnNC///u/y+VyadCgQV3WhYSE+L02DCNg7GpX13RW/3VqvmrZsmVasmRJwLjL5VJUVNQ159cXVVdXdzq+4p7AsW3btvXwbAa+rvqNnkG/rUW/rUOvrXHp0iXLzxn04FVfX6+WlhalpqaaY+3t7dq5c6fKy8vN9181Nzdr2LBhZk1LS4u5OpWYmKi2tja53W6/Va+WlhZNnDjRrDl16lTA+U+fPu13nLq6Or/tbrdbPp8vYCWsw+LFi1VUVGS+bm1tVVJSkjIzMzV48OAb6kVv8vl8qq6uVkZGhsLDwwO2pxS/FzDWWJxlxdQGpO76jeCi39ai39ah19Y6c+aM5ecMevCaPn26PvnkE7+xn/3sZ7r11lv19NNP63vf+54SExNVXV2t8ePHS5La2tq0Y8cOLV++XJKUmpqq8PBwVVdXa86cOZKkpqYmNTY2asWKFZKk9PR0eTwe7dmzR/fc8+XyTV1dnTwejxnO0tPTtXTpUjU1NZkhz+VyyWaz+QXDr7LZbLLZbAHj4eHh/fKXoKt5e9sDV/z64/X1Nf3156S/ot/Wot/WodfW6I0eBz14xcTEKCUlxW8sOjpaQ4cONccLCwtVUlKi0aNHa/To0SopKVFUVJRyc3MlSXa7XfPmzdPChQs1dOhQDRkyRIsWLdK4cePMN+uPGTNGM2fOVF5enl599VVJ0qOPPqrs7GwlJydLkjIzMzV27Fg5nU69+OKLOnv2rBYtWqS8vLx+tXoFAAAGhh55c313nnrqKV2+fFn5+flyu91KS0uTy+VSTEyMWbN69WqFhYVpzpw5unz5sqZPn67169crNDTUrNmwYYMKCgrMTz/m5OSovLzc3B4aGqqtW7cqPz9fkyZNUmRkpHJzc7Vy5UrrLhYAAOD/sSR4ffjhh36vQ0JCVFxcrOLi4i73GTRokMrKylRWVtZlzZAhQ1RRUXHNc48YMUJbtmy5kekCAAD0CL6rEQAAwCIELwAAAIsQvAAAACxC8AIAALAIwQsAAMAiBC8AAACLELwAAAAsQvACAACwCMELAADAIgQvAAAAi/TKdzXCeiOf2drbUwAA4FuPFS8AAACLELwAAAAsQvACAACwCMELAADAIgQvAAAAixC8AAAALELwAgAAsAjBCwAAwCIELwAAAIsQvAAAACxC8AIAALAIwQsAAMAiBC8AAACLhPX2BNB3jHxma8DYpy/M6oWZAAAwMAV9xWvZsmW6++67FRMTo/j4eN1///06fPiwX41hGCouLpbD4VBkZKSmTp2qAwcO+NV4vV4tWLBAcXFxio6OVk5Ojk6ePOlX43a75XQ6ZbfbZbfb5XQ6de7cOb+a48ePa/bs2YqOjlZcXJwKCgrU1tYW7MsGAADoVtCD144dO/TYY49p9+7dqq6u1hdffKHMzExdvHjRrFmxYoVKS0tVXl6uvXv3KjExURkZGTp//rxZU1hYqM2bN6uyslI1NTW6cOGCsrOz1d7ebtbk5uaqoaFBVVVVqqqqUkNDg5xOp7m9vb1ds2bN0sWLF1VTU6PKykpt2rRJCxcuDPZlAwAAdCvotxqrqqr8Xr/++uuKj49XfX297r33XhmGoTVr1ujZZ5/VAw88IEl64403lJCQoI0bN2r+/PnyeDxat26d3nzzTc2YMUOSVFFRoaSkJG3fvl1ZWVk6dOiQqqqqtHv3bqWlpUmS1q5dq/T0dB0+fFjJyclyuVw6ePCgTpw4IYfDIUlatWqV5s6dq6VLl2rw4MHBvnwAAIAu9fib6z0ejyRpyJAhkqSjR4+qublZmZmZZo3NZtOUKVO0a9cuSVJ9fb18Pp9fjcPhUEpKillTW1sru91uhi5JmjBhgux2u19NSkqKGbokKSsrS16vV/X19T10xQAAAJ3r0TfXG4ahoqIiTZ48WSkpKZKk5uZmSVJCQoJfbUJCgo4dO2bWREREKDY2NqCmY//m5mbFx8cHnDM+Pt6v5urzxMbGKiIiwqy5mtfrldfrNV+3trZKknw+n3w+3/VdeB/QMdeO/7SFGt/oOLi2q/uNnkW/rUW/rUOvrdUbfe7R4PX444/rj3/8o2pqagK2hYSE+L02DCNg7GpX13RW/3VqvmrZsmVasmRJwLjL5VJUVNQ159cXVVdXS5JW3PP19t+2bVsQZzPwdfQb1qDf1qLf1qHX1rh06ZLl5+yx4LVgwQK9++672rlzp4YPH26OJyYmSvpyNWrYsGHmeEtLi7k6lZiYqLa2Nrndbr9Vr5aWFk2cONGsOXXqVMB5T58+7Xecuro6v+1ut1s+ny9gJazD4sWLVVRUZL5ubW1VUlKSMjMz+9V7wnw+n6qrq5WRkaHw8HClFL/3tY7TWJwV5JkNTFf3Gz2LfluLfluHXlvrzJkzlp8z6MHLMAwtWLBAmzdv1ocffqhRo0b5bR81apQSExNVXV2t8ePHS5La2tq0Y8cOLV++XJKUmpqq8PBwVVdXa86cOZKkpqYmNTY2asWKFZKk9PR0eTwe7dmzR/fc8+VyTl1dnTwejxnO0tPTtXTpUjU1NZkhz+VyyWazKTU1tdP522w22Wy2gPHw8PB++UvQMW9v+7VXE6+1P65ff/056a/ot7Xot3XotTV6o8dBD16PPfaYNm7cqN/97neKiYkx30tlt9sVGRmpkJAQFRYWqqSkRKNHj9bo0aNVUlKiqKgo5ebmmrXz5s3TwoULNXToUA0ZMkSLFi3SuHHjzE85jhkzRjNnzlReXp5effVVSdKjjz6q7OxsJScnS5IyMzM1duxYOZ1Ovfjiizp79qwWLVqkvLy8frV6BQAABoagB6+XX35ZkjR16lS/8ddff11z586VJD311FO6fPmy8vPz5Xa7lZaWJpfLpZiYGLN+9erVCgsL05w5c3T58mVNnz5d69evV2hoqFmzYcMGFRQUmJ9+zMnJUXl5ubk9NDRUW7duVX5+viZNmqTIyEjl5uZq5cqVwb5sAACAbvXIrcbuhISEqLi4WMXFxV3WDBo0SGVlZSorK+uyZsiQIaqoqLjmuUaMGKEtW7Z0OycAAICexpdkAwAAWITgBQAAYBGCFwAAgEUIXgAAABbp0SfXo/8b+czWgLFPX5jVCzMBAKD/Y8ULAADAIgQvAAAAi3CrETess9uPneGWJAD0D7ytxDoEL/SY6w1oV+OXHQAwUBG80Od83cAmEdoAAH0bwQsDyjcJbd+ELdTQinuklOL35G0PCeqxCZMAMHAQvIA+rjfCJGEPAHoGwQtAgGCHPYIc0Hf01p0BfIngBaDHBfN9eyOf2Rpwa5dgB6C/IHgB6NOuJ7QNhP8HT3gEvh0IXgNQZysCAPq2vvxevpTi9wL+fUJQBL4eghcAfEtdb9izhX79fXsaARD9DcELANBv9ZUAeDUCIbpC8AIAIMgGwlfwDIRr6IsIXgAAWOB6Vudu5P251xOC+uqK4LcZwQsAgH6IUNU/EbwAAMB1+bphr7PVuW/r9/ISvAAAQI8K9upcsI4X9sXFoBznRtxk+RkBAAC+pVjx6ue4xw8AQP/xrVjxeumllzRq1CgNGjRIqamp+sMf/tDbUwIAAN9CAz54vfXWWyosLNSzzz6r/fv36+///u9133336fjx4709NQAA8C0z4INXaWmp5s2bp3/5l3/RmDFjtGbNGiUlJenll1/u7akBAIBvmQEdvNra2lRfX6/MzEy/8czMTO3atauXZgUAAL6tBvSb6//3f/9X7e3tSkhI8BtPSEhQc3Nzp/t4vV55vV7ztcfjkSSdPXtWPp+v5yb7NXX1UdiwK4YuXbqiMN9Nar9y7acf45uj39ai39ai39ah19YK8335N9QwDOvOadmZelFIiP8Pr2EYAWMdli1bpiVLlgSMjxo1qkfm1pNye3sC3zL021r021r02zr02npnzpyR3W635FwDOnjFxcUpNDQ0YHWrpaUlYBWsw+LFi1VUVGS+vnLlis6ePauhQ4d2Gdb6otbWViUlJenEiRMaPHhwb09nwKPf1qLf1qLf1qHX1vJ4PBoxYoSGDBli2TkHdPCKiIhQamqqqqur9aMf/cgcr66u1g9/+MNO97HZbLLZbH5jN998c09Os0fYbDb96le/0t/8zd8EXA+Cj35bi35bi35bh15bq6PfkZGRlp0zxLDyxmYveOutt+R0OvXKK68oPT1dr732mtauXasDBw7olltu6e3pAQCAb5EBveIlST/+8Y915swZPf/882pqalJKSoq2bdtG6AIAAJYb0I+T6JCfn69PP/1UXq9X9fX1uvfee3t7Stdl586dmj17thwOh0JCQvTOO+/4bTcMQ8XFxXI4HIqMjNTUqVN14MABvxqv16sFCxYoLi5O0dHRysnJ0cmTJ/1q3G63nE6n7Ha77Ha7nE6nzp0718NX1/dcq98+n09PP/20xo0bp+joaDkcDj388MP67LPP/I5Bv69fdz/fXzV//nyFhIRozZo1fuP0+/pcT68PHTqknJwc2e12xcTEaMKECX4PmqbX16+7fl+4cEGPP/64hg8frsjISI0ZMybg2ZL0+/otW7ZMd999t2JiYhQfH6/7779fhw8f9qvpS38vvxXBq7+6ePGi7rjjDpWXl3e6fcWKFSotLVV5ebn27t2rxMREZWRk6Pz582ZNYWGhNm/erMrKStXU1OjChQvKzs5We3u7WZObm6uGhgZVVVWpqqpKDQ0NcjqdPX59fc21+n3p0iXt27dPzz33nPbt26e3335bR44cUU5Ojl8d/b5+3f18d3jnnXdUV1cnh8MRsI1+X5/uev3nP/9ZkydP1q233qoPP/xQH3/8sZ577jkNGjTIrKHX16+7fj/xxBOqqqpSRUWFDh06pCeeeEILFizQ7373O7OGfl+/HTt26LHHHtPu3btVXV2tL774QpmZmbp48f8/bqlP/b000C9IMjZv3my+vnLlipGYmGi88MIL5tjnn39u2O1245VXXjEMwzDOnTtnhIeHG5WVlWbNX//6V+Omm24yqqqqDMMwjIMHDxqSjN27d5s1tbW1hiTjf/7nf3r4qvquq/vdmT179hiSjGPHjhmGQb+/ia76ffLkSeO73/2u0djYaNxyyy3G6tWrzW30++vprNc//vGPjYceeqjLfej119dZv2+77Tbj+eef9xv7u7/7O+MXv/iFYRj0+5tqaWkxJBk7duwwDKPv/b1kxaufOnr0qJqbm/2eym+z2TRlyhTzqfz19fXy+Xx+NQ6HQykpKWZNbW2t7Ha70tLSzJoJEybIbrfzdP9ueDwehYSEmJ96pd/BdeXKFTmdTj355JO67bbbArbT7+C4cuWKtm7dqu9///vKyspSfHy80tLS/G6P0evgmjx5st5991399a9/lWEY+uCDD3TkyBFlZWVJot/fVMeDzzseEdHX/l4SvPqpjmeTXeup/M3NzYqIiFBsbOw1a+Lj4wOOHx8f3+XT/SF9/vnneuaZZ5Sbm2s+a4d+B9fy5csVFhamgoKCTrfT7+BoaWnRhQsX9MILL2jmzJlyuVz60Y9+pAceeEA7duyQRK+D7de//rXGjh2r4cOHKyIiQjNnztRLL72kyZMnS6Lf34RhGCoqKtLkyZOVkpIiqe/9vRzwn2oc6G7kqfxd1XRWfz3H+bby+Xz6yU9+oitXruill17qtp5+37j6+nr953/+p/bt23fDfaHfN+bKlSuSpB/+8Id64oknJEl33nmndu3apVdeeUVTpkzpcl96/fX8+te/1u7du/Xuu+/qlltu0c6dO5Wfn69hw4ZpxowZXe5Hv7v3+OOP649//KNqamoCtvWVv5esePVTiYmJknTNp/InJiaqra1Nbrf7mjWnTp0KOP7p06e7fLr/t5nP59OcOXN09OhRVVdX+z1Zmn4Hzx/+8Ae1tLRoxIgRCgsLU1hYmI4dO6aFCxdq5MiRkuh3sMTFxSksLExjx471Gx8zZoz5qUZ6HTyXL1/Wz3/+c5WWlmr27Nm6/fbb9fjjj+vHP/6xVq5cKYl+f10LFizQu+++qw8++EDDhw83x/va30uCVz81atQoJSYmqrq62hxra2vTjh07NHHiRElSamqqwsPD/WqamprU2Nho1qSnp8vj8WjPnj1mTV1dnTwej1mDL3WErj/96U/avn27hg4d6redfgeP0+nUH//4RzU0NJj/OBwOPfnkk3rvvfck0e9giYiI0N133x3w8fsjR46Yzzuk18Hj8/nk8/l0003+f35DQ0PN1Uf6fWMMw9Djjz+ut99+W7///e8Dvlu5z/29vJFPCsBa58+fN/bv32/s37/fkGSUlpYa+/fvNz9F98ILLxh2u914++23jU8++cT46U9/agwbNsxobW01j/Gv//qvxvDhw43t27cb+/btM37wgx8Yd9xxh/HFF1+YNTNnzjRuv/12o7a21qitrTXGjRtnZGdnW369ve1a/fb5fEZOTo4xfPhwo6GhwWhqajL/8Xq95jHo9/Xr7uf7ald/qtEw6Pf16q7Xb7/9thEeHm689tprxp/+9CejrKzMCA0NNf7whz+Yx6DX16+7fk+ZMsW47bbbjA8++MD4y1/+Yrz++uvGoEGDjJdeesk8Bv2+fv/2b/9m2O1248MPP/T7d/OlS5fMmr7095Lg1Yd98MEHhqSAfx555BHDML78iOyvfvUrIzEx0bDZbMa9995rfPLJJ37HuHz5svH4448bQ4YMMSIjI43s7Gzj+PHjfjVnzpwxHnzwQSMmJsaIiYkxHnzwQcPtdlt0lX3Htfp99OjRTrdJMj744APzGPT7+nX38321zoIX/b4+19PrdevWGX/7t39rDBo0yLjjjjuMd955x+8Y9Pr6ddfvpqYmY+7cuYbD4TAGDRpkJCcnG6tWrTKuXLliHoN+X7+u/t38+uuvmzV96e/lgP+uRgAAgL6C93gBAABYhOAFAABgEYIXAACARQheAAAAFiF4AQAAWITgBQAAYBGCF4AB7dNPP1VISIjefvtt3XvvvYqMjFRqaqo+/fRTffjhh7rnnnsUFRWladOm6ezZs709XQADHF+SDWBAa2hokCS99NJLKikp0Xe+8x3df//9cjqd+s53vqP/+q//kmEY+od/+AetW7dOTz75ZO9OGMCARvACMKB9/PHHio2NVWVlpeLi4iRJ06ZN0+9//3sdPHhQ0dHRkqS7777b/BLdVatWye126z/+4z/U2tqq+++/X5mZmQoPD+90/Jlnnum16wPQv3CrEcCA1tDQoJycHDN0SdLx48f105/+1AxdHWMdX67b2NiocePGqbm5WT/4wQ/kdDr1zDPPdDkOANeL4AVgQPv44481YcIEv7GGhgalpaWZrz///HMdOXJEd955p6Qvg9egQYM0ffp0/fKXv9TPfvaza44DwPXiuxoBDFitra26+eabVVtbawatY8eOaeTIkTp69KhGjhwpSaqvr9fdd98tj8ej73znO4qJiZHdbtdbb72lyZMnS5IMw+h0HABuBO/xAjBgffzxx7rpppt0++23m2MNDQ26+eabzdDVUfe9731PMTEx+vOf/6ykpCRFR0frzJkzZs1f/vKXTscB4EZwqxHAgPXxxx/r1ltvVWRkpDm2f/9+3XHHHQF1X73NOH78eP32t79VQUGBTpw4cc1xALgR3GoEgK9YunSpQkJC9POf/1zr16/Xb37zG3344Ydavnx5p+NhYdw4AHD9WPECgK84cOCAUlJSJElz587VLbfcol/96lddjgPAjWDFCwAAwCKseAEAAFiE4AUAAGARghcAAIBFCF4AAAAWIXgBAABYhOAFAABgEYIXAACARQheAAAAFiF4AQAAWITgBQAAYBGCFwAAgEUIXgAAABb5PyHm13+LkTiiAAAAAElFTkSuQmCC\n",
      "text/plain": [
       "<Figure size 600x300 with 1 Axes>"
      ]
     },
     "metadata": {},
     "output_type": "display_data"
    }
   ],
   "source": [
    "plt.figure(figsize=(6, 3))\n",
    "Bs_mass_range = (2500, 7000)\n",
    "plt.hist(Bs_data['Bs_M'], bins='auto', range=Bs_mass_range)\n",
    "\n",
    "plt.xlabel('$m_{KK \\mu \\mu}$')\n",
    "plt.xlim(Bs_mass_range)\n",
    "#plt.legend()\n",
    "plt.tight_layout(pad=0.5)\n",
    "\n",
    "plt.show()\n",
    "\n",
    "plt.figure(figsize=(6, 3))\n",
    "Bs_mass_range = (900, 2000)\n",
    "plt.hist(Bs_data['phi3_M'], bins='auto', range=Bs_mass_range)\n",
    "\n",
    "plt.xlabel('$m_{KK}$')\n",
    "plt.xlim(Bs_mass_range)\n",
    "#plt.legend()\n",
    "plt.tight_layout(pad=0.5)\n",
    "\n",
    "plt.show()"
   ]
  },
  {
   "cell_type": "markdown",
   "metadata": {},
   "source": [
    "Let's plot $KK \\mu \\mu$ and $KK$ spectra with $\\phi_3$ selection and "
   ]
  },
  {
   "cell_type": "code",
   "execution_count": 9,
   "metadata": {},
   "outputs": [
    {
     "data": {
      "image/png": "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\n",
      "text/plain": [
       "<Figure size 600x300 with 1 Axes>"
      ]
     },
     "metadata": {},
     "output_type": "display_data"
    },
    {
     "data": {
      "image/png": "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\n",
      "text/plain": [
       "<Figure size 600x300 with 1 Axes>"
      ]
     },
     "metadata": {},
     "output_type": "display_data"
    }
   ],
   "source": [
    "phi3mask=((Bs_data['phi3_M']>1600) & (Bs_data['phi3_M']<1820))\n",
    "\n",
    "plt.figure(figsize=(6, 3))\n",
    "Bs_mass_range = (2500, 7200)\n",
    "plt.hist(Bs_data.loc[phi3mask]['Bs_M'], bins=100, range=Bs_mass_range)\n",
    "\n",
    "plt.xlabel('$m_{KK \\mu \\mu}$')\n",
    "plt.xlim(Bs_mass_range)\n",
    "#plt.legend()\n",
    "plt.tight_layout(pad=0.5)\n",
    "\n",
    "plt.show()\n",
    "\n",
    "\n",
    "plt.figure(figsize=(6, 3))\n",
    "Bs_mass_range = (0, 7200)\n",
    "plt.hist(Bs_data.loc[phi3mask]['phi3_M'], bins=100, range=Bs_mass_range)\n",
    "\n",
    "plt.xlabel('$m_{KK}$')\n",
    "plt.xlim(Bs_mass_range)\n",
    "#plt.legend()\n",
    "plt.tight_layout(pad=0.5)\n",
    "\n",
    "plt.show()"
   ]
  },
  {
   "cell_type": "markdown",
   "metadata": {
    "colab_type": "text",
    "id": "pdNv3XyV9vyk"
   },
   "source": [
    "## Cutting function"
   ]
  },
  {
   "cell_type": "code",
   "execution_count": 10,
   "metadata": {
    "colab": {},
    "colab_type": "code",
    "id": "9e5Gexhi9ulj"
   },
   "outputs": [],
   "source": [
    "import logging\n",
    "from typing import Callable\n",
    "\n",
    "import pandas as pd\n",
    "\n",
    "logger = logging.getLogger(\"CuttingMonitor\")\n",
    "logging.basicConfig(level=logging.INFO)\n",
    "\n",
    "def apply_cuts(name: str, data_frame: pd.DataFrame, func: Callable[[pd.DataFrame], pd.DataFrame]):\n",
    "    logger.info(f\"Applying cuts: {name}\")\n",
    "    initial_length = len(data_frame)\n",
    "    logger.info(f\"\\tInitial length: {initial_length}\")\n",
    "\n",
    "    data_frame = func(data_frame)\n",
    "\n",
    "    length_after_cuts = len(data_frame)\n",
    "    logger.info(f\"\\tLength after cut: {length_after_cuts} ({length_after_cuts / initial_length * 100:.3f}% kept)\")\n",
    "    return data_frame"
   ]
  },
  {
   "cell_type": "markdown",
   "metadata": {
    "colab_type": "text",
    "id": "ENOFmwe1_prE"
   },
   "source": [
    "## Utilities"
   ]
  },
  {
   "cell_type": "code",
   "execution_count": 11,
   "metadata": {
    "colab": {},
    "colab_type": "code",
    "id": "gpD65ody_o67"
   },
   "outputs": [],
   "source": [
    "import numpy as np\n",
    "import pandas as pd\n",
    "from typing import List, Optional\n",
    "\n",
    "masses = {'mu': 105.658, 'tau': 1777, 'proton': 938.272, 'K': 493.677, 'pi': 139.57, 'D0': 1865,\n",
    "          'J/psi': 3097, 'psi(2S)': 3686, 'rho0': 770, 'rho1450': 1450, 'kstar': 892,\n",
    "          'Lc': 2286, 'Lb': 5620, 'B': 5279, 'phi': 1020, 'Bs': 5367,'f0':1500}\n",
    "\n",
    "\n",
    "def get_mass(data_frame: pd.DataFrame, particles_associations: List[List[str]]) -> pd.DataFrame:\n",
    "    \"\"\"\n",
    "    Obtains the mass of different associations of particles\n",
    "    :param data_frame:\n",
    "    :param particles_associations: list of lists made of ['particle_P', 'particle']\n",
    "    :return:\n",
    "    \"\"\"\n",
    "    energy_series = [\n",
    "        (data_frame.loc[:, particle_P] ** 2 + masses[particle] ** 2) ** 0.5\n",
    "        for particle_P, particle in particles_associations\n",
    "    ]\n",
    "    energy = pd.concat(energy_series, axis=1).sum(axis=1)\n",
    "    \n",
    "    particle_Ps = [i[0] for i in particles_associations]\n",
    "    \n",
    "    momentums = {}\n",
    "    for coord in ['X', 'Y', 'Z']:\n",
    "        particle_P_coords = [f'{particle_P}{coord}' for particle_P in particle_Ps]\n",
    "        momentum_series = data_frame.loc[:, particle_P_coords].sum(axis=1)\n",
    "        momentums[coord] = momentum_series\n",
    "    sum_momenta = (pd.concat(momentums.values(), axis=1) ** 2).sum(axis=1)\n",
    "    mass = (energy ** 2 - sum_momenta) ** 0.5\n",
    "    return mass\n"
   ]
  },
  {
   "cell_type": "code",
   "execution_count": 12,
   "metadata": {
    "colab": {},
    "colab_type": "code",
    "id": "Q2iBNcXdA_iq"
   },
   "outputs": [],
   "source": [
    "def rename_func(name: str):\n",
    "    \"\"\"\n",
    "    Used to rename DataFrame columns that end in 'X', 'Y', and 'Z' such that they can be used in arithmetic operations\n",
    "    \"\"\"\n",
    "    return name[-1].lower()"
   ]
  },
  {
   "cell_type": "markdown",
   "metadata": {},
   "source": [
    "Below a \"rustic\" counter of the events to not double count copies of the same event"
   ]
  },
  {
   "cell_type": "code",
   "execution_count": 13,
   "metadata": {},
   "outputs": [],
   "source": [
    "def event_counter(data_frame):\n",
    "    actual_events=[]\n",
    "    counter=0\n",
    "    event_number=data_frame['eventNumber'].to_numpy()\n",
    "    run_number=data_frame['eventNumber'].to_numpy()\n",
    "    for i in range(len(event_number)):\n",
    "        if (event_number[i] in actual_events)==False:\n",
    "            actual_events.append(event_number[i])\n",
    "            counter+=1\n",
    "    return counter"
   ]
  },
  {
   "cell_type": "markdown",
   "metadata": {
    "colab_type": "text",
    "id": "5iiZ-YAUmp2d"
   },
   "source": [
    "\n",
    "# Background Reduction\n"
   ]
  },
  {
   "cell_type": "code",
   "execution_count": 14,
   "metadata": {
    "colab": {},
    "colab_type": "code",
    "id": "h51J8GI9moOQ"
   },
   "outputs": [],
   "source": [
    "data_frame = Bs_data.copy()"
   ]
  },
  {
   "cell_type": "code",
   "execution_count": 15,
   "metadata": {},
   "outputs": [],
   "source": [
    "triggering=(((data_frame[\"Bs_Hlt2TopoMu2BodyDecision_TOS\"].astype(int) | data_frame[\"Bs_Hlt2TopoMu3BodyDecision_TOS\"].astype(int) | data_frame[\"Bs_Hlt2TopoMu4BodyDecision_TOS\"].astype(int) |\n",
    "               data_frame[\"Bs_Hlt2DiMuonDecision_TOS\"].astype(int) | data_frame[\"Bs_Hlt2SingleMuonDecision_TOS\"].astype(int) | data_frame[\"Bs_Hlt2Topo2BodyDecision_TOS\"].astype(int) | data_frame[\"Bs_Hlt2Topo3BodyDecision_TOS\"].astype(int) | data_frame[\"Bs_Hlt2Topo4BodyDecision_TOS\"].astype(int))>0) &\n",
    "            ((data_frame[\"Bs_Hlt1TrackMVADecision_TOS\"].astype(int) | data_frame[\"Bs_Hlt1TrackMuonDecision_TOS\"].astype(int))>0) &\n",
    "            ((data_frame[\"Bs_L0MuonDecision_TOS\"].astype(int) | data_frame[\"Bs_L0DiMuonDecision_TOS\"].astype(int))>0))\n",
    "\n",
    "data_frame=data_frame.loc[triggering]"
   ]
  },
  {
   "cell_type": "markdown",
   "metadata": {},
   "source": [
    "First of all, we need to deploy the triggering to the data"
   ]
  },
  {
   "cell_type": "markdown",
   "metadata": {},
   "source": [
    "triggering=(((data_frame[\"Bs_Hlt2TopoMu2BodyDecision_TOS\"] | data_frame[\"Bs_Hlt2TopoMu3BodyDecision_TOS\"] | data_frame[\"Bs_Hlt2TopoMu4BodyDecision_TOS\"] |\n",
    "               data_frame[\"Bs_Hlt2DiMuonDecision_TOS\"] | data_frame[\"Bs_Hlt2SingleMuonDecision_TOS\"] | data_frame[\"Bs_Hlt2Topo2BodyDecision_TOS\"] | data_frame[\"Bs_Hlt2Topo3BodyDecision_TOS\"] | data_frame[\"Bs_Hlt2Topo4BodyDecision_TOS\"])>0.0) &\n",
    "            ((data_frame[\"Bs_Hlt1TrackMVADecision_TOS\"] | data_frame[\"Bs_Hlt1TrackMuonDecision_TOS\"])>0.0) &\n",
    "            ((data_frame[\"Bs_L0MuonDecision_TOS\"] | data_frame[\"Bs_L0DiMuonDecision_TOS\"])>0.0))\n",
    "\n",
    "data_frame=data_frame.loc[triggering]"
   ]
  },
  {
   "cell_type": "markdown",
   "metadata": {},
   "source": [
    "Let's plot the triggered tuple (not much has changed):"
   ]
  },
  {
   "cell_type": "code",
   "execution_count": 16,
   "metadata": {},
   "outputs": [
    {
     "data": {
      "image/png": "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\n",
      "text/plain": [
       "<Figure size 600x300 with 1 Axes>"
      ]
     },
     "metadata": {},
     "output_type": "display_data"
    }
   ],
   "source": [
    "plt.figure(figsize=(6, 3))\n",
    "Bs_mass_range = (3000, 7000)\n",
    "plt.hist(data_frame['Bs_M'], bins='auto', range=Bs_mass_range)\n",
    "\n",
    "plt.xlabel('$m_{KK \\mu \\mu}$')\n",
    "plt.xlim(Bs_mass_range)\n",
    "#plt.legend()\n",
    "plt.tight_layout(pad=0.5)\n",
    "\n",
    "plt.show()"
   ]
  },
  {
   "cell_type": "markdown",
   "metadata": {},
   "source": [
    "Let's add the $\\chi^2$ divided by the DoF as a column of the data frame, since it gives us a good measure of the quality of the vertex"
   ]
  },
  {
   "cell_type": "code",
   "execution_count": 17,
   "metadata": {},
   "outputs": [],
   "source": [
    "def chi2_dof(data_frame):\n",
    "    chi2 = data_frame.loc[:, Bs_IPCHI2_OWNPV]\n",
    "    dof = Bs_IPCHI2_OWNPV\n",
    "    direct= _bs_flight.divide((_bs_flight ** 2).sum(axis=1) ** 0.5, axis=0)\n",
    "\n",
    "    data_frame['chi2_dof'] = np.arccos(np.clip(dot_prod, -1.0, 1.0))\n",
    "    return data_frame"
   ]
  },
  {
   "cell_type": "markdown",
   "metadata": {
    "colab_type": "text",
    "id": "N_YDIWTlmurf"
   },
   "source": [
    "## Background reduction\n",
    "The background was reduced in several ways: \n",
    "1. There were some inconsistencies in the data (structures at low values of momentum or PID), which were removed\n",
    "2. Some known cuts were present in the data and were removed\n",
    "3. Properties of events were optimised with a boosted decision tree."
   ]
  },
  {
   "cell_type": "markdown",
   "metadata": {
    "colab_type": "text",
    "id": "fWcNmEq38YjN"
   },
   "source": [
    "## Cleaning cuts"
   ]
  },
  {
   "cell_type": "markdown",
   "metadata": {
    "colab_type": "text",
    "id": "ESv12vrL8drY"
   },
   "source": [
    "### Momentum inconsistencies"
   ]
  },
  {
   "cell_type": "markdown",
   "metadata": {
    "colab_type": "text",
    "id": "rdLRACQ18hfB"
   },
   "source": [
    "We could see inconsistencies in the momentum distributions of the muons, as outlined below.\n",
    "The cuts used are as follows:\n",
    "* events with `mu_minus_PT` $<1.5$GeV were removed\n",
    "* events with `mu_plus_PT` $<1.5$GeV were removed\n"
   ]
  },
  {
   "cell_type": "code",
   "execution_count": 18,
   "metadata": {
    "colab": {},
    "colab_type": "code",
    "id": "ksppJ_XT8gQz"
   },
   "outputs": [],
   "source": [
    "mu_minus_PT_threshold = 1.5e3\n",
    "mu_plus_PT_threshold = 1.5e3\n",
    "K_plus_PT_threshold=5.0e2\n",
    "K_minus_PT_threshold=5.0e2"
   ]
  },
  {
   "cell_type": "code",
   "execution_count": 19,
   "metadata": {
    "colab": {
     "base_uri": "https://localhost:8080/",
     "height": 440
    },
    "colab_type": "code",
    "id": "mV-I88Gf8l0D",
    "outputId": "3d9df983-0ed0-4563-9c93-12ec0422b4f0"
   },
   "outputs": [
    {
     "data": {
      "image/png": "iVBORw0KGgoAAAANSUhEUgAAAl4AAAEyCAYAAAAr/946AAAAOXRFWHRTb2Z0d2FyZQBNYXRwbG90bGliIHZlcnNpb24zLjMuMiwgaHR0cHM6Ly9tYXRwbG90bGliLm9yZy8vihELAAAACXBIWXMAAA9hAAAPYQGoP6dpAABP3ElEQVR4nO3deVwU5/0H8M9yrVyuggISAU2CKEKMoiLiGRE0KrG2kmhCJFKPelKlqdakolGsGqONRmuMAgkqaepRTwQTxRhvlJ/xImpQPCBYRRAkywLz+4MydeXaZW/283695qU78+zsdyfZr9955plnJIIgCCAiIiIinbMwdABERERE5oKFFxEREZGesPAiIiIi0hMWXkRERER6wsKLiIiISE9YeBERERHpCQsvIiIiIj1h4UVERESkJ1aGDsCQqqqqcP/+fTg6OkIikRg6HCL6L0EQ8OTJE7i7u8PCwnzPD5mjiIyTJjnKrAuv+/fvw8PDw9BhEFE97ty5g/bt2xs6DINhjiIybk3JUWZdeDk6OgIAclatglOrVoYNRpfkcqCsDBg7FpDJNNqVQqFAWloaQkNDYW1traUAmzceM/U9evQIHTt2FH+j5soscpQW8xPA31tT8JipT5McZdaFV03XvWOrVmjZtq2Bo9Gh0tLqP1u2rF40oFAoYGdnh5YtW/IHqiIeM/UpFAoAMPvLa2aRo7SYnwD+3pqCx0x9muQo8x08QURERKRnLLyIiIiI9ISFl4qik84aOgQiItKSDvP2i3/W/J1IH1h4ERGRWVC3wGJRRrpg1oPriYjIPDzbw/X8urpe3/rbCP0ERmaHhRcRETUbfnGHsKL3/16r2mPFni3SF15qJCKiZkmTYoqFGOkKCy8iImp2/OIOaW1fLMJIm9QqvJYtW4ZevXrB0dERLi4uGD16NLKzs5XaCIKAuLg4uLu7w9bWFoMGDcLly5eV2sjlcsycORNt2rSBvb09wsPDcffuXaU2hYWFiIyMhEwmg0wmQ2RkJB4/fqzUJjc3F6NGjYK9vT3atGmDWbNmoby8XJ2vREREzYSuCyQOtidtUKvwysjIwPTp03Hq1Cmkp6ejoqICoaGhKK2ZeRjAihUr8Mknn2DdunU4e/Ys3NzcMHToUDx58kRsExMTg127diElJQXHjx9HSUkJRo4cicrKSrHN+PHjkZWVhdTUVKSmpiIrKwuRkZHi9srKSowYMQKlpaU4fvw4UlJSsGPHDsydO1eT40FERFQLCy7SFrUG16empiq9TkhIgIuLCzIzMzFgwAAIgoA1a9ZgwYIFGDNmDAAgKSkJrq6u2LZtG6ZMmYKioiJs3rwZX331FUJCQgAAycnJ8PDwwOHDhxEWFoarV68iNTUVp06dQmBgIABg06ZNCAoKQnZ2Nnx8fJCWloYrV67gzp07cHd3BwCsWrUKUVFRWLp0KVpq4dETz4tOOovNE3ppfb9ERNR0+i6KOszbz7seqck0GuNVVFQEAHBycgIA5OTkID8/H6GhoWIbqVSKgQMH4sSJEwCAzMxMKBQKpTbu7u7w8/MT25w8eRIymUwsugCgT58+kMlkSm38/PzEogsAwsLCIJfLkZmZqcnXIiIiahAvO1JTNXk6CUEQMGfOHPTr1w9+fn4AgPz8fACAq6urUltXV1fcvn1bbGNjY4PWrVvXalPz/vz8fLi4uNT6TBcXF6U2z39O69atYWNjI7Z5nlwuh1wuF18XFxcDABQAFILQ4Pe1sq6uURtrZ7QkEqCiAvjvgz2bqubBoAoN92NOeMzUx2NFqmLxQ6amyYXXjBkzcPHiRRw/frzWtuef1i0IQqNP8H6+TV3tm9LmWcuWLcOiRYtqrT9iawu7Rgqq19/qDgA4YIqFl61t9VLHf6umSk9P19q+zAWPmeqePn1q6BCIVFJz2bGmAOQlSGpMkwqvmTNnYs+ePTh27Bjat28vrndzcwNQ3RvVrl07cX1BQYHYO+Xm5oby8nIUFhYq9XoVFBSgb9++Yptffvml1uc+ePBAaT+nT59W2l5YWAiFQlGrJ6zG/PnzMWfOHPF1cXExPDw8MLisDM729g1+5xnbzwMA1o3r0WA7o/T0KfD4MTB2LKDh2DeFQoH09HQMHToU1tbW2omvmeMxU9/Dhw8NHQKRytjrRupQa4yXIAiYMWMGdu7cie+++w4dO3ZU2t6xY0e4ubkpndmXl5cjIyNDLKoCAgJgbW2t1CYvLw+XLl0S2wQFBaGoqAhnzpwR25w+fRpFRUVKbS5duoS8vDyxTVpaGqRSKQICAuqMXyqVomXLlkoLAFgDsJZIGlwqFFWoUFQ12s4oFwDWggBrKytYW1trvADQyn7MaeExa9oxU9exY8cwatQouLu7QyKRYPfu3UrbOd0N6RqLMGqMWoXX9OnTkZycjG3btsHR0RH5+fnIz89HWVkZgOpLfzExMYiPj8euXbtw6dIlREVFwc7ODuPHjwcAyGQyREdHY+7cufj2229x4cIFvPPOO/D39xfvcuzSpQuGDRuGSZMm4dSpUzh16hQmTZqEkSNHwsfHBwAQGhoKX19fREZG4sKFC/j2228RGxuLSZMm6eSORiIyfqWlpejWrRvWrVtX53ZOd0P6wOKLGqLWpcYNGzYAAAYNGqS0PiEhAVFRUQCA999/H2VlZZg2bRoKCwsRGBiItLQ0ODo6iu1Xr14NKysrREREoKysDEOGDEFiYiIsLS3FNlu3bsWsWbPEux/Dw8OVkqmlpSX279+PadOmITg4GLa2thg/fjw+/vhjtQ6AujilBJHxGj58OIYPH17ntuY+3Q0RmQa1Ci9BhYHlEokEcXFxiIuLq7dNixYtsHbtWqxdu7beNk5OTkhOTm7wszw9PbFv375GYyIiamy6mylTpjQ63U1YWFij0934+Pg0Ot3N4MGD9fOlmylT6FHiYHuqT5PvaiQiMiXGPt0NoNmUNyZNzelupJb1HwuphaD0p6H5LKjuHLgUF2bgSOrHKW/Up8mxYuFFRGbFWKe7ATSb8sZkNWG6mxW9G2/zUc8qDYLSvgMHDhg6hEZxyhvVaTLlDQuvJohOOgsAHOtFZEKMfbobQLMpb0yWmtPd+MUdanC71ELARz2r8OE5C8irGi6o9ammx8sv7pDR9X5xyhv1aTLlDQsvIjILz05307179YTINdPdLF++HIDydDcREREA/jfdzYoVKwAoT3fTu3d110td090sXboUeXl5YpHX2HQ3QPWYM6lUWmt9zZQ3zZYgAFZWgAr/6MsrVTsO8iqJym31oaagkVdKjLa40WQqF3OjyXFi4UVEzUZJSQlu3Lghvs7JyUFWVhacnJzg6ekpTnfj7e0Nb29vxMfH1zvdjbOzM5ycnBAbG1vvdDcbN24EAEyePLne6W5WrlyJR48ecbobM2cKNwSQfrDwIqJm49y5c0p3DNZctpswYQISExOb/XQ3ZBp4x6N5Y+Glgbrm9OI8X0SGM2jQoAanveF0N6atufUa1TznkcyLWjPXExERkfY0t2KSGsceLx3gXY9ERNrT3IsTXno0L+zx0qKagouIiIioLiy8iIiIjEBz79mjaiy8NNRQL1d00ln2ghEREZGIhZcesPgiIiJVdJi3X1yoeWLhpQWqFFYsvoiI1McChJob3tWoJeoWX7zjkYiIGvJs0ck7HpsP9ngZCMd/ERGRqtjz13yw8DIwFl9ERHVjsUHNEQsvIiIiE8BCtHlg4WUEeNmRiIjIPLDwMiIsvoiIiJo33tVoZKKTzvKORyIya7ykVj/e6Wj62ONFRERGg0WX6nisTBN7vIiIiEwUe8BMD3u8jFDNWC+O+SIiImpeWHgZKRZdRESkDl56NA0svIwcCzAiIlIVH7Bt/Fh4ERERNTMsvowXB9cTEZHB+ccdwhOpvaHDaFZqii8Oujcu7PEyAZzZnoiIqHlg4WVCWIAREZG6OO7LuLDwIiIiItITjvEyQXysEBERqev5Xi+O/TIM9ngRERGZIV6CNAwWXiaK472IiIhMj9qF17FjxzBq1Ci4u7tDIpFg9+7dStsFQUBcXBzc3d1ha2uLQYMG4fLly0pt5HI5Zs6ciTZt2sDe3h7h4eG4e/euUpvCwkJERkZCJpNBJpMhMjISjx8/VmqTm5uLUaNGwd7eHm3atMGsWbNQXl6u7lciIiIyW35xhwwdgllRu/AqLS1Ft27dsG7dujq3r1ixAp988gnWrVuHs2fPws3NDUOHDsWTJ0/ENjExMdi1axdSUlJw/PhxlJSUYOTIkaisrBTbjB8/HllZWUhNTUVqaiqysrIQGRkpbq+srMSIESNQWlqK48ePIyUlBTt27MDcuXPV/Uomjb1eREREpkPtwfXDhw/H8OHD69wmCALWrFmDBQsWYMyYMQCApKQkuLq6Ytu2bZgyZQqKioqwefNmfPXVVwgJCQEAJCcnw8PDA4cPH0ZYWBiuXr2K1NRUnDp1CoGBgQCATZs2ISgoCNnZ2fDx8UFaWhquXLmCO3fuwN3dHQCwatUqREVFYenSpWjZsmWTDogp4mB7IiLSlF/cIcgrJQA48F6XtHpXY05ODvLz8xEaGiquk0qlGDhwIE6cOIEpU6YgMzMTCoVCqY27uzv8/Pxw4sQJhIWF4eTJk5DJZGLRBQB9+vSBTCbDiRMn4OPjg5MnT8LPz08sugAgLCwMcrkcmZmZGDx4cK345HI55HK5+Lq4uBgAoACgEIQGv5uVtXEPh2ssfkgkQEUFoFBo9jn/fb9Cw/2YEx4z9enqWMXFxWHRokVK61xdXZGfnw+g+uRx0aJF+Pzzz1FYWIjAwEB89tln6Nq1q9heLpcjNjYW27dvR1lZGYYMGYL169ejffv2YpvCwkLMmjULe/bsAQCEh4dj7dq1aNWqlU6+F5EudZi3n4WYFmm18KpJXq6urkrrXV1dcfv2bbGNjY0NWrduXatNzfvz8/Ph4uJSa/8uLi5KbZ7/nNatW8PGxkZs87xly5bVSroAcMTWFnaNFC6vv9W9we2GdqCh+G1tq5fjx7X2eenp6Vrbl7ngMVPd06dPdbbvrl274vDhw+JrS0tL8e81QyUSExPRqVMnLFmyBEOHDkV2djYcHR0BVA+V2Lt3L1JSUuDs7Iy5c+di5MiRyMzMFPc1fvx43L17F6mpqQCAyZMnIzIyEnv37tXZ9yLSJj5uSHd0Mo+XRCJRei0IQq11z3u+TV3tm9LmWfPnz8ecOXPE18XFxfDw8MDgsjI42zf8jLAZ2883uN2YrBvXQ3nF06fA48fA2LGAhpdgFQoF0tPTMXToUFhbW2u0L3PBY6a+hw8f6mzfVlZWcHNzq7Ven0MliEwFp5vQPq0WXjXJLD8/H+3atRPXFxQUiL1Tbm5uKC8vR2FhoVKvV0FBAfr27Su2+eWXX2rt/8GDB0r7OX36tNL2wsJCKBSKWj1hNaRSKaRSaa311gCsGykMKxRVDW43JnV+F0EArKwALf3Db21tzSJCTTxmqtPlcbp+/Trc3d0hlUoRGBiI+Ph4vPjii3odKkFkap4twNgLphmtFl4dO3aEm5sb0tPT0b179aW58vJyZGRkYPny5QCAgIAAWFtbIz09HREREQCAvLw8XLp0CStWrAAABAUFoaioCGfOnEHv3r0BAKdPn0ZRUZFYnAUFBWHp0qXIy8sTi7y0tDRIpVIEBARo82uZnJo7HTngnkhZYGAgvvzyS3Tq1Am//PILlixZgr59++Ly5ct6HSpRH03GoZo0iQRSS6DcUvPvKLUQlP6kxql7zHwW7MOluDBdhmT0NBmHqnbhVVJSghs3boivc3JykJWVBScnJ3h6eiImJgbx8fHw9vaGt7c34uPjYWdnh/HjxwMAZDIZoqOjMXfuXDg7O8PJyQmxsbHw9/cXu+67dOmCYcOGYdKkSdi4cSOA6jESI0eOFM8WQ0ND4evri8jISKxcuRKPHj1CbGwsJk2aZFZ3NBKR6p69I9vf3x9BQUF46aWXkJSUhD59+gDQ31CJumgyDtVk/XcM6oftAKCysdYq+6in6VylMBbqHLMDBw7oMBLjp8k4VLULr3PnzindMVgzZmrChAlITEzE+++/j7KyMkybNk28KygtLU0cmAoAq1evhpWVFSIiIsS7ghITE5UGuW7duhWzZs0Su/TDw8OV5g6ztLTE/v37MW3aNAQHB8PW1hbjx4/Hxx9/rP5RaKY4zQRRw+zt7eHv74/r169j9OjRAPQzVKI+moxDNVn/HYMadMMJT6R2Gu9OaiHgo55V+PCcBeRVDRe6VE2bx8xcesI0GYeqduE1aNAgCA2ceUkkEsTFxSEuLq7eNi1atMDatWuxdu3aets4OTkhOTm5wVg8PT2xb9++RmM2Z9FJZ7H5d76GDoPIKMnlcly9ehX9+/fX61CJ+mgyDtWULdj5I+RdB4pzSGmDvEqi1f2ZA20cM+8P08xiDJgm41B1clcjGZcZ289DVlaKpeMNHQmRYcXGxmLUqFHw9PREQUEBlixZguLiYkyYMAESiURvQyWImjNORdEwFl5mxD/uEJ5I7fljILN19+5djBs3Dv/5z3/Qtm1b9OnTB6dOnYKXlxcA6G2oBJE5YAFWNxZeKuDzEImah5SUlAa363OoBJG54Qz41Yz7OTikE5wQj4iI9KXDvP3ivzv894c9Xmbr+f/5eRZCRET6UFfxZU7/BrHHiwDwLISIiAzn2V6x+rY3F+zxIhEHQhIRkSE9/2ii5lRw1WDhRbVwACQRERna80VXcxkiw0uNRERERHrCwovq1Nj1diIiImNgav9WsfCiBj37P7Sp/c9NRETN1/PTVJhKhwHHeFGjTOF/ZCIiIsD4x4Kxx4vU4hd3SOlPIiIiUh0LL2oy9oQREZGxe/YyZGN3SuoDCy/SSF3X2ImIiIyVof+d4hgv0gpD/49MRESkqvpuHKuZtFWX48JYeJHWPf8/MRERkSmo62He2v53jIUX6RRnwSciIlNW1xUdq4rSJu+PhRfpXH3P3mJBRkRE5oaD60mvOBaMiIjMGXu8yGCMfZI7IiIibWPhRUaDhRgRETV3LLzIaPHuSCIiam44xotMQl23+BIREZka9niRyaiv+GJvGBERmQoWXmTy6uoFYzFGRETGiIUXNUssxoiIyBix8CKzwWKMiIgMjYUXmbWGBuuzKCMiIm1j4UVUDxZlRESkbSy8iJqARRkRETUFCy8iLXu+KJNaCljRG/CLOwR5paRW+5pCrcO8/SzaiIiaORZeRAb2bKHW2ASxt/42gjP6ExGZMJMvvNavX4+VK1ciLy8PXbt2xZo1a9C/f39Dh0WkE88XZprM5M+iTT+Yo4joWSZdeH399deIiYnB+vXrERwcjI0bN2L48OG4cuUKPD09DR0ekVHT9uOXnu2Nq6+oM7fLqcxRRPQ8ky68PvnkE0RHR+P3v/89AGDNmjU4dOgQNmzYgGXLlhk4OiLzouolU1UKPquKUq3EZGjMUUT0PJMtvMrLy5GZmYl58+YprQ8NDcWJEyfqfI9cLodcLhdfFxUVAQAePX7c4GdZK0o0C9bALCvKoUAlrCqewspSs31ZVQl4+rQKVgoLVFbVHihOtfGYqc9KUV14CYJg4EiaTp85yqTJ5VrLTwB/b03BY6Y+jXKUYKLu3bsnABB++OEHpfVLly4VOnXqVOd7Fi5cKADgwoWLiSw3b97URzrRCeYoLlya/9KUHGWyPV41JBLl6lwQhFrrasyfPx9z5swRXz9+/BheXl7Izc2FTCbTaZzNRXFxMTw8PHDnzh20bNnS0OGYBB4z9RUVFcHT0xNOTk6GDkVjzFH6xd+b+njM1KdJjjLZwqtNmzawtLREfn6+0vqCggK4urrW+R6pVAqpVKr0euHChXBxcVFaT/WrOWZt27blMVMRj5n6ao6Zra2toUNpMuYow+DvTX08ZurTJEdJBMF0B1EEBgYiICAA69evF9f5+vrijTfe4MBVIjI45igiep7J9ngBwJw5cxAZGYmePXsiKCgIn3/+OXJzczF16lRDh0ZExBxFRLWYdOH15ptv4uHDh1i8eDHy8vLg5+eHAwcOwMvLy9ChERExRxFRLRaGDkBT06ZNw61btyCXy5GZmYkBAwao/N7169ejY8eOaNGiBQICAvD999/rMFLTtmzZMvTq1QuOjo5wcXHB6NGjkZ2dbeiwTMayZcsgkUgQExNj6FCM3r179/DOO+/A2dkZdnZ2ePXVV5GZmWnosJqsqTmK+Ul1zE+aY45SjTbyk8kXXk1VM6P0ggULcOHCBfTv3x/Dhw9Hbm6uoUMzShkZGZg+fTpOnTqF9PR0VFRUIDQ0FKWlzWOiS106e/YsPv/8c7zyyiuGDsXoFRYWIjg4GNbW1jh48CCuXLmCVatWoVWrVoYOTa+Yn9TD/KQZ5ijVaC0/qT0BRTPRu3dvYerUqUrrOnfuLMybN89AEZmWgoICAYCQkZFh6FCM2pMnTwRvb28hPT1dGDhwoDB79mxDh2TU/vznPwv9+vUzdBgGx/ykGeYn1TFHqU5b+ckse7xqZpQODQ1VWt/QjNKkrGZG7eYwz5IuTZ8+HSNGjEBISIihQzEJe/bsQc+ePTF27Fi4uLige/fu2LRpk6HD0ivmJ80xP6mOOUp12spPZll4/ec//0FlZWWtuXRcXV1rzblDtQmCgDlz5qBfv37w8/MzdDhGKyUlBefPn+e0AWr4+eefsWHDBnh7e+PQoUOYOnUqZs2ahS+//NLQoekN85NmmJ9UxxylHm3lJ5O+q1FT6swoTf8zY8YMXLx4EcePHzd0KEbrzp07mD17NtLS0tCiRQtDh2Myqqqq0LNnT8THxwMAunfvjsuXL2PDhg149913DRydfjE/NQ3zk2qYo9Snrfxklj1eTZlRmqrNnDkTe/bswZEjR9C+fXtDh2O0MjMzUVBQgICAAFhZWcHKygoZGRn49NNPYWVlhcrKSkOHaJTatWsHX19fpXVdunQxq0HlzE9Nx/ykOuYo9WkrP5ll4WVjY4OAgACkp6crrU9PT0ffvn0NFJVxEwQBM2bMwM6dO/Hdd9+hY8eOhg7JqA0ZMgQ//vgjsrKyxKVnz554++23kZWVBUtLS0OHaJSCg4NrTQPw008/mdW8V8xP6mN+Uh9zlPq0lp80Hp5volJSUgRra2th8+bNwpUrV4SYmBjB3t5euHXrlqFDM0p/+MMfBJlMJhw9elTIy8sTl6dPnxo6NJPBO4Yad+bMGcHKykpYunSpcP36dWHr1q2CnZ2dkJycbOjQ9Ir5ST3MT9rBHNUwbeUnsy28BEEQPvvsM8HLy0uwsbERevTowVuPGwCgziUhIcHQoZkMJjXV7N27V/Dz8xOkUqnQuXNn4fPPPzd0SAbB/KQ65iftYI5qnDbyk0k/JJuIiIjIlJjlGC8iIiIiQ2DhRURERKQnLLyIiIiI9ISFFxEREZGesPAiIiIi0hMWXqQTEokEu3fvNnQYOiWRSCCRSNCqVSuDxhEVFSXG0tyPOZG2RUVFYfTo0YYOo8kSExPF339MTIxBYzGWnGjsWHiRTuTl5WH48OGGDgOAcmKSSCRo164dIiIikJOTg6NHjyptq2tJTEysd98JCQn46aeflNaVl5dj5cqV6NGjB+zt7SGTydCtWzd88MEHuH//vkoxZ2ZmQiKR1Pu8ubCwMISHhwMA/v73vyMvL0+1g0FEBjNo0CAxr0ilUnTq1Anx8fGorKxUOoGqb6lPy5YtkZeXh48++khp/Y0bNzBx4kR4enpCKpXihRdewJAhQ7B161ZUVFSoFPPMmTPh7e1d57Z79+7B0tISO3fuBFCd99esWaPawTBjZv2QbNIdNzc3Q4egpGXLlsjOzoYgCLh27RqmTJmC8PBwnDt3TqlomT17NoqLi5GQkCCuk8lk9e63VatWcHFxEV/L5XKEhobi4sWLWLRoEYKDgyGTyXDz5k3s3r0ba9euxbJlyxqNNyAgAN26dUNCQgL69euntO3OnTs4fPiwmOxkMlmDMRKR8Zg0aRIWL16MX3/9Ffv27cOsWbNgaWmJv//97/jb3/4mtmvXrh0SEhIwbNiwRvcpkUhq5dwzZ84gJCQEXbt2xWeffYbOnTujpKQEV65cwT/+8Q/4+fmhW7duje47Ojoa69atw/fff4/+/fsrbUtMTISzszNGjRoFoDrvMxepQNuzupJhDBw4UJgxY4Ywe/ZsoVWrVoKLi4uwceNGoaSkRIiKihIcHByEF198UThw4ID4noSEBEEmkyntZ9euXcKz/1ssXLhQ6Natm7B582bBw8NDsLe3F6ZOnSpUVFQIy5cvF1xdXYW2bdsKS5YsUdoPAGHXrl2CIAhCTk6OAEDYsWOHMGjQIMHW1lZ45ZVXhBMnTtT6nGetXr1a8PLyEl8fOXJE6NWrl2BnZyfIZDKhb9++Kj1Cpa7vmZycLAAQrl27prR+woQJwhtvvNHoPp//jjWWLVsmWFhYCOfPn6/zPVVVVUp/X758udCxY0ehRYsWwiuvvCJ888034vZPP/1UcHBwEEpKSpT2sXjxYsHV1VVQKBSNxkNkCnSdv/7xj38I7du3F2xtbYXf/e53QmFhodjm+d+8l5eXsHr1aqX9duvWTVi4cKHSfj08PAQbGxuhXbt2wsyZM1X+ns/PDB8SEiL06dOnVltVf891HYeqqiqhS5cuQkBAgFBZWVnn+57NRXfv3hUiIiKEVq1aCU5OTkJ4eLiQk5Mjbu/Ro4cQFRVVax8vv/yyMHfu3EbjIWW81NiMJCUloU2bNjhz5gxmzpyJP/zhDxg7diz69u2L8+fPIywsDJGRkXj69Kla+7158yYOHjyI1NRUbN++HVu2bMGIESNw9+5dZGRkYPny5fjggw9w6tSpBvezYMECxMbGIisrC506dcK4ceNU7u6uqKjA6NGjMXDgQFy8eBEnT57E5MmTG+x+b4itrS0AQKFQNOn99dm+fTuGDh2K7t2717n92Xg/+OADJCQkYMOGDbh8+TL++Mc/4p133kFGRgYA4O2334ZCocA333wjvkcQBCQmJmLChAmwsmKHNTUfuspfN27cwD//+U/s3bsXqampyMrKwvTp05sc57/+9S+sXr0aGzduxPXr17F79274+/s3eX+2trZaz0NZWVm4evUqYmNjYWFR9z/zNbno6dOnGDx4MBwcHHDs2DEcP34cDg4OGDZsGMrLywFU93p98803KCkpEd+fkZEhXsok9bDwakZqxhF5e3tj/vz5sLW1RZs2bTBp0iR4e3vjr3/9Kx4+fIiLFy+qtd+qqips2bIFvr6+GDVqFAYPHozs7GysWbMGPj4+eO+99+Dj44OjR482uJ/Y2FiMGDECnTp1wqJFi3D79m3cuHFDpRiKi4tRVFSEkSNH4qWXXkKXLl0wYcIEeHp6qvVdAODu3btYuXIl2rdvj06dOqn9/ob89NNP8PHxUVr3m9/8Bg4ODnBwcEDfvn0BAKWlpfjkk0+wZcsWhIWF4cUXX0RUVBTeeecdbNy4EQDg5OSE0aNHK132PHr0KH7++WcmO2p2dJW/fv31VyQlJeHVV1/FgAEDsHbtWqSkpCA/P79Jcebm5sLNzQ0hISHw9PRE7969MWnSJLX3U1VVhdTUVBw6dAhDhgxpUiz1qRl3+mwuKigoEPOQg4MD1q9fDwBISUmBhYUFvvjiC/j7+6NLly5ISEhAbm6umNPHjx+PyspKpZPALVu2ICgoCL6+vlqN3Ryw8GpGXnnlFfHvlpaWcHZ2VjoTc3V1BVD9A1RHhw4d4OjoqLQfX19fpTMpV1fXRvf7bHzt2rVTKxYnJydERUUhLCwMo0aNUntAeVFRERwcHGBvbw8PDw+Ul5dj586dsLGxUXkfqnq+F279+vXIysrCxIkTxbP1K1eu4Ndff8XQoUOVkuGXX36Jmzdviu+Njo7GsWPHxAJ1y5YtCA4OrlXcEZk6XeUvT09PtG/fXnwdFBSEqqoqZGdnNynOsWPHoqysDC+++CImTZqEXbt2qdxzD1TnAwcHB7Ro0QLh4eF45513sHDhwibF0phnc5GzszOysrKQlZWFVq1aib1ZmZmZuHHjBhwdHcU85OTkhF9//VXMRa1atcKYMWOwZcsWAMCTJ0+wY8cOngA2Ea9VNCPW1tZKryUSidK6mh9hVVUVAMDCwgLCc89Ir6vLu7H91qyr2a8q8TUlloSEBMyaNQupqan4+uuv8cEHHyA9PR19+vRp8HMBwNHREefPn4eFhQVcXV1hb2/f6HuawtvbG9euXVNaV1NkOjk5ietqvvf+/fvxwgsvKLWXSqXi30NCQuDl5YXExES8//772LlzJ9atW6eT2IkMSVf563k1+6lvmEJj+/Xw8EB2djbS09Nx+PBhTJs2DStXrkRGRkat71CXt99+GwsWLIBUKoW7uzssLS0bfY+6au5CvHbtGl599VUA1cXsyy+/DABKwxSqqqoQEBCArVu31tpP27Ztxb9HR0djyJAhuH79ujgc4s0339R67OaAhZcZa9u2LZ48eYLS0lKxEMnKyjJYLPn5+RAEQUyIdcXSvXt3dO/eHfPnz0dQUBC2bdumUuFlYWEhJh1dGjduHD744ANcuHCh3nFeAODr6wupVIrc3FwMHDiw3nYSiQTvvfcevvjiC7Rv3x4WFhaIiIjQRehEJkXV/JWbm4v79+/D3d0dAHDy5ElYWFjUO8ygbdu2Sr3pxcXFyMnJUWpja2uL8PBwhIeHY/r06ejcuTN+/PFH9OjRo9G4ZTKZznNR9+7d0blzZ3z88ceIiIiod5wXAPTo0QNff/01XFxc0LJly3rbDR48GC+++CISExNx5MgRREREKF0JIdXxUqMZCwwMhJ2dHf7yl7/gxo0b2LZtW4NzVunSoEGD8ODBA6xYsQI3b97EZ599hoMHD4rbc3JyMH/+fJw8eRK3b99GWloafvrpJ3Tp0sUg8dbnj3/8I4KCgvDaa6/h73//O86fP4+cnBwcOnQIBw8eFM9uHR0dERsbiz/+8Y9ISkrCzZs3ceHCBXz22WdISkpS2ud7772H+/fv4y9/+QveeustnfXWEZkSVfNXixYtMGHCBPzf//0fvv/+e8yaNQsRERH1Tnnz2muv4auvvsL333+PS5cuYcKECUq9UomJidi8eTMuXbqEn3/+GV999RVsbW3h5eWlq6+qNolEgoSEBGRnZyM4OBh79uzB9evXxakkHjx4IH6nt99+G23atMEbb7yB77//Hjk5OcjIyMDs2bNx9+5dpX2+99572LBhA06ePIno6GhDfT2Tx8LLjDk5OSE5ORkHDhyAv78/tm/fjri4OIPE0qVLF6xfvx6fffYZunXrhjNnziA2Nlbcbmdnh2vXruG3v/0tOnXqhMmTJ2PGjBmYMmWKQeKtT4sWLfDtt99i3rx54hxcXbp0QUxMDIKDg5Vmlv/oo4/w17/+FcuWLUOXLl0QFhaGvXv3omPHjkr79PT0REhICAoLCzmmgui/VM1fL7/8MsaMGYPXX38doaGh8PPzEweW12X+/PkYMGAARo4ciddffx2jR4/GSy+9JG5v1aoVNm3ahODgYLzyyiv49ttvsXfvXjg7O+viazZZnz59kJmZCR8fH0yfPh2+vr7o27cvtm/fjtWrV+MPf/gDgOrceuzYMXh6emLMmDHo0qULJk6ciLKyslo9YFFRUSgqKoKPjw+Cg4MN8bWaBYnw/MVsIlKJRCLBrl27jOZxI8YWD5GhxcXFYffu3QYbQqEPiYmJiImJwePHjw0dCgDji8cYsceLSAPjxo1TumPKEKZOnQoHBweDxkBEhlNz1/af//xng8bh4OCAqVOnGjQGU8DB9WTyunbtitu3b9e5bePGjXj77bd18rnXr18HAJ3claSOxYsXi5dla+6gJCL9+v777xt8Pu2zk49q029/+1vxsWKGfjh1Tc+ioXOiseOlRjJ5t2/frvc2cldXV955Q0Q6V1ZWhnv37tW7XR93VZNpYOFFREREpCcc40VERESkJyy8iIiIiPSEhRcRERGRnpj1XY1VVVW4f/8+HB0d631uFxHpnyAIePLkCdzd3Rt83ElzxxxFZJw0yVFmXXjdv38fHh4ehg6DiOpx584dg8+TZkjMUUTGrSk5yqwLr5ppBnJWrYKTpvOfyOVAWRkwdiwgk2kenJFSKBRIS0tDaGgorK2tDR2OSeAxU9+jR4/QsWNHs58KhDlKffy9qY/HTH2a5CizLrxquu4dW7VCy7ZtNdtZaWn1ny1bVi/NlEKhgJ2dHVq2bMkfqIp4zNRXMy+buV9eY45SH39v6uMxU58mOcp8B08QERER6RkLLyIiIiI9YeGlouiks4YOgYiIiEwcCy8iImqSDvP21/l3IqofCy8iIlJbTaHVYd5+pb8/+ycR1cbCSw283EhE1DAWX0QNY+FFREQ6wSKMqDYWXkREpDMsuoiUsfBSEy83EhE1DYswIhZeRESkB7zsSFSNhRcRERGRnrDwIiIivWKvF5kzFl5NwHFeRERE1BQsvIiIiIj0hIUXERHpHS83krli4dVEvNxIRERE6rIydABERGRatNVb9ex+bv1thFb2SWTs2ONFREREpCcsvDTAy41EZE50OS6rw7z9HPdFZoGFFxERqYzFEZFmWHgREVGjWHARaQcLLyIiMhos8Ki5U6vwWrZsGXr16gVHR0e4uLhg9OjRyM7OVmojCALi4uLg7u4OW1tbDBo0CJcvX1ZqI5fLMXPmTLRp0wb29vYIDw/H3bt3ldoUFhYiMjISMpkMMpkMkZGRePz4sVKb3NxcjBo1Cvb29mjTpg1mzZqF8vJydb4SERE1wBBjr1h8UXOmVuGVkZGB6dOn49SpU0hPT0dFRQVCQ0NRWloqtlmxYgU++eQTrFu3DmfPnoWbmxuGDh2KJ0+eiG1iYmKwa9cupKSk4Pjx4ygpKcHIkSNRWVkpthk/fjyysrKQmpqK1NRUZGVlITIyUtxeWVmJESNGoLS0FMePH0dKSgp27NiBuXPnanI81BaddJaD7ImoWWIBRKR9as3jlZqaqvQ6ISEBLi4uyMzMxIABAyAIAtasWYMFCxZgzJgxAICkpCS4urpi27ZtmDJlCoqKirB582Z89dVXCAkJAQAkJyfDw8MDhw8fRlhYGK5evYrU1FScOnUKgYGBAIBNmzYhKCgI2dnZ8PHxQVpaGq5cuYI7d+7A3d0dALBq1SpERUVh6dKlaNmypcYHh4jIXBm66Kr5fM7vRc2NRmO8ioqKAABOTk4AgJycHOTn5yM0NFRsI5VKMXDgQJw4cQIAkJmZCYVCodTG3d0dfn5+YpuTJ09CJpOJRRcA9OnTBzKZTKmNn5+fWHQBQFhYGORyOTIzM+uMVy6Xo7i4WGkBAAUAhSA0uFhZWzS4KAAoJBIoKiqgUCia9QLA4DGY2sJj1rRjpq5jx45h1KhRcHd3h0Qiwe7du5W2cygEERlak2euFwQBc+bMQb9+/eDn5wcAyM/PBwC4uroqtXV1dcXt27fFNjY2NmjdunWtNjXvz8/Ph4uLS63PdHFxUWrz/Oe0bt0aNjY2YpvnLVu2DIsWLaq1/oitLewEocHv+/pb3RvcfgAAbG2B48cbbNdcpKenGzoEk8NjprqnT5826X2lpaXo1q0b3nvvPfz2t7+ttb1mKERiYiI6deqEJUuWYOjQocjOzoajoyOA6qEQe/fuRUpKCpydnTF37lyMHDkSmZmZsLS0BFA9FOLu3bviVYDJkycjMjISe/fuBfC/oRBt27bF8ePH8fDhQ0yYMAGCIGDt2rVN+m5E1Dw0ufCaMWMGLl68iON1FBoSiUTptSAItdY97/k2dbVvSptnzZ8/H3PmzBFfFxcXw8PDA4PLyuBsb99gfDO2n29wewuFHB+HeAFjxwLN+DKnQqFAeno6hg4dCmtra0OHYxJ4zNT38OHDJr1v+PDhGD58eJ3bOBTCNHWYt5+XG6lZaVLhNXPmTOzZswfHjh1D+/btxfVubm4Aqnuj2rVrJ64vKCgQe6fc3NxQXl6OwsJCpV6vgoIC9O3bV2zzyy+/1PrcBw8eKO3n9OnTStsLCwuhUChq9YTVkEqlkEqltdZbA7BupDCsUFQ1uL1SUYm4nT9i6bhxgBn842ptbc0iQk08ZqrTxXFqbCjElClTGh0KERYW1uhQCB8fn0aHQgwePFjr3685Y/FFzYlahZcgCJg5cyZ27dqFo0ePomPHjkrbO3bsCDc3N6Snp6N79+pLc+Xl5cjIyMDy5csBAAEBAbC2tkZ6ejoiIiIAAHl5ebh06RJWrFgBAAgKCkJRURHOnDmD3r17AwBOnz6NoqIisTgLCgrC0qVLkZeXJxZ5aWlpkEqlCAgIaOrx0Jh/3CH8uDrCYJ9PRHUz9qEQQPX4MrlcLr5+fhyqxiQSoKICUGEMndRSC5+nRT4L9uFSXFij7Z4dU0mq4TFTnybHSq3Ca/r06di2bRv+/e9/w9HRUUwgMpkMtra2kEgkiImJQXx8PLy9veHt7Y34+HjY2dlh/PjxYtvo6GjMnTsXzs7OcHJyQmxsLPz9/cWu/S5dumDYsGGYNGkSNm7cCKB6DMXIkSPh4+MDAAgNDYWvry8iIyOxcuVKPHr0CLGxsZg0aRK78YmoXsY6FALQbBxqo2xt1RqHuqK3Zh+nCwcOHFC5LcdUqo/HTHVNHYcKqFl4bdiwAQAwaNAgpfUJCQmIiooCALz//vsoKyvDtGnTUFhYiMDAQKSlpYkDVwFg9erVsLKyQkREBMrKyjBkyBAkJiaKA1cBYOvWrZg1a5bY5R8eHo5169aJ2y0tLbF//35MmzYNwcHBsLW1xfjx4/Hxxx+rdQB0gd3iRMbH2IdCAJqNQ23U06fA48cqjUP1izuk2WfpWEM9XxxTqT4eM/U1dRwq0IRLjY2RSCSIi4tDXFxcvW1atGiBtWvXNnh3j5OTE5KTkxv8LE9PT+zbt6/RmAyBxReRcTGFoRCajENViSAAVlYNjkOtnj9LC5+lQ6oUBxxTqT4eM9VpcpyafFcjEZGxKSkpwY0bN8TXOTk5yMrKgpOTEzw9PTkUgogMjoUXETUb586dU7pjsOay3YQJE5CYmMihEM0EryiQKWPhpUNMDkT6NWjQoAaHRHAoRPPB/EqmSqNHBhERERGR6lh46ZihHzRLRNRcMb+SKWLhRURERKQnLLyIiAgAe5CI9IGFlx4wmRER6QbzK5kaFl56wuRARERELLz0iMUXERkrU85PHebtFxciY8fCS8+YHIjI2DAnEekPCy8iImo2jP0B30QsvAyEZ5hEZAyYi4j0i4UXERE1O+z5ImPFwouIiJot9uiRseFDsg2oJiHwQa9EpG/mUJCYw3ck08MeLyIiIiI9YeFlBHhWRkREZB5YeBkJFl9EpC/MN0SGw8LLiDAZEhFpH2e2J2PCwouIyIz4c5oFIoNi4WVkeEZGRETUfLHwIiIis8ITXDIkFl5GiEmBiHRhwa5Lhg7B4GryK/MsGQoLLyPFpEBERNT8sPAyYiy+iIh0h3c6kiGw8DJyTAxERLrFHEv6pHbhdezYMYwaNQru7u6QSCTYvXu30nZBEBAXFwd3d3fY2tpi0KBBuHz5slIbuVyOmTNnok2bNrC3t0d4eDju3r2r1KawsBCRkZGQyWSQyWSIjIzE48ePldrk5uZi1KhRsLe3R5s2bTBr1iyUl5er+5WIiIiI9ELtwqu0tBTdunXDunXr6ty+YsUKfPLJJ1i3bh3Onj0LNzc3DB06FE+ePBHbxMTEYNeuXUhJScHx48dRUlKCkSNHorKyUmwzfvx4ZGVlITU1FampqcjKykJkZKS4vbKyEiNGjEBpaSmOHz+OlJQU7NixA3PnzlX3K5kEnpERaS4uLg4SiURpcXNzE7fr88SRjAtzLOmL2oXX8OHDsWTJEowZM6bWNkEQsGbNGixYsABjxoyBn58fkpKS8PTpU2zbtg0AUFRUhM2bN2PVqlUICQlB9+7dkZycjB9//BGHDx8GAFy9ehWpqan44osvEBQUhKCgIGzatAn79u1DdnY2ACAtLQ1XrlxBcnIyunfvjpCQEKxatQqbNm1CcXGxJsfEaDExEGmua9euyMvLE5cff/xR3KavE0cyTsyxpA9W2txZTk4O8vPzERoaKq6TSqUYOHAgTpw4gSlTpiAzMxMKhUKpjbu7O/z8/HDixAmEhYXh5MmTkMlkCAwMFNv06dMHMpkMJ06cgI+PD06ePAk/Pz+4u7uLbcLCwiCXy5GZmYnBgwfXik8ul0Mul4uvawo0BQCFIDT43aysG65RLWEJiwpLSC2BcsuG96UJnwX7cCkuTGf7b4xCoVD6kxrHY6Y+XR4rKysrpV6uGs+fOAJAUlISXF1dsW3bNkyZMkU8cfzqq68QEhICAEhOToaHhwcOHz6MsLAw8cTx1KlTYg7btGkTgoKCkJ2dDR8fH519NyIyflotvPLz8wEArq6uSutdXV1x+/ZtsY2NjQ1at25dq03N+/Pz8+Hi4lJr/y4uLkptnv+c1q1bw8bGRmzzvGXLlmHRokW11h+xtYVdI4XX6291b3B7jZ4AgMpGWmnmwIEDOt2/KtLT0w0dgsnhMVPd06dPdbbv69evw93dHVKpFIGBgYiPj8eLL76o1xNHMl41vV63/jbCwJFQc6XVwquGRCJRei0IQq11z3u+TV3tm9LmWfPnz8ecOXPE18XFxfDw8MDgsjI429s3GN+M7ecb3N5CIUfLslIc7NIPT6R2DbbVFkP0fCkUCqSnp2Po0KGwtrbW++ebIh4z9T18+FAn+w0MDMSXX36JTp064ZdffsGSJUvQt29fXL58Wa8njvXRpFdeFRbWuu+VNzSphaD0Z1PVXF3wiztk0KsM+sBeefVpcqy0WnjVdN/n5+ejXbt24vqCggIxmbm5uaG8vByFhYVKyaugoAB9+/YV2/zyyy+19v/gwQOl/Zw+fVppe2FhIRQKRa3EWUMqlUIqldZabw3AupHCsEJR1eD2SkUlqhSVkFcC8sqG96UthvxH3NramkWEmnjMVKer4zR8+HDx7/7+/ggKCsJLL72EpKQk9OnTB4D+ThzrokmvfKNsbdFz8hC99Mobg496NpyzVXHgwAGs6G0cVxn0gb3yqtOkV16rhVfHjh3h5uaG9PR0dO9efWmuvLwcGRkZWL58OQAgICAA1tbWSE9PR0REBAAgLy8Ply5dwooVKwAAQUFBKCoqwpkzZ9C7d28AwOnTp1FUVCQWZ0FBQVi6dCny8vLEIi8tLQ1SqRQBAQHa/FpE1EzZ29vD398f169fx+jRowHo58SxPpr0yjfq6VMs/uqEXnvlDUFqIeCjnlX48JwF5FXaOQk2hx4v9sqrR5NeebULr5KSEty4cUN8nZOTg6ysLDg5OcHT0xMxMTGIj4+Ht7c3vL29ER8fDzs7O4wfPx4AIJPJEB0djblz58LZ2RlOTk6IjY2Fv7+/OFi1S5cuGDZsGCZNmoSNGzcCACZPnoyRI0eK4yNCQ0Ph6+uLyMhIrFy5Eo8ePUJsbCwmTZqEli1bNvmAmBKORSDSjFwux9WrV9G/f3+9njjWR5NeeVXou1fekORVEq19T+8P0wA0/1zLXnnVaXKc1C68zp07p3THYM3Z2YQJE5CYmIj3338fZWVlmDZtGgoLCxEYGIi0tDQ4OjqK71m9ejWsrKwQERGBsrIyDBkyBImJibC0tBTbbN26FbNmzRIHsYaHhyvNHWZpaYn9+/dj2rRpCA4Ohq2tLcaPH4+PP/5Y/aNg4liAEakmNjYWo0aNgqenJwoKCrBkyRIUFxdjwoQJkEgkejtxJCLzpXbhNWjQIAgNjDWQSCSIi4tDXFxcvW1atGiBtWvXYu3atfW2cXJyQnJycoOxeHp6Yt++fY3GTEQEAHfv3sW4cePwn//8B23btkWfPn1w6tQpeHl5AYDeThzJNHWYt58nuKQxndzVSIbBpEDUsJSUlAa36/PEkUzTs5OsMt9SU/Ah2c0MZ14mIiIyXuzxaoZ4RkZEpHscX0tNwR4vIiIiDXSYt59XG0hl7PFq5tj7RUREZDzY42VGeFZGRKQ7zK+kChZeZooJgohId5hjqT4svMxQTUJgYiAi0q66riww19KzWHiZOSYEIiLd4PAOqgsLL2JyICLSA+ZZAlh40TNYgBER6cazQzyYZ80bCy+qhYmBiEi3mGPNFwsvqldNAcYEQUSkfcyt5okTqJJK+ABuIiLte774Yp5t/tjjpYLopLOGDsEodJi3H35xhwAAfnGHeLZGRKRlzKvNHwsv0giTBBGRdnGYR/PGwos0xgRBRKQbnPC6+eEYL9IajlUgItK+uoov5lfTxcKLdKauMzQmCyIizdXkV+ZU08PCi/SKZ2xERNrDKw2mh4UXGQx7xIiItI/T/xg3Fl5kVBobQMpkQkRUv/oG49/62wgWZEaChReZlIZ6yZhUiIjq1lBBRvrFwotM3rOJRJ1brplwiMjcdZi3H1JLASt6V0+MLa+UAGB+1CUWXmS2VC3SmICIyNxwDK7usPAiakRTJi58NkH5xR3Cit7ajIiISP84Blc7WHgR6cCzCUpqWf3ns934DakZBNtYGyIiY6JK3np2LK65jss1+cJr/fr1WLlyJfLy8tC1a1esWbMG/fv3N3RYRE2mSg+bIR4fYo4JUhuYo4iq1TXAv7FLms1x7keTLry+/vprxMTEYP369QgODsbGjRsxfPhwXLlyBZ6enoYOj6hZ0WexZ1VRqrfP0iXmKCL11ZdrVMlBjV0xMIbizaQLr08++QTR0dH4/e9/DwBYs2YNDh06hA0bNmDZsmUGjo6IzB1zFJF+NVacaesEUpOTQ5MtvMrLy5GZmYl58+YprQ8NDcWJEyfqfI9cLodcLhdfFxUVAQAePX7c4GdZK0oajceyohwKVMKq4imsLBttbrKsqgQ8fVoFK4UFKqsaH69EPGZNYaWoTmqCIBg4kqbTZ45SiVzOHEV14jFTn0Y5SjBR9+7dEwAIP/zwg9L6pUuXCp06darzPQsXLhQAcOHCxUSWmzdv6iOd6ARzFBcuzX9pSo4y2R6vGhKJcnUuCEKtdTXmz5+POXPmiK8fP34MLy8v5ObmQiaT6TTO5qK4uBgeHh64c+cOWrZsaehwTAKPmfqKiorg6ekJJycnQ4eiMeYo/eLvTX08ZurTJEeZbOHVpk0bWFpaIj8/X2l9QUEBXF1d63yPVCqFVCpVer1w4UK4uLgoraf61Ryztm3b8pipiMdMfTXHzNbW1tChNBlzlGHw96Y+HjP1aZKjJIJguoMoAgMDERAQgPXr14vrfH198cYbb3DgKhEZHHMUET3PZHu8AGDOnDmIjIxEz549ERQUhM8//xy5ubmYOnWqoUMjImKOIqJaLAwdgCbefPNNrFmzBosXL8arr76KY8eO4cCBA/Dy8lLp/evXr0fHjh3RokULBAQE4Pvvv9dxxKZr2bJl6NWrFxwdHeHi4oLRo0cjOzvb0GGZjGXLlkEikSAmJsbQoRi9e/fu4Z133oGzszPs7Ozw6quvIjMz09BhNYkmOYr5SXXMT5pjjlKNNvKTSRdeADBt2jTcunULcrkcmZmZGDBggErvq5nYcMGCBbhw4QL69++P4cOHIzc3V8cRm6aMjAxMnz4dp06dQnp6OioqKhAaGorS0uYx0aUunT17Fp9//jleeeUVQ4di9AoLCxEcHAxra2scPHgQV65cwapVq9CqVStDh9ZkTclRzE/qYX7SDHOUarSWn9S+D7KZ6N27tzB16lSldZ07dxbmzZtnoIhMS0FBgQBAyMjIMHQoRu3JkyeCt7e3kJ6eLgwcOFCYPXu2oUMyan/+85+Ffv36GToMg2N+0gzzk+qYo1Snrfxk8j1eTVEzsWFoaKjS+oYmNiRlNRM7Nofb/XVp+vTpGDFiBEJCQgwdiknYs2cPevbsibFjx8LFxQXdu3fHpk2bDB2WXjE/aY75SXXMUarTVn4yy8LrP//5DyorK2vd0u3q6lrr1m+qTRAEzJkzB/369YOfn5+hwzFaKSkpOH/+PO9eU8PPP/+MDRs2wNvbG4cOHcLUqVMxa9YsfPnll4YOTW+YnzTD/KQ65ij1aCs/mfRdjZpSZ2JD+p8ZM2bg4sWLOH78uKFDMVp37tzB7NmzkZaWhhYtWhg6HJNRVVWFnj17Ij4+HgDQvXt3XL58GRs2bMC7775r4Oj0i/mpaZifVMMcpT5t5Sez7PFqysSGVG3mzJnYs2cPjhw5gvbt2xs6HKOVmZmJgoICBAQEwMrKClZWVsjIyMCnn34KKysrVFZWGjpEo9SuXTv4+voqrevSpYtZDSpnfmo65ifVMUepT1v5ySwLLxsbGwQEBCA9PV1pfXp6Ovr27WugqIybIAiYMWMGdu7cie+++w4dO3Y0dEhGbciQIfjxxx+RlZUlLj179sTbb7+NrKwsWFo246cUayA4OLjWNAA//fSTylPENAfMT+pjflIfc5T6tJafNB6eb6JSUlIEa2trYfPmzcKVK1eEmJgYwd7eXrh165ahQzNKf/jDHwSZTCYcPXpUyMvLE5enT58aOjSTwTuGGnfmzBnByspKWLp0qXD9+nVh69atgp2dnZCcnGzo0PSK+Uk9zE/awRzVMG3lJ7MtvARBED777DPBy8tLsLGxEXr06MFbjxuAep7MnpCQYOjQTAaTmmr27t0r+Pn5CVKpVOjcubPw+eefGzokg2B+Uh3zk3YwRzVOG/nJpJ/VSERERGRKzHKMFxEREZEhsPAiIiIi0hMWXkRERER6wsKLiIiISE9YeBERERHpCQsv0opBgwYhJibG0GE0WVxcHCQSCSQSCdasWWOwOG7duiXG8eqrrxosDiJTV/NbysrKMnQoOmNM+WLQoEFiLM35mGsDCy8zFxUVhdGjRyut+9e//oUWLVpgxYoVhgmqER06dBB/4HZ2dvDz88PGjRsBKP/461o6dOhQ7367du2KvLw8TJ48WWn9hQsX8Oabb6Jdu3aQSqXw8vLCyJEjsXfvXqg6G8uoUaMQEhJS57aTJ09CIpHg/Pnz8PDwQF5eHubOnavawSAycbrKQTW/JWN5UPazJ3eWlpbw8PDA73//ezx48ACJiYkN5i2JRIKjR4/Wu+/Dhw/j22+/VVpXXFyMDz/8EF27doWtrS2cnZ3Rq1cvrFixAoWFhSrFvGPHDlhaWtb7SJzOnTtj1qxZAICdO3fizJkzqh0MM2fWD8mm2r744gtMnz4dn332GX7/+98bOpx6LV68GJMmTUJJSQkSExMxdepUtGrVCjt37kR5eTmA6ofA9u7dG4cPH0bXrl0BoMHHYFhZWcHNzU1p3b///W9EREQgJCQESUlJeOmll/Dw4UNcvHgRH3zwAfr3749WrVo1Gm90dDTGjBmD27dv13q8xJYtW/Dqq6+iR48eAAA3Nzc4ODiocziImg1t5SBLS8tav2dD69q1Kw4fPozKykpcuHAB0dHRuHfvHnbu3Ilhw4aJ7caMGQM/Pz8sXrxYXOfk5FTvfp2dneHs7Cy+fvToEfr164fi4mJ89NFHCAgIgI2NDW7cuIFt27Zh27ZtmD59eqPxhoeHw9nZGUlJSfjwww+Vtv3www/Izs7G119/LcZXXFys8rEwa9qe1ZVMy4QJE4Q33nhDEARBWL58uSCVSoV//etfdbaJi4sT2rZtKzg6OgqTJ08W5HK52Ob5GY8BCLt27VLaj0wmE2eSlsvlwvTp0wU3NzdBKpUKXl5eQnx8vEoxe3l5CatXr1Za5+3tLbz11ltK63JycgQAwoULFxrd58KFC4Vu3boprSspKRGcnZ2F3/zmN/W+r6qqSvz75cuXheHDhwv29vaCi4uL8M477wgPHjwQBEEQFAqF4OrqKsTFxSm9v7S0VHB0dBTWrl3baDxEzZE6OWjp0qWCi4uLIJPJhLi4OEGhUAixsbFC69athRdeeEHYvHmz+J7nf/9HjhwRAAiHDx8WAgICBFtbWyEoKEi4du1anbHUmD17tjBw4EDx9TfffCP4+fkJLVq0EJycnIQhQ4YIJSUljX7Pun7TS5YsESwsLGo92kjVGeTry3FTpkwR7O3thbt379b5vmfzllwuF/70pz8J7u7ugp2dndC7d2/hyJEj4vY5c+YIL774otJ7BEEQJk6cKAQEBKgUDynjpUYCAMybNw8fffQR9u3bh9/+9re1tn/77be4evUqjhw5gu3bt2PXrl1YtGhRkz/v008/xZ49e/DPf/4T2dnZSE5ObvAyYGNatGgBhULR5PfXJS0tDQ8fPsT7779fbxuJRAIAyMvLw8CBA/Hqq6/i3LlzSE1NxS+//IKIiAgA1b1p7777LhITE5UuT37zzTcoLy/H22+/rdXYiUxNYznou+++w/3793Hs2DF88skniIuLw8iRI9G6dWucPn0aU6dOxdSpU3Hnzp0GP2fBggVYtWoVzp07BysrK0ycOFHlGPPy8jBu3DhMnDgRV69exdGjRzFmzBiVhxw8z9bWFlVVVaioqGjS++tSVVWFr7/+Gu+88w5eeOGFOtvU5C0AeO+99/DDDz8gJSUFFy9exNixYzFs2DBcv34dQHVv/c8//4yMjAzxPaWlpfjnP/+J6OhorcVtTlh4EQ4ePIjly5fj3//+d73jkGxsbLBlyxZ07doVI0aMwOLFi/Hpp5+iqqqqSZ+Zm5sLb29v9OvXD15eXujXrx/GjRun9n4qKiqQmJiIH3/8EUOGDGlSLPX56aefAAA+Pj7iurNnz8LBwUFc9u3bBwDYsGEDevTogfj4eHTu3Bndu3fHli1bcOTIEXE/EydOxK1bt5TGamzZsgVjxoxB69attRo7kSlRJQc5OTnh008/hY+PDyZOnAgfHx88ffoUf/nLX+Dt7Y358+fDxsYGP/zwQ4OftXTpUgwcOBC+vr6YN28eTpw4gV9//VWlOPPy8lBRUYExY8agQ4cO8Pf3x7Rp05o0NODatWvYsGEDevfuDUdHR7XfX58HDx7g8ePHSnkLAAICAsS8VZNrb968ie3bt+Obb75B//798dJLLyE2Nhb9+vVDQkICAMDX1xeBgYHiawD45z//icrKyiblbGLhRQBeeeUVdOjQAX/961/x5MmTOtt069YNdnZ24uugoCCUlJQ0enZZn6ioKGRlZcHHxwezZs1CWlqaWu//85//DAcHB9ja2mL69On405/+hClTpjQpFnW88soryMrKQlZWFkpLS8Uz1czMTBw5ckSpKOvcuTOA6uQGVA9E7du3L7Zs2SKu//7779U64yZqjlTJQV27doWFxf/+yXJ1dYW/v7/42tLSEs7OzigoKGj0s2q0a9cOABp9T41u3bphyJAh8Pf3x9ixY7Fp0yaVB6oDwI8//ijmLV9fX3h4eGDr1q0qv18dz/ZqAcCuXbuQlZWFsLAwlJWVAQDOnz8PQRDQqVMnpdyVkZEh5i2gutfrX//6l/jfpuaEUZXxrVQbCy/CCy+8gIyMDOTl5WHYsGH1Jr66PP/jfnb9893vz14K7NGjB3JycvDRRx+hrKwMERER+N3vfqfy5/7pT39CVlYWbt++jZKSEqxYsUIpKWuDt7c3ACA7O1tcJ5VK8fLLL+Pll19WaltVVYVRo0aJRVnNcv36dQwYMEBsFx0djR07dqC4uBgJCQnw8vLSek8dkalRJQdZW1srvZZIJHWua6wX/tn31OSvmvdYWFg0mLcsLS2Rnp6OgwcPwtfXF2vXroWPjw9ycnJU+JbVvedZWVm4cuUKysrK8N1339XKJZpq27YtWrVqhWvXrimt9/T0xMsvv6zUu1ZVVQVLS0tkZmYq5a2rV6/i73//u9jurbfegkQiwddff40bN27g+PHjvMyoARZeBKD6R5mRkYGCggKEhobWujvl//7v/8SzJAA4deoUHBwc0L59+zr317ZtW+Tl5Ymvr1+/jqdPnyq1admyJd58801s2rQJX3/9NXbs2IFHjx6pFG+bNm3w8ssvw93dvd7iT1OhoaFwcnLC8uXLG23bo0cPXL58GR06dBALs5rF3t5ebBcREQFLS0ts27YNSUlJeO+993QWP5EpaSwH6cPzeQtArTmpJBIJgoODsWjRIly4cAE2NjbYtWuXSvu3sbHByy+/jI4dO0IqlWorbCUWFhaIiIhAcnIy7t2712Db7t27o7KyEgUFBbXy1rN3hDo6OmLs2LFISEjAli1b8OKLL2LQoEE6id8csPAiUfv27XH06FE8fPgQoaGhKCoqEreVl5cjOjoaV65cwcGDB7Fw4ULMmDGj3l6m1157DevWrcP58+dx7tw5TJ06VelMc/Xq1UhJScG1a9fw008/4ZtvvoGbm5tRdV07ODjgiy++wP79+zFixAgcOnQIP//8My5evCjOL1QzPcX06dPx6NEjjBs3DmfOnMHPP/+MtLQ0TJw4EZWVlUr7fPPNN/GXv/wF9+/fR1RUlCG+GpFRaigH6cNrr72Gc+fO4csvv8T169excOFCXLp0Sdx++vRpxMfH49y5c8jNzcXOnTvx4MEDdOnSRa9xNiY+Ph4vvPACAgMDsWXLFly8eBE3b97Erl27cPLkSTFvderUCW+//Tbeffdd7Ny5Ezk5OTh79iyWL1+OAwcOKO0zOjoaJ06cwIYNGzBx4kSeMGqAhRcpqenyf/z4MYYOHYrHjx8DAIYMGQJvb28MGDAAERERGDVqFOLi4urdz6pVq+Dh4YEBAwZg/PjxiI2NVRoj5uDggOXLl6Nnz57o1asXbt26hQMHDmj9cqGmfvOb3+DEiROws7PDu+++Cx8fH7z22mv47rvvkJKSgpEjRwIA3N3d8cMPP6CyshJhYWHw8/PD7NmzIZPJan2n6OhoFBYWIiQkBJ6enob4WkRGq74cpA9hYWH48MMP8f7776NXr1548uQJ3n33XXF7y5YtcezYMbz++uvo1KkTPvjgA6xatQrDhw/XW4yqcHZ2xpkzZ/Duu+9i5cqV6N27N/z9/REXFydeZaiRkJCAd999F3PnzoWPjw/Cw8Nx+vRpeHh4KO2zX79+8PHxQXFxMSZMmKDvr9SsSISm3gdLZiMqKgqPHz/G7t27DR2KzsTFxWH37t1G86gLY4uHiIzPrVu30LFjR1y4cMHgjwwyxniMlXF1LxAZUM0dR+vXrzdYDLm5uXBwcEB8fLzBYiAi09K3b1/07dvXoDEMHz5cfEIINYw9XtQoffZ4bd26td5pIby8vHD58mWdfO6jR4/Egf1t27aFTCbTyec0pqKiArdu3QJQfQfl8939RGScGprL6+DBg+jfv7/WP9OY8sW9e/fEG7A8PT1hY2NjsFiMHQsvMipPnjzBL7/8Uuc2a2vrWs85JCIyBjdu3Kh32wsvvABbW1s9RkPGjIUXERERkZ5wjBcRERGRnrDwIiIiItITFl5EREREesLCi4iIiEhPWHgRERER6QkLLyIiIiI9YeFFREREpCcsvIiIiIj05P8BHMqf+lDl0dUAAAAASUVORK5CYII=\n",
      "text/plain": [
       "<Figure size 600x300 with 4 Axes>"
      ]
     },
     "metadata": {},
     "output_type": "display_data"
    }
   ],
   "source": [
    "variables_to_plot = [\n",
    "    ('muminus_PT', [0, 6000], mu_minus_PT_threshold),\n",
    "    ('muplus_PT', [0, 6000], mu_plus_PT_threshold),\n",
    "    ('Kplus_PT', [0, 6000], K_plus_PT_threshold),\n",
    "    ('Kminus_PT', [0, 6000], K_minus_PT_threshold)\n",
    "]\n",
    "\n",
    "rows = int(np.ceil(len(variables_to_plot) / 2))\n",
    "fig, axs = plt.subplots(rows, 2, figsize=(6, rows + 1))\n",
    "axs = axs.flatten()\n",
    "for i, (variable_name, range_, threshold) in enumerate(variables_to_plot):\n",
    "    ax = axs[i]\n",
    "    x_scale_factor = 1e3\n",
    "    range_ = np.array(range_) / x_scale_factor\n",
    "    ax.hist(data_frame.loc[:, variable_name] / x_scale_factor, bins='auto', range=range_)\n",
    "    ax.axvspan(0, threshold / 1e3, color='r', alpha=0.3)\n",
    "    ax.set_xlabel(variable_name + \" [GeV]\")\n",
    "    ax.set_xlim(range_)\n",
    "\n",
    "plt.tight_layout(pad=0.5)\n",
    "plt.show()\n"
   ]
  },
  {
   "cell_type": "markdown",
   "metadata": {
    "colab_type": "text",
    "id": "S6Zm5n-99b2O"
   },
   "source": [
    "### PID inconsistencies"
   ]
  },
  {
   "cell_type": "markdown",
   "metadata": {
    "colab_type": "text",
    "id": "uysnOP8X9e6u"
   },
   "source": [
    "PID inconsistencies were removed as follows:\n",
    "* `K_plus_PIDK` $<5$ were removed\n",
    "* `K_minus_PIDK` $<5$ were removed\n",
    "* `mu_plus_PIDmu` $<3$ were removed\n",
    "* `mu_minus_PIDmu` $<3$ were removed"
   ]
  },
  {
   "cell_type": "markdown",
   "metadata": {
    "colab": {
     "base_uri": "https://localhost:8080/",
     "height": 322
    },
    "colab_type": "code",
    "id": "ATvHhfWi9ikK",
    "outputId": "6bfebcbd-4c02-4b3c-c801-702fb03586c1"
   },
   "source": [
    "mu_minus_PIDmu_threshold=3\n",
    "mu_plus_PIDmu_threshold=3\n",
    "K_minus_PIDK_threshold=5\n",
    "K_plus_PIDK_threshold=5\n",
    "\n",
    "\n",
    "variables_to_plot = [\n",
    "    ('muminus_PIDmu_corr', [0, 15], mu_minus_PIDmu_threshold),\n",
    "    ('muplus_PIDmu_corr', [0, 15], mu_plus_PIDmu_threshold),\n",
    "    ('Kminus_PIDK_corr', [0, 120], K_minus_PIDK_threshold),\n",
    "    ('Kplus_PIDK_corr', [0, 120], K_plus_PIDK_threshold)\n",
    "]\n",
    "\n",
    "rows = int(np.ceil(len(variables_to_plot) / 2))\n",
    "fig, axs = plt.subplots(rows, 2, figsize=(6, rows + 1))\n",
    "axs = axs.flatten()\n",
    "for i, (variable_name, range_, threshold) in enumerate(variables_to_plot):\n",
    "    ax = axs[i]\n",
    "    range_ = np.array(range_)\n",
    "    ax.hist(data_frame.loc[:, variable_name], bins='auto', range=range_)\n",
    "    ax.axvspan(0, threshold, color='r', alpha=0.3)\n",
    "    ax.set_xlabel(variable_name)\n",
    "    ax.set_xlim(range_)\n",
    "\n",
    "plt.tight_layout(pad=0.5)\n",
    "plt.show()\n"
   ]
  },
  {
   "cell_type": "code",
   "execution_count": 20,
   "metadata": {
    "colab": {
     "base_uri": "https://localhost:8080/",
     "height": 69
    },
    "colab_type": "code",
    "id": "P6_hGTgX-FoN",
    "outputId": "88b83582-791e-4c5c-c8ee-178ee9c318a6"
   },
   "outputs": [
    {
     "name": "stderr",
     "output_type": "stream",
     "text": [
      "INFO:CuttingMonitor:Applying cuts: Inconsistencies\n",
      "INFO:CuttingMonitor:\tInitial length: 1050431\n",
      "INFO:CuttingMonitor:\tLength after cut: 363014 (34.559% kept)\n"
     ]
    }
   ],
   "source": [
    "def apply_inconsistencies_cuts(data_frame, apply_PID_cuts=False):\n",
    "    data_frame = data_frame.loc[data_frame['muminus_PT'] > mu_minus_PT_threshold]\n",
    "    data_frame = data_frame.loc[data_frame['muplus_PT'] > mu_plus_PT_threshold]\n",
    "    data_frame = data_frame.loc[data_frame['Kminus_PT'] > K_minus_PT_threshold]\n",
    "    data_frame = data_frame.loc[data_frame['Kplus_PT'] > K_plus_PT_threshold]\n",
    "    if apply_PID_cuts:\n",
    "        data_frame = data_frame.loc[data_frame['muminus_PIDmu'] > mu_minus_PIDmu_threshold]\n",
    "        data_frame = data_frame.loc[data_frame['muplus_PIDmu'] > mu_plus_PIDmu_threshold]\n",
    "        data_frame = data_frame.loc[data_frame['Kplus_PIDK'] > K_plus_PIDK_threshold]\n",
    "        data_frame = data_frame.loc[data_frame['Kminus_PIDK'] > K_minus_PIDK_threshold]\n",
    "    return data_frame\n",
    "\n",
    "data_frame = apply_cuts('Inconsistencies', data_frame, apply_inconsistencies_cuts)\n"
   ]
  },
  {
   "cell_type": "markdown",
   "metadata": {},
   "source": [
    "Plot the $KK \\mu \\mu$ spectrum after these preliminary cuts:"
   ]
  },
  {
   "cell_type": "code",
   "execution_count": 21,
   "metadata": {},
   "outputs": [
    {
     "data": {
      "image/png": "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\n",
      "text/plain": [
       "<Figure size 600x300 with 1 Axes>"
      ]
     },
     "metadata": {},
     "output_type": "display_data"
    }
   ],
   "source": [
    "plt.figure(figsize=(6, 3))\n",
    "Bs_mass_range = (3000, 7000)\n",
    "plt.hist(data_frame['Bs_M'], bins='auto', range=Bs_mass_range)\n",
    "\n",
    "plt.xlabel('$m_{B_s}$')\n",
    "plt.xlim(Bs_mass_range)\n",
    "#plt.legend()\n",
    "plt.tight_layout(pad=0.5)\n",
    "\n",
    "plt.show()"
   ]
  },
  {
   "cell_type": "markdown",
   "metadata": {
    "colab_type": "text",
    "id": "okG1vCgO-Q_x"
   },
   "source": [
    "## Comparisons between background proxy and signal region"
   ]
  },
  {
   "cell_type": "markdown",
   "metadata": {
    "colab_type": "text",
    "id": "-KqsEq-1-SeU"
   },
   "source": [
    "Attributes of the $J/\\psi$ data were compared with attributes of the background.\n",
    "Attributes consisted of\n",
    "1. PID cuts\n",
    "2. IP cuts\n",
    "3. Isolation angle cuts\n",
    "4. $\\chi^2$ cuts\n",
    "\n",
    "These have only been observed to look for evident cuts that we could do without a Boosted Decision Tree. In the end, we did not perform any cuts not to kill our signal further (SL stripping already harms us significantly)"
   ]
  },
  {
   "cell_type": "markdown",
   "metadata": {
    "colab_type": "text",
    "id": "7cRzDDZq-Ygr"
   },
   "source": [
    "### Defining control and background"
   ]
  },
  {
   "cell_type": "markdown",
   "metadata": {
    "colab_type": "text",
    "id": "G41hGd2_-ZiP"
   },
   "source": [
    "The dimuon mass of the data frame was obtained with `get_mass`. \n",
    "Then the contol data was defined as data with a mass close to the $B_s$ mass and a dimuon mass close to the $J/\\psi$ mass and dikaon mass in $\\phi_3$ region. For our signal region we select $KK \\mu \\mu$ spectrum below 3.75 GeV, since neutrinos take away at least a $\\tau$ mass from the original energy. We also select $KK$ region within $\\phi_3$ and veto $J/\\psi$ and $\\psi(2s)$ region for dimuon spectrum.\n",
    "A plot of the dimuon mass shows a clear peak at the $J/\\psi$ resonance.\n"
   ]
  },
  {
   "cell_type": "code",
   "execution_count": 22,
   "metadata": {
    "colab": {},
    "colab_type": "code",
    "id": "2LxCc17PReGF"
   },
   "outputs": [],
   "source": [
    "particles_associations_mu = [['muplus_P', 'mu'], ['muminus_P', 'mu']]\n",
    "particles_associations_K = [['Kplus_P', 'K'], ['Kminus_P', 'K']]\n",
    "data_frame['dimuon_mass'] = get_mass(data_frame=data_frame, particles_associations=particles_associations_mu)\n",
    "data_frame['dikaon_mass'] = get_mass(data_frame=data_frame, particles_associations=particles_associations_K)"
   ]
  },
  {
   "cell_type": "code",
   "execution_count": 23,
   "metadata": {
    "colab": {
     "base_uri": "https://localhost:8080/",
     "height": 323
    },
    "colab_type": "code",
    "id": "2YuVf2CVCtJK",
    "outputId": "683ef28b-2258-44f4-9576-f0068ba3aa88"
   },
   "outputs": [
    {
     "data": {
      "image/png": "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\n",
      "text/plain": [
       "<Figure size 600x300 with 1 Axes>"
      ]
     },
     "metadata": {},
     "output_type": "display_data"
    }
   ],
   "source": [
    "jpsi_peak_mask = (\n",
    "    (data_frame['jpsi_M'] > 3020) & (data_frame['jpsi_M'] < 3155) & \n",
    "    (data_frame['Bs_M'] > 5200) & (data_frame['Bs_M'] < 5400) & (data_frame['phi3_M'] > 1600) & (data_frame['phi3_M'] < 1820)\n",
    ")\n",
    "background_selection = data_frame.loc[jpsi_peak_mask]\n",
    "\n",
    "plt.figure(figsize=(6, 3))\n",
    "dimuon_mass_range = (500, 4000)\n",
    "plt.hist(background_selection['dimuon_mass'], bins='auto', range=dimuon_mass_range)\n",
    "\n",
    "plt.axvspan(3020, 3155, label=r'$J/\\psi$', color='C1',alpha=0.3)\n",
    "\n",
    "plt.xlabel('$m_{\\mu\\mu}$')\n",
    "plt.xlim(dimuon_mass_range)\n",
    "plt.legend()\n",
    "plt.tight_layout(pad=0.5)\n",
    "plt.show()\n",
    "\n",
    "\n",
    "'''\n",
    "signal_region_mask = (\n",
    "    ((data_frame['jpsi_M'] < 3020) | (data_frame['jpsi_M'] > 3155)) & ((data_frame['jpsi_M']<3536) | (data_frame['jpsi_M']>3873)) &\n",
    "    (data_frame['Bs_M'] > 2500) & (data_frame['Bs_M'] < 3750) & (data_frame['phi_M'] > 1600) & (data_frame['phi_M'] < 1820)\n",
    ")\n",
    "'''\n",
    "\n",
    "signal_region_mask = (\n",
    "    ((data_frame['jpsi_M'] < 3020) | (data_frame['jpsi_M'] > 3155)) & ((data_frame['jpsi_M']<3536) | (data_frame['jpsi_M']>3873)) &\n",
    "    (data_frame['Bs_M'] > 2500) & (data_frame['Bs_M'] < 3750) & (data_frame['phi3_M'] > 1600) & (data_frame['phi3_M'] < 1820)\n",
    ")\n",
    "\n",
    "signal_comparison = data_frame.loc[signal_region_mask]"
   ]
  },
  {
   "cell_type": "code",
   "execution_count": 24,
   "metadata": {
    "colab": {},
    "colab_type": "code",
    "id": "OcuPglIeXeyM"
   },
   "outputs": [],
   "source": [
    "def plot_compare_data(control_data, background_data, histogram_range, columns_to_plot, cut_regions=None, signal_name='signal', bins=50,lower_range=None):\n",
    "    columns = len(columns_to_plot)\n",
    "    fig, axs = plt.subplots(2, columns, figsize=(4 * columns, 4), sharex='col', squeeze=False)\n",
    "    for i, column in enumerate(columns_to_plot):\n",
    "        if lower_range==None:\n",
    "            lower_range=0\n",
    "        if isinstance(histogram_range, int) or isinstance(histogram_range, float):\n",
    "            range_ = (lower_range, histogram_range)\n",
    "        else:\n",
    "            range_ = (0, histogram_range[i])\n",
    "\n",
    "        if isinstance(column, str):\n",
    "            _control_data = control_data[column]\n",
    "            _background_data = background_data[column]\n",
    "            _title = column\n",
    "        else:\n",
    "            _control_data = control_data[column[0]] - control_data[column[1]]\n",
    "            _background_data = background_data[column[0]] - background_data[column[1]]\n",
    "            _title = column[0] + ' $-$ ' + column[1]\n",
    "        ax1, ax2 = axs[:, i]\n",
    "        ax1.hist(_control_data, bins=bins, range=range_)\n",
    "        ax2.hist(_background_data, bins=bins, range=range_)\n",
    "\n",
    "        if cut_regions:\n",
    "            cut_region = cut_regions[i]\n",
    "            if cut_region[0] == '<':\n",
    "                cut_range = (range_[0], cut_region[1])\n",
    "            elif cut_region[0] == '>':\n",
    "                cut_range = (cut_region[1], range_[1])\n",
    "            else:\n",
    "                raise ValueError(f\"Unknown cut region indicator: {cut_region[0]}.\")\n",
    "            ax1.axvspan(*cut_range, color='r', alpha=0.3)\n",
    "            ax2.axvspan(*cut_range, color='r', alpha=0.3)\n",
    "\n",
    "        ax1.set_title(_title)\n",
    "        ax1.set_xlim(range_)\n",
    "        \n",
    "        if i == 0:\n",
    "            ax1.set_ylabel(signal_name)\n",
    "            ax2.set_ylabel('Background')\n",
    "        \n",
    "    plt.tight_layout(pad=0.5)"
   ]
  },
  {
   "cell_type": "markdown",
   "metadata": {},
   "source": [
    "### PID comparison"
   ]
  },
  {
   "cell_type": "code",
   "execution_count": 25,
   "metadata": {
    "colab": {
     "base_uri": "https://localhost:8080/",
     "height": 193
    },
    "colab_type": "code",
    "id": "6xEzB5SkXUka",
    "outputId": "abf7532c-c4f9-440a-8996-131f16c8cf93"
   },
   "outputs": [
    {
     "data": {
      "image/png": "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\n",
      "text/plain": [
       "<Figure size 2800x400 with 14 Axes>"
      ]
     },
     "metadata": {},
     "output_type": "display_data"
    }
   ],
   "source": [
    "plot_compare_data(\n",
    "    signal_comparison,\n",
    "    background_selection, \n",
    "    histogram_range=[100,100,100,100,100,100,1],\n",
    "    columns_to_plot=[\n",
    "        ['Kminus_RichDLLk', 'Kminus_RichDLLmu'],\n",
    "        ['Kplus_RichDLLk', 'Kplus_RichDLLmu'],\n",
    "        ['Kminus_RichDLLk', 'Kminus_RichDLLp'],\n",
    "        ['Kplus_RichDLLk', 'Kplus_RichDLLp'],\n",
    "        ['Kminus_RichDLLk', 'Kminus_RichDLLd'],\n",
    "        ['Kplus_RichDLLk', 'Kplus_RichDLLd'],\n",
    "        'Kminus_ProbNNk'\n",
    "    ], \n",
    "    cut_regions=[\n",
    "        ('<', 10),\n",
    "        ('<', 10),\n",
    "        ('<', 5),\n",
    "        ('<', 5),\n",
    "        ('<', 5),\n",
    "        ('<', 5),\n",
    "        ('<', 0.2)\n",
    "    ],\n",
    "    signal_name='signal'\n",
    ")\n"
   ]
  },
  {
   "cell_type": "markdown",
   "metadata": {
    "colab_type": "text",
    "id": "7Ez9vmcrnvt9"
   },
   "source": [
    "### IP comparisons"
   ]
  },
  {
   "cell_type": "markdown",
   "metadata": {
    "colab_type": "text",
    "id": "PPeaRNK8n11Z"
   },
   "source": [
    "Comparing the impact parameter $\\chi^2$ of the signal motivates"
   ]
  },
  {
   "cell_type": "markdown",
   "metadata": {
    "colab": {
     "base_uri": "https://localhost:8080/",
     "height": 237
    },
    "colab_type": "code",
    "id": "ANCmv8ivpOLJ",
    "outputId": "800b26cc-8b50-43ff-b4f0-be1a8c66086f"
   },
   "source": [
    "plot_compare_data(\n",
    "    signal_comparison, background_selection, \n",
    "    histogram_range=100,\n",
    "    columns_to_plot=[\n",
    "        'muplus_IPCHI2_OWNPV', \n",
    "        'muminus_IPCHI2_OWNPV', \n",
    "        'Kplus_IPCHI2_OWNPV',\n",
    "        'Kminus_IPCHI2_OWNPV',\n",
    "        'Kminus_MINIPCHI2',\n",
    "        'Kplus_MINIPCHI2',\n",
    "        'muminus_MINIPCHI2',\n",
    "        'muplus_MINIPCHI2',\n",
    "    ], \n",
    "    cut_regions=[\n",
    "      ('<', 36),\n",
    "      ('<', 36),\n",
    "      ('<', 36),\n",
    "      ('<', 36),\n",
    "      ('<', 36),\n",
    "      ('<', 36),\n",
    "      ('<', 36),\n",
    "      ('<', 36)\n",
    "    ],\n",
    "    signal_name='signal'\n",
    ")"
   ]
  },
  {
   "cell_type": "markdown",
   "metadata": {
    "colab_type": "text",
    "id": "yg0xbuP6p_ie"
   },
   "source": [
    "### Isolation angle comparisons"
   ]
  },
  {
   "cell_type": "markdown",
   "metadata": {
    "colab_type": "text",
    "id": "1qgq1uRAqA4C"
   },
   "source": [
    "The background and signal data have different isolation angle distributions."
   ]
  },
  {
   "cell_type": "markdown",
   "metadata": {
    "colab": {
     "base_uri": "https://localhost:8080/",
     "height": 302
    },
    "colab_type": "code",
    "id": "wwUWgftWqbDz",
    "outputId": "106935b1-3406-4bf0-856c-de134feae885"
   },
   "source": [
    "plt.figure(figsize=(6, 3))\n",
    "plt.hist(signal_comparison['Bs_pmu_ISOLATION_BDT1'], bins=50, density=True, label='Signal')\n",
    "plt.hist(background_selection['Bs_pmu_ISOLATION_BDT1'], bins=50, density=True, alpha=0.7, label='Background')\n",
    "xlim = plt.xlim()\n",
    "plt.axvspan(0.15, xlim[1], color='r', alpha=0.2)\n",
    "plt.xlabel('Isolation angle (Probability Distribution)')\n",
    "plt.xlim(xlim)\n",
    "plt.legend()\n",
    "plt.show()\n",
    "\n",
    "\n",
    "BDT1_threshold=-0.21\n",
    "\n",
    "variables_to_plot = [\n",
    "    ('Bs_pmu_ISOLATION_BDT1', BDT1_threshold),\n",
    "]\n"
   ]
  },
  {
   "cell_type": "markdown",
   "metadata": {},
   "source": [
    "### IP of $B_s$"
   ]
  },
  {
   "cell_type": "markdown",
   "metadata": {},
   "source": [
    "We now look at the IP of the $B_s$ and try to use this to discriminate signal and background"
   ]
  },
  {
   "cell_type": "markdown",
   "metadata": {},
   "source": [
    "Bs_IP_OWNPV_threshold=0.04\n",
    "Bs_IPCHI2_OWNPV_threshold=0.32\n",
    "\n",
    "plot_compare_data(\n",
    "    signal_comparison, background_selection, \n",
    "    histogram_range=[0.2,9],\n",
    "    columns_to_plot=[\n",
    "        'Bs_IP_OWNPV', \n",
    "        'Bs_IPCHI2_OWNPV'\n",
    "    ], \n",
    "    cut_regions=[\n",
    "        ('>', Bs_IP_OWNPV_threshold),\n",
    "        ('<', Bs_IPCHI2_OWNPV_threshold),\n",
    "    ],\n",
    "    signal_name='signal'\n",
    ")"
   ]
  },
  {
   "cell_type": "markdown",
   "metadata": {},
   "source": [
    "### DIRA comparison"
   ]
  },
  {
   "cell_type": "markdown",
   "metadata": {},
   "source": [
    "DIRA_OWNPV_threshold=0.999985\n",
    "\n",
    "plot_compare_data(\n",
    "    signal_comparison, background_selection, \n",
    "    histogram_range=1,\n",
    "    columns_to_plot=[\n",
    "        'Bs_DIRA_OWNPV'\n",
    "    ], \n",
    "    cut_regions=[\n",
    "        ('<', DIRA_OWNPV_threshold)\n",
    "    ],\n",
    "    signal_name='signal',\n",
    "    lower_range=0.9999\n",
    ")"
   ]
  },
  {
   "cell_type": "markdown",
   "metadata": {
    "colab_type": "text",
    "id": "2GsjQCZdCF3Q"
   },
   "source": [
    "### Applying all comparisons cuts"
   ]
  },
  {
   "cell_type": "markdown",
   "metadata": {
    "colab_type": "text",
    "id": "7Eo9DtqHCHYH"
   },
   "source": [
    "Basically apart from the isolation angle, there is not much difference between signal and background. It's not worth it to apply any threshold cuts at the moment other than the inconsistencies shown at the beginning."
   ]
  },
  {
   "cell_type": "markdown",
   "metadata": {
    "colab_type": "text",
    "id": "PkXiKPEUD-oZ"
   },
   "source": [
    "# Decay reconstruction"
   ]
  },
  {
   "cell_type": "markdown",
   "metadata": {
    "colab_type": "text",
    "id": "UymXHgiREYjG"
   },
   "source": [
    "## Reloading the Data\n"
   ]
  },
  {
   "cell_type": "markdown",
   "metadata": {
    "colab_type": "text",
    "id": "taJw4a0JFTIv"
   },
   "source": [
    "### Cleaning the $B_s$ data using the cuts defined above."
   ]
  },
  {
   "cell_type": "code",
   "execution_count": 26,
   "metadata": {
    "colab": {},
    "colab_type": "code",
    "id": "F1M1v0O-E75j"
   },
   "outputs": [],
   "source": [
    "from functools import partial\n",
    "\n",
    "def ensure_is_muon(data_frame):\n",
    "    if len(data_frame['muplus_IsMuon'].unique()) & len(data_frame['muminus_IsMuon'].unique()) == 1:\n",
    "        return data_frame\n",
    "    else:\n",
    "        data_frame = data_frame.loc[data_frame['muplus_IsMuon']]\n",
    "        data_frame = data_frame.loc[data_frame['muminus_IsMuon']]\n",
    "        return data_frame\n",
    "\n",
    "def reduce_background(data_frame):\n",
    "    data_frame = apply_cuts('Inconsistencies', data_frame, apply_inconsistencies_cuts)\n",
    "    #data_frame = apply_cuts('Known Decays', data_frame, apply_known_decay_cuts)\n",
    "    #data_frame = apply_cuts('DIRA_L', data_frame, apply_DIRA_cuts_left)\n",
    "    data_frame = apply_cuts('IsMuon', data_frame, ensure_is_muon)\n",
    "    #data_frame = apply_cuts('IP', data_frame, apply_IP_cuts)\n",
    "    #data_frame = apply_cuts('IPB_L', data_frame, apply_IPB_cuts_left)\n",
    "    #data_frame = apply_cuts('PID_L', data_frame, apply_PID_cuts_left)\n",
    "\n",
    "    return data_frame\n"
   ]
  },
  {
   "cell_type": "code",
   "execution_count": 27,
   "metadata": {
    "colab": {
     "base_uri": "https://localhost:8080/",
     "height": 434
    },
    "colab_type": "code",
    "id": "EpWTUZVrhunP",
    "outputId": "6b40cb83-d0ab-49e3-f0ee-f2018e82a478"
   },
   "outputs": [
    {
     "name": "stderr",
     "output_type": "stream",
     "text": [
      "INFO:CuttingMonitor:Applying cuts: Reduce Background\n",
      "INFO:CuttingMonitor:\tInitial length: 1092617\n",
      "INFO:CuttingMonitor:Applying cuts: Inconsistencies\n",
      "INFO:CuttingMonitor:\tInitial length: 1092617\n",
      "INFO:CuttingMonitor:\tLength after cut: 372885 (34.128% kept)\n",
      "INFO:CuttingMonitor:Applying cuts: IsMuon\n",
      "INFO:CuttingMonitor:\tInitial length: 372885\n",
      "INFO:CuttingMonitor:\tLength after cut: 372885 (100.000% kept)\n",
      "INFO:CuttingMonitor:\tLength after cut: 372885 (34.128% kept)\n"
     ]
    }
   ],
   "source": [
    "Bs_reduced_data_frame = apply_cuts('Reduce Background', Bs_data.copy(), reduce_background)"
   ]
  },
  {
   "cell_type": "markdown",
   "metadata": {
    "colab_type": "text",
    "id": "5QLlEmQ4OxYz"
   },
   "source": [
    "## Bs Line of Flight"
   ]
  },
  {
   "cell_type": "markdown",
   "metadata": {},
   "source": [
    "Just extrapolating the $B_s$ LoF from the primary and secondary vertex"
   ]
  },
  {
   "cell_type": "code",
   "execution_count": 28,
   "metadata": {
    "colab": {},
    "colab_type": "code",
    "id": "njr71xFudch4"
   },
   "outputs": [
    {
     "name": "stderr",
     "output_type": "stream",
     "text": [
      "<ipython-input-28-902515f2d56b>:2: DeprecationWarning: numpy.core.umath_tests is an internal NumPy module and should not be imported. It will be removed in a future NumPy release.\n",
      "  from numpy.core.umath_tests import inner1d\n"
     ]
    }
   ],
   "source": [
    "from numpy.linalg import solve,norm\n",
    "from numpy.core.umath_tests import inner1d\n",
    "\n",
    "_bs_flight_vars = ['_bs_dx', '_bs_dy', '_bs_dz']\n",
    "\n",
    "# Find B_s flight distance. Should be already in the tuple, now that I think about it, so this might have been quite useless\n",
    "def add_bs_flight(data_frame):\n",
    "    bs_ownpv = data_frame.loc[:, ['Bs_RefPoint_X', 'Bs_RefPoint_Y', 'Bs_RefPoint_Z']] # primary vtx\n",
    "    bs_end = data_frame.loc[:, ['Bs_VX', 'Bs_VY', 'Bs_VZ']] # secondary vtx\n",
    " \n",
    "    bs_ownpv = bs_ownpv.rename(columns=rename_func)\n",
    "    bs_end = bs_end.rename(columns=rename_func)\n",
    "\n",
    "    data_frame[_bs_flight_vars] = bs_end - bs_ownpv\n",
    "    \n",
    "    bs_end=bs_end.to_numpy()\n",
    "    bs_ownpv=bs_ownpv.to_numpy()\n",
    "    \n",
    "    diff=bs_end - bs_ownpv\n",
    "    \n",
    "    mag=np.sum(np.abs(diff)**2,axis=-1)**(1./2)\n",
    "\n",
    "    data_frame['_bs_flight_dist'] = mag \n",
    "    \n",
    "    return data_frame\n"
   ]
  },
  {
   "cell_type": "code",
   "execution_count": 29,
   "metadata": {
    "colab": {},
    "colab_type": "code",
    "id": "0kYrScUJsWqL"
   },
   "outputs": [],
   "source": [
    "_bs_dir_vars = ['_bs_dir_x', '_bs_dir_y', '_bs_dir_z']\n",
    "\n",
    "# just normalizing the direction vector I found before\n",
    "\n",
    "def add_bs_direction(data_frame):\n",
    "    _bs_flight = data_frame.loc[:, _bs_flight_vars]\n",
    "    \n",
    "    direct= _bs_flight.divide((_bs_flight ** 2).sum(axis=1) ** 0.5, axis=0)\n",
    "    data_frame[_bs_dir_vars] = direct\n",
    "    \n",
    "    # adding angle with z-axis in the tuple as well\n",
    "    direct= direct.to_numpy()\n",
    "    z_axis=np.zeros([len(direct[:,0]),3])\n",
    "    ones=np.ones([len(direct[:,0]),1])\n",
    "    z_axis[:,2]=ones[:,0]\n",
    "    dot_prod=inner1d(z_axis,direct)\n",
    "    data_frame['_bs_angle_z'] = np.arccos(np.clip(dot_prod, -1.0, 1.0))\n",
    "    \n",
    "    return data_frame\n"
   ]
  },
  {
   "cell_type": "markdown",
   "metadata": {
    "colab_type": "text",
    "id": "JCCUAsHtcsk6"
   },
   "source": [
    "## Tau decay point\n"
   ]
  },
  {
   "cell_type": "markdown",
   "metadata": {
    "colab_type": "text",
    "id": "luRCsm3Gcxoz"
   },
   "source": [
    "The tau decay point was obtained by \n",
    "1. Defining the line of flight of the $B$\n",
    "2. Defining a line of flight for $\\mu$. This line of flight is obtained from the $\\mu$ reference point and from its momentum\n",
    "3. Finding the closest distance of approach between the $\\mu$ LoF and the $B$ LoF."
   ]
  },
  {
   "cell_type": "code",
   "execution_count": 30,
   "metadata": {},
   "outputs": [],
   "source": [
    "from numpy.core.umath_tests import inner1d\n",
    "\n",
    "_tau_plus_dir_vars = ['_tau_plus_dir_x', '_tau_plus_dir_y', '_tau_plus_dir_z']\n",
    "\n",
    "# here I have called it the \"tau\" direction what is really the muon direction. Very sloppy, aplogies.\n",
    "\n",
    "def add_tau_plus_direction(data_frame):\n",
    "    _tau_plus_mom = data_frame.loc[:, ['muplus_PX', 'muplus_PY', 'muplus_PZ']] # mom of muon at detector\n",
    "    \n",
    "    direct=_tau_plus_mom.divide((_tau_plus_mom ** 2).sum(axis=1) ** 0.5, axis=0) # normalize vector\n",
    "    \n",
    "    data_frame[_tau_plus_dir_vars] = direct # save the direction vector\n",
    "    \n",
    "    # now I evaluated the angle with z-direction. Probably I did it just to visualise stuff in debugging, can't remember. Still, might be useful\n",
    "    direct= direct.to_numpy()\n",
    "    z_axis=np.zeros([len(direct[:,0]),3])\n",
    "    ones=np.ones([len(direct[:,0]),1])\n",
    "    z_axis[:,2]=ones[:,0]\n",
    "    dot_prod=inner1d(z_axis,direct)\n",
    "    data_frame['_mu_plus_angle_z'] = np.arccos(np.clip(dot_prod, -1.0, 1.0))\n",
    "    \n",
    "    return data_frame\n",
    "\n",
    "\n",
    "_tau_minus_dir_vars = ['_tau_minus_dir_x', '_tau_minus_dir_y', '_tau_minus_dir_z']\n",
    "\n",
    "# same as for +\n",
    "\n",
    "def add_tau_minus_direction(data_frame):\n",
    "    _tau_minus_mom = data_frame.loc[:, ['muminus_PX', 'muminus_PY', 'muminus_PZ']]\n",
    "    direct=_tau_minus_mom.divide((_tau_minus_mom ** 2).sum(axis=1) ** 0.5, axis=0)\n",
    "    data_frame[_tau_minus_dir_vars] = direct\n",
    "    direct= direct.to_numpy()\n",
    "    z_axis=np.zeros([len(direct[:,0]),3])\n",
    "    ones=np.ones([len(direct[:,0]),1])\n",
    "    z_axis[:,2]=ones[:,0]\n",
    "    dot_prod=inner1d(z_axis,direct)\n",
    "    data_frame['_mu_minus_angle_z'] = np.arccos(np.clip(dot_prod, -1.0, 1.0))\n",
    "    return data_frame\n",
    "\n",
    "\n",
    "# evaluated the angles between the MUONS (again, sorry) because it could be an extra discriminant between signal and background\n",
    "\n",
    "def add_tau_angle(data_frame):\n",
    "    _tau_minus_dir=data_frame.loc[:,_tau_minus_dir_vars].to_numpy()\n",
    "    _tau_plus_dir=data_frame.loc[:,_tau_plus_dir_vars].to_numpy()\n",
    "    \n",
    "    angle=np.arccos(inner1d(_tau_minus_dir,_tau_plus_dir))\n",
    "    \n",
    "    data_frame['_taus_angle'] = angle\n",
    "    \n",
    "    return data_frame\n",
    "    "
   ]
  },
  {
   "cell_type": "code",
   "execution_count": 31,
   "metadata": {},
   "outputs": [],
   "source": [
    "from numpy.linalg import solve,norm\n",
    "from numpy.core.umath_tests import inner1d\n",
    "\n",
    "\n",
    "_tau_plus_closest_dist = ['_tau_plus_closest_dist']\n",
    "_tau_plus_closest_vars = ['_tau_plus_closest_x', '_tau_plus_closest_y', '_tau_plus_closest_z']\n",
    "\n",
    "# now, this is quite inefficient, but it works\n",
    "# it finds the closest distance of approach between Bs LoF and mu LoF for the MUONS (for the third time, sorry)\n",
    "# also, I find the IP between phi vertex and muons LoF\n",
    "\n",
    "def add_closest_approach_plus(data_frame):\n",
    "    _bs_dir=data_frame.loc[:, _bs_dir_vars].to_numpy()\n",
    "    _tau_plus_dir=data_frame.loc[:,_tau_plus_dir_vars].to_numpy()\n",
    "    \n",
    "    p0=data_frame.loc[:, ['phi3_VX', 'phi3_VY', 'phi3_VZ']].to_numpy()\n",
    "    p1=data_frame.loc[:, ['muplus_RefPoint_X', 'muplus_RefPoint_Y', 'muplus_RefPoint_Z']].to_numpy()\n",
    "    own=data_frame.loc[:, ['Bs_RefPoint_X', 'Bs_RefPoint_Y', 'Bs_RefPoint_Z']].to_numpy()\n",
    "    \n",
    "    a=np.cross(_tau_plus_dir,_bs_dir)\n",
    "    a=(a.T/norm(a, axis = 1)).T\n",
    "    c=p1-p0\n",
    "    \n",
    "    data_frame['_tau_plus_closest_dist'] = abs(inner1d(a,c)) # CDA that we are interested in\n",
    "    \n",
    "    coords=np.zeros([len(p1[:,0]),3])\n",
    "\n",
    "    ownpv_dist=np.zeros([len(p1[:,0]),1])\n",
    "    \n",
    "    phi_IP=np.zeros([len(p1[:,0]),1])\n",
    "    \n",
    "    for i in range(len(p1[:,0])):\n",
    "\n",
    "        rhs=p1[i,:]-p0[i,:]\n",
    "        lhs=np.array([_bs_dir[i,:],-_tau_plus_dir[i,:],a[i,:]]).T\n",
    "        X=solve(lhs,rhs)\n",
    "    \n",
    "        coords[i,:]=p0[i,:]+X[0]*_bs_dir[i,:]\n",
    "        \n",
    "        own_p1=p1[i,:]-own[i,:]\n",
    "        ownpv_dist[i]=norm(np.cross(own_p1,_tau_plus_dir[i,:]))\n",
    "        \n",
    "        phi_detect=p0[i,:]-p1[i,:]\n",
    "        phi_IP[i]=norm(np.cross(phi_detect,_tau_plus_dir[i,:]))\n",
    "    \n",
    "    data_frame['_tau_plus_closest_x'] = coords[:,0]\n",
    "    data_frame['_tau_plus_closest_y'] = coords[:,1]\n",
    "    data_frame['_tau_plus_closest_z'] = coords[:,2]\n",
    "\n",
    "    \n",
    "    data_frame['_tau_plus_closest_dist_own'] = ownpv_dist\n",
    "    \n",
    "    data_frame['_tau_plus_phi_IP'] = phi_IP\n",
    "\n",
    "    \n",
    "    \n",
    "    return data_frame\n",
    "   \n",
    "    \n",
    "_tau_minus_closest_dist = ['_tau_minus_closest_dist']\n",
    "_tau_minus_closest_vars = ['_tau_minus_closest_x', '_tau_minus_closest_y', '_tau_minus_closest_z']\n",
    "\n",
    "def add_closest_approach_minus(data_frame):\n",
    "    _bs_dir=data_frame.loc[:, _bs_dir_vars].to_numpy()\n",
    "    _tau_minus_dir=data_frame.loc[:,_tau_minus_dir_vars].to_numpy()\n",
    "    \n",
    "    p0=data_frame.loc[:, ['phi3_VX', 'phi3_VY', 'phi3_VZ']].to_numpy()\n",
    "    p1=data_frame.loc[:, ['muminus_RefPoint_X', 'muminus_RefPoint_Y', 'muminus_RefPoint_Z']].to_numpy()\n",
    "    own=data_frame.loc[:, ['Bs_RefPoint_X', 'Bs_RefPoint_Y', 'Bs_RefPoint_Z']].to_numpy()\n",
    "    \n",
    "    a=np.cross(_tau_minus_dir,_bs_dir)\n",
    "    a=(a.T/norm(a, axis = 1)).T\n",
    "    c=p1-p0\n",
    "    \n",
    "    data_frame['_tau_minus_closest_dist'] = abs(inner1d(a,c)) \n",
    "    coords=[]\n",
    "    \n",
    "    coords=np.zeros([len(p1[:,0]),3])\n",
    "\n",
    "    ownpv_dist=np.zeros([len(p1[:,0]),1])\n",
    "    \n",
    "    phi_IP=np.zeros([len(p1[:,0]),1])\n",
    "    \n",
    "    for i in range(len(p1[:,0])):\n",
    "\n",
    "        rhs=p1[i,:]-p0[i,:]\n",
    "        lhs=np.array([_bs_dir[i,:],-_tau_minus_dir[i,:],a[i,:]]).T\n",
    "        X=solve(lhs,rhs)\n",
    "    \n",
    "        coords[i,:]=p0[i,:]+X[0]*_bs_dir[i,:] # point on Bs LoF where we have the CDA. Basically the reconstructed decay vertex of the tau\n",
    "        \n",
    "        own_p1=p1[i,:]-own[i,:]\n",
    "        ownpv_dist[i]=norm(np.cross(own_p1,_tau_minus_dir[i,:])) # IP with OWNPV of Bs (I think... not useful anyway)\n",
    "        \n",
    "        phi_detect=p0[i,:]-p1[i,:]\n",
    "        phi_IP[i]=norm(np.cross(phi_detect,_tau_minus_dir[i,:])) # IP with phi vertex\n",
    "        \n",
    "        \n",
    "        \n",
    "    \n",
    "    data_frame['_tau_minus_closest_x'] = coords[:,0]\n",
    "    data_frame['_tau_minus_closest_y'] = coords[:,1]\n",
    "    data_frame['_tau_minus_closest_z'] = coords[:,2]\n",
    "\n",
    "    data_frame['_tau_minus_closest_dist_own'] = ownpv_dist \n",
    "    \n",
    "    data_frame['_tau_minus_phi_IP'] = phi_IP\n",
    "    \n",
    "    \n",
    "    return data_frame\n",
    "   \n",
    "    \n",
    "    \n",
    "_tau_plus_closest_dist = ['_tau_plus_closest_dist']\n",
    "_tau_plus_closest_vars = ['_tau_plus_closest_x', '_tau_plus_closest_y', '_tau_plus_closest_z']"
   ]
  },
  {
   "cell_type": "markdown",
   "metadata": {},
   "source": [
    "Now find the Flight Distance of the (this time yes) $\\tau$"
   ]
  },
  {
   "cell_type": "code",
   "execution_count": 32,
   "metadata": {},
   "outputs": [],
   "source": [
    "def add_dist_travelled_plus(data_frame):\n",
    "    _tau_origin = data_frame.loc[:, ['phi3_VX', 'phi3_VY', 'phi3_VZ']].to_numpy()\n",
    "    _tau_end = data_frame.loc[:, _tau_plus_closest_vars].to_numpy()\n",
    "    _tau_origin_own = data_frame.loc[:, ['Bs_RefPoint_X', 'Bs_RefPoint_Y', 'Bs_RefPoint_Z']].to_numpy()\n",
    "    \n",
    "    _bs_dir =  data_frame.loc[:,_bs_dir_vars].to_numpy()\n",
    "    \n",
    "    diff=_tau_end -_tau_origin\n",
    "\n",
    "    sign=inner1d(_bs_dir,diff)/abs(inner1d(_bs_dir,diff))\n",
    "    \n",
    "    mag=np.sum(np.abs(diff)**2,axis=-1)**(1./2)\n",
    "    \n",
    "    data_frame['_tau_plus_flight_dist'] = mag * sign # added the sign!!! Important if want to knwo which way the tau went basically\n",
    "    \n",
    "    cda = data_frame.loc[:,'_tau_plus_closest_dist'].to_numpy()\n",
    "    data_frame['_tau_plus_angle_b']=np.arctan(cda/mag) # angle between tau if it decayed on muon LoF (instead of B LoF) and B LoF. Not really important, never used in the analysis\n",
    "    \n",
    "    diff_own=_tau_end -_tau_origin_own\n",
    "\n",
    "    sign=inner1d(_bs_dir,diff_own)/abs(inner1d(_bs_dir,diff_own))\n",
    "    \n",
    "    mag_own=np.sum(np.abs(diff_own)**2,axis=-1)**(1./2)\n",
    "    \n",
    "    data_frame['_tau_plus_flight_dist_own'] = mag_own * sign # as if coming from OWNPV. Again, never used this reconstructed variable. Don't even remember why I did this, does not make much sense\n",
    "\n",
    "    return data_frame\n",
    "\n",
    "\n",
    "# same comments as for +\n",
    "def add_dist_travelled_minus(data_frame):\n",
    "    _tau_origin = data_frame.loc[:, ['phi3_VX', 'phi3_VY', 'phi3_VZ']].to_numpy()\n",
    "    _tau_end = data_frame.loc[:, _tau_minus_closest_vars].to_numpy()\n",
    "    _tau_origin_own = data_frame.loc[:, ['Bs_RefPoint_X', 'Bs_RefPoint_Y', 'Bs_RefPoint_Z']].to_numpy()\n",
    "    \n",
    "    _bs_dir =  data_frame.loc[:,_bs_dir_vars].to_numpy()\n",
    "    \n",
    "    diff=_tau_end -_tau_origin\n",
    "\n",
    "    sign=inner1d(_bs_dir,diff)/abs(inner1d(_bs_dir,diff))\n",
    "    \n",
    "    mag=np.sum(np.abs(diff)**2,axis=-1)**(1./2)\n",
    "\n",
    "    data_frame['_tau_minus_flight_dist'] = mag * sign\n",
    "    \n",
    "    cda = data_frame.loc[:,'_tau_minus_closest_dist'].to_numpy()\n",
    "    data_frame['_tau_minus_angle_b']=np.arctan(cda/mag)\n",
    "    \n",
    "    diff_own=_tau_end -_tau_origin_own\n",
    "\n",
    "    sign=inner1d(_bs_dir,diff_own)/abs(inner1d(_bs_dir,diff_own))\n",
    "    \n",
    "    mag_own=np.sum(np.abs(diff_own)**2,axis=-1)**(1./2)\n",
    "    \n",
    "    data_frame['_tau_minus_flight_dist_own'] = mag_own * sign\n",
    "\n",
    "    \n",
    "    return data_frame"
   ]
  },
  {
   "cell_type": "code",
   "execution_count": 33,
   "metadata": {
    "colab": {},
    "colab_type": "code",
    "id": "PdYLONDos79H"
   },
   "outputs": [],
   "source": [
    "_phi_dir_vars = ['_phi_dir_x', '_phi_dir_y', '_phi_dir_z']\n",
    "\n",
    "# found the phi dirtection just by normalizing the already reconstructed phi mom\n",
    "def add_phi_direction(data_frame):\n",
    "    \n",
    "    direct=data_frame.loc[:, ['phi3_PX', 'phi3_PY', 'phi3_PZ']]\n",
    "    direct_norm=direct.divide((direct** 2).sum(axis=1) ** 0.5, axis='rows')\n",
    "\n",
    "    data_frame[_phi_dir_vars] =direct_norm\n",
    "    return data_frame\n"
   ]
  },
  {
   "cell_type": "markdown",
   "metadata": {},
   "source": [
    "### Reconstructing mass in $B_s$ rest frame\n",
    "To reconstruct the mass in the $B_s$ rest frame:\n",
    "1. Find $\\beta$ such that $K$ are back to back\n",
    "2. Boost to that frame\n",
    "3. Add two tau masses\n",
    "We later realised we don't discriminate between signal and background by doing this (as long as the two kaons come from a $\\phi_3$), so we did not use this later in the analysis. The way I wrote this is also quite inefficient, so unless you find a reason why this could be useful, comment out the relative line in the reconstruction. I'll leave the reconstruction code here though, you never know."
   ]
  },
  {
   "cell_type": "code",
   "execution_count": 34,
   "metadata": {},
   "outputs": [],
   "source": [
    "from scipy.optimize import newton_krylov\n",
    "\n",
    "_K_plus_boosted_P = ['_K_plus_boosted_PX', '_K_plus_boosted_PY', '_K_plus_boosted_PZ']\n",
    "_K_minus_boosted_P = ['_K_minus_boosted_PX', '_K_minus_boosted_PY', '_K_minus_boosted_PZ']\n",
    "\n",
    "\n",
    "def gamma(beta): # gamma factor\n",
    "    gamma=1/np.sqrt(1-beta**2)\n",
    "    return gamma\n",
    "\n",
    "def boost_find(p_par_prime_plus,p_T_plus,p_par_prime_minus,p_T_minus,_K_plus_E,_K_minus_E):\n",
    "    \n",
    "    def funct(beta): # equation we need to solve to find beta\n",
    "            p_com_plus=(gamma(beta)*(p_par_prime_plus-beta*_K_plus_E))\n",
    "            p_com_minus=(gamma(beta)*(p_par_prime_minus-beta*_K_minus_E))\n",
    "            f=p_com_plus**2-p_com_minus**2+p_T_plus**2-p_T_minus**2\n",
    "            #f=p_com_plus-p_com_minus\n",
    "            return f \n",
    "    \n",
    "    beta_root=newton_krylov(funct,0.998) # basically looking for the solution using Newton method\n",
    "    return beta_root\n",
    "        \n",
    "# basically reconstructing the mass as explained above        \n",
    "def add_back_to_back(data_frame):\n",
    "    _K_plus_momentum = data_frame.loc[:,['Kplus_PX','Kplus_PY','Kplus_PZ']].to_numpy()\n",
    "    _K_minus_momentum = data_frame.loc[:,['Kminus_PX','Kminus_PY','Kminus_PZ']].to_numpy()\n",
    "    _phi_dir=data_frame.loc[:, _phi_dir_vars].to_numpy()\n",
    "    \n",
    "    _K_plus_par=inner1d(_K_plus_momentum,_phi_dir)\n",
    "    \n",
    "    _K_plus_P_T_mag=np.sqrt(inner1d(_K_plus_momentum,_K_plus_momentum)-_K_plus_par**2)\n",
    "    _K_minus_par=inner1d(_K_minus_momentum,_phi_dir)\n",
    "    _K_minus_P_T_mag=np.sqrt(inner1d(_K_minus_momentum,_K_minus_momentum)-_K_minus_par**2)\n",
    "    \n",
    "    _K_plus_P_T=_K_plus_momentum-(_phi_dir.T * _K_plus_par).T\n",
    "    _K_minus_P_T=_K_minus_momentum-(_phi_dir.T * _K_minus_par).T\n",
    "    \n",
    "    _K_plus_E=np.sqrt(493.7**2+inner1d(_K_plus_momentum,_K_plus_momentum))\n",
    "    _K_minus_E=np.sqrt(493.7**2+inner1d(_K_minus_momentum,_K_minus_momentum))\n",
    "    _betas=[]\n",
    "    _p_com_plus=[]\n",
    "    _p_com_minus=[]\n",
    "    _found_beta=[] # boolean vector with info whether reconstruction was possible or not\n",
    "    \n",
    "    _E_com_plus=[]\n",
    "    _E_com_minus=[]\n",
    "    \n",
    "    for i in range(len(_K_minus_E)):\n",
    "    #for i in range(100):\n",
    "        p_par_prime_plus=_K_plus_par[i]\n",
    "        p_T_plus=_K_plus_P_T_mag[i]\n",
    "        p_par_prime_minus=_K_minus_par[i]\n",
    "        p_T_minus=_K_minus_P_T_mag[i]\n",
    "        \n",
    "        try:\n",
    "            _beta_boost=boost_find(p_par_prime_plus,p_T_plus,p_par_prime_minus,p_T_minus,_K_plus_E[i],_K_minus_E[i])\n",
    "            _found_beta.append(True)\n",
    "        except:\n",
    "            _beta_boost=0\n",
    "            _found_beta.append(False) # so that if we want later we can use boolean logic to filter out events where doing the reconstruction was not useful\n",
    "        \n",
    "        _betas.append(_beta_boost)\n",
    "        \n",
    "        _p_com_plus_i=(gamma(_beta_boost)*(p_par_prime_plus-_beta_boost*_K_plus_E[i]))\n",
    "        _p_com_minus_i=(gamma(_beta_boost)*(p_par_prime_minus-_beta_boost*_K_minus_E[i]))\n",
    "        \n",
    "        _E_com_plus_i=(gamma(_beta_boost)*(-_beta_boost*p_par_prime_plus+_K_plus_E[i]))\n",
    "        _E_com_minus_i=(gamma(_beta_boost)*(-_beta_boost*p_par_prime_minus+_K_minus_E[i]))\n",
    "        \n",
    "        _p_com_plus.append(_p_com_plus_i)\n",
    "        _p_com_minus.append(_p_com_minus_i)\n",
    "        \n",
    "        _E_com_plus.append(_E_com_plus_i)\n",
    "        _E_com_minus.append(_E_com_minus_i)\n",
    "        \n",
    "        #print(_E_com_plus_i)\n",
    "        \n",
    "        #print(_p_com_plus_i,_p_com_minus_i)\n",
    "        \n",
    "        if i%100==0:\n",
    "            print(i)\n",
    "\n",
    "    _p_com_plus=np.asarray(_p_com_plus)\n",
    "    _p_com_minus=np.asarray(_p_com_minus)\n",
    "    #print(_p_com_plus)\n",
    "    \n",
    "    _K_plus_boosted_P=_K_plus_P_T+(_phi_dir.T * _p_com_plus).T\n",
    "    _K_minus_boosted_P=_K_minus_P_T+(_phi_dir.T * _p_com_minus).T\n",
    "        \n",
    "    angle=np.arccos(inner1d(_K_plus_boosted_P,_K_minus_boosted_P)/(np.sqrt(inner1d(_K_plus_boosted_P,_K_plus_boosted_P))*np.sqrt(inner1d(_K_minus_boosted_P,_K_minus_boosted_P))))\n",
    "    \n",
    "    \n",
    "    # save all the reconstructed variables\n",
    "    data_frame.loc[:,\"_beta_back_to_back\"]=_betas\n",
    "    \n",
    "\n",
    "    data_frame.loc[:,\"_K_plus_lab_PT\"]=_K_plus_P_T_mag\n",
    "    data_frame.loc[:,\"_K_minus_lab_PT\"]=_K_minus_P_T_mag\n",
    "    \n",
    "    data_frame.loc[:,\"_K_plus_lab_par\"]=_K_plus_par\n",
    "    data_frame.loc[:,\"_K_minus_lab_par\"]=_K_minus_par\n",
    "    \n",
    "    data_frame.loc[:,\"_K_plus_com_PE\"]=_p_com_plus\n",
    "    data_frame.loc[:,\"_K_minus_com_PE\"]=_p_com_minus\n",
    "    \n",
    "    data_frame.loc[:,\"_K_plus_com_PE\"]=_p_com_plus\n",
    "    data_frame.loc[:,\"_K_minus_com_PE\"]=_p_com_minus\n",
    "    \n",
    "    data_frame.loc[:,\"_K_plus_com_E\"]=_E_com_plus\n",
    "    data_frame.loc[:,\"_K_minus_com_E\"]=_E_com_minus\n",
    "    \n",
    "    data_frame.loc[:,'_K_plus_boosted_PX'] = _K_plus_boosted_P[:,0]\n",
    "    data_frame.loc[:,'_K_plus_boosted_PY'] = _K_plus_boosted_P[:,1]\n",
    "    data_frame.loc[:,'_K_plus_boosted_PZ'] = _K_plus_boosted_P[:,2]\n",
    "    \n",
    "    data_frame.loc[:,'_K_minus_boosted_PX'] = _K_minus_boosted_P[:,0]\n",
    "    data_frame.loc[:,'_K_minus_boosted_PY'] = _K_minus_boosted_P[:,1]\n",
    "    data_frame.loc[:,'_K_minus_boosted_PZ'] = _K_minus_boosted_P[:,2]\n",
    "    \n",
    "    data_frame.loc[:,'_K_boosted_angle'] = angle \n",
    "    data_frame.loc[:,'_found_beta'] = _found_beta \n",
    "    \n",
    "    return data_frame\n",
    "    \n",
    "\n",
    "# find CoM energy of the system\n",
    "def add_com_E(data_frame):\n",
    "    _K_plus_mom=data_frame.loc[:,_K_plus_boosted_P].to_numpy()\n",
    "    _K_minus_mom=data_frame.loc[:,_K_plus_boosted_P].to_numpy()\n",
    "    _K_plus_E=data_frame.loc[:,\"_K_plus_com_E\"]\n",
    "    _K_minus_E=data_frame.loc[:,\"_K_minus_com_E\"]\n",
    "    \n",
    "    _tau_plus_E=1776.86\n",
    "    _tau_minus_E=1776.86\n",
    "    \n",
    "    #print(_K_plus_E+_K_minus_E)\n",
    "    \n",
    "    _p_tot=_K_plus_mom+_K_minus_mom\n",
    "    \n",
    "    _E_tot=_tau_plus_E+_tau_minus_E+_K_plus_E+_K_minus_E\n",
    "    \n",
    "    _E_com=_E_tot**2-inner1d(_p_tot,_p_tot)\n",
    "    \n",
    "    data_frame.loc[:,'_E_com_reco'] =np.sqrt(_E_com) \n",
    "    \n",
    "    return data_frame"
   ]
  },
  {
   "cell_type": "markdown",
   "metadata": {},
   "source": [
    "### Duplicate removal\n",
    "Had some issues with the tuple regarding the fact that the same event was repeated 4, 8 sometimes 16 times. The function below fix are to fix this"
   ]
  },
  {
   "cell_type": "code",
   "execution_count": 35,
   "metadata": {},
   "outputs": [],
   "source": [
    "# adds to the tuple how many times whe have that event in the above rows\n",
    "def add_event_occurrence(data_frame):\n",
    "    event_number=data_frame.loc[:,\"eventNumber\"].to_numpy()\n",
    "    \n",
    "    event_occurence=np.zeros(len(event_number))\n",
    "    \n",
    "    occurrence=0\n",
    "    for i in range(len(event_number)):\n",
    "        if event_number[i]==event_number[i-1]:\n",
    "            occurrence+=1\n",
    "            event_occurence[i]=occurrence\n",
    "        else:\n",
    "            occurrence=0\n",
    "            event_occurence[i]=occurrence\n",
    "            \n",
    "    #print(event_occurence)\n",
    "    data_frame.loc[:,'event_occurrence'] = event_occurence\n",
    "    \n",
    "    return data_frame\n",
    "    \n",
    "\n",
    "def remove_duplicates(data_frame):    \n",
    "    return data_frame.loc[data_frame['event_occurrence']==0]\n",
    "\n",
    "\n",
    "\n",
    "# trying to do the same as above, but instead of looking at the event number I also look at PZ of a kaon to check that they are actual clones, and not just events with the same event number\n",
    "def find_clones(data_frame):\n",
    "    precision=0.001\n",
    "    _k_plus_mom=data_frame.loc[:,\"Kplus_PZ\"].to_numpy()\n",
    "    event_number=data_frame.loc[:,\"eventNumber\"].to_numpy()\n",
    "    \n",
    "    #data_frame.loc[:,'mother_clone'] = np.zeros(len(_k_plus_mom))\n",
    "    mother_clone=np.zeros(len(_k_plus_mom))\n",
    "    \n",
    "    event_list=[]\n",
    "    for i in event_number:\n",
    "        if i not in event_list:\n",
    "            event_list.append(i)\n",
    "    \n",
    "    for i in event_list:\n",
    "        #index=data_frame.loc[data_frame['eventNumber']==i].index\n",
    "        index=np.argwhere(event_number==i)\n",
    "        #print(index[-1])\n",
    "        mom_mother=_k_plus_mom[index[0]]\n",
    "\n",
    "        if len(index)>1:\n",
    "            for j in index[1:]:\n",
    "                mom=_k_plus_mom[j]\n",
    "                if ((mom > (mom_mother-mom_mother*precision)) & (mom < (mom_mother+mom_mother*precision))):\n",
    "                    #print(\"hi\")\n",
    "                    #data_frame['mother_clone'][j:j]=1\n",
    "                    mother_clone[j]=1\n",
    "                \n",
    "        data_frame.loc[:,'mother_clone'] = mother_clone\n",
    "            \n",
    "    return data_frame\n",
    "\n",
    "# kills all the clones\n",
    "def remove_clones(data_frame):\n",
    "    return data_frame.loc[data_frame['mother_clone']==0]"
   ]
  },
  {
   "cell_type": "markdown",
   "metadata": {
    "colab_type": "text",
    "id": "bJMmJnKocBRu"
   },
   "source": [
    "## Reconstruction as a Function"
   ]
  },
  {
   "cell_type": "markdown",
   "metadata": {},
   "source": [
    "Reconstruct all of the variables with the functions defined above. It will take a while"
   ]
  },
  {
   "cell_type": "code",
   "execution_count": 36,
   "metadata": {
    "colab": {},
    "colab_type": "code",
    "id": "qFUUnDrvZnd0"
   },
   "outputs": [],
   "source": [
    "def add_tau_reconstruction(data_frame):\n",
    "    data_frame = add_bs_flight(data_frame)\n",
    "    data_frame = add_bs_direction(data_frame)\n",
    "    data_frame = add_tau_plus_direction(data_frame)\n",
    "    data_frame = add_tau_minus_direction(data_frame)\n",
    "    data_frame = add_closest_approach_minus(data_frame)\n",
    "    data_frame = add_closest_approach_plus(data_frame)\n",
    "    data_frame = add_dist_travelled_minus(data_frame)\n",
    "    data_frame = add_dist_travelled_plus(data_frame)\n",
    "    data_frame = add_tau_angle(data_frame)\n",
    "    data_frame = add_phi_direction(data_frame)\n",
    "    data_frame = add_event_occurrence(data_frame)\n",
    "    data_frame = find_clones(data_frame)\n",
    "    #data_frame = add_back_to_back(data_frame)\n",
    "    #data_frame = add_com_E(data_frame)\n",
    "\n",
    "    return data_frame"
   ]
  },
  {
   "cell_type": "code",
<<<<<<< HEAD
   "execution_count": 37,
=======
   "execution_count": null,
>>>>>>> 9ae76a5ccb4f9d5f0637b45956408c5997f61bc9
   "metadata": {
    "colab": {
     "base_uri": "https://localhost:8080/",
     "height": 121
    },
    "colab_type": "code",
    "id": "rOJ1e5_-lAL7",
    "outputId": "93073198-35ce-4f06-d206-744c7accad12"
   },
   "outputs": [
    {
     "name": "stderr",
     "output_type": "stream",
     "text": [
      "<ipython-input-30-0eb50af8d895>:48: RuntimeWarning: invalid value encountered in arccos\n",
      "  angle=np.arccos(inner1d(_tau_minus_dir,_tau_plus_dir))\n"
     ]
    }
   ],
   "source": [
    "Bs_reduced_tau_reconstructed_data_frame = add_tau_reconstruction(Bs_reduced_data_frame)"
   ]
  },
  {
   "cell_type": "markdown",
   "metadata": {},
   "source": [
    "## Kill the Clones\n",
    "Let's have a closer look at the clones problem"
   ]
  },
  {
   "cell_type": "code",
<<<<<<< HEAD
   "execution_count": 38,
   "metadata": {},
   "outputs": [
    {
     "data": {
      "image/png": "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\n",
      "text/plain": [
       "<Figure size 640x480 with 1 Axes>"
      ]
     },
     "metadata": {},
     "output_type": "display_data"
    }
   ],
=======
   "execution_count": null,
   "metadata": {},
   "outputs": [],
>>>>>>> 9ae76a5ccb4f9d5f0637b45956408c5997f61bc9
   "source": [
    "plt.figure()\n",
    "plt.hist(Bs_reduced_tau_reconstructed_data_frame['event_occurrence'],bins=11,range=[0,10])\n",
    "plt.hist(Bs_reduced_tau_reconstructed_data_frame.loc[Bs_reduced_tau_reconstructed_data_frame['mother_clone']==0]['event_occurrence'],bins=11,range=[0,10],alpha=0.7)\n",
    "plt.show()"
   ]
  },
  {
   "cell_type": "markdown",
   "metadata": {},
   "source": [
    "What the above plot tells us is that basically all the events that have event occurence other than 0 are clones! So we can cut them away safely. Let's visualise what killing the clones actually would mean for our data set."
   ]
  },
  {
   "cell_type": "code",
<<<<<<< HEAD
   "execution_count": 46,
   "metadata": {},
   "outputs": [
    {
     "data": {
      "image/png": "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\n",
      "text/plain": [
       "<Figure size 600x300 with 1 Axes>"
      ]
     },
     "metadata": {},
     "output_type": "display_data"
    }
   ],
=======
   "execution_count": null,
   "metadata": {},
   "outputs": [],
>>>>>>> 9ae76a5ccb4f9d5f0637b45956408c5997f61bc9
   "source": [
    "phi3mask=((Bs_reduced_tau_reconstructed_data_frame['phi3_M']>1600) & (Bs_reduced_tau_reconstructed_data_frame['phi3_M']<1850))\n",
    "\n",
    "plt.figure(figsize=(6, 3))\n",
    "Bs_mass_range = (0, 7200)\n",
    "plt.hist(Bs_reduced_tau_reconstructed_data_frame.loc[phi3mask]['Bs_M'], bins=100, range=Bs_mass_range)\n",
<<<<<<< HEAD
    "_ = Bs_reduced_tau_reconstructed_data_frame.loc[phi3mask]\n",
    "plt.hist(_[_['mother_clone']==0]['Bs_M'], bins=100, range=Bs_mass_range,alpha=0.7)\n",
=======
    "plt.hist(Bs_reduced_tau_reconstructed_data_frame.loc[phi3mask].loc[Bs_reduced_tau_reconstructed_data_frame['mother_clone']==0]['Bs_M'], bins=100, range=Bs_mass_range,alpha=0.7)\n",
>>>>>>> 9ae76a5ccb4f9d5f0637b45956408c5997f61bc9
    "plt.xlabel('$m_{KK\\mu\\mu}$')\n",
    "plt.xlim(Bs_mass_range)\n",
    "plt.tight_layout(pad=0.5)\n",
    "\n",
    "# Let's remove them\n",
    "Bs_reduced_tau_reconstructed_data_frame=remove_clones(Bs_reduced_tau_reconstructed_data_frame) "
   ]
  },
  {
   "cell_type": "markdown",
   "metadata": {},
   "source": [
    "## Checks"
   ]
  },
  {
   "cell_type": "markdown",
   "metadata": {},
   "source": [
    "### Reconstructed variables"
   ]
  },
  {
   "cell_type": "markdown",
   "metadata": {},
   "source": [
    "Let's check how the CDA and flight distance distribution differ between signal region and background proxies (phi3 jpsi and combinatorial)"
   ]
  },
  {
   "cell_type": "code",
<<<<<<< HEAD
   "execution_count": 47,
   "metadata": {},
   "outputs": [
    {
     "data": {
      "image/png": "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\n",
      "text/plain": [
       "<Figure size 1200x1200 with 9 Axes>"
      ]
     },
     "metadata": {},
     "output_type": "display_data"
    }
   ],
=======
   "execution_count": null,
   "metadata": {},
   "outputs": [],
>>>>>>> 9ae76a5ccb4f9d5f0637b45956408c5997f61bc9
   "source": [
    "jpsi_phi3_mask = (\n",
    "    (Bs_reduced_tau_reconstructed_data_frame['jpsi_M'] > 3020) & (Bs_reduced_tau_reconstructed_data_frame['jpsi_M'] < 3150) &\n",
    "    (Bs_reduced_tau_reconstructed_data_frame['phi3_M'] > 1600) & (Bs_reduced_tau_reconstructed_data_frame['phi3_M'] < 1820)\n",
    ")\n",
    "\n",
    "signal_mask = (\n",
    "    ((Bs_reduced_tau_reconstructed_data_frame['jpsi_M'] < 3020) | (Bs_reduced_tau_reconstructed_data_frame['jpsi_M'] > 3150)) &\n",
    "    ((Bs_reduced_tau_reconstructed_data_frame['jpsi_M'] < 3536) | (Bs_reduced_tau_reconstructed_data_frame['jpsi_M'] > 3873)) &\n",
    "    (Bs_reduced_tau_reconstructed_data_frame['phi3_M'] > 1600) & (Bs_reduced_tau_reconstructed_data_frame['phi3_M'] < 1820) & \n",
    "    (Bs_reduced_tau_reconstructed_data_frame['Bs_M'] > 2500) & (Bs_reduced_tau_reconstructed_data_frame['Bs_M'] <3750) \n",
    ")\n",
    "\n",
    "\n",
    "sideband = ((Bs_reduced_tau_reconstructed_data_frame['Bs_M']>5450) & ((Bs_reduced_tau_reconstructed_data_frame['jpsi_M'] < 3020) | (Bs_reduced_tau_reconstructed_data_frame['jpsi_M'] > 3150)) &\n",
    "            ((Bs_reduced_tau_reconstructed_data_frame['jpsi_M'] < 3536) | (Bs_reduced_tau_reconstructed_data_frame['jpsi_M'] > 3873)) \n",
    ")\n",
    "\n",
    "\n",
    "combinatorial=Bs_reduced_tau_reconstructed_data_frame.loc[sideband]\n",
    "jpsi_phi3=Bs_reduced_tau_reconstructed_data_frame.loc[jpsi_phi3_mask]\n",
    "signal=Bs_reduced_tau_reconstructed_data_frame.loc[signal_mask]\n",
    "\n",
    "bins=100\n",
    "range_=[0,0.001]\n",
    "\n",
    "fig, axs = plt.subplots(3, 3, figsize=(12,12), sharex='col', squeeze=False)\n",
    "ax1, ax2,ax3 = axs[:, 1]\n",
    "ax1.hist(signal['_tau_minus_closest_dist'], bins=bins, range=range_)\n",
    "ax2.hist(jpsi_phi3['_tau_minus_closest_dist'], bins=bins, range=range_)\n",
    "ax3.hist(combinatorial['_tau_minus_closest_dist'], bins=bins, range=range_)\n",
    "\n",
    "ax1.set_xlim(range_)\n",
    "ax3.set_xlabel('mm')\n",
    "ax1.set_title(\"CDA\")\n",
    "\n",
    "range_=[2000,6000]\n",
    "\n",
    "ax1, ax2,ax3 = axs[:, 0]\n",
    "\n",
    "ax1.set_ylabel('Signal')\n",
    "ax2.set_ylabel('Jpsi_phi3')\n",
    "ax3.set_ylabel('Combinatorial')\n",
    "\n",
    "ax1.set_title(\"Mass Plot\")\n",
    "ax1.hist(signal['Bs_M'], bins=bins, range=range_)\n",
    "ax2.hist(jpsi_phi3['Bs_M'], bins=bins, range=range_)\n",
    "ax3.hist(combinatorial['Bs_M'], bins=bins, range=range_)\n",
    "\n",
    "ax3.set_xlabel('MeV/c^2')\n",
    "\n",
    "\n",
    "range_=[-50,50]\n",
    "ax1, ax2,ax3 = axs[:, 2]\n",
    "ax1.set_title(\"Flight Distance\")\n",
    "ax1.hist(signal['_tau_minus_flight_dist'], bins=bins, range=range_)\n",
    "ax2.hist(jpsi_phi3['_tau_minus_flight_dist'], bins=bins, range=range_)\n",
    "ax3.hist(combinatorial['_tau_minus_flight_dist'], bins=bins, range=range_)\n",
    "\n",
    "ax3.set_xlabel('mm')\n",
    "\n",
    "\n",
    "plt.tight_layout(pad=0.5)"
   ]
  },
  {
   "cell_type": "markdown",
   "metadata": {},
   "source": [
    "### $B$ Line of Flight and Angle with $z$ Axis"
   ]
  },
  {
   "cell_type": "markdown",
   "metadata": {},
   "source": [
    "Look at the $B$ flight distance, which we expect to be roughly 8mm"
   ]
  },
  {
   "cell_type": "code",
<<<<<<< HEAD
   "execution_count": 48,
   "metadata": {},
   "outputs": [
    {
     "data": {
      "image/png": "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\n",
      "text/plain": [
       "<Figure size 640x480 with 1 Axes>"
      ]
     },
     "metadata": {},
     "output_type": "display_data"
    }
   ],
=======
   "execution_count": null,
   "metadata": {},
   "outputs": [],
>>>>>>> 9ae76a5ccb4f9d5f0637b45956408c5997f61bc9
   "source": [
    "plt.figure()\n",
    "plt.hist(jpsi_phi3['_bs_flight_dist'],bins=100,range=[-10,100])\n",
    "plt.hist(signal['_bs_flight_dist'],bins=100,range=[-10,100], alpha=0.7)\n",
    "plt.show()"
   ]
  },
  {
   "cell_type": "markdown",
   "metadata": {},
   "source": [
    "Now look at the $B$ and $\\mu$ angles with the $z$ axis"
   ]
  },
  {
   "cell_type": "code",
<<<<<<< HEAD
   "execution_count": 49,
   "metadata": {},
   "outputs": [
    {
     "data": {
      "image/png": "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\n",
      "text/plain": [
       "<Figure size 1600x400 with 3 Axes>"
      ]
     },
     "metadata": {},
     "output_type": "display_data"
    },
    {
     "data": {
      "image/png": "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\n",
      "text/plain": [
       "<Figure size 1600x400 with 2 Axes>"
      ]
     },
     "metadata": {},
     "output_type": "display_data"
    }
   ],
=======
   "execution_count": null,
   "metadata": {},
   "outputs": [],
>>>>>>> 9ae76a5ccb4f9d5f0637b45956408c5997f61bc9
   "source": [
    "fig, axs = plt.subplots(1, 3, figsize=(16,4), sharex='col', squeeze=False)\n",
    "ax1,ax2,ax3= axs[0,:]\n",
    "ax1.set_title('_bs_angle_z')\n",
    "ax2.set_title('_mu_plus_angle_z')\n",
    "ax3.set_title('_mu_minus_angle_z')\n",
    "ax1.hist(signal['_bs_angle_z'],bins=100,range=[0,3.14])\n",
    "ax2.hist(signal['_mu_plus_angle_z'],bins=100,range=[0,3.14])\n",
    "ax3.hist(signal['_mu_minus_angle_z'],bins=100,range=[0,3.14])\n",
    "plt.show()\n",
    "\n",
    "\n",
    "fig, axs = plt.subplots(1, 2, figsize=(16,4), sharex='col', squeeze=False)\n",
    "ax1,ax2= axs[0,:]\n",
    "ax1.set_title('_tau_plus_angle_b')\n",
    "ax2.set_title('_tau_minus_angle_b')\n",
    "ax1.hist(signal['_tau_plus_angle_b'],bins=100,range=[0,0.002])\n",
    "ax2.hist(signal['_tau_minus_angle_b'],bins=100,range=[0,0.002])\n",
    "plt.show()"
   ]
  },
  {
   "cell_type": "markdown",
   "metadata": {},
   "source": [
    "Look at the angle distribution between the muons"
   ]
  },
  {
   "cell_type": "code",
<<<<<<< HEAD
   "execution_count": 50,
   "metadata": {},
   "outputs": [
    {
     "data": {
      "image/png": "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\n",
      "text/plain": [
       "<Figure size 640x480 with 1 Axes>"
      ]
     },
     "metadata": {},
     "output_type": "display_data"
    }
   ],
=======
   "execution_count": null,
   "metadata": {},
   "outputs": [],
>>>>>>> 9ae76a5ccb4f9d5f0637b45956408c5997f61bc9
   "source": [
    "plt.figure()\n",
    "plt.hist(signal['_taus_angle'],bins=100)\n",
    "plt.show()"
   ]
  },
  {
   "cell_type": "markdown",
   "metadata": {},
   "source": [
    "Look at distribution of IP with phi vertex"
   ]
  },
  {
   "cell_type": "code",
<<<<<<< HEAD
   "execution_count": 51,
   "metadata": {},
   "outputs": [
    {
     "data": {
      "image/png": "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\n",
      "text/plain": [
       "<Figure size 640x480 with 1 Axes>"
      ]
     },
     "metadata": {},
     "output_type": "display_data"
    }
   ],
=======
   "execution_count": null,
   "metadata": {},
   "outputs": [],
>>>>>>> 9ae76a5ccb4f9d5f0637b45956408c5997f61bc9
   "source": [
    "plt.figure()\n",
    "plt.hist(jpsi_phi3['_tau_minus_phi_IP'],bins=100,range=[0,3])\n",
    "plt.hist(signal['_tau_minus_phi_IP'],bins=100,range=[0,3],alpha=0.7)\n",
    "plt.show()"
   ]
  },
  {
   "cell_type": "markdown",
   "metadata": {
    "colab_type": "text",
    "id": "8kfuHxjvz8V1"
   },
   "source": [
    "## Output saving"
   ]
  },
  {
   "cell_type": "code",
<<<<<<< HEAD
   "execution_count": 52,
=======
   "execution_count": null,
>>>>>>> 9ae76a5ccb4f9d5f0637b45956408c5997f61bc9
   "metadata": {
    "colab": {},
    "colab_type": "code",
    "id": "-22pDNLkvf53"
   },
   "outputs": [],
   "source": [
    "BDT_COLUMNS = ['mu_plus_PT', 'mu_minus_PT', 'mu_plus_P', 'mu_minus_P','_tau_minus_closest_dist',\n",
    "    '_tau_plus_closest_dist','_tau_minus_flight_dist','_tau_plus_flight_dist','K_minus_PIDK','K_plus_PIDK','phi_ORIVX_CHI2','_tau_minus_phi_IP','_tau_plus_phi_IP']\n",
    "\n",
    "def save_data_frame(data_frame: pd.DataFrame, filename: str, for_BDT_only=False):\n",
    "    if for_BDT_only:\n",
    "        for column in BDT_COLUMNS:\n",
    "            if column not in data_frame.columns:\n",
    "                raise ValueError(f\"Column {column} not found in DataFrame.\")\n",
    "        saved_data = data_frame.loc[:, BDT_COLUMNS]\n",
    "    else:\n",
    "        saved_data = data_frame\n",
    "    print(f\"Saving DataFrame (shape: {saved_data.shape}) to: {filename}.\")\n",
    "    saved_data.to_pickle(filename)\n"
   ]
  },
  {
   "cell_type": "code",
<<<<<<< HEAD
   "execution_count": 53,
=======
   "execution_count": null,
>>>>>>> 9ae76a5ccb4f9d5f0637b45956408c5997f61bc9
   "metadata": {
    "colab": {
     "base_uri": "https://localhost:8080/",
     "height": 34
    },
    "colab_type": "code",
    "id": "P7L4srkFrYIY",
    "outputId": "f8afdd94-e60d-422a-b28f-f808e6fa857e"
   },
<<<<<<< HEAD
   "outputs": [
    {
     "name": "stdout",
     "output_type": "stream",
     "text": [
      "Saved DataFrame (shape: (317331, 684)).\n"
     ]
    }
   ],
=======
   "outputs": [],
>>>>>>> 9ae76a5ccb4f9d5f0637b45956408c5997f61bc9
   "source": [
    "# for DATA ###\n",
    "Bs_reduced_tau_reconstructed_data_frame.to_pickle('Bs_reduced_tau_reconstructed_data_frame_SL.pkl.gz')\n",
    "print(f\"Saved DataFrame (shape: {Bs_reduced_tau_reconstructed_data_frame.shape}).\")\n"
   ]
  },
  {
   "cell_type": "markdown",
   "metadata": {},
   "source": [
    "# for phi3 tau tau MC ###\n",
    "Bs_reduced_tau_reconstructed_data_frame.to_pickle('Bs_reduced_tau_reconstructed_data_frame_MC.pkl.gz')\n",
    "print(f\"Saved DataFrame (shape: {Bs_reduced_tau_reconstructed_data_frame.shape}).\")"
   ]
  },
  {
   "cell_type": "markdown",
   "metadata": {},
   "source": [
    "# for phi mu mu MC ###\n",
    "Bs_reduced_tau_reconstructed_data_frame.to_pickle('Bs_reduced_tau_reconstructed_data_frame_MC_phimumu.pkl.gz')\n",
    "print(f\"Saved DataFrame (shape: {Bs_reduced_tau_reconstructed_data_frame.shape}).\")"
   ]
  },
  {
   "cell_type": "code",
<<<<<<< HEAD
   "execution_count": 54,
   "metadata": {},
   "outputs": [
    {
     "data": {
      "text/plain": [
       "1092617"
      ]
     },
     "execution_count": 54,
     "metadata": {},
     "output_type": "execute_result"
    }
   ],
=======
   "execution_count": null,
   "metadata": {},
   "outputs": [],
>>>>>>> 9ae76a5ccb4f9d5f0637b45956408c5997f61bc9
   "source": [
    "len(Bs_data)"
   ]
  },
  {
   "cell_type": "code",
<<<<<<< HEAD
   "execution_count": 55,
   "metadata": {},
   "outputs": [
    {
     "data": {
      "image/png": "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\n",
      "text/plain": [
       "<Figure size 640x480 with 1 Axes>"
      ]
     },
     "metadata": {},
     "output_type": "display_data"
    }
   ],
=======
   "execution_count": null,
   "metadata": {},
   "outputs": [],
>>>>>>> 9ae76a5ccb4f9d5f0637b45956408c5997f61bc9
   "source": [
    "plt.figure()\n",
    "plt.hist(signal['FD_tau_minus'],bins=100, range=[0,100], alpha=0.3)\n",
    "plt.hist(signal['_tau_minus_closest_dist'],bins=100, range=[0,100], alpha=0.3)\n",
    "plt.show()"
   ]
  },
  {
   "cell_type": "code",
   "execution_count": null,
   "metadata": {},
   "outputs": [],
   "source": []
  }
 ],
 "metadata": {
  "colab": {
   "collapsed_sections": [
    "ilfFW4-fFaVp"
   ],
   "name": "Copy of Copy of Lb to pKmutau: Background Reduction and Decay Reconstruction (Part 1 of 2)",
   "provenance": [],
   "toc_visible": true
  },
  "kernelspec": {
   "display_name": "Python 3",
   "language": "python",
   "name": "python3"
  },
  "language_info": {
   "codemirror_mode": {
    "name": "ipython",
    "version": 3
   },
   "file_extension": ".py",
   "mimetype": "text/x-python",
   "name": "python",
   "nbconvert_exporter": "python",
   "pygments_lexer": "ipython3",
   "version": "3.8.5"
  }
 },
 "nbformat": 4,
 "nbformat_minor": 4
}
