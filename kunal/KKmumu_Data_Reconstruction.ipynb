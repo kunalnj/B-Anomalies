{
 "cells": [
  {
   "cell_type": "markdown",
   "metadata": {
    "colab_type": "text",
    "id": "gt8sjN6LEEHx"
   },
   "source": [
    "# $B_s \\rightarrow KK\\mu\\mu$ Data Documentation"
   ]
  },
  {
   "cell_type": "markdown",
   "metadata": {
    "colab_type": "text",
    "id": "BoecKBPj1JGc"
   },
   "source": [
    "## Preamble"
   ]
  },
  {
   "cell_type": "markdown",
   "metadata": {
    "colab_type": "text",
    "id": "Ln9yih0j1LpC"
   },
   "source": [
    "This investigation has been detailed in 2 parts:\n",
    "1. Background Reduction and Decay Reconstruction (this notebook)\n",
    "2. Machine Learning and Branching Fraction\n",
    "\n"
   ]
  },
  {
   "cell_type": "markdown",
   "metadata": {
    "colab_type": "text",
    "id": "8ycYWoqSx-Br"
   },
   "source": [
    "This notebook is entirely independent and can be run in its entirety by clicking the \"Run all\" button above. If you want to perform the reconstruction on the MC, just \"uncomment\" the relative cells below. The reconstruction will work all right, but clearly all of the discussion of the notebook assumes that your are looking at actual data"
   ]
  },
  {
   "cell_type": "markdown",
   "metadata": {
    "colab_type": "text",
    "id": "odixm-AQwFVC"
   },
   "source": [
    "# Colab Notebook Setup"
   ]
  },
  {
   "cell_type": "markdown",
   "metadata": {
    "colab_type": "text",
    "id": "l5y62UgnwMaX"
   },
   "source": [
    "## Data"
   ]
  },
  {
   "cell_type": "code",
   "execution_count": 1,
   "metadata": {
    "colab": {},
    "colab_type": "code",
    "id": "b3T14J5evh2p"
   },
   "outputs": [
    {
     "name": "stderr",
     "output_type": "stream",
     "text": [
      "/home/hep/kj3417/anaconda2/envs/py3/lib/python3.8/site-packages/uproot3/__init__.py:127: FutureWarning: Consider switching from 'uproot3' to 'uproot', since the new interface became the default in 2020.\n",
      "\n",
      "    pip install -U uproot\n",
      "\n",
      "In Python:\n",
      "\n",
      "    >>> import uproot\n",
      "    >>> with uproot.open(...) as file:\n",
      "    ...\n",
      "\n",
      "  warnings.warn(\n",
      "/home/hep/kj3417/anaconda2/envs/py3/lib/python3.8/site-packages/awkward0/__init__.py:12: FutureWarning: Consider switching from 'awkward0' to 'awkward', since the new interface became the default in 2020.\n",
      "\n",
      "    pip install -U awkward\n",
      "\n",
      "In Python:\n",
      "\n",
      "    >>> import awkward as ak\n",
      "    >>> new_style_array = ak.from_awkward0(old_style_array)\n",
      "    >>> old_style_array = ak.to_awkward0(new_style_array)\n",
      "\n",
      "  warnings.warn(\n"
     ]
    }
   ],
   "source": [
    "import os\n",
    "import zipfile\n",
    "import pandas as pd\n",
    "import logging\n",
    "import sys\n",
    "from pathlib import Path\n",
    "from typing import List\n",
    "import numpy as np\n",
    "import pandas as pd\n",
    "import uproot\n",
    "import uproot3\n",
    "import matplotlib.pyplot as plt"
   ]
  },
  {
   "cell_type": "markdown",
   "metadata": {
    "colab_type": "text",
    "id": "pJOzMv6TCAEa"
   },
   "source": [
    "### Loading from ROOT files"
   ]
  },
  {
   "cell_type": "markdown",
   "metadata": {
    "colab_type": "text",
    "id": "NUfrvox1CNhN"
   },
   "source": [
    "The data can also be loaded by calling the following `load_data` function. \n",
    "\n",
    "This requires the `uproot` package which can be installed with `pip install uproot`."
   ]
  },
  {
   "cell_type": "code",
   "execution_count": 2,
   "metadata": {
    "colab": {
     "base_uri": "https://localhost:8080/",
     "height": 241
    },
    "colab_type": "code",
    "id": "Hm7Cyes6mbgt",
    "outputId": "f1dc2870-9326-4789-be3e-ecdc80ed7920"
   },
   "outputs": [],
   "source": [
    "#!pip install uproot"
   ]
  },
  {
   "cell_type": "code",
   "execution_count": 3,
   "metadata": {
    "colab": {},
    "colab_type": "code",
    "id": "Sf1tfSr3CA94"
   },
   "outputs": [],
   "source": [
    "import logging\n",
    "import time\n",
    "from contextlib import contextmanager\n",
    "\n",
    "logger = logging.getLogger(\"Timer\")\n",
    "\n",
    "\n",
    "@contextmanager\n",
    "def timer(process: str, print_starting: bool = False):\n",
    "    start_time = time.time()\n",
    "    if print_starting:\n",
    "        logger.info(f\"{process} starting...\")\n",
    "    try:\n",
    "        yield\n",
    "    finally:\n",
    "        logger.info(f\"{process} took {time.time() - start_time:.3f}s\")\n"
   ]
  },
  {
   "cell_type": "markdown",
   "metadata": {
    "colab": {
     "base_uri": "https://localhost:8080/",
     "height": 395
    },
    "colab_type": "code",
    "id": "aE0btNC_CD_v",
    "outputId": "7ba127d8-6a0a-4cb7-9732-9ce512386b4c"
   },
   "source": [
    "# import logging\n",
    "import sys\n",
    "from pathlib import Path\n",
    "from typing import List\n",
    "\n",
    "import numpy as np\n",
    "import pandas as pd\n",
    "import uproot\n",
    "\n",
    "\n",
    "logger = logging.getLogger('data_loader')\n",
    "\n",
    "parent_folder = Path(\"/home/hep/kj3417/Bs2KKmumu/\")\n",
    "# # Change the above to be the Path to the folder containing .root files.\n",
    "\n",
    "\n",
    "def load_data(df_name: str = 'Bs_data') -> pd.DataFrame:\n",
    " \"\"\"\n",
    " Load data sets with the specified column names\n",
    " :param df_name: name of df to use (Lb_data, B_MC or Lb_MC)\n",
    " :return:\n",
    " \"\"\"\n",
    " file_names_dict = {\n",
    "      'Bs_data': ['Bs2KKmumu_2018_MagUp.root', 'Bs2KKmumu_2018_MagDown.root','Bs2KKmumu_2017_MagUp.root', 'Bs2KKmumu_2017_MagDown.root']\n",
    "#          'Bs_data': ['Bs2KKmumu_2018_MagUp_SL_line.root', 'Bs2KKmumu_2018_MagDown_SL_line.root'],\n",
    " }\n",
    "\n",
    " if df_name not in file_names_dict:\n",
    "     raise ValueError(f'df_name must be one of: {known_names}, not {df_name}')\n",
    "\n",
    " with timer(\"Loading data\", print_starting=True):\n",
    "     columns = add_branches(df_name)\n",
    "     columns = set(columns)\n",
    "     file_names = file_names_dict[df_name]\n",
    "     events_frame = pd.DataFrame()\n",
    "     for f in file_names:\n",
    "         file = uproot.open(str(parent_folder / f))\n",
    "         # events = file['DecayTree'] if 'B2' not in f else file['LbTuple/DecayTree']\n",
    "         events = file['DecayTree']\n",
    "         events_frame = pd.concat([events_frame, events.pandas.df(columns)], axis=0, ignore_index=True)\n",
    "     logger.info(f\"DataFrame memory used: {sys.getsizeof(events_frame):,} bytes.\")\n",
    " return events_frame\n",
    "\n",
    "\n",
    "def add_branches(df_name: str = 'Bs_data') -> List[str]:\n",
    " \"\"\"\n",
    " Returns branches needed for analysis\n",
    " :param df_name: name of data frame which needs branch loading\n",
    " :return:\n",
    " \"\"\"\n",
    "\n",
    " #Bs=['Bs_M','Bs_P','Bs_PT','Bs_pmu_ISOLATION_BDT1','Bs_pmu_ISOLATION_BDT2','Bs_pmu_ISOLATION_BDT3','Bs_pmu_ISOLATION_BDT4','Bs_DIRA_OWNPV','Bs_IP_OWNPV','Bs_IPCHI2_OWNPV','Bs_FDCHI2_OWNPV','Bs_OWNPV_X', 'Bs_OWNPV_Y', 'Bs_OWNPV_Z','Bs_OWNPV_NDOF','Bs_ENDVERTEX_CHI2','Bs_ENDVERTEX_NDOF','Bs_ENDVERTEX_X', 'Bs_ENDVERTEX_Y', 'Bs_ENDVERTEX_Z']\n",
    "\n",
    " Bs=['Bs_M','Bs_P','Bs_PT', 'Bs_pmu_ISOLATION_BDT1','Bs_DIRA_OWNPV','Bs_IP_OWNPV','Bs_IPCHI2_OWNPV','Bs_FDCHI2_OWNPV','Bs_OWNPV_X', 'Bs_OWNPV_Y', 'Bs_OWNPV_Z','Bs_OWNPV_NDOF','Bs_ENDVERTEX_CHI2','Bs_ENDVERTEX_NDOF','Bs_ENDVERTEX_X', 'Bs_ENDVERTEX_Y', 'Bs_ENDVERTEX_Z',\n",
    "     'Bs_Hlt2TopoMu2BodyDecision_TOS','Bs_Hlt2TopoMu3BodyDecision_TOS', 'Bs_Hlt2TopoMu4BodyDecision_TOS','Bs_Hlt2DiMuonDecision_TOS','Bs_Hlt2SingleMuonDecision_TOS','Bs_Hlt2Topo2BodyDecision_TOS',\n",
    "     'Bs_Hlt2Topo3BodyDecision_TOS', 'Bs_Hlt2Topo4BodyDecision_TOS', 'Bs_Hlt1TrackMVADecision_TOS', 'Bs_Hlt1TrackMuonDecision_TOS', 'Bs_L0MuonDecision_TOS', 'Bs_L0DiMuonDecision_TOS','eventNumber','runNumber']\n",
    " jpsi=['jpsi_M','jpsi_P','jpsi_PT']\n",
    " phi=['phi_M','phi_P','phi_PX','phi_PY','phi_PZ','phi_PT','phi_ENDVERTEX_X', 'phi_ENDVERTEX_Y', 'phi_ENDVERTEX_Z','phi_ENDVERTEX_CHI2','phi_ORIVX_CHI2']\n",
    "\n",
    " mu_plus = ['mu_plus_M','mu_plus_PE', 'mu_plus_PX', 'mu_plus_PY', 'mu_plus_PZ', 'mu_plus_P', 'mu_plus_PT', 'mu_plus_isMuon', 'mu_plus_ProbNNe', 'mu_plus_ProbNNk', 'mu_plus_ProbNNp', 'mu_plus_ProbNNpi', 'mu_plus_ProbNNmu',\n",
    "            'mu_plus_ProbNNd', 'mu_plus_ProbNNghost','mu_plus_PIDmu','mu_plus_PIDK','mu_plus_IPCHI2_OWNPV','mu_plus_MINIPCHI2','mu_plus_AtVtx_PX','mu_plus_AtVtx_PY','mu_plus_AtVtx_PZ','mu_plus_REFPX', 'mu_plus_REFPY', 'mu_plus_REFPZ','mu_plus_TRACK_CloneDist','mu_plus_TRACK_GhostProb']\n",
    " mu_minus = ['mu_minus_M','mu_minus_PE', 'mu_minus_PX', 'mu_minus_PY', 'mu_minus_PZ', 'mu_minus_P', 'mu_minus_PT', 'mu_minus_isMuon', 'mu_minus_ProbNNe', 'mu_minus_ProbNNk', 'mu_minus_ProbNNp', 'mu_minus_ProbNNpi', 'mu_minus_ProbNNmu',\n",
    "             'mu_minus_ProbNNd', 'mu_minus_ProbNNghost','mu_minus_PIDmu','mu_minus_PIDK','mu_minus_IPCHI2_OWNPV','mu_minus_MINIPCHI2','mu_minus_AtVtx_PX','mu_minus_AtVtx_PY','mu_minus_AtVtx_PZ','mu_minus_REFPX', 'mu_minus_REFPY', 'mu_minus_REFPZ','mu_minus_TRACK_CloneDist','mu_minus_TRACK_GhostProb']\n",
    " K_plus = ['K_plus_M','K_plus_PE', 'K_plus_PX', 'K_plus_PY', 'K_plus_PZ', 'K_plus_P', 'K_plus_PT', 'K_plus_isMuon', 'K_plus_ProbNNe', 'K_plus_ProbNNk', 'K_plus_ProbNNp', 'K_plus_ProbNNpi', 'K_plus_ProbNNmu',\n",
    "            'K_plus_ProbNNd', 'K_plus_ProbNNghost','K_plus_PIDK','K_plus_PIDmu','K_plus_PIDd','K_plus_PIDp','K_plus_IPCHI2_OWNPV','K_plus_MINIPCHI2','K_plus_TRACK_CloneDist','K_plus_TRACK_GhostProb']\n",
    " K_minus = ['K_minus_M','K_minus_PE', 'K_minus_PX', 'K_minus_PY', 'K_minus_PZ', 'K_minus_P', 'K_minus_PT', 'K_minus_isMuon', 'K_minus_ProbNNe', 'K_minus_ProbNNk', 'K_minus_ProbNNp', 'K_minus_ProbNNpi', 'K_minus_ProbNNmu',\n",
    "             'K_minus_ProbNNd', 'K_minus_ProbNNghost','K_minus_PIDK','K_minus_PIDmu','K_minus_PIDd','K_minus_PIDp','K_minus_IPCHI2_OWNPV','K_minus_MINIPCHI2','K_minus_TRACK_CloneDist','K_minus_TRACK_GhostProb']\n",
    "\n",
    " return Bs+phi+jpsi+mu_plus+mu_minus+K_plus+K_minus\n",
    "\n",
    "Bs_data=load_data()\n"
   ]
  },
  {
   "cell_type": "markdown",
   "metadata": {},
   "source": [
    "# Make this cell \"CODE\" to load MC phi3tautau \n",
    "\n",
    "import logging\n",
    "import sys\n",
    "from pathlib import Path\n",
    "from typing import List\n",
    "\n",
    "import numpy as np\n",
    "import pandas as pd\n",
    "import uproot\n",
    "\n",
    "\n",
    "logger = logging.getLogger('data_loader')\n",
    "\n",
    "parent_folder = Path(\"/home/hep/kj3417/Bs2KKmumu/\")\n",
    "# # Change the above to be the Path to the folder containing .root files.\n",
    "\n",
    "\n",
    "def load_data(df_name: str = 'Bs_data') -> pd.DataFrame:\n",
    "     \"\"\"\n",
    "     Load data sets with the specified column names\n",
    "     :param df_name: name of df to use (Lb_data, B_MC or Lb_MC)\n",
    "     :return:\n",
    "     \"\"\"\n",
    "     file_names_dict = {\n",
    "#          'Bs_data': ['Bs2KKmumu_2mil_MCtruth_wTrig.root']\n",
    "          'Bs_data': ['Bs2KKmumu_MC_MD_part3_2mil_PID.root','Bs2KKmumu_MC_MD_SL_take2.root']\n",
    "#          'Bs_data': ['Bs2KKmumu_2018_MagUp_SL_line.root', 'Bs2KKmumu_2018_MagDown_SL_line.root'],\n",
    "     }\n",
    "\n",
    "     if df_name not in file_names_dict:\n",
    "         raise ValueError(f'df_name must be one of: {known_names}, not {df_name}')\n",
    "\n",
    "     with timer(\"Loading data\", print_starting=True):\n",
    "         columns = add_branches(df_name)\n",
    "         columns = set(columns)\n",
    "         file_names = file_names_dict[df_name]\n",
    "         events_frame = pd.DataFrame()\n",
    "         i=0\n",
    "         for f in file_names:\n",
    "             file = uproot.open(str(parent_folder / f))\n",
    "             if i==0:\n",
    "                 events = file['DecayTree'] if 'B2' not in f else file['Bs2KKmumu/DecayTree']\n",
    "             #events = file['Bs2KKmumu/DecayTree']\n",
    "                 events_frame = pd.concat([events_frame, events.pandas.df(columns)], axis=0, ignore_index=True)\n",
    "                 i=1\n",
    "             else:\n",
    "                 #events = file['Bs2KKmumu/DecayTree'] if 'B2' not in f else file['Bs2KKmumu/DecayTree']\n",
    "                 events = file['Bs2KKmumu/DecayTree']\n",
    "                 events_frame = pd.concat([events_frame, events.pandas.df(columns)], axis=0, ignore_index=True)\n",
    "         logger.info(f\"DataFrame memory used: {sys.getsizeof(events_frame):,} bytes.\")\n",
    "     return events_frame\n",
    "\n",
    "\n",
    "def add_branches(df_name: str = 'Bs_data') -> List[str]:\n",
    "     \"\"\"\n",
    "     Returns branches needed for analysis\n",
    "     :param df_name: name of data frame which needs branch loading\n",
    "     :return:\n",
    "     \"\"\"\n",
    "\n",
    "     #Bs=['Bs_M','Bs_P','Bs_PT','Bs_pmu_ISOLATION_BDT1','Bs_pmu_ISOLATION_BDT2','Bs_pmu_ISOLATION_BDT3','Bs_pmu_ISOLATION_BDT4','Bs_DIRA_OWNPV','Bs_IP_OWNPV','Bs_IPCHI2_OWNPV','Bs_FDCHI2_OWNPV','Bs_OWNPV_X', 'Bs_OWNPV_Y', 'Bs_OWNPV_Z','Bs_OWNPV_NDOF','Bs_ENDVERTEX_CHI2','Bs_ENDVERTEX_NDOF','Bs_ENDVERTEX_X', 'Bs_ENDVERTEX_Y', 'Bs_ENDVERTEX_Z']\n",
    "     \n",
    "     Bs=['Bs_M','Bs_P','Bs_PT','Bs_pmu_ISOLATION_BDT1','Bs_DIRA_OWNPV','Bs_IP_OWNPV','Bs_IPCHI2_OWNPV','Bs_FDCHI2_OWNPV','Bs_FD_OWNPV','Bs_OWNPV_X', 'Bs_OWNPV_Y', 'Bs_OWNPV_Z','Bs_OWNPV_NDOF','Bs_ENDVERTEX_CHI2','Bs_ENDVERTEX_NDOF','Bs_ENDVERTEX_X', 'Bs_ENDVERTEX_Y', 'Bs_ENDVERTEX_Z','Bs_TRUEENDVERTEX_X', 'Bs_TRUEENDVERTEX_Y', 'Bs_TRUEENDVERTEX_Z','Bs_OWNPV_CHI2','Bs_OWNPV_NDOF','Bs_Hlt2TopoMu2BodyDecision_TOS','Bs_Hlt2TopoMu3BodyDecision_TOS',\n",
    "         'Bs_Hlt2TopoMu4BodyDecision_TOS','Bs_Hlt2DiMuonDecision_TOS','Bs_Hlt2SingleMuonDecision_TOS','Bs_Hlt2Topo2BodyDecision_TOS',\n",
    "         'Bs_Hlt2Topo3BodyDecision_TOS', 'Bs_Hlt2Topo4BodyDecision_TOS', 'Bs_Hlt1TrackMVADecision_TOS', 'Bs_Hlt1TrackMuonDecision_TOS', 'Bs_L0MuonDecision_TOS', 'Bs_L0DiMuonDecision_TOS', 'eventNumber','runNumber']\n",
    "     jpsi=['jpsi_M','jpsi_P','jpsi_PT']\n",
    "     phi=['phi_M','phi_P','phi_PX','phi_PY','phi_PZ','phi_PT','phi_ENDVERTEX_X', 'phi_ENDVERTEX_Y', 'phi_ENDVERTEX_Z','phi_ENDVERTEX_CHI2','phi_TRUEID','phi_MC_MOTHER_ID','phi_OWNPV_CHI2','phi_OWNPV_NDOF','phi_MINIPCHI2','phi_DIRA_ORIVX','phi_ORIVX_CHI2']\n",
    "\n",
    "     mu_plus = ['mu_plus_M','mu_plus_PE', 'mu_plus_PX', 'mu_plus_PY', 'mu_plus_PZ', 'mu_plus_P', 'mu_plus_PT', 'mu_plus_isMuon', 'mu_plus_ProbNNe', 'mu_plus_ProbNNk', 'mu_plus_ProbNNp', 'mu_plus_ProbNNpi', 'mu_plus_ProbNNmu',\n",
    "                'mu_plus_ProbNNd', 'mu_plus_ProbNNghost','mu_plus_PIDmu','mu_minus_PIDp','mu_plus_PIDK','mu_plus_IPCHI2_OWNPV','mu_plus_MINIPCHI2','mu_plus_AtVtx_PX','mu_plus_AtVtx_PY','mu_plus_AtVtx_PZ','mu_plus_REFPX', 'mu_plus_REFPY', 'mu_plus_REFPZ','mu_plus_TRUEID','mu_plus_MC_MOTHER_ID','mu_plus_MC_GD_MOTHER_ID','mu_plus_MC_GD_MOTHER_KEY','mu_plus_TRUEORIGINVERTEX_X','mu_plus_TRUEORIGINVERTEX_Y','mu_plus_TRUEORIGINVERTEX_Z','mu_plus_TRACK_CloneDist','mu_plus_TRACK_GhostProb']\n",
    "     mu_minus = ['mu_minus_M','mu_minus_PE', 'mu_minus_PX', 'mu_minus_PY', 'mu_minus_PZ', 'mu_minus_P', 'mu_minus_PT', 'mu_minus_isMuon', 'mu_minus_ProbNNe', 'mu_minus_ProbNNk', 'mu_minus_ProbNNp', 'mu_minus_ProbNNpi', 'mu_minus_ProbNNmu',\n",
    "                 'mu_minus_ProbNNd', 'mu_minus_ProbNNghost','mu_minus_PIDmu','mu_plus_PIDp','mu_minus_PIDK','mu_minus_IPCHI2_OWNPV','mu_minus_MINIPCHI2','mu_minus_AtVtx_PX','mu_minus_AtVtx_PY','mu_minus_AtVtx_PZ','mu_minus_REFPX', 'mu_minus_REFPY', 'mu_minus_REFPZ','mu_minus_TRUEID','mu_minus_MC_MOTHER_ID','mu_minus_MC_GD_MOTHER_ID','mu_minus_MC_GD_MOTHER_KEY','mu_minus_TRUEORIGINVERTEX_X','mu_minus_TRUEORIGINVERTEX_Y','mu_minus_TRUEORIGINVERTEX_Z','mu_minus_TRACK_CloneDist','mu_minus_TRACK_GhostProb']\n",
    "     K_plus = ['K_plus_M','K_plus_PE', 'K_plus_PX', 'K_plus_PY', 'K_plus_PZ', 'K_plus_P', 'K_plus_PT', 'K_plus_isMuon', 'K_plus_ProbNNe', 'K_plus_ProbNNk', 'K_plus_ProbNNp', 'K_plus_ProbNNpi', 'K_plus_ProbNNmu',\n",
    "                'K_plus_ProbNNd', 'K_plus_ProbNNghost','K_plus_PIDK','K_plus_PIDmu','K_plus_PIDd','K_plus_PIDp','K_plus_IPCHI2_OWNPV','K_plus_MINIPCHI2','K_plus_TRUEID','K_plus_MC_MOTHER_ID','K_plus_MC_GD_MOTHER_ID','K_plus_TRACK_CloneDist','K_plus_TRACK_GhostProb']\n",
    "     K_minus = ['K_minus_M','K_minus_PE', 'K_minus_PX', 'K_minus_PY', 'K_minus_PZ', 'K_minus_P', 'K_minus_PT', 'K_minus_isMuon', 'K_minus_ProbNNe', 'K_minus_ProbNNk', 'K_minus_ProbNNp', 'K_minus_ProbNNpi', 'K_minus_ProbNNmu',\n",
    "                 'K_minus_ProbNNd', 'K_minus_ProbNNghost','K_minus_PIDK','K_minus_PIDmu','K_minus_PIDd','K_minus_PIDp','K_minus_IPCHI2_OWNPV','K_minus_MINIPCHI2','K_minus_TRUEID','K_minus_MC_MOTHER_ID','K_minus_MC_GD_MOTHER_ID','K_minus_TRACK_CloneDist','K_minus_TRACK_GhostProb']\n",
    "\n",
    "     return Bs+phi+jpsi+mu_plus+mu_minus+K_plus+K_minus\n",
    "\n",
    "Bs_data=load_data()"
   ]
  },
  {
   "cell_type": "markdown",
   "metadata": {},
   "source": [
    "import logging\n",
    "import sys\n",
    "from pathlib import Path\n",
    "from typing import List\n",
    "\n",
    "import numpy as np\n",
    "import pandas as pd\n",
    "import uproot\n",
    "import uproot3\n",
    "\n",
    "\n",
    "logger = logging.getLogger('data_loader')\n",
    "\n",
    "parent_folder = Path(\"~/code/data/\")\n",
    "# # Change the above to be the Path to the folder containing .root files.\n",
    "\n",
    "\n",
    "def load_data(df_name: str = 'Bs_data') -> pd.DataFrame:\n",
    "    \"\"\"\n",
    "    Load data sets with the specified column names\n",
    "    :param df_name: name of df to use (Lb_data, B_MC or Lb_MC)\n",
    "    :return:\n",
    "    \"\"\"\n",
    "    file_names_dict = {\n",
    "      'Bs_data': ['bender_mc_PID.root']\n",
    "    #          'Bs_data': ['Bs2KKmumu_2018_MagUp_SL_line.root', 'Bs2KKmumu_2018_MagDown_SL_line.root'],\n",
    "    }\n",
    "\n",
    "    if df_name not in file_names_dict:\n",
    "        raise ValueError(f'df_name must be one of: {known_names}, not {df_name}')\n",
    "\n",
    "    with timer(\"Loading data\", print_starting=True):\n",
    "        columns = add_branches(df_name)\n",
    "        columns = set(columns)\n",
    "        file_names = file_names_dict[df_name]\n",
    "        events_frame = pd.DataFrame()\n",
    "        for f in file_names:\n",
    "            file = uproot3.open(str(parent_folder / f))\n",
    "            # events = file['DecayTree'] if 'B2' not in f else file['LbTuple/DecayTree']\n",
    "            events = file['DecayTree']\n",
    "            events_frame = pd.concat([events_frame, events.pandas.df(columns)], flatten=False, axis=0, ignore_index=True)\n",
    "        logger.info(f\"DataFrame memory used: {sys.getsizeof(events_frame):,} bytes.\")\n",
    "    return events_frame\n",
    "\n",
    "\n",
    "def add_branches(df_name: str = 'Bs_data') -> List[str]:\n",
    "    \"\"\"\n",
    "    Returns branches needed for analysis\n",
    "    :param df_name: name of data frame which needs branch loading\n",
    "    :return:\n",
    "    \"\"\"\n",
    "    \"\"\"\n",
    "    Bs=['Bs_M','Bs_P','Bs_PT','Bs_pmu_ISOLATION_BDT1','Bs_DIRA_OWNPV','Bs_IP_OWNPV','Bs_IPCHI2_OWNPV','Bs_FDCHI2_OWNPV','Bs_OWNPV_X', 'Bs_OWNPV_Y', 'Bs_OWNPV_Z','Bs_OWNPV_NDOF','Bs_ENDVERTEX_CHI2','Bs_ENDVERTEX_NDOF','Bs_ENDVERTEX_X', 'Bs_ENDVERTEX_Y', 'Bs_ENDVERTEX_Z', 'Bs_Hlt2TopoMu2BodyDecision_TOS','Bs_Hlt2TopoMu3BodyDecision_TOS',\n",
    "     'Bs_Hlt2TopoMu4BodyDecision_TOS','Bs_Hlt2DiMuonDecision_TOS','Bs_Hlt2SingleMuonDecision_TOS','Bs_Hlt2Topo2BodyDecision_TOS',\n",
    "     'Bs_Hlt2Topo3BodyDecision_TOS', 'Bs_Hlt2Topo4BodyDecision_TOS', 'Bs_Hlt1TrackMVADecision_TOS', 'Bs_Hlt1TrackMuonDecision_TOS', 'Bs_L0MuonDecision_TOS', 'Bs_L0DiMuonDecision_TOS', 'eventNumber','runNumber']\n",
    "    jpsi=['jpsi_M','jpsi_P','jpsi_PT']\n",
    "    phi=['phi_M','phi_P','phi_PX','phi_PY','phi_PZ','phi_PT','phi_ENDVERTEX_X', 'phi_ENDVERTEX_Y', 'phi_ENDVERTEX_Z','phi_ENDVERTEX_CHI2','phi_ORIVX_CHI2','phi_TRUEID']\n",
    "\n",
    "    mu_plus = ['mu_plus_M','mu_plus_PE', 'mu_plus_PX', 'mu_plus_PY', 'mu_plus_PZ', 'mu_plus_P', 'mu_plus_PT', 'mu_plus_isMuon', 'mu_plus_ProbNNe', 'mu_plus_ProbNNk', 'mu_plus_ProbNNp', 'mu_plus_ProbNNpi', 'mu_plus_ProbNNmu',\n",
    "            'mu_plus_ProbNNd', 'mu_plus_ProbNNghost','mu_plus_PIDmu','mu_plus_PIDK','mu_plus_PIDd','mu_plus_PIDp','mu_plus_IPCHI2_OWNPV','mu_plus_MINIPCHI2','mu_plus_AtVtx_PX','mu_plus_AtVtx_PY','mu_plus_AtVtx_PZ','mu_plus_REFPX', 'mu_plus_REFPY', 'mu_plus_REFPZ','mu_plus_IPCHI2_OWNPV','mu_plus_TRUEID','mu_plus_MC_MOTHER_ID','mu_plus_MC_GD_MOTHER_ID','mu_plus_MC_GD_MOTHER_KEY','mu_plus_TRACK_CloneDist','mu_plus_TRACK_GhostProb']\n",
    "    mu_minus = ['mu_minus_M','mu_minus_PE', 'mu_minus_PX', 'mu_minus_PY', 'mu_minus_PZ', 'mu_minus_P', 'mu_minus_PT', 'mu_minus_isMuon', 'mu_minus_ProbNNe', 'mu_minus_ProbNNk', 'mu_minus_ProbNNp', 'mu_minus_ProbNNpi', 'mu_minus_ProbNNmu',\n",
    "             'mu_minus_ProbNNd', 'mu_minus_ProbNNghost','mu_minus_PIDmu','mu_minus_PIDK','mu_minus_PIDd','mu_minus_PIDp','mu_minus_IPCHI2_OWNPV','mu_minus_MINIPCHI2','mu_minus_AtVtx_PX','mu_minus_AtVtx_PY','mu_minus_AtVtx_PZ','mu_minus_REFPX', 'mu_minus_REFPY', 'mu_minus_REFPZ','mu_minus_IPCHI2_OWNPV','mu_minus_TRUEID','mu_minus_MC_MOTHER_ID','mu_minus_MC_GD_MOTHER_ID','mu_minus_MC_GD_MOTHER_KEY','mu_minus_TRACK_CloneDist','mu_minus_TRACK_GhostProb']\n",
    "    K_plus = ['K_plus_M','K_plus_PE', 'K_plus_PX', 'K_plus_PY', 'K_plus_PZ', 'K_plus_P', 'K_plus_PT', 'K_plus_isMuon', 'K_plus_ProbNNe', 'K_plus_ProbNNk', 'K_plus_ProbNNp', 'K_plus_ProbNNpi', 'K_plus_ProbNNmu',\n",
    "            'K_plus_ProbNNd', 'K_plus_ProbNNghost','K_plus_PIDK','K_plus_PIDmu','K_plus_PIDd','K_plus_PIDp','K_plus_IPCHI2_OWNPV','K_plus_MINIPCHI2','K_plus_TRUEID','K_plus_MC_MOTHER_ID','K_plus_MC_GD_MOTHER_ID','K_plus_MC_GD_MOTHER_KEY','K_plus_TRACK_CloneDist','K_plus_TRACK_GhostProb']\n",
    "    K_minus = ['K_minus_M','K_minus_PE', 'K_minus_PX', 'K_minus_PY', 'K_minus_PZ', 'K_minus_P', 'K_minus_PT', 'K_minus_isMuon', 'K_minus_ProbNNe', 'K_minus_ProbNNk', 'K_minus_ProbNNp', 'K_minus_ProbNNpi', 'K_minus_ProbNNmu',\n",
    "             'K_minus_ProbNNd', 'K_minus_ProbNNghost','K_minus_PIDK','K_minus_PIDmu','K_minus_PIDd','K_minus_PIDp','K_minus_IPCHI2_OWNPV','K_minus_MINIPCHI2','K_minus_TRUEID','K_minus_MC_MOTHER_ID','K_minus_MC_GD_MOTHER_ID','K_minus_MC_GD_MOTHER_KEY','K_minus_TRACK_CloneDist','K_minus_TRACK_GhostProb']\n",
    "    \"\"\"\n",
    "\n",
    "    Bs=['Bs_M','Bs_P','Bs_PT','Bs_MINIPCHI2','Bs_FDCHI2','Bs_TRUE_OVX', 'Bs_TRUE_OVY', 'Bs_TRUE_OVZ','Bs_VCHI2','Bs_VNDOF','Bs_VX', 'Bs_VY', 'Bs_VZ', 'Bs_Hlt2TopoMu2BodyDecision_TOS','Bs_Hlt2TopoMu3BodyDecision_TOS',\n",
    "     'Bs_Hlt2TopoMu4BodyDecision_TOS','Bs_Hlt2DiMuonDecision_TOS','Bs_Hlt2SingleMuonDecision_TOS','Bs_Hlt2Topo2BodyDecision_TOS',\n",
    "     'Bs_Hlt2Topo3BodyDecision_TOS', 'Bs_Hlt2Topo4BodyDecision_TOS', 'Bs_Hlt1TrackMVADecision_TOS', 'Bs_Hlt1TrackMuonDecision_TOS', 'Bs_L0MuonDecision_TOS', 'Bs_L0DiMuonDecision_TOS', 'eventNumber','runNumber']\n",
    "    # jpsi=['jpsi_M','jpsi_P','jpsi_PT']\n",
    "    phi=['phi3_M','phi3_P','phi3_PX','phi3_PY','phi3_PZ','phi3_PT','phi3_VX', 'phi3_VY', 'phi3_VZ','phi3_VCHI2','phi3_TRUE_ID']\n",
    "\n",
    "    mu_plus = ['muplus_M','muplus_E', 'muplus_PX', 'muplus_PY', 'muplus_PZ', 'muplus_P', 'muplus_PT', 'muplus_IsMuon', 'muplus_ProbNNe', 'muplus_ProbNNk', 'muplus_ProbNNp', 'muplus_ProbNNpi', 'muplus_ProbNNmu',\n",
    "            'muplus_ProbNNd', 'muplus_ProbNNghost','muplus_PIDmu_corr','muplus_MINIPCHI2','muplus_RefPoint_X', 'muplus_RefPoint_Y', 'muplus_RefPoint_Z','muplus_ID','muplus_ghostProb']\n",
    "    mu_minus = ['muminus_M','muminus_E', 'muminus_PX', 'muminus_PY', 'muminus_PZ', 'muminus_P', 'muminus_PT', 'muminus_IsMuon', 'muminus_ProbNNe', 'muminus_ProbNNk', 'muminus_ProbNNp', 'muminus_ProbNNpi', 'muminus_ProbNNmu',\n",
    "            'muminus_ProbNNd', 'muminus_ProbNNghost','muminus_PIDmu_corr','muminus_MINIPCHI2','muminus_RefPoint_X', 'muminus_RefPoint_Y', 'muminus_RefPoint_Z','muminus_ID','muminus_ghostProb']\n",
    "   \n",
    "    K_plus = ['Kplus_M','Kplus_E', 'Kplus_PX', 'Kplus_PY', 'Kplus_PZ', 'Kplus_P', 'Kplus_PT', 'Kplus_IsMuon', 'Kplus_ProbNNe', 'Kplus_ProbNNk', 'Kplus_ProbNNp', 'Kplus_ProbNNpi', 'Kplus_ProbNNmu',\n",
    "            'Kplus_ProbNNd', 'Kplus_ProbNNghost','Kplus_PIDK_corr','Kplus_MINIPCHI2','Kplus_TRUE_ID','Kplus_ghostProb']\n",
    "    \n",
    "    K_minus = ['Kminus_M','Kminus_E', 'Kminus_PX', 'Kminus_PY', 'Kminus_PZ', 'Kminus_P', 'Kminus_PT', 'Kminus_IsMuon', 'Kminus_ProbNNe', 'Kminus_ProbNNk', 'Kminus_ProbNNp', 'Kminus_ProbNNpi', 'Kminus_ProbNNmu',\n",
    "            'Kminus_ProbNNd', 'Kminus_ProbNNghost','Kminus_PIDK_corr','Kminus_MINIPCHI2','Kminus_TRUE_ID','Kminus_ghostProb']\n",
    "    \n",
    "    geom = ['DOCA_mu_plus','DOCA_mu_minus','DOCA_chi2_mu_plus','DOCA_chi2_mu_minus','IP_mu_plus','IP_mu_minus','IP_chi2_mu_plus','IP_chi2_mu_minus'\n",
    "            ,'FD_tau_plus','FD_tau_minus','FD_tau_plus','FD_chi2_tau_plus','FD_chi2_tau_minus', 'VFIT_plus_x', 'VFIT_plus_y', 'VFIT_plus_z', 'VFIT_minus_x', 'VFIT_minus_y', 'VFIT_minus_z']\n",
    "    \n",
    "    return Bs+phi+mu_plus+mu_minus+K_plus+K_minus+geom\n",
    "\n",
    "Bs_data=load_data()"
   ]
  },
  {
   "cell_type": "code",
   "execution_count": 4,
   "metadata": {},
   "outputs": [],
   "source": [
    "def root_to_df2(fname,drop_na = False):\n",
    "    file = uproot3.open('{}'.format(fname))\n",
    "    #decay_tuple = file['DecayTree']\n",
    "    decay_tuple = file['DecayTree/DecayTree']\n",
    "    col_names = decay_tuple.keys()\n",
    "    columns = [col.decode(\"utf-8\") for col in col_names]\n",
    "    # df = pd.DataFrame(decay_tuple.arrays(columns, flatten=None))\n",
    "    # df.columns = columns\n",
    "    #df = decay_tuple.pandas.df(columns, flatten=True)\n",
    "    Bs = decay_tuple.pandas.df(\"Bs*\", flatten=True)\n",
    "    phi = decay_tuple.pandas.df(\"phi3*\", flatten=True)\n",
    "    dist = decay_tuple.pandas.df(\"DOCA*\", flatten=True)\n",
    "    ip = decay_tuple.pandas.df(\"IP*\", flatten=True)\n",
    "    fd = decay_tuple.pandas.df(\"FD*\", flatten=True)\n",
    "    vfit = decay_tuple.pandas.df(\"VFIT*\", flatten=True)\n",
    "    muminus = decay_tuple.pandas.df(\"muminus*\", flatten=True)\n",
    "    muplus = decay_tuple.pandas.df(\"muplus*\", flatten=True)\n",
    "    tauminus = decay_tuple.pandas.df(\"tauminus*\", flatten=True)\n",
    "    tauplus = decay_tuple.pandas.df(\"tauplus*\", flatten=True)\n",
    "    Kminus = decay_tuple.pandas.df(\"Kminus*\", flatten=True)\n",
    "    Kplus = decay_tuple.pandas.df(\"Kplus*\", flatten=True)\n",
    "    events = decay_tuple.pandas.df(\"event*\", flatten=True)\n",
    "    # dfs = [Bs, phi, dist, mu, Kplus, Kminus]\n",
    "    df = Bs.join(phi, how=\"outer\").join(dist, how=\"outer\").join(ip, how=\"outer\").join(vfit, how=\"outer\").join(fd, how=\"outer\").join(muplus, how=\"outer\").join(muminus, how=\"outer\").join(tauplus, how=\"outer\").join(tauminus, how=\"outer\").join(Kminus, how=\"outer\").join(Kplus, how=\"outer\").join(events, how=\"outer\")\n",
    "    if drop_na:\n",
    "        df.dropna(inplace=True)\n",
    "    np.savetxt('columns/{}_columns.txt'.format(fname.split('.')[0].split('/')[-1]),df.columns.to_numpy(),fmt='%s')\n",
    "    return df\n",
    "\n",
    "Bs_data_1=root_to_df2('../data/bender_data_2018_part1.root', drop_na=True)\n",
    "Bs_data_2=root_to_df2('../data/bender_data_2018_part2.root', drop_na=True)\n",
    "Bs_data = pd.concat([Bs_data_1,Bs_data_2])"
   ]
  },
  {
   "cell_type": "markdown",
   "metadata": {},
   "source": [
    "Add J_psi mass:"
   ]
  },
  {
   "cell_type": "code",
   "execution_count": 5,
   "metadata": {},
   "outputs": [
    {
     "data": {
      "image/png": "[encoded data removed]",
      "text/plain": [
       "<Figure size 432x288 with 1 Axes>"
      ]
     },
     "metadata": {
      "needs_background": "light"
     },
     "output_type": "display_data"
    }
   ],
   "source": [
    "Bs_data['muplus_E'] = np.sqrt(Bs_data['muplus_M']**2 + np.linalg.norm(Bs_data[['muplus_PX','muplus_PY','muplus_PZ']].to_numpy(), axis = 1)**2)\n",
    "Bs_data['muminus_E'] = np.sqrt(Bs_data['muminus_M']**2 + np.linalg.norm(Bs_data[['muminus_PX','muminus_PY','muminus_PZ']].to_numpy(), axis = 1)**2)\n",
    "\n",
    "mu_plus_4mom = Bs_data[['muplus_E','muplus_PX','muplus_PY','muplus_PZ']].to_numpy()\n",
    "mu_minus_4mom = Bs_data[['muminus_E','muminus_PX','muminus_PY','muminus_PZ']].to_numpy()\n",
    "\n",
    "def metric_norm(x):\n",
    "    e = x[:,0]\n",
    "    p = x[:,1:4]\n",
    "    return e**2 - np.linalg.norm(p,axis = 1)**2\n",
    "\n",
    "Bs_data['jpsi_M'] = np.sqrt(metric_norm(mu_plus_4mom + mu_minus_4mom))\n",
    "plt.hist(Bs_data['jpsi_M'] , bins='auto', range=(0, 4000), alpha = 0.5, label = \"jpsi_M\")\n",
    "plt.xlabel('$m_{J / \\psi}$')\n",
    "plt.tight_layout(pad=0.5)\n",
    "plt.legend()\n",
    "\n",
    "plt.show()"
   ]
  },
  {
   "cell_type": "markdown",
   "metadata": {
    "colab_type": "text",
    "id": "sB1vJU5a8OoS"
   },
   "source": [
    "## Plotting options"
   ]
  },
  {
   "cell_type": "code",
   "execution_count": 6,
   "metadata": {
    "colab": {
     "base_uri": "https://localhost:8080/",
     "height": 85
    },
    "colab_type": "code",
    "id": "n12V0iRp8SAf",
    "outputId": "b0963707-14e5-4f29-ea9b-d5079309f5ba"
   },
   "outputs": [
    {
     "name": "stdout",
     "output_type": "stream",
     "text": [
      "Set xtick.major.size to 1.5 from 3.5\n",
      "Set xtick.major.pad to 1.5 from 3.5\n",
      "Set axes.labelpad to 2 from 4.0\n",
      "Set axes.grid to True from False\n"
     ]
    }
   ],
   "source": [
    "import matplotlib.pyplot as plt\n",
    "\n",
    "plt.rcdefaults()\n",
    "\n",
    "rcParams = {\n",
    "    'xtick.major.size': 1.5,\n",
    "    'xtick.major.pad': 1.5,\n",
    "    'axes.labelpad': 2,\n",
    "    'axes.grid': True,\n",
    "}\n",
    "for k, v in rcParams.items():\n",
    "    print(f\"Set {k} to {v} from {plt.rcParams[k]}\")\n",
    "    plt.rcParams[k] = v"
   ]
  },
  {
   "cell_type": "code",
   "execution_count": 7,
   "metadata": {},
   "outputs": [],
   "source": [
    "\n",
    "\"\"\"\n",
    "=============\n",
    "plot settings\n",
    "=============\n",
    "\"\"\"\n",
    "\n",
    "override = {\n",
    "   'axes.labelsize':40,\n",
    "   'font.size': 40,\n",
    "   'legend.fontsize': 40,\n",
    "   'legend.framealpha': 1,\n",
    "   'legend.edgecolor': 'black',\n",
    "   'grid.color': 'gainsboro',\n",
    "   'grid.linewidth': 1.75,\n",
    "   'xtick.labelsize': 40,\n",
    "   'ytick.labelsize': 40,\n",
    "   'figure.figsize': [13, 10],\n",
    "   'lines.linewidth': 3,\n",
    "   'font.family': 'DejaVu Sans',\n",
    "   'mathtext.fontset': 'cm',\n",
    "   'text.usetex': True ### attention! May raise errors if you have not set up python to use LaTex\n",
    "   } \n",
    "\n",
    "overridesmall = {\n",
    "   'axes.labelsize':28,\n",
    "   'font.size': 28,\n",
    "   'legend.fontsize': 32,\n",
    "   'legend.framealpha': 1,\n",
    "   'legend.edgecolor': 'black',\n",
    "   'grid.color': 'gainsboro',\n",
    "   'xtick.labelsize': 28,\n",
    "   'ytick.labelsize': 28,   \n",
    "   'figure.figsize': [11, 8.5],\n",
    "   'lines.linewidth': 3,\n",
    "   'font.sans-serif': 'Computer Modern Sans serif',\n",
    "   'mathtext.fontset': 'cm'\n",
    "   } \n",
    "\n",
    "colors=[\"indianred\",\"dodgerblue\",\"darkorange\",\"forestgreen\",\"hotpink\",\n",
    "        \"cornflowerblue\",\"darkgoldenrod\",\"sienna\",\"yellowgreen\",\"tomato\"]\n"
   ]
  },
  {
   "cell_type": "markdown",
   "metadata": {},
   "source": [
    "Let's plot the $KK \\mu \\mu$ and $KK$ spectra before any analysis and cuts:"
   ]
  },
  {
   "cell_type": "code",
   "execution_count": 8,
   "metadata": {},
   "outputs": [
    {
     "data": {
      "image/png": "[encoded data removed]",
      "text/plain": [
       "<Figure size 600x300 with 1 Axes>"
      ]
     },
     "metadata": {},
     "output_type": "display_data"
    },
    {
     "data": {
      "image/png": "[encoded data removed]",
      "text/plain": [
       "<Figure size 600x300 with 1 Axes>"
      ]
     },
     "metadata": {},
     "output_type": "display_data"
    }
   ],
   "source": [
    "plt.figure(figsize=(6, 3))\n",
    "Bs_mass_range = (2500, 7000)\n",
    "plt.hist(Bs_data['Bs_M'], bins='auto', range=Bs_mass_range)\n",
    "\n",
    "plt.xlabel('$m_{KK \\mu \\mu}$')\n",
    "plt.xlim(Bs_mass_range)\n",
    "#plt.legend()\n",
    "plt.tight_layout(pad=0.5)\n",
    "\n",
    "plt.show()\n",
    "\n",
    "plt.figure(figsize=(6, 3))\n",
    "Bs_mass_range = (900, 2000)\n",
    "plt.hist(Bs_data['phi3_M'], bins='auto', range=Bs_mass_range)\n",
    "\n",
    "plt.xlabel('$m_{KK}$')\n",
    "plt.xlim(Bs_mass_range)\n",
    "#plt.legend()\n",
    "plt.tight_layout(pad=0.5)\n",
    "\n",
    "plt.show()"
   ]
  },
  {
   "cell_type": "markdown",
   "metadata": {},
   "source": [
    "Let's plot $KK \\mu \\mu$ and $KK$ spectra with $\\phi_3$ selection and "
   ]
  },
  {
   "cell_type": "code",
   "execution_count": 9,
   "metadata": {},
   "outputs": [
    {
     "data": {
      "image/png": "[encoded data removed]",
      "text/plain": [
       "<Figure size 600x300 with 1 Axes>"
      ]
     },
     "metadata": {},
     "output_type": "display_data"
    },
    {
     "data": {
      "image/png": "[encoded data removed]",
      "text/plain": [
       "<Figure size 600x300 with 1 Axes>"
      ]
     },
     "metadata": {},
     "output_type": "display_data"
    }
   ],
   "source": [
    "phi3mask=((Bs_data['phi3_M']>1600) & (Bs_data['phi3_M']<1820))\n",
    "\n",
    "plt.figure(figsize=(6, 3))\n",
    "Bs_mass_range = (2500, 7200)\n",
    "plt.hist(Bs_data.loc[phi3mask]['Bs_M'], bins=100, range=Bs_mass_range)\n",
    "\n",
    "plt.xlabel('$m_{KK \\mu \\mu}$')\n",
    "plt.xlim(Bs_mass_range)\n",
    "#plt.legend()\n",
    "plt.tight_layout(pad=0.5)\n",
    "\n",
    "plt.show()\n",
    "\n",
    "\n",
    "plt.figure(figsize=(6, 3))\n",
    "Bs_mass_range = (0, 7200)\n",
    "plt.hist(Bs_data.loc[phi3mask]['phi3_M'], bins=100, range=Bs_mass_range)\n",
    "\n",
    "plt.xlabel('$m_{KK}$')\n",
    "plt.xlim(Bs_mass_range)\n",
    "#plt.legend()\n",
    "plt.tight_layout(pad=0.5)\n",
    "\n",
    "plt.show()"
   ]
  },
  {
   "cell_type": "markdown",
   "metadata": {
    "colab_type": "text",
    "id": "pdNv3XyV9vyk"
   },
   "source": [
    "## Cutting function"
   ]
  },
  {
   "cell_type": "code",
   "execution_count": 10,
   "metadata": {
    "colab": {},
    "colab_type": "code",
    "id": "9e5Gexhi9ulj"
   },
   "outputs": [],
   "source": [
    "import logging\n",
    "from typing import Callable\n",
    "\n",
    "import pandas as pd\n",
    "\n",
    "logger = logging.getLogger(\"CuttingMonitor\")\n",
    "logging.basicConfig(level=logging.INFO)\n",
    "\n",
    "def apply_cuts(name: str, data_frame: pd.DataFrame, func: Callable[[pd.DataFrame], pd.DataFrame]):\n",
    "    logger.info(f\"Applying cuts: {name}\")\n",
    "    initial_length = len(data_frame)\n",
    "    logger.info(f\"\\tInitial length: {initial_length}\")\n",
    "\n",
    "    data_frame = func(data_frame)\n",
    "\n",
    "    length_after_cuts = len(data_frame)\n",
    "    logger.info(f\"\\tLength after cut: {length_after_cuts} ({length_after_cuts / initial_length * 100:.3f}% kept)\")\n",
    "    return data_frame"
   ]
  },
  {
   "cell_type": "markdown",
   "metadata": {
    "colab_type": "text",
    "id": "ENOFmwe1_prE"
   },
   "source": [
    "## Utilities"
   ]
  },
  {
   "cell_type": "code",
   "execution_count": 11,
   "metadata": {
    "colab": {},
    "colab_type": "code",
    "id": "gpD65ody_o67"
   },
   "outputs": [],
   "source": [
    "import numpy as np\n",
    "import pandas as pd\n",
    "from typing import List, Optional\n",
    "\n",
    "masses = {'mu': 105.658, 'tau': 1777, 'proton': 938.272, 'K': 493.677, 'pi': 139.57, 'D0': 1865,\n",
    "          'J/psi': 3097, 'psi(2S)': 3686, 'rho0': 770, 'rho1450': 1450, 'kstar': 892,\n",
    "          'Lc': 2286, 'Lb': 5620, 'B': 5279, 'phi': 1020, 'Bs': 5367,'f0':1500}\n",
    "\n",
    "\n",
    "def get_mass(data_frame: pd.DataFrame, particles_associations: List[List[str]]) -> pd.DataFrame:\n",
    "    \"\"\"\n",
    "    Obtains the mass of different associations of particles\n",
    "    :param data_frame:\n",
    "    :param particles_associations: list of lists made of ['particle_P', 'particle']\n",
    "    :return:\n",
    "    \"\"\"\n",
    "    energy_series = [\n",
    "        (data_frame.loc[:, particle_P] ** 2 + masses[particle] ** 2) ** 0.5\n",
    "        for particle_P, particle in particles_associations\n",
    "    ]\n",
    "    energy = pd.concat(energy_series, axis=1).sum(axis=1)\n",
    "    \n",
    "    particle_Ps = [i[0] for i in particles_associations]\n",
    "    \n",
    "    momentums = {}\n",
    "    for coord in ['X', 'Y', 'Z']:\n",
    "        particle_P_coords = [f'{particle_P}{coord}' for particle_P in particle_Ps]\n",
    "        momentum_series = data_frame.loc[:, particle_P_coords].sum(axis=1)\n",
    "        momentums[coord] = momentum_series\n",
    "    sum_momenta = (pd.concat(momentums.values(), axis=1) ** 2).sum(axis=1)\n",
    "    mass = (energy ** 2 - sum_momenta) ** 0.5\n",
    "    return mass\n"
   ]
  },
  {
   "cell_type": "code",
   "execution_count": 12,
   "metadata": {
    "colab": {},
    "colab_type": "code",
    "id": "Q2iBNcXdA_iq"
   },
   "outputs": [],
   "source": [
    "def rename_func(name: str):\n",
    "    \"\"\"\n",
    "    Used to rename DataFrame columns that end in 'X', 'Y', and 'Z' such that they can be used in arithmetic operations\n",
    "    \"\"\"\n",
    "    return name[-1].lower()"
   ]
  },
  {
   "cell_type": "markdown",
   "metadata": {},
   "source": [
    "Below a \"rustic\" counter of the events to not double count copies of the same event"
   ]
  },
  {
   "cell_type": "code",
   "execution_count": 13,
   "metadata": {},
   "outputs": [],
   "source": [
    "def event_counter(data_frame):\n",
    "    actual_events=[]\n",
    "    counter=0\n",
    "    event_number=data_frame['eventNumber'].to_numpy()\n",
    "    run_number=data_frame['eventNumber'].to_numpy()\n",
    "    for i in range(len(event_number)):\n",
    "        if (event_number[i] in actual_events)==False:\n",
    "            actual_events.append(event_number[i])\n",
    "            counter+=1\n",
    "    return counter"
   ]
  },
  {
   "cell_type": "markdown",
   "metadata": {
    "colab_type": "text",
    "id": "5iiZ-YAUmp2d"
   },
   "source": [
    "\n",
    "# Background Reduction\n"
   ]
  },
  {
   "cell_type": "code",
   "execution_count": 14,
   "metadata": {
    "colab": {},
    "colab_type": "code",
    "id": "h51J8GI9moOQ"
   },
   "outputs": [],
   "source": [
    "data_frame = Bs_data.copy()"
   ]
  },
  {
   "cell_type": "code",
   "execution_count": 15,
   "metadata": {},
   "outputs": [],
   "source": [
    "triggering=(((data_frame[\"Bs_Hlt2TopoMu2BodyDecision_TOS\"].astype(int) | data_frame[\"Bs_Hlt2TopoMu3BodyDecision_TOS\"].astype(int) | data_frame[\"Bs_Hlt2TopoMu4BodyDecision_TOS\"].astype(int) |\n",
    "               data_frame[\"Bs_Hlt2DiMuonDecision_TOS\"].astype(int) | data_frame[\"Bs_Hlt2SingleMuonDecision_TOS\"].astype(int) | data_frame[\"Bs_Hlt2Topo2BodyDecision_TOS\"].astype(int) | data_frame[\"Bs_Hlt2Topo3BodyDecision_TOS\"].astype(int) | data_frame[\"Bs_Hlt2Topo4BodyDecision_TOS\"].astype(int))>0) &\n",
    "            ((data_frame[\"Bs_Hlt1TrackMVADecision_TOS\"].astype(int) | data_frame[\"Bs_Hlt1TrackMuonDecision_TOS\"].astype(int))>0) &\n",
    "            ((data_frame[\"Bs_L0MuonDecision_TOS\"].astype(int) | data_frame[\"Bs_L0DiMuonDecision_TOS\"].astype(int))>0))\n",
    "\n",
    "data_frame=data_frame.loc[triggering]"
   ]
  },
  {
   "cell_type": "markdown",
   "metadata": {},
   "source": [
    "First of all, we need to deploy the triggering to the data"
   ]
  },
  {
   "cell_type": "markdown",
   "metadata": {},
   "source": [
    "triggering=(((data_frame[\"Bs_Hlt2TopoMu2BodyDecision_TOS\"] | data_frame[\"Bs_Hlt2TopoMu3BodyDecision_TOS\"] | data_frame[\"Bs_Hlt2TopoMu4BodyDecision_TOS\"] |\n",
    "               data_frame[\"Bs_Hlt2DiMuonDecision_TOS\"] | data_frame[\"Bs_Hlt2SingleMuonDecision_TOS\"] | data_frame[\"Bs_Hlt2Topo2BodyDecision_TOS\"] | data_frame[\"Bs_Hlt2Topo3BodyDecision_TOS\"] | data_frame[\"Bs_Hlt2Topo4BodyDecision_TOS\"])>0.0) &\n",
    "            ((data_frame[\"Bs_Hlt1TrackMVADecision_TOS\"] | data_frame[\"Bs_Hlt1TrackMuonDecision_TOS\"])>0.0) &\n",
    "            ((data_frame[\"Bs_L0MuonDecision_TOS\"] | data_frame[\"Bs_L0DiMuonDecision_TOS\"])>0.0))\n",
    "\n",
    "data_frame=data_frame.loc[triggering]"
   ]
  },
  {
   "cell_type": "markdown",
   "metadata": {},
   "source": [
    "Let's plot the triggered tuple (not much has changed):"
   ]
  },
  {
   "cell_type": "code",
   "execution_count": 16,
   "metadata": {},
   "outputs": [
    {
     "data": {
      "image/png": "[encoded data removed]",
      "text/plain": [
       "<Figure size 600x300 with 1 Axes>"
      ]
     },
     "metadata": {},
     "output_type": "display_data"
    }
   ],
   "source": [
    "plt.figure(figsize=(6, 3))\n",
    "Bs_mass_range = (3000, 7000)\n",
    "plt.hist(data_frame['Bs_M'], bins='auto', range=Bs_mass_range)\n",
    "\n",
    "plt.xlabel('$m_{KK \\mu \\mu}$')\n",
    "plt.xlim(Bs_mass_range)\n",
    "#plt.legend()\n",
    "plt.tight_layout(pad=0.5)\n",
    "\n",
    "plt.show()"
   ]
  },
  {
   "cell_type": "markdown",
   "metadata": {},
   "source": [
    "Let's add the $\\chi^2$ divided by the DoF as a column of the data frame, since it gives us a good measure of the quality of the vertex"
   ]
  },
  {
   "cell_type": "code",
   "execution_count": 17,
   "metadata": {},
   "outputs": [],
   "source": [
    "def chi2_dof(data_frame):\n",
    "    chi2 = data_frame.loc[:, Bs_IPCHI2_OWNPV]\n",
    "    dof = Bs_IPCHI2_OWNPV\n",
    "    direct= _bs_flight.divide((_bs_flight ** 2).sum(axis=1) ** 0.5, axis=0)\n",
    "\n",
    "    data_frame['chi2_dof'] = np.arccos(np.clip(dot_prod, -1.0, 1.0))\n",
    "    return data_frame"
   ]
  },
  {
   "cell_type": "markdown",
   "metadata": {
    "colab_type": "text",
    "id": "N_YDIWTlmurf"
   },
   "source": [
    "## Background reduction\n",
    "The background was reduced in several ways: \n",
    "1. There were some inconsistencies in the data (structures at low values of momentum or PID), which were removed\n",
    "2. Some known cuts were present in the data and were removed\n",
    "3. Properties of events were optimised with a boosted decision tree."
   ]
  },
  {
   "cell_type": "markdown",
   "metadata": {
    "colab_type": "text",
    "id": "fWcNmEq38YjN"
   },
   "source": [
    "## Cleaning cuts"
   ]
  },
  {
   "cell_type": "markdown",
   "metadata": {
    "colab_type": "text",
    "id": "ESv12vrL8drY"
   },
   "source": [
    "### Momentum inconsistencies"
   ]
  },
  {
   "cell_type": "markdown",
   "metadata": {
    "colab_type": "text",
    "id": "rdLRACQ18hfB"
   },
   "source": [
    "We could see inconsistencies in the momentum distributions of the muons, as outlined below.\n",
    "The cuts used are as follows:\n",
    "* events with `mu_minus_PT` $<1.5$GeV were removed\n",
    "* events with `mu_plus_PT` $<1.5$GeV were removed\n"
   ]
  },
  {
   "cell_type": "code",
   "execution_count": 18,
   "metadata": {
    "colab": {},
    "colab_type": "code",
    "id": "ksppJ_XT8gQz"
   },
   "outputs": [],
   "source": [
    "mu_minus_PT_threshold = 1.5e3\n",
    "mu_plus_PT_threshold = 1.5e3\n",
    "K_plus_PT_threshold=5.0e2\n",
    "K_minus_PT_threshold=5.0e2"
   ]
  },
  {
   "cell_type": "code",
   "execution_count": 19,
   "metadata": {
    "colab": {
     "base_uri": "https://localhost:8080/",
     "height": 440
    },
    "colab_type": "code",
    "id": "mV-I88Gf8l0D",
    "outputId": "3d9df983-0ed0-4563-9c93-12ec0422b4f0"
   },
   "outputs": [
    {
     "data": {
      "image/png": "[encoded data removed]",
      "text/plain": [
       "<Figure size 600x300 with 4 Axes>"
      ]
     },
     "metadata": {},
     "output_type": "display_data"
    }
   ],
   "source": [
    "variables_to_plot = [\n",
    "    ('muminus_PT', [0, 6000], mu_minus_PT_threshold),\n",
    "    ('muplus_PT', [0, 6000], mu_plus_PT_threshold),\n",
    "    ('Kplus_PT', [0, 6000], K_plus_PT_threshold),\n",
    "    ('Kminus_PT', [0, 6000], K_minus_PT_threshold)\n",
    "]\n",
    "\n",
    "rows = int(np.ceil(len(variables_to_plot) / 2))\n",
    "fig, axs = plt.subplots(rows, 2, figsize=(6, rows + 1))\n",
    "axs = axs.flatten()\n",
    "for i, (variable_name, range_, threshold) in enumerate(variables_to_plot):\n",
    "    ax = axs[i]\n",
    "    x_scale_factor = 1e3\n",
    "    range_ = np.array(range_) / x_scale_factor\n",
    "    ax.hist(data_frame.loc[:, variable_name] / x_scale_factor, bins='auto', range=range_)\n",
    "    ax.axvspan(0, threshold / 1e3, color='r', alpha=0.3)\n",
    "    ax.set_xlabel(variable_name + \" [GeV]\")\n",
    "    ax.set_xlim(range_)\n",
    "\n",
    "plt.tight_layout(pad=0.5)\n",
    "plt.show()\n"
   ]
  },
  {
   "cell_type": "markdown",
   "metadata": {
    "colab_type": "text",
    "id": "S6Zm5n-99b2O"
   },
   "source": [
    "### PID inconsistencies"
   ]
  },
  {
   "cell_type": "markdown",
   "metadata": {
    "colab_type": "text",
    "id": "uysnOP8X9e6u"
   },
   "source": [
    "PID inconsistencies were removed as follows:\n",
    "* `K_plus_PIDK` $<5$ were removed\n",
    "* `K_minus_PIDK` $<5$ were removed\n",
    "* `mu_plus_PIDmu` $<3$ were removed\n",
    "* `mu_minus_PIDmu` $<3$ were removed"
   ]
  },
  {
   "cell_type": "markdown",
   "metadata": {
    "colab": {
     "base_uri": "https://localhost:8080/",
     "height": 322
    },
    "colab_type": "code",
    "id": "ATvHhfWi9ikK",
    "outputId": "6bfebcbd-4c02-4b3c-c801-702fb03586c1"
   },
   "source": [
    "mu_minus_PIDmu_threshold=3\n",
    "mu_plus_PIDmu_threshold=3\n",
    "K_minus_PIDK_threshold=5\n",
    "K_plus_PIDK_threshold=5\n",
    "\n",
    "\n",
    "variables_to_plot = [\n",
    "    ('muminus_PIDmu_corr', [0, 15], mu_minus_PIDmu_threshold),\n",
    "    ('muplus_PIDmu_corr', [0, 15], mu_plus_PIDmu_threshold),\n",
    "    ('Kminus_PIDK_corr', [0, 120], K_minus_PIDK_threshold),\n",
    "    ('Kplus_PIDK_corr', [0, 120], K_plus_PIDK_threshold)\n",
    "]\n",
    "\n",
    "rows = int(np.ceil(len(variables_to_plot) / 2))\n",
    "fig, axs = plt.subplots(rows, 2, figsize=(6, rows + 1))\n",
    "axs = axs.flatten()\n",
    "for i, (variable_name, range_, threshold) in enumerate(variables_to_plot):\n",
    "    ax = axs[i]\n",
    "    range_ = np.array(range_)\n",
    "    ax.hist(data_frame.loc[:, variable_name], bins='auto', range=range_)\n",
    "    ax.axvspan(0, threshold, color='r', alpha=0.3)\n",
    "    ax.set_xlabel(variable_name)\n",
    "    ax.set_xlim(range_)\n",
    "\n",
    "plt.tight_layout(pad=0.5)\n",
    "plt.show()\n"
   ]
  },
  {
   "cell_type": "code",
   "execution_count": 20,
   "metadata": {
    "colab": {
     "base_uri": "https://localhost:8080/",
     "height": 69
    },
    "colab_type": "code",
    "id": "P6_hGTgX-FoN",
    "outputId": "88b83582-791e-4c5c-c8ee-178ee9c318a6"
   },
   "outputs": [
    {
     "name": "stderr",
     "output_type": "stream",
     "text": [
      "INFO:CuttingMonitor:Applying cuts: Inconsistencies\n",
      "INFO:CuttingMonitor:\tInitial length: 1050431\n",
      "INFO:CuttingMonitor:\tLength after cut: 363014 (34.559% kept)\n"
     ]
    }
   ],
   "source": [
    "def apply_inconsistencies_cuts(data_frame, apply_PID_cuts=False):\n",
    "    data_frame = data_frame.loc[data_frame['muminus_PT'] > mu_minus_PT_threshold]\n",
    "    data_frame = data_frame.loc[data_frame['muplus_PT'] > mu_plus_PT_threshold]\n",
    "    data_frame = data_frame.loc[data_frame['Kminus_PT'] > K_minus_PT_threshold]\n",
    "    data_frame = data_frame.loc[data_frame['Kplus_PT'] > K_plus_PT_threshold]\n",
    "    if apply_PID_cuts:\n",
    "        data_frame = data_frame.loc[data_frame['muminus_PIDmu'] > mu_minus_PIDmu_threshold]\n",
    "        data_frame = data_frame.loc[data_frame['muplus_PIDmu'] > mu_plus_PIDmu_threshold]\n",
    "        data_frame = data_frame.loc[data_frame['Kplus_PIDK'] > K_plus_PIDK_threshold]\n",
    "        data_frame = data_frame.loc[data_frame['Kminus_PIDK'] > K_minus_PIDK_threshold]\n",
    "    return data_frame\n",
    "\n",
    "data_frame = apply_cuts('Inconsistencies', data_frame, apply_inconsistencies_cuts)\n"
   ]
  },
  {
   "cell_type": "markdown",
   "metadata": {},
   "source": [
    "Plot the $KK \\mu \\mu$ spectrum after these preliminary cuts:"
   ]
  },
  {
   "cell_type": "code",
   "execution_count": 21,
   "metadata": {},
   "outputs": [
    {
     "data": {
      "image/png": "[encoded data removed]",
      "text/plain": [
       "<Figure size 600x300 with 1 Axes>"
      ]
     },
     "metadata": {},
     "output_type": "display_data"
    }
   ],
   "source": [
    "plt.figure(figsize=(6, 3))\n",
    "Bs_mass_range = (3000, 7000)\n",
    "plt.hist(data_frame['Bs_M'], bins='auto', range=Bs_mass_range)\n",
    "\n",
    "plt.xlabel('$m_{B_s}$')\n",
    "plt.xlim(Bs_mass_range)\n",
    "#plt.legend()\n",
    "plt.tight_layout(pad=0.5)\n",
    "\n",
    "plt.show()"
   ]
  },
  {
   "cell_type": "markdown",
   "metadata": {
    "colab_type": "text",
    "id": "okG1vCgO-Q_x"
   },
   "source": [
    "## Comparisons between background proxy and signal region"
   ]
  },
  {
   "cell_type": "markdown",
   "metadata": {
    "colab_type": "text",
    "id": "-KqsEq-1-SeU"
   },
   "source": [
    "Attributes of the $J/\\psi$ data were compared with attributes of the background.\n",
    "Attributes consisted of\n",
    "1. PID cuts\n",
    "2. IP cuts\n",
    "3. Isolation angle cuts\n",
    "4. $\\chi^2$ cuts\n",
    "\n",
    "These have only been observed to look for evident cuts that we could do without a Boosted Decision Tree. In the end, we did not perform any cuts not to kill our signal further (SL stripping already harms us significantly)"
   ]
  },
  {
   "cell_type": "markdown",
   "metadata": {
    "colab_type": "text",
    "id": "7cRzDDZq-Ygr"
   },
   "source": [
    "### Defining control and background"
   ]
  },
  {
   "cell_type": "markdown",
   "metadata": {
    "colab_type": "text",
    "id": "G41hGd2_-ZiP"
   },
   "source": [
    "The dimuon mass of the data frame was obtained with `get_mass`. \n",
    "Then the contol data was defined as data with a mass close to the $B_s$ mass and a dimuon mass close to the $J/\\psi$ mass and dikaon mass in $\\phi_3$ region. For our signal region we select $KK \\mu \\mu$ spectrum below 3.75 GeV, since neutrinos take away at least a $\\tau$ mass from the original energy. We also select $KK$ region within $\\phi_3$ and veto $J/\\psi$ and $\\psi(2s)$ region for dimuon spectrum.\n",
    "A plot of the dimuon mass shows a clear peak at the $J/\\psi$ resonance.\n"
   ]
  },
  {
   "cell_type": "code",
   "execution_count": 22,
   "metadata": {
    "colab": {},
    "colab_type": "code",
    "id": "2LxCc17PReGF"
   },
   "outputs": [],
   "source": [
    "particles_associations_mu = [['muplus_P', 'mu'], ['muminus_P', 'mu']]\n",
    "particles_associations_K = [['Kplus_P', 'K'], ['Kminus_P', 'K']]\n",
    "data_frame['dimuon_mass'] = get_mass(data_frame=data_frame, particles_associations=particles_associations_mu)\n",
    "data_frame['dikaon_mass'] = get_mass(data_frame=data_frame, particles_associations=particles_associations_K)"
   ]
  },
  {
   "cell_type": "code",
   "execution_count": 23,
   "metadata": {
    "colab": {
     "base_uri": "https://localhost:8080/",
     "height": 323
    },
    "colab_type": "code",
    "id": "2YuVf2CVCtJK",
    "outputId": "683ef28b-2258-44f4-9576-f0068ba3aa88"
   },
   "outputs": [
    {
     "data": {
      "image/png": "[encoded data removed]",
      "text/plain": [
       "<Figure size 600x300 with 1 Axes>"
      ]
     },
     "metadata": {},
     "output_type": "display_data"
    }
   ],
   "source": [
    "jpsi_peak_mask = (\n",
    "    (data_frame['jpsi_M'] > 3020) & (data_frame['jpsi_M'] < 3155) & \n",
    "    (data_frame['Bs_M'] > 5200) & (data_frame['Bs_M'] < 5400) & (data_frame['phi3_M'] > 1600) & (data_frame['phi3_M'] < 1820)\n",
    ")\n",
    "background_selection = data_frame.loc[jpsi_peak_mask]\n",
    "\n",
    "plt.figure(figsize=(6, 3))\n",
    "dimuon_mass_range = (500, 4000)\n",
    "plt.hist(background_selection['dimuon_mass'], bins='auto', range=dimuon_mass_range)\n",
    "\n",
    "plt.axvspan(3020, 3155, label=r'$J/\\psi$', color='C1',alpha=0.3)\n",
    "\n",
    "plt.xlabel('$m_{\\mu\\mu}$')\n",
    "plt.xlim(dimuon_mass_range)\n",
    "plt.legend()\n",
    "plt.tight_layout(pad=0.5)\n",
    "plt.show()\n",
    "\n",
    "\n",
    "'''\n",
    "signal_region_mask = (\n",
    "    ((data_frame['jpsi_M'] < 3020) | (data_frame['jpsi_M'] > 3155)) & ((data_frame['jpsi_M']<3536) | (data_frame['jpsi_M']>3873)) &\n",
    "    (data_frame['Bs_M'] > 2500) & (data_frame['Bs_M'] < 3750) & (data_frame['phi_M'] > 1600) & (data_frame['phi_M'] < 1820)\n",
    ")\n",
    "'''\n",
    "\n",
    "signal_region_mask = (\n",
    "    ((data_frame['jpsi_M'] < 3020) | (data_frame['jpsi_M'] > 3155)) & ((data_frame['jpsi_M']<3536) | (data_frame['jpsi_M']>3873)) &\n",
    "    (data_frame['Bs_M'] > 2500) & (data_frame['Bs_M'] < 3750) & (data_frame['phi3_M'] > 1600) & (data_frame['phi3_M'] < 1820)\n",
    ")\n",
    "\n",
    "signal_comparison = data_frame.loc[signal_region_mask]"
   ]
  },
  {
   "cell_type": "code",
   "execution_count": 24,
   "metadata": {
    "colab": {},
    "colab_type": "code",
    "id": "OcuPglIeXeyM"
   },
   "outputs": [],
   "source": [
    "def plot_compare_data(control_data, background_data, histogram_range, columns_to_plot, cut_regions=None, signal_name='signal', bins=50,lower_range=None):\n",
    "    columns = len(columns_to_plot)\n",
    "    fig, axs = plt.subplots(2, columns, figsize=(4 * columns, 4), sharex='col', squeeze=False)\n",
    "    for i, column in enumerate(columns_to_plot):\n",
    "        if lower_range==None:\n",
    "            lower_range=0\n",
    "        if isinstance(histogram_range, int) or isinstance(histogram_range, float):\n",
    "            range_ = (lower_range, histogram_range)\n",
    "        else:\n",
    "            range_ = (0, histogram_range[i])\n",
    "\n",
    "        if isinstance(column, str):\n",
    "            _control_data = control_data[column]\n",
    "            _background_data = background_data[column]\n",
    "            _title = column\n",
    "        else:\n",
    "            _control_data = control_data[column[0]] - control_data[column[1]]\n",
    "            _background_data = background_data[column[0]] - background_data[column[1]]\n",
    "            _title = column[0] + ' $-$ ' + column[1]\n",
    "        ax1, ax2 = axs[:, i]\n",
    "        ax1.hist(_control_data, bins=bins, range=range_)\n",
    "        ax2.hist(_background_data, bins=bins, range=range_)\n",
    "\n",
    "        if cut_regions:\n",
    "            cut_region = cut_regions[i]\n",
    "            if cut_region[0] == '<':\n",
    "                cut_range = (range_[0], cut_region[1])\n",
    "            elif cut_region[0] == '>':\n",
    "                cut_range = (cut_region[1], range_[1])\n",
    "            else:\n",
    "                raise ValueError(f\"Unknown cut region indicator: {cut_region[0]}.\")\n",
    "            ax1.axvspan(*cut_range, color='r', alpha=0.3)\n",
    "            ax2.axvspan(*cut_range, color='r', alpha=0.3)\n",
    "\n",
    "        ax1.set_title(_title)\n",
    "        ax1.set_xlim(range_)\n",
    "        \n",
    "        if i == 0:\n",
    "            ax1.set_ylabel(signal_name)\n",
    "            ax2.set_ylabel('Background')\n",
    "        \n",
    "    plt.tight_layout(pad=0.5)"
   ]
  },
  {
   "cell_type": "markdown",
   "metadata": {},
   "source": [
    "### PID comparison"
   ]
  },
  {
   "cell_type": "code",
   "execution_count": 25,
   "metadata": {
    "colab": {
     "base_uri": "https://localhost:8080/",
     "height": 193
    },
    "colab_type": "code",
    "id": "6xEzB5SkXUka",
    "outputId": "abf7532c-c4f9-440a-8996-131f16c8cf93"
   },
   "outputs": [
    {
     "data": {
      "image/png": "[encoded data removed]",
      "text/plain": [
       "<Figure size 2800x400 with 14 Axes>"
      ]
     },
     "metadata": {},
     "output_type": "display_data"
    }
   ],
   "source": [
    "plot_compare_data(\n",
    "    signal_comparison,\n",
    "    background_selection, \n",
    "    histogram_range=[100,100,100,100,100,100,1],\n",
    "    columns_to_plot=[\n",
    "        ['Kminus_RichDLLk', 'Kminus_RichDLLmu'],\n",
    "        ['Kplus_RichDLLk', 'Kplus_RichDLLmu'],\n",
    "        ['Kminus_RichDLLk', 'Kminus_RichDLLp'],\n",
    "        ['Kplus_RichDLLk', 'Kplus_RichDLLp'],\n",
    "        ['Kminus_RichDLLk', 'Kminus_RichDLLd'],\n",
    "        ['Kplus_RichDLLk', 'Kplus_RichDLLd'],\n",
    "        'Kminus_ProbNNk'\n",
    "    ], \n",
    "    cut_regions=[\n",
    "        ('<', 10),\n",
    "        ('<', 10),\n",
    "        ('<', 5),\n",
    "        ('<', 5),\n",
    "        ('<', 5),\n",
    "        ('<', 5),\n",
    "        ('<', 0.2)\n",
    "    ],\n",
    "    signal_name='signal'\n",
    ")\n"
   ]
  },
  {
   "cell_type": "markdown",
   "metadata": {
    "colab_type": "text",
    "id": "7Ez9vmcrnvt9"
   },
   "source": [
    "### IP comparisons"
   ]
  },
  {
   "cell_type": "markdown",
   "metadata": {
    "colab_type": "text",
    "id": "PPeaRNK8n11Z"
   },
   "source": [
    "Comparing the impact parameter $\\chi^2$ of the signal motivates"
   ]
  },
  {
   "cell_type": "markdown",
   "metadata": {
    "colab": {
     "base_uri": "https://localhost:8080/",
     "height": 237
    },
    "colab_type": "code",
    "id": "ANCmv8ivpOLJ",
    "outputId": "800b26cc-8b50-43ff-b4f0-be1a8c66086f"
   },
   "source": [
    "plot_compare_data(\n",
    "    signal_comparison, background_selection, \n",
    "    histogram_range=100,\n",
    "    columns_to_plot=[\n",
    "        'muplus_IPCHI2_OWNPV', \n",
    "        'muminus_IPCHI2_OWNPV', \n",
    "        'Kplus_IPCHI2_OWNPV',\n",
    "        'Kminus_IPCHI2_OWNPV',\n",
    "        'Kminus_MINIPCHI2',\n",
    "        'Kplus_MINIPCHI2',\n",
    "        'muminus_MINIPCHI2',\n",
    "        'muplus_MINIPCHI2',\n",
    "    ], \n",
    "    cut_regions=[\n",
    "      ('<', 36),\n",
    "      ('<', 36),\n",
    "      ('<', 36),\n",
    "      ('<', 36),\n",
    "      ('<', 36),\n",
    "      ('<', 36),\n",
    "      ('<', 36),\n",
    "      ('<', 36)\n",
    "    ],\n",
    "    signal_name='signal'\n",
    ")"
   ]
  },
  {
   "cell_type": "markdown",
   "metadata": {
    "colab_type": "text",
    "id": "yg0xbuP6p_ie"
   },
   "source": [
    "### Isolation angle comparisons"
   ]
  },
  {
   "cell_type": "markdown",
   "metadata": {
    "colab_type": "text",
    "id": "1qgq1uRAqA4C"
   },
   "source": [
    "The background and signal data have different isolation angle distributions."
   ]
  },
  {
   "cell_type": "markdown",
   "metadata": {
    "colab": {
     "base_uri": "https://localhost:8080/",
     "height": 302
    },
    "colab_type": "code",
    "id": "wwUWgftWqbDz",
    "outputId": "106935b1-3406-4bf0-856c-de134feae885"
   },
   "source": [
    "plt.figure(figsize=(6, 3))\n",
    "plt.hist(signal_comparison['Bs_pmu_ISOLATION_BDT1'], bins=50, density=True, label='Signal')\n",
    "plt.hist(background_selection['Bs_pmu_ISOLATION_BDT1'], bins=50, density=True, alpha=0.7, label='Background')\n",
    "xlim = plt.xlim()\n",
    "plt.axvspan(0.15, xlim[1], color='r', alpha=0.2)\n",
    "plt.xlabel('Isolation angle (Probability Distribution)')\n",
    "plt.xlim(xlim)\n",
    "plt.legend()\n",
    "plt.show()\n",
    "\n",
    "\n",
    "BDT1_threshold=-0.21\n",
    "\n",
    "variables_to_plot = [\n",
    "    ('Bs_pmu_ISOLATION_BDT1', BDT1_threshold),\n",
    "]\n"
   ]
  },
  {
   "cell_type": "markdown",
   "metadata": {},
   "source": [
    "### IP of $B_s$"
   ]
  },
  {
   "cell_type": "markdown",
   "metadata": {},
   "source": [
    "We now look at the IP of the $B_s$ and try to use this to discriminate signal and background"
   ]
  },
  {
   "cell_type": "markdown",
   "metadata": {},
   "source": [
    "Bs_IP_OWNPV_threshold=0.04\n",
    "Bs_IPCHI2_OWNPV_threshold=0.32\n",
    "\n",
    "plot_compare_data(\n",
    "    signal_comparison, background_selection, \n",
    "    histogram_range=[0.2,9],\n",
    "    columns_to_plot=[\n",
    "        'Bs_IP_OWNPV', \n",
    "        'Bs_IPCHI2_OWNPV'\n",
    "    ], \n",
    "    cut_regions=[\n",
    "        ('>', Bs_IP_OWNPV_threshold),\n",
    "        ('<', Bs_IPCHI2_OWNPV_threshold),\n",
    "    ],\n",
    "    signal_name='signal'\n",
    ")"
   ]
  },
  {
   "cell_type": "markdown",
   "metadata": {},
   "source": [
    "### DIRA comparison"
   ]
  },
  {
   "cell_type": "markdown",
   "metadata": {},
   "source": [
    "DIRA_OWNPV_threshold=0.999985\n",
    "\n",
    "plot_compare_data(\n",
    "    signal_comparison, background_selection, \n",
    "    histogram_range=1,\n",
    "    columns_to_plot=[\n",
    "        'Bs_DIRA_OWNPV'\n",
    "    ], \n",
    "    cut_regions=[\n",
    "        ('<', DIRA_OWNPV_threshold)\n",
    "    ],\n",
    "    signal_name='signal',\n",
    "    lower_range=0.9999\n",
    ")"
   ]
  },
  {
   "cell_type": "markdown",
   "metadata": {
    "colab_type": "text",
    "id": "2GsjQCZdCF3Q"
   },
   "source": [
    "### Applying all comparisons cuts"
   ]
  },
  {
   "cell_type": "markdown",
   "metadata": {
    "colab_type": "text",
    "id": "7Eo9DtqHCHYH"
   },
   "source": [
    "Basically apart from the isolation angle, there is not much difference between signal and background. It's not worth it to apply any threshold cuts at the moment other than the inconsistencies shown at the beginning."
   ]
  },
  {
   "cell_type": "markdown",
   "metadata": {
    "colab_type": "text",
    "id": "PkXiKPEUD-oZ"
   },
   "source": [
    "# Decay reconstruction"
   ]
  },
  {
   "cell_type": "markdown",
   "metadata": {
    "colab_type": "text",
    "id": "UymXHgiREYjG"
   },
   "source": [
    "## Reloading the Data\n"
   ]
  },
  {
   "cell_type": "markdown",
   "metadata": {
    "colab_type": "text",
    "id": "taJw4a0JFTIv"
   },
   "source": [
    "### Cleaning the $B_s$ data using the cuts defined above."
   ]
  },
  {
   "cell_type": "code",
   "execution_count": 26,
   "metadata": {
    "colab": {},
    "colab_type": "code",
    "id": "F1M1v0O-E75j"
   },
   "outputs": [],
   "source": [
    "from functools import partial\n",
    "\n",
    "def ensure_is_muon(data_frame):\n",
    "    if len(data_frame['muplus_IsMuon'].unique()) & len(data_frame['muminus_IsMuon'].unique()) == 1:\n",
    "        return data_frame\n",
    "    else:\n",
    "        data_frame = data_frame.loc[data_frame['muplus_IsMuon']]\n",
    "        data_frame = data_frame.loc[data_frame['muminus_IsMuon']]\n",
    "        return data_frame\n",
    "\n",
    "def reduce_background(data_frame):\n",
    "    data_frame = apply_cuts('Inconsistencies', data_frame, apply_inconsistencies_cuts)\n",
    "    #data_frame = apply_cuts('Known Decays', data_frame, apply_known_decay_cuts)\n",
    "    #data_frame = apply_cuts('DIRA_L', data_frame, apply_DIRA_cuts_left)\n",
    "    data_frame = apply_cuts('IsMuon', data_frame, ensure_is_muon)\n",
    "    #data_frame = apply_cuts('IP', data_frame, apply_IP_cuts)\n",
    "    #data_frame = apply_cuts('IPB_L', data_frame, apply_IPB_cuts_left)\n",
    "    #data_frame = apply_cuts('PID_L', data_frame, apply_PID_cuts_left)\n",
    "\n",
    "    return data_frame\n"
   ]
  },
  {
   "cell_type": "code",
   "execution_count": 27,
   "metadata": {
    "colab": {
     "base_uri": "https://localhost:8080/",
     "height": 434
    },
    "colab_type": "code",
    "id": "EpWTUZVrhunP",
    "outputId": "6b40cb83-d0ab-49e3-f0ee-f2018e82a478"
   },
   "outputs": [
    {
     "name": "stderr",
     "output_type": "stream",
     "text": [
      "INFO:CuttingMonitor:Applying cuts: Reduce Background\n",
      "INFO:CuttingMonitor:\tInitial length: 1092617\n",
      "INFO:CuttingMonitor:Applying cuts: Inconsistencies\n",
      "INFO:CuttingMonitor:\tInitial length: 1092617\n",
      "INFO:CuttingMonitor:\tLength after cut: 372885 (34.128% kept)\n",
      "INFO:CuttingMonitor:Applying cuts: IsMuon\n",
      "INFO:CuttingMonitor:\tInitial length: 372885\n",
      "INFO:CuttingMonitor:\tLength after cut: 372885 (100.000% kept)\n",
      "INFO:CuttingMonitor:\tLength after cut: 372885 (34.128% kept)\n"
     ]
    }
   ],
   "source": [
    "Bs_reduced_data_frame = apply_cuts('Reduce Background', Bs_data.copy(), reduce_background)"
   ]
  },
  {
   "cell_type": "markdown",
   "metadata": {
    "colab_type": "text",
    "id": "5QLlEmQ4OxYz"
   },
   "source": [
    "## Bs Line of Flight"
   ]
  },
  {
   "cell_type": "markdown",
   "metadata": {},
   "source": [
    "Just extrapolating the $B_s$ LoF from the primary and secondary vertex"
   ]
  },
  {
   "cell_type": "code",
   "execution_count": 28,
   "metadata": {
    "colab": {},
    "colab_type": "code",
    "id": "njr71xFudch4"
   },
   "outputs": [
    {
     "name": "stderr",
     "output_type": "stream",
     "text": [
      "<ipython-input-28-902515f2d56b>:2: DeprecationWarning: numpy.core.umath_tests is an internal NumPy module and should not be imported. It will be removed in a future NumPy release.\n",
      "  from numpy.core.umath_tests import inner1d\n"
     ]
    }
   ],
   "source": [
    "from numpy.linalg import solve,norm\n",
    "from numpy.core.umath_tests import inner1d\n",
    "\n",
    "_bs_flight_vars = ['_bs_dx', '_bs_dy', '_bs_dz']\n",
    "\n",
    "# Find B_s flight distance. Should be already in the tuple, now that I think about it, so this might have been quite useless\n",
    "def add_bs_flight(data_frame):\n",
    "    bs_ownpv = data_frame.loc[:, ['Bs_RefPoint_X', 'Bs_RefPoint_Y', 'Bs_RefPoint_Z']] # primary vtx\n",
    "    bs_end = data_frame.loc[:, ['Bs_VX', 'Bs_VY', 'Bs_VZ']] # secondary vtx\n",
    " \n",
    "    bs_ownpv = bs_ownpv.rename(columns=rename_func)\n",
    "    bs_end = bs_end.rename(columns=rename_func)\n",
    "\n",
    "    data_frame[_bs_flight_vars] = bs_end - bs_ownpv\n",
    "    \n",
    "    bs_end=bs_end.to_numpy()\n",
    "    bs_ownpv=bs_ownpv.to_numpy()\n",
    "    \n",
    "    diff=bs_end - bs_ownpv\n",
    "    \n",
    "    mag=np.sum(np.abs(diff)**2,axis=-1)**(1./2)\n",
    "\n",
    "    data_frame['_bs_flight_dist'] = mag \n",
    "    \n",
    "    return data_frame\n"
   ]
  },
  {
   "cell_type": "code",
   "execution_count": 29,
   "metadata": {
    "colab": {},
    "colab_type": "code",
    "id": "0kYrScUJsWqL"
   },
   "outputs": [],
   "source": [
    "_bs_dir_vars = ['_bs_dir_x', '_bs_dir_y', '_bs_dir_z']\n",
    "\n",
    "# just normalizing the direction vector I found before\n",
    "\n",
    "def add_bs_direction(data_frame):\n",
    "    _bs_flight = data_frame.loc[:, _bs_flight_vars]\n",
    "    \n",
    "    direct= _bs_flight.divide((_bs_flight ** 2).sum(axis=1) ** 0.5, axis=0)\n",
    "    data_frame[_bs_dir_vars] = direct\n",
    "    \n",
    "    # adding angle with z-axis in the tuple as well\n",
    "    direct= direct.to_numpy()\n",
    "    z_axis=np.zeros([len(direct[:,0]),3])\n",
    "    ones=np.ones([len(direct[:,0]),1])\n",
    "    z_axis[:,2]=ones[:,0]\n",
    "    dot_prod=inner1d(z_axis,direct)\n",
    "    data_frame['_bs_angle_z'] = np.arccos(np.clip(dot_prod, -1.0, 1.0))\n",
    "    \n",
    "    return data_frame\n"
   ]
  },
  {
   "cell_type": "markdown",
   "metadata": {
    "colab_type": "text",
    "id": "JCCUAsHtcsk6"
   },
   "source": [
    "## Tau decay point\n"
   ]
  },
  {
   "cell_type": "markdown",
   "metadata": {
    "colab_type": "text",
    "id": "luRCsm3Gcxoz"
   },
   "source": [
    "The tau decay point was obtained by \n",
    "1. Defining the line of flight of the $B$\n",
    "2. Defining a line of flight for $\\mu$. This line of flight is obtained from the $\\mu$ reference point and from its momentum\n",
    "3. Finding the closest distance of approach between the $\\mu$ LoF and the $B$ LoF."
   ]
  },
  {
   "cell_type": "code",
   "execution_count": 30,
   "metadata": {},
   "outputs": [],
   "source": [
    "from numpy.core.umath_tests import inner1d\n",
    "\n",
    "_tau_plus_dir_vars = ['_tau_plus_dir_x', '_tau_plus_dir_y', '_tau_plus_dir_z']\n",
    "\n",
    "# here I have called it the \"tau\" direction what is really the muon direction. Very sloppy, aplogies.\n",
    "\n",
    "def add_tau_plus_direction(data_frame):\n",
    "    _tau_plus_mom = data_frame.loc[:, ['muplus_PX', 'muplus_PY', 'muplus_PZ']] # mom of muon at detector\n",
    "    \n",
    "    direct=_tau_plus_mom.divide((_tau_plus_mom ** 2).sum(axis=1) ** 0.5, axis=0) # normalize vector\n",
    "    \n",
    "    data_frame[_tau_plus_dir_vars] = direct # save the direction vector\n",
    "    \n",
    "    # now I evaluated the angle with z-direction. Probably I did it just to visualise stuff in debugging, can't remember. Still, might be useful\n",
    "    direct= direct.to_numpy()\n",
    "    z_axis=np.zeros([len(direct[:,0]),3])\n",
    "    ones=np.ones([len(direct[:,0]),1])\n",
    "    z_axis[:,2]=ones[:,0]\n",
    "    dot_prod=inner1d(z_axis,direct)\n",
    "    data_frame['_mu_plus_angle_z'] = np.arccos(np.clip(dot_prod, -1.0, 1.0))\n",
    "    \n",
    "    return data_frame\n",
    "\n",
    "\n",
    "_tau_minus_dir_vars = ['_tau_minus_dir_x', '_tau_minus_dir_y', '_tau_minus_dir_z']\n",
    "\n",
    "# same as for +\n",
    "\n",
    "def add_tau_minus_direction(data_frame):\n",
    "    _tau_minus_mom = data_frame.loc[:, ['muminus_PX', 'muminus_PY', 'muminus_PZ']]\n",
    "    direct=_tau_minus_mom.divide((_tau_minus_mom ** 2).sum(axis=1) ** 0.5, axis=0)\n",
    "    data_frame[_tau_minus_dir_vars] = direct\n",
    "    direct= direct.to_numpy()\n",
    "    z_axis=np.zeros([len(direct[:,0]),3])\n",
    "    ones=np.ones([len(direct[:,0]),1])\n",
    "    z_axis[:,2]=ones[:,0]\n",
    "    dot_prod=inner1d(z_axis,direct)\n",
    "    data_frame['_mu_minus_angle_z'] = np.arccos(np.clip(dot_prod, -1.0, 1.0))\n",
    "    return data_frame\n",
    "\n",
    "\n",
    "# evaluated the angles between the MUONS (again, sorry) because it could be an extra discriminant between signal and background\n",
    "\n",
    "def add_tau_angle(data_frame):\n",
    "    _tau_minus_dir=data_frame.loc[:,_tau_minus_dir_vars].to_numpy()\n",
    "    _tau_plus_dir=data_frame.loc[:,_tau_plus_dir_vars].to_numpy()\n",
    "    \n",
    "    angle=np.arccos(inner1d(_tau_minus_dir,_tau_plus_dir))\n",
    "    \n",
    "    data_frame['_taus_angle'] = angle\n",
    "    \n",
    "    return data_frame\n",
    "    "
   ]
  },
  {
   "cell_type": "code",
   "execution_count": 31,
   "metadata": {},
   "outputs": [],
   "source": [
    "from numpy.linalg import solve,norm\n",
    "from numpy.core.umath_tests import inner1d\n",
    "\n",
    "\n",
    "_tau_plus_closest_dist = ['_tau_plus_closest_dist']\n",
    "_tau_plus_closest_vars = ['_tau_plus_closest_x', '_tau_plus_closest_y', '_tau_plus_closest_z']\n",
    "\n",
    "# now, this is quite inefficient, but it works\n",
    "# it finds the closest distance of approach between Bs LoF and mu LoF for the MUONS (for the third time, sorry)\n",
    "# also, I find the IP between phi vertex and muons LoF\n",
    "\n",
    "def add_closest_approach_plus(data_frame):\n",
    "    _bs_dir=data_frame.loc[:, _bs_dir_vars].to_numpy()\n",
    "    _tau_plus_dir=data_frame.loc[:,_tau_plus_dir_vars].to_numpy()\n",
    "    \n",
    "    p0=data_frame.loc[:, ['phi3_VX', 'phi3_VY', 'phi3_VZ']].to_numpy()\n",
    "    p1=data_frame.loc[:, ['muplus_RefPoint_X', 'muplus_RefPoint_Y', 'muplus_RefPoint_Z']].to_numpy()\n",
    "    own=data_frame.loc[:, ['Bs_RefPoint_X', 'Bs_RefPoint_Y', 'Bs_RefPoint_Z']].to_numpy()\n",
    "    \n",
    "    a=np.cross(_tau_plus_dir,_bs_dir)\n",
    "    a=(a.T/norm(a, axis = 1)).T\n",
    "    c=p1-p0\n",
    "    \n",
    "    data_frame['_tau_plus_closest_dist'] = abs(inner1d(a,c)) # CDA that we are interested in\n",
    "    \n",
    "    coords=np.zeros([len(p1[:,0]),3])\n",
    "\n",
    "    ownpv_dist=np.zeros([len(p1[:,0]),1])\n",
    "    \n",
    "    phi_IP=np.zeros([len(p1[:,0]),1])\n",
    "    \n",
    "    for i in range(len(p1[:,0])):\n",
    "\n",
    "        rhs=p1[i,:]-p0[i,:]\n",
    "        lhs=np.array([_bs_dir[i,:],-_tau_plus_dir[i,:],a[i,:]]).T\n",
    "        X=solve(lhs,rhs)\n",
    "    \n",
    "        coords[i,:]=p0[i,:]+X[0]*_bs_dir[i,:]\n",
    "        \n",
    "        own_p1=p1[i,:]-own[i,:]\n",
    "        ownpv_dist[i]=norm(np.cross(own_p1,_tau_plus_dir[i,:]))\n",
    "        \n",
    "        phi_detect=p0[i,:]-p1[i,:]\n",
    "        phi_IP[i]=norm(np.cross(phi_detect,_tau_plus_dir[i,:]))\n",
    "    \n",
    "    data_frame['_tau_plus_closest_x'] = coords[:,0]\n",
    "    data_frame['_tau_plus_closest_y'] = coords[:,1]\n",
    "    data_frame['_tau_plus_closest_z'] = coords[:,2]\n",
    "\n",
    "    \n",
    "    data_frame['_tau_plus_closest_dist_own'] = ownpv_dist\n",
    "    \n",
    "    data_frame['_tau_plus_phi_IP'] = phi_IP\n",
    "\n",
    "    \n",
    "    \n",
    "    return data_frame\n",
    "   \n",
    "    \n",
    "_tau_minus_closest_dist = ['_tau_minus_closest_dist']\n",
    "_tau_minus_closest_vars = ['_tau_minus_closest_x', '_tau_minus_closest_y', '_tau_minus_closest_z']\n",
    "\n",
    "def add_closest_approach_minus(data_frame):\n",
    "    _bs_dir=data_frame.loc[:, _bs_dir_vars].to_numpy()\n",
    "    _tau_minus_dir=data_frame.loc[:,_tau_minus_dir_vars].to_numpy()\n",
    "    \n",
    "    p0=data_frame.loc[:, ['phi3_VX', 'phi3_VY', 'phi3_VZ']].to_numpy()\n",
    "    p1=data_frame.loc[:, ['muminus_RefPoint_X', 'muminus_RefPoint_Y', 'muminus_RefPoint_Z']].to_numpy()\n",
    "    own=data_frame.loc[:, ['Bs_RefPoint_X', 'Bs_RefPoint_Y', 'Bs_RefPoint_Z']].to_numpy()\n",
    "    \n",
    "    a=np.cross(_tau_minus_dir,_bs_dir)\n",
    "    a=(a.T/norm(a, axis = 1)).T\n",
    "    c=p1-p0\n",
    "    \n",
    "    data_frame['_tau_minus_closest_dist'] = abs(inner1d(a,c)) \n",
    "    coords=[]\n",
    "    \n",
    "    coords=np.zeros([len(p1[:,0]),3])\n",
    "\n",
    "    ownpv_dist=np.zeros([len(p1[:,0]),1])\n",
    "    \n",
    "    phi_IP=np.zeros([len(p1[:,0]),1])\n",
    "    \n",
    "    for i in range(len(p1[:,0])):\n",
    "\n",
    "        rhs=p1[i,:]-p0[i,:]\n",
    "        lhs=np.array([_bs_dir[i,:],-_tau_minus_dir[i,:],a[i,:]]).T\n",
    "        X=solve(lhs,rhs)\n",
    "    \n",
    "        coords[i,:]=p0[i,:]+X[0]*_bs_dir[i,:] # point on Bs LoF where we have the CDA. Basically the reconstructed decay vertex of the tau\n",
    "        \n",
    "        own_p1=p1[i,:]-own[i,:]\n",
    "        ownpv_dist[i]=norm(np.cross(own_p1,_tau_minus_dir[i,:])) # IP with OWNPV of Bs (I think... not useful anyway)\n",
    "        \n",
    "        phi_detect=p0[i,:]-p1[i,:]\n",
    "        phi_IP[i]=norm(np.cross(phi_detect,_tau_minus_dir[i,:])) # IP with phi vertex\n",
    "        \n",
    "        \n",
    "        \n",
    "    \n",
    "    data_frame['_tau_minus_closest_x'] = coords[:,0]\n",
    "    data_frame['_tau_minus_closest_y'] = coords[:,1]\n",
    "    data_frame['_tau_minus_closest_z'] = coords[:,2]\n",
    "\n",
    "    data_frame['_tau_minus_closest_dist_own'] = ownpv_dist \n",
    "    \n",
    "    data_frame['_tau_minus_phi_IP'] = phi_IP\n",
    "    \n",
    "    \n",
    "    return data_frame\n",
    "   \n",
    "    \n",
    "    \n",
    "_tau_plus_closest_dist = ['_tau_plus_closest_dist']\n",
    "_tau_plus_closest_vars = ['_tau_plus_closest_x', '_tau_plus_closest_y', '_tau_plus_closest_z']"
   ]
  },
  {
   "cell_type": "markdown",
   "metadata": {},
   "source": [
    "Now find the Flight Distance of the (this time yes) $\\tau$"
   ]
  },
  {
   "cell_type": "code",
   "execution_count": 32,
   "metadata": {},
   "outputs": [],
   "source": [
    "def add_dist_travelled_plus(data_frame):\n",
    "    _tau_origin = data_frame.loc[:, ['phi3_VX', 'phi3_VY', 'phi3_VZ']].to_numpy()\n",
    "    _tau_end = data_frame.loc[:, _tau_plus_closest_vars].to_numpy()\n",
    "    _tau_origin_own = data_frame.loc[:, ['Bs_RefPoint_X', 'Bs_RefPoint_Y', 'Bs_RefPoint_Z']].to_numpy()\n",
    "    \n",
    "    _bs_dir =  data_frame.loc[:,_bs_dir_vars].to_numpy()\n",
    "    \n",
    "    diff=_tau_end -_tau_origin\n",
    "\n",
    "    sign=inner1d(_bs_dir,diff)/abs(inner1d(_bs_dir,diff))\n",
    "    \n",
    "    mag=np.sum(np.abs(diff)**2,axis=-1)**(1./2)\n",
    "    \n",
    "    data_frame['_tau_plus_flight_dist'] = mag * sign # added the sign!!! Important if want to knwo which way the tau went basically\n",
    "    \n",
    "    cda = data_frame.loc[:,'_tau_plus_closest_dist'].to_numpy()\n",
    "    data_frame['_tau_plus_angle_b']=np.arctan(cda/mag) # angle between tau if it decayed on muon LoF (instead of B LoF) and B LoF. Not really important, never used in the analysis\n",
    "    \n",
    "    diff_own=_tau_end -_tau_origin_own\n",
    "\n",
    "    sign=inner1d(_bs_dir,diff_own)/abs(inner1d(_bs_dir,diff_own))\n",
    "    \n",
    "    mag_own=np.sum(np.abs(diff_own)**2,axis=-1)**(1./2)\n",
    "    \n",
    "    data_frame['_tau_plus_flight_dist_own'] = mag_own * sign # as if coming from OWNPV. Again, never used this reconstructed variable. Don't even remember why I did this, does not make much sense\n",
    "\n",
    "    return data_frame\n",
    "\n",
    "\n",
    "# same comments as for +\n",
    "def add_dist_travelled_minus(data_frame):\n",
    "    _tau_origin = data_frame.loc[:, ['phi3_VX', 'phi3_VY', 'phi3_VZ']].to_numpy()\n",
    "    _tau_end = data_frame.loc[:, _tau_minus_closest_vars].to_numpy()\n",
    "    _tau_origin_own = data_frame.loc[:, ['Bs_RefPoint_X', 'Bs_RefPoint_Y', 'Bs_RefPoint_Z']].to_numpy()\n",
    "    \n",
    "    _bs_dir =  data_frame.loc[:,_bs_dir_vars].to_numpy()\n",
    "    \n",
    "    diff=_tau_end -_tau_origin\n",
    "\n",
    "    sign=inner1d(_bs_dir,diff)/abs(inner1d(_bs_dir,diff))\n",
    "    \n",
    "    mag=np.sum(np.abs(diff)**2,axis=-1)**(1./2)\n",
    "\n",
    "    data_frame['_tau_minus_flight_dist'] = mag * sign\n",
    "    \n",
    "    cda = data_frame.loc[:,'_tau_minus_closest_dist'].to_numpy()\n",
    "    data_frame['_tau_minus_angle_b']=np.arctan(cda/mag)\n",
    "    \n",
    "    diff_own=_tau_end -_tau_origin_own\n",
    "\n",
    "    sign=inner1d(_bs_dir,diff_own)/abs(inner1d(_bs_dir,diff_own))\n",
    "    \n",
    "    mag_own=np.sum(np.abs(diff_own)**2,axis=-1)**(1./2)\n",
    "    \n",
    "    data_frame['_tau_minus_flight_dist_own'] = mag_own * sign\n",
    "\n",
    "    \n",
    "    return data_frame"
   ]
  },
  {
   "cell_type": "code",
   "execution_count": 33,
   "metadata": {
    "colab": {},
    "colab_type": "code",
    "id": "PdYLONDos79H"
   },
   "outputs": [],
   "source": [
    "_phi_dir_vars = ['_phi_dir_x', '_phi_dir_y', '_phi_dir_z']\n",
    "\n",
    "# found the phi dirtection just by normalizing the already reconstructed phi mom\n",
    "def add_phi_direction(data_frame):\n",
    "    \n",
    "    direct=data_frame.loc[:, ['phi3_PX', 'phi3_PY', 'phi3_PZ']]\n",
    "    direct_norm=direct.divide((direct** 2).sum(axis=1) ** 0.5, axis='rows')\n",
    "\n",
    "    data_frame[_phi_dir_vars] =direct_norm\n",
    "    return data_frame\n"
   ]
  },
  {
   "cell_type": "markdown",
   "metadata": {},
   "source": [
    "### Reconstructing mass in $B_s$ rest frame\n",
    "To reconstruct the mass in the $B_s$ rest frame:\n",
    "1. Find $\\beta$ such that $K$ are back to back\n",
    "2. Boost to that frame\n",
    "3. Add two tau masses\n",
    "We later realised we don't discriminate between signal and background by doing this (as long as the two kaons come from a $\\phi_3$), so we did not use this later in the analysis. The way I wrote this is also quite inefficient, so unless you find a reason why this could be useful, comment out the relative line in the reconstruction. I'll leave the reconstruction code here though, you never know."
   ]
  },
  {
   "cell_type": "code",
   "execution_count": 34,
   "metadata": {},
   "outputs": [],
   "source": [
    "from scipy.optimize import newton_krylov\n",
    "\n",
    "_K_plus_boosted_P = ['_K_plus_boosted_PX', '_K_plus_boosted_PY', '_K_plus_boosted_PZ']\n",
    "_K_minus_boosted_P = ['_K_minus_boosted_PX', '_K_minus_boosted_PY', '_K_minus_boosted_PZ']\n",
    "\n",
    "\n",
    "def gamma(beta): # gamma factor\n",
    "    gamma=1/np.sqrt(1-beta**2)\n",
    "    return gamma\n",
    "\n",
    "def boost_find(p_par_prime_plus,p_T_plus,p_par_prime_minus,p_T_minus,_K_plus_E,_K_minus_E):\n",
    "    \n",
    "    def funct(beta): # equation we need to solve to find beta\n",
    "            p_com_plus=(gamma(beta)*(p_par_prime_plus-beta*_K_plus_E))\n",
    "            p_com_minus=(gamma(beta)*(p_par_prime_minus-beta*_K_minus_E))\n",
    "            f=p_com_plus**2-p_com_minus**2+p_T_plus**2-p_T_minus**2\n",
    "            #f=p_com_plus-p_com_minus\n",
    "            return f \n",
    "    \n",
    "    beta_root=newton_krylov(funct,0.998) # basically looking for the solution using Newton method\n",
    "    return beta_root\n",
    "        \n",
    "# basically reconstructing the mass as explained above        \n",
    "def add_back_to_back(data_frame):\n",
    "    _K_plus_momentum = data_frame.loc[:,['Kplus_PX','Kplus_PY','Kplus_PZ']].to_numpy()\n",
    "    _K_minus_momentum = data_frame.loc[:,['Kminus_PX','Kminus_PY','Kminus_PZ']].to_numpy()\n",
    "    _phi_dir=data_frame.loc[:, _phi_dir_vars].to_numpy()\n",
    "    \n",
    "    _K_plus_par=inner1d(_K_plus_momentum,_phi_dir)\n",
    "    \n",
    "    _K_plus_P_T_mag=np.sqrt(inner1d(_K_plus_momentum,_K_plus_momentum)-_K_plus_par**2)\n",
    "    _K_minus_par=inner1d(_K_minus_momentum,_phi_dir)\n",
    "    _K_minus_P_T_mag=np.sqrt(inner1d(_K_minus_momentum,_K_minus_momentum)-_K_minus_par**2)\n",
    "    \n",
    "    _K_plus_P_T=_K_plus_momentum-(_phi_dir.T * _K_plus_par).T\n",
    "    _K_minus_P_T=_K_minus_momentum-(_phi_dir.T * _K_minus_par).T\n",
    "    \n",
    "    _K_plus_E=np.sqrt(493.7**2+inner1d(_K_plus_momentum,_K_plus_momentum))\n",
    "    _K_minus_E=np.sqrt(493.7**2+inner1d(_K_minus_momentum,_K_minus_momentum))\n",
    "    _betas=[]\n",
    "    _p_com_plus=[]\n",
    "    _p_com_minus=[]\n",
    "    _found_beta=[] # boolean vector with info whether reconstruction was possible or not\n",
    "    \n",
    "    _E_com_plus=[]\n",
    "    _E_com_minus=[]\n",
    "    \n",
    "    for i in range(len(_K_minus_E)):\n",
    "    #for i in range(100):\n",
    "        p_par_prime_plus=_K_plus_par[i]\n",
    "        p_T_plus=_K_plus_P_T_mag[i]\n",
    "        p_par_prime_minus=_K_minus_par[i]\n",
    "        p_T_minus=_K_minus_P_T_mag[i]\n",
    "        \n",
    "        try:\n",
    "            _beta_boost=boost_find(p_par_prime_plus,p_T_plus,p_par_prime_minus,p_T_minus,_K_plus_E[i],_K_minus_E[i])\n",
    "            _found_beta.append(True)\n",
    "        except:\n",
    "            _beta_boost=0\n",
    "            _found_beta.append(False) # so that if we want later we can use boolean logic to filter out events where doing the reconstruction was not useful\n",
    "        \n",
    "        _betas.append(_beta_boost)\n",
    "        \n",
    "        _p_com_plus_i=(gamma(_beta_boost)*(p_par_prime_plus-_beta_boost*_K_plus_E[i]))\n",
    "        _p_com_minus_i=(gamma(_beta_boost)*(p_par_prime_minus-_beta_boost*_K_minus_E[i]))\n",
    "        \n",
    "        _E_com_plus_i=(gamma(_beta_boost)*(-_beta_boost*p_par_prime_plus+_K_plus_E[i]))\n",
    "        _E_com_minus_i=(gamma(_beta_boost)*(-_beta_boost*p_par_prime_minus+_K_minus_E[i]))\n",
    "        \n",
    "        _p_com_plus.append(_p_com_plus_i)\n",
    "        _p_com_minus.append(_p_com_minus_i)\n",
    "        \n",
    "        _E_com_plus.append(_E_com_plus_i)\n",
    "        _E_com_minus.append(_E_com_minus_i)\n",
    "        \n",
    "        #print(_E_com_plus_i)\n",
    "        \n",
    "        #print(_p_com_plus_i,_p_com_minus_i)\n",
    "        \n",
    "        if i%100==0:\n",
    "            print(i)\n",
    "\n",
    "    _p_com_plus=np.asarray(_p_com_plus)\n",
    "    _p_com_minus=np.asarray(_p_com_minus)\n",
    "    #print(_p_com_plus)\n",
    "    \n",
    "    _K_plus_boosted_P=_K_plus_P_T+(_phi_dir.T * _p_com_plus).T\n",
    "    _K_minus_boosted_P=_K_minus_P_T+(_phi_dir.T * _p_com_minus).T\n",
    "        \n",
    "    angle=np.arccos(inner1d(_K_plus_boosted_P,_K_minus_boosted_P)/(np.sqrt(inner1d(_K_plus_boosted_P,_K_plus_boosted_P))*np.sqrt(inner1d(_K_minus_boosted_P,_K_minus_boosted_P))))\n",
    "    \n",
    "    \n",
    "    # save all the reconstructed variables\n",
    "    data_frame.loc[:,\"_beta_back_to_back\"]=_betas\n",
    "    \n",
    "\n",
    "    data_frame.loc[:,\"_K_plus_lab_PT\"]=_K_plus_P_T_mag\n",
    "    data_frame.loc[:,\"_K_minus_lab_PT\"]=_K_minus_P_T_mag\n",
    "    \n",
    "    data_frame.loc[:,\"_K_plus_lab_par\"]=_K_plus_par\n",
    "    data_frame.loc[:,\"_K_minus_lab_par\"]=_K_minus_par\n",
    "    \n",
    "    data_frame.loc[:,\"_K_plus_com_PE\"]=_p_com_plus\n",
    "    data_frame.loc[:,\"_K_minus_com_PE\"]=_p_com_minus\n",
    "    \n",
    "    data_frame.loc[:,\"_K_plus_com_PE\"]=_p_com_plus\n",
    "    data_frame.loc[:,\"_K_minus_com_PE\"]=_p_com_minus\n",
    "    \n",
    "    data_frame.loc[:,\"_K_plus_com_E\"]=_E_com_plus\n",
    "    data_frame.loc[:,\"_K_minus_com_E\"]=_E_com_minus\n",
    "    \n",
    "    data_frame.loc[:,'_K_plus_boosted_PX'] = _K_plus_boosted_P[:,0]\n",
    "    data_frame.loc[:,'_K_plus_boosted_PY'] = _K_plus_boosted_P[:,1]\n",
    "    data_frame.loc[:,'_K_plus_boosted_PZ'] = _K_plus_boosted_P[:,2]\n",
    "    \n",
    "    data_frame.loc[:,'_K_minus_boosted_PX'] = _K_minus_boosted_P[:,0]\n",
    "    data_frame.loc[:,'_K_minus_boosted_PY'] = _K_minus_boosted_P[:,1]\n",
    "    data_frame.loc[:,'_K_minus_boosted_PZ'] = _K_minus_boosted_P[:,2]\n",
    "    \n",
    "    data_frame.loc[:,'_K_boosted_angle'] = angle \n",
    "    data_frame.loc[:,'_found_beta'] = _found_beta \n",
    "    \n",
    "    return data_frame\n",
    "    \n",
    "\n",
    "# find CoM energy of the system\n",
    "def add_com_E(data_frame):\n",
    "    _K_plus_mom=data_frame.loc[:,_K_plus_boosted_P].to_numpy()\n",
    "    _K_minus_mom=data_frame.loc[:,_K_plus_boosted_P].to_numpy()\n",
    "    _K_plus_E=data_frame.loc[:,\"_K_plus_com_E\"]\n",
    "    _K_minus_E=data_frame.loc[:,\"_K_minus_com_E\"]\n",
    "    \n",
    "    _tau_plus_E=1776.86\n",
    "    _tau_minus_E=1776.86\n",
    "    \n",
    "    #print(_K_plus_E+_K_minus_E)\n",
    "    \n",
    "    _p_tot=_K_plus_mom+_K_minus_mom\n",
    "    \n",
    "    _E_tot=_tau_plus_E+_tau_minus_E+_K_plus_E+_K_minus_E\n",
    "    \n",
    "    _E_com=_E_tot**2-inner1d(_p_tot,_p_tot)\n",
    "    \n",
    "    data_frame.loc[:,'_E_com_reco'] =np.sqrt(_E_com) \n",
    "    \n",
    "    return data_frame"
   ]
  },
  {
   "cell_type": "markdown",
   "metadata": {},
   "source": [
    "### Duplicate removal\n",
    "Had some issues with the tuple regarding the fact that the same event was repeated 4, 8 sometimes 16 times. The function below fix are to fix this"
   ]
  },
  {
   "cell_type": "code",
   "execution_count": 35,
   "metadata": {},
   "outputs": [],
   "source": [
    "# adds to the tuple how many times whe have that event in the above rows\n",
    "def add_event_occurrence(data_frame):\n",
    "    event_number=data_frame.loc[:,\"eventNumber\"].to_numpy()\n",
    "    \n",
    "    event_occurence=np.zeros(len(event_number))\n",
    "    \n",
    "    occurrence=0\n",
    "    for i in range(len(event_number)):\n",
    "        if event_number[i]==event_number[i-1]:\n",
    "            occurrence+=1\n",
    "            event_occurence[i]=occurrence\n",
    "        else:\n",
    "            occurrence=0\n",
    "            event_occurence[i]=occurrence\n",
    "            \n",
    "    #print(event_occurence)\n",
    "    data_frame.loc[:,'event_occurrence'] = event_occurence\n",
    "    \n",
    "    return data_frame\n",
    "    \n",
    "\n",
    "def remove_duplicates(data_frame):    \n",
    "    return data_frame.loc[data_frame['event_occurrence']==0]\n",
    "\n",
    "\n",
    "\n",
    "# trying to do the same as above, but instead of looking at the event number I also look at PZ of a kaon to check that they are actual clones, and not just events with the same event number\n",
    "def find_clones(data_frame):\n",
    "    precision=0.001\n",
    "    _k_plus_mom=data_frame.loc[:,\"Kplus_PZ\"].to_numpy()\n",
    "    event_number=data_frame.loc[:,\"eventNumber\"].to_numpy()\n",
    "    \n",
    "    #data_frame.loc[:,'mother_clone'] = np.zeros(len(_k_plus_mom))\n",
    "    mother_clone=np.zeros(len(_k_plus_mom))\n",
    "    \n",
    "    event_list=[]\n",
    "    for i in event_number:\n",
    "        if i not in event_list:\n",
    "            event_list.append(i)\n",
    "    \n",
    "    for i in event_list:\n",
    "        #index=data_frame.loc[data_frame['eventNumber']==i].index\n",
    "        index=np.argwhere(event_number==i)\n",
    "        #print(index[-1])\n",
    "        mom_mother=_k_plus_mom[index[0]]\n",
    "\n",
    "        if len(index)>1:\n",
    "            for j in index[1:]:\n",
    "                mom=_k_plus_mom[j]\n",
    "                if ((mom > (mom_mother-mom_mother*precision)) & (mom < (mom_mother+mom_mother*precision))):\n",
    "                    #print(\"hi\")\n",
    "                    #data_frame['mother_clone'][j:j]=1\n",
    "                    mother_clone[j]=1\n",
    "                \n",
    "        data_frame.loc[:,'mother_clone'] = mother_clone\n",
    "            \n",
    "    return data_frame\n",
    "\n",
    "# kills all the clones\n",
    "def remove_clones(data_frame):\n",
    "    return data_frame.loc[data_frame['mother_clone']==0]"
   ]
  },
  {
   "cell_type": "markdown",
   "metadata": {
    "colab_type": "text",
    "id": "bJMmJnKocBRu"
   },
   "source": [
    "## Reconstruction as a Function"
   ]
  },
  {
   "cell_type": "markdown",
   "metadata": {},
   "source": [
    "Reconstruct all of the variables with the functions defined above. It will take a while"
   ]
  },
  {
   "cell_type": "code",
   "execution_count": 36,
   "metadata": {
    "colab": {},
    "colab_type": "code",
    "id": "qFUUnDrvZnd0"
   },
   "outputs": [],
   "source": [
    "def add_tau_reconstruction(data_frame):\n",
    "    data_frame = add_bs_flight(data_frame)\n",
    "    data_frame = add_bs_direction(data_frame)\n",
    "    data_frame = add_tau_plus_direction(data_frame)\n",
    "    data_frame = add_tau_minus_direction(data_frame)\n",
    "    data_frame = add_closest_approach_minus(data_frame)\n",
    "    data_frame = add_closest_approach_plus(data_frame)\n",
    "    data_frame = add_dist_travelled_minus(data_frame)\n",
    "    data_frame = add_dist_travelled_plus(data_frame)\n",
    "    data_frame = add_tau_angle(data_frame)\n",
    "    data_frame = add_phi_direction(data_frame)\n",
    "    data_frame = add_event_occurrence(data_frame)\n",
    "    data_frame = find_clones(data_frame)\n",
    "    #data_frame = add_back_to_back(data_frame)\n",
    "    #data_frame = add_com_E(data_frame)\n",
    "\n",
    "    return data_frame"
   ]
  },
  {
   "cell_type": "code",
   "execution_count": null,
   "metadata": {
    "colab": {
     "base_uri": "https://localhost:8080/",
     "height": 121
    },
    "colab_type": "code",
    "id": "rOJ1e5_-lAL7",
    "outputId": "93073198-35ce-4f06-d206-744c7accad12"
   },
   "outputs": [
    {
     "name": "stderr",
     "output_type": "stream",
     "text": [
      "<ipython-input-30-0eb50af8d895>:48: RuntimeWarning: invalid value encountered in arccos\n",
      "  angle=np.arccos(inner1d(_tau_minus_dir,_tau_plus_dir))\n"
     ]
    }
   ],
   "source": [
    "Bs_reduced_tau_reconstructed_data_frame = add_tau_reconstruction(Bs_reduced_data_frame)"
   ]
  },
  {
   "cell_type": "markdown",
   "metadata": {},
   "source": [
    "## Kill the Clones\n",
    "Let's have a closer look at the clones problem"
   ]
  },
  {
   "cell_type": "code",
   "execution_count": null,
   "metadata": {},
   "outputs": [],
   "source": [
    "plt.figure()\n",
    "plt.hist(Bs_reduced_tau_reconstructed_data_frame['event_occurrence'],bins=11,range=[0,10])\n",
    "plt.hist(Bs_reduced_tau_reconstructed_data_frame.loc[Bs_reduced_tau_reconstructed_data_frame['mother_clone']==0]['event_occurrence'],bins=11,range=[0,10],alpha=0.7)\n",
    "plt.show()"
   ]
  },
  {
   "cell_type": "markdown",
   "metadata": {},
   "source": [
    "What the above plot tells us is that basically all the events that have event occurence other than 0 are clones! So we can cut them away safely. Let's visualise what killing the clones actually would mean for our data set."
   ]
  },
  {
   "cell_type": "code",
   "execution_count": null,
   "metadata": {},
   "outputs": [],
   "source": [
    "phi3mask=((Bs_reduced_tau_reconstructed_data_frame['phi3_M']>1600) & (Bs_reduced_tau_reconstructed_data_frame['phi3_M']<1850))\n",
    "\n",
    "plt.figure(figsize=(6, 3))\n",
    "Bs_mass_range = (0, 7200)\n",
    "plt.hist(Bs_reduced_tau_reconstructed_data_frame.loc[phi3mask]['Bs_M'], bins=100, range=Bs_mass_range)\n",
    "plt.hist(Bs_reduced_tau_reconstructed_data_frame.loc[phi3mask].loc[Bs_reduced_tau_reconstructed_data_frame['mother_clone']==0]['Bs_M'], bins=100, range=Bs_mass_range,alpha=0.7)\n",
    "plt.xlabel('$m_{KK\\mu\\mu}$')\n",
    "plt.xlim(Bs_mass_range)\n",
    "plt.tight_layout(pad=0.5)\n",
    "\n",
    "# Let's remove them\n",
    "Bs_reduced_tau_reconstructed_data_frame=remove_clones(Bs_reduced_tau_reconstructed_data_frame) "
   ]
  },
  {
   "cell_type": "markdown",
   "metadata": {},
   "source": [
    "## Checks"
   ]
  },
  {
   "cell_type": "markdown",
   "metadata": {},
   "source": [
    "### Reconstructed variables"
   ]
  },
  {
   "cell_type": "markdown",
   "metadata": {},
   "source": [
    "Let's check how the CDA and flight distance distribution differ between signal region and background proxies (phi3 jpsi and combinatorial)"
   ]
  },
  {
   "cell_type": "code",
   "execution_count": null,
   "metadata": {},
   "outputs": [],
   "source": [
    "jpsi_phi3_mask = (\n",
    "    (Bs_reduced_tau_reconstructed_data_frame['jpsi_M'] > 3020) & (Bs_reduced_tau_reconstructed_data_frame['jpsi_M'] < 3150) &\n",
    "    (Bs_reduced_tau_reconstructed_data_frame['phi3_M'] > 1600) & (Bs_reduced_tau_reconstructed_data_frame['phi3_M'] < 1820)\n",
    ")\n",
    "\n",
    "signal_mask = (\n",
    "    ((Bs_reduced_tau_reconstructed_data_frame['jpsi_M'] < 3020) | (Bs_reduced_tau_reconstructed_data_frame['jpsi_M'] > 3150)) &\n",
    "    ((Bs_reduced_tau_reconstructed_data_frame['jpsi_M'] < 3536) | (Bs_reduced_tau_reconstructed_data_frame['jpsi_M'] > 3873)) &\n",
    "    (Bs_reduced_tau_reconstructed_data_frame['phi3_M'] > 1600) & (Bs_reduced_tau_reconstructed_data_frame['phi3_M'] < 1820) & \n",
    "    (Bs_reduced_tau_reconstructed_data_frame['Bs_M'] > 2500) & (Bs_reduced_tau_reconstructed_data_frame['Bs_M'] <3750) \n",
    ")\n",
    "\n",
    "\n",
    "sideband = ((Bs_reduced_tau_reconstructed_data_frame['Bs_M']>5450) & ((Bs_reduced_tau_reconstructed_data_frame['jpsi_M'] < 3020) | (Bs_reduced_tau_reconstructed_data_frame['jpsi_M'] > 3150)) &\n",
    "            ((Bs_reduced_tau_reconstructed_data_frame['jpsi_M'] < 3536) | (Bs_reduced_tau_reconstructed_data_frame['jpsi_M'] > 3873)) \n",
    ")\n",
    "\n",
    "\n",
    "combinatorial=Bs_reduced_tau_reconstructed_data_frame.loc[sideband]\n",
    "jpsi_phi3=Bs_reduced_tau_reconstructed_data_frame.loc[jpsi_phi3_mask]\n",
    "signal=Bs_reduced_tau_reconstructed_data_frame.loc[signal_mask]\n",
    "\n",
    "bins=100\n",
    "range_=[0,0.001]\n",
    "\n",
    "fig, axs = plt.subplots(3, 3, figsize=(12,12), sharex='col', squeeze=False)\n",
    "ax1, ax2,ax3 = axs[:, 1]\n",
    "ax1.hist(signal['_tau_minus_closest_dist'], bins=bins, range=range_)\n",
    "ax2.hist(jpsi_phi3['_tau_minus_closest_dist'], bins=bins, range=range_)\n",
    "ax3.hist(combinatorial['_tau_minus_closest_dist'], bins=bins, range=range_)\n",
    "\n",
    "ax1.set_xlim(range_)\n",
    "ax3.set_xlabel('mm')\n",
    "ax1.set_title(\"CDA\")\n",
    "\n",
    "range_=[2000,6000]\n",
    "\n",
    "ax1, ax2,ax3 = axs[:, 0]\n",
    "\n",
    "ax1.set_ylabel('Signal')\n",
    "ax2.set_ylabel('Jpsi_phi3')\n",
    "ax3.set_ylabel('Combinatorial')\n",
    "\n",
    "ax1.set_title(\"Mass Plot\")\n",
    "ax1.hist(signal['Bs_M'], bins=bins, range=range_)\n",
    "ax2.hist(jpsi_phi3['Bs_M'], bins=bins, range=range_)\n",
    "ax3.hist(combinatorial['Bs_M'], bins=bins, range=range_)\n",
    "\n",
    "ax3.set_xlabel('MeV/c^2')\n",
    "\n",
    "\n",
    "range_=[-50,50]\n",
    "ax1, ax2,ax3 = axs[:, 2]\n",
    "ax1.set_title(\"Flight Distance\")\n",
    "ax1.hist(signal['_tau_minus_flight_dist'], bins=bins, range=range_)\n",
    "ax2.hist(jpsi_phi3['_tau_minus_flight_dist'], bins=bins, range=range_)\n",
    "ax3.hist(combinatorial['_tau_minus_flight_dist'], bins=bins, range=range_)\n",
    "\n",
    "ax3.set_xlabel('mm')\n",
    "\n",
    "\n",
    "plt.tight_layout(pad=0.5)"
   ]
  },
  {
   "cell_type": "markdown",
   "metadata": {},
   "source": [
    "### $B$ Line of Flight and Angle with $z$ Axis"
   ]
  },
  {
   "cell_type": "markdown",
   "metadata": {},
   "source": [
    "Look at the $B$ flight distance, which we expect to be roughly 8mm"
   ]
  },
  {
   "cell_type": "code",
   "execution_count": null,
   "metadata": {},
   "outputs": [],
   "source": [
    "plt.figure()\n",
    "plt.hist(jpsi_phi3['_bs_flight_dist'],bins=100,range=[-10,100])\n",
    "plt.hist(signal['_bs_flight_dist'],bins=100,range=[-10,100], alpha=0.7)\n",
    "plt.show()"
   ]
  },
  {
   "cell_type": "markdown",
   "metadata": {},
   "source": [
    "Now look at the $B$ and $\\mu$ angles with the $z$ axis"
   ]
  },
  {
   "cell_type": "code",
   "execution_count": null,
   "metadata": {},
   "outputs": [],
   "source": [
    "fig, axs = plt.subplots(1, 3, figsize=(16,4), sharex='col', squeeze=False)\n",
    "ax1,ax2,ax3= axs[0,:]\n",
    "ax1.set_title('_bs_angle_z')\n",
    "ax2.set_title('_mu_plus_angle_z')\n",
    "ax3.set_title('_mu_minus_angle_z')\n",
    "ax1.hist(signal['_bs_angle_z'],bins=100,range=[0,3.14])\n",
    "ax2.hist(signal['_mu_plus_angle_z'],bins=100,range=[0,3.14])\n",
    "ax3.hist(signal['_mu_minus_angle_z'],bins=100,range=[0,3.14])\n",
    "plt.show()\n",
    "\n",
    "\n",
    "fig, axs = plt.subplots(1, 2, figsize=(16,4), sharex='col', squeeze=False)\n",
    "ax1,ax2= axs[0,:]\n",
    "ax1.set_title('_tau_plus_angle_b')\n",
    "ax2.set_title('_tau_minus_angle_b')\n",
    "ax1.hist(signal['_tau_plus_angle_b'],bins=100,range=[0,0.002])\n",
    "ax2.hist(signal['_tau_minus_angle_b'],bins=100,range=[0,0.002])\n",
    "plt.show()"
   ]
  },
  {
   "cell_type": "markdown",
   "metadata": {},
   "source": [
    "Look at the angle distribution between the muons"
   ]
  },
  {
   "cell_type": "code",
   "execution_count": null,
   "metadata": {},
   "outputs": [],
   "source": [
    "plt.figure()\n",
    "plt.hist(signal['_taus_angle'],bins=100)\n",
    "plt.show()"
   ]
  },
  {
   "cell_type": "markdown",
   "metadata": {},
   "source": [
    "Look at distribution of IP with phi vertex"
   ]
  },
  {
   "cell_type": "code",
   "execution_count": null,
   "metadata": {},
   "outputs": [],
   "source": [
    "plt.figure()\n",
    "plt.hist(jpsi_phi3['_tau_minus_phi_IP'],bins=100,range=[0,3])\n",
    "plt.hist(signal['_tau_minus_phi_IP'],bins=100,range=[0,3],alpha=0.7)\n",
    "plt.show()"
   ]
  },
  {
   "cell_type": "markdown",
   "metadata": {
    "colab_type": "text",
    "id": "8kfuHxjvz8V1"
   },
   "source": [
    "## Output saving"
   ]
  },
  {
   "cell_type": "code",
   "execution_count": null,
   "metadata": {
    "colab": {},
    "colab_type": "code",
    "id": "-22pDNLkvf53"
   },
   "outputs": [],
   "source": [
    "BDT_COLUMNS = ['mu_plus_PT', 'mu_minus_PT', 'mu_plus_P', 'mu_minus_P','_tau_minus_closest_dist',\n",
    "    '_tau_plus_closest_dist','_tau_minus_flight_dist','_tau_plus_flight_dist','K_minus_PIDK','K_plus_PIDK','phi_ORIVX_CHI2','_tau_minus_phi_IP','_tau_plus_phi_IP']\n",
    "\n",
    "def save_data_frame(data_frame: pd.DataFrame, filename: str, for_BDT_only=False):\n",
    "    if for_BDT_only:\n",
    "        for column in BDT_COLUMNS:\n",
    "            if column not in data_frame.columns:\n",
    "                raise ValueError(f\"Column {column} not found in DataFrame.\")\n",
    "        saved_data = data_frame.loc[:, BDT_COLUMNS]\n",
    "    else:\n",
    "        saved_data = data_frame\n",
    "    print(f\"Saving DataFrame (shape: {saved_data.shape}) to: {filename}.\")\n",
    "    saved_data.to_pickle(filename)\n"
   ]
  },
  {
   "cell_type": "code",
   "execution_count": null,
   "metadata": {
    "colab": {
     "base_uri": "https://localhost:8080/",
     "height": 34
    },
    "colab_type": "code",
    "id": "P7L4srkFrYIY",
    "outputId": "f8afdd94-e60d-422a-b28f-f808e6fa857e"
   },
   "outputs": [],
   "source": [
    "# for DATA ###\n",
    "Bs_reduced_tau_reconstructed_data_frame.to_pickle('Bs_reduced_tau_reconstructed_data_frame_SL.pkl.gz')\n",
    "print(f\"Saved DataFrame (shape: {Bs_reduced_tau_reconstructed_data_frame.shape}).\")\n"
   ]
  },
  {
   "cell_type": "markdown",
   "metadata": {},
   "source": [
    "# for phi3 tau tau MC ###\n",
    "Bs_reduced_tau_reconstructed_data_frame.to_pickle('Bs_reduced_tau_reconstructed_data_frame_MC.pkl.gz')\n",
    "print(f\"Saved DataFrame (shape: {Bs_reduced_tau_reconstructed_data_frame.shape}).\")"
   ]
  },
  {
   "cell_type": "markdown",
   "metadata": {},
   "source": [
    "# for phi mu mu MC ###\n",
    "Bs_reduced_tau_reconstructed_data_frame.to_pickle('Bs_reduced_tau_reconstructed_data_frame_MC_phimumu.pkl.gz')\n",
    "print(f\"Saved DataFrame (shape: {Bs_reduced_tau_reconstructed_data_frame.shape}).\")"
   ]
  },
  {
   "cell_type": "code",
   "execution_count": null,
   "metadata": {},
   "outputs": [],
   "source": [
    "len(Bs_data)"
   ]
  },
  {
   "cell_type": "code",
   "execution_count": null,
   "metadata": {},
   "outputs": [],
   "source": [
    "plt.figure()\n",
    "plt.hist(signal['FD_tau_minus'],bins=100, range=[0,100], alpha=0.3)\n",
    "plt.hist(signal['_tau_minus_closest_dist'],bins=100, range=[0,100], alpha=0.3)\n",
    "plt.show()"
   ]
  },
  {
   "cell_type": "code",
   "execution_count": null,
   "metadata": {},
   "outputs": [],
   "source": []
  }
 ],
 "metadata": {
  "colab": {
   "collapsed_sections": [
    "ilfFW4-fFaVp"
   ],
   "name": "Copy of Copy of Lb to pKmutau: Background Reduction and Decay Reconstruction (Part 1 of 2)",
   "provenance": [],
   "toc_visible": true
  },
  "kernelspec": {
   "display_name": "Python 3",
   "language": "python",
   "name": "python3"
  },
  "language_info": {
   "codemirror_mode": {
    "name": "ipython",
    "version": 3
   },
   "file_extension": ".py",
   "mimetype": "text/x-python",
   "name": "python",
   "nbconvert_exporter": "python",
   "pygments_lexer": "ipython3",
   "version": "3.8.5"
  }
 },
 "nbformat": 4,
 "nbformat_minor": 4
}
