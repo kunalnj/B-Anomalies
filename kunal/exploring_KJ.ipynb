{
 "cells": [
  {
   "cell_type": "code",
   "execution_count": 1,
   "metadata": {},
   "outputs": [],
   "source": [
    "import matplotlib.pyplot as plt\n",
    "from matplotlib import colors\n",
    "import seaborn as sns\n",
    "from functions import *\n",
    "from mpl_toolkits.mplot3d import Axes3D\n",
    "%matplotlib widget\n",
    "plt.style.use('ggplot')"
   ]
  },
  {
   "cell_type": "code",
   "execution_count": 2,
   "metadata": {},
   "outputs": [],
   "source": [
    "df = root_to_df('root_files/Bender_mu_bs_phi.root')\n",
    "# df = root_to_df('Bender.root')\n",
    "df2 = root_to_df('~/Bs2KKmumu/Bs2KKmumu_2017_MagUp.root')"
   ]
  },
  {
   "cell_type": "code",
   "execution_count": 3,
   "metadata": {},
   "outputs": [
    {
     "data": {
      "text/html": [
       "<div>\n",
       "<style scoped>\n",
       "    .dataframe tbody tr th:only-of-type {\n",
       "        vertical-align: middle;\n",
       "    }\n",
       "\n",
       "    .dataframe tbody tr th {\n",
       "        vertical-align: top;\n",
       "    }\n",
       "\n",
       "    .dataframe thead th {\n",
       "        text-align: right;\n",
       "    }\n",
       "</style>\n",
       "<table border=\"1\" class=\"dataframe\">\n",
       "  <thead>\n",
       "    <tr style=\"text-align: right;\">\n",
       "      <th></th>\n",
       "      <th>DOCA_mu_plus</th>\n",
       "      <th>DOCA_mu_minus</th>\n",
       "      <th>DOCA_analytic_plus</th>\n",
       "      <th>DOCA_analytic_minus</th>\n",
       "    </tr>\n",
       "  </thead>\n",
       "  <tbody>\n",
       "    <tr>\n",
       "      <th>count</th>\n",
       "      <td>18033.000000</td>\n",
       "      <td>18033.000000</td>\n",
       "      <td>18033.000000</td>\n",
       "      <td>18033.000000</td>\n",
       "    </tr>\n",
       "    <tr>\n",
       "      <th>mean</th>\n",
       "      <td>0.243551</td>\n",
       "      <td>0.269188</td>\n",
       "      <td>0.248738</td>\n",
       "      <td>0.273213</td>\n",
       "    </tr>\n",
       "    <tr>\n",
       "      <th>std</th>\n",
       "      <td>1.700011</td>\n",
       "      <td>1.875240</td>\n",
       "      <td>1.584714</td>\n",
       "      <td>1.843810</td>\n",
       "    </tr>\n",
       "    <tr>\n",
       "      <th>min</th>\n",
       "      <td>0.000001</td>\n",
       "      <td>0.000004</td>\n",
       "      <td>0.000008</td>\n",
       "      <td>0.000005</td>\n",
       "    </tr>\n",
       "    <tr>\n",
       "      <th>25%</th>\n",
       "      <td>0.019129</td>\n",
       "      <td>0.019325</td>\n",
       "      <td>0.019254</td>\n",
       "      <td>0.019492</td>\n",
       "    </tr>\n",
       "    <tr>\n",
       "      <th>50%</th>\n",
       "      <td>0.044726</td>\n",
       "      <td>0.045223</td>\n",
       "      <td>0.045196</td>\n",
       "      <td>0.045709</td>\n",
       "    </tr>\n",
       "    <tr>\n",
       "      <th>75%</th>\n",
       "      <td>0.097320</td>\n",
       "      <td>0.096130</td>\n",
       "      <td>0.099192</td>\n",
       "      <td>0.098537</td>\n",
       "    </tr>\n",
       "    <tr>\n",
       "      <th>max</th>\n",
       "      <td>73.881259</td>\n",
       "      <td>88.652037</td>\n",
       "      <td>64.744949</td>\n",
       "      <td>88.639168</td>\n",
       "    </tr>\n",
       "  </tbody>\n",
       "</table>\n",
       "</div>"
      ],
      "text/plain": [
       "       DOCA_mu_plus  DOCA_mu_minus  DOCA_analytic_plus  DOCA_analytic_minus\n",
       "count  18033.000000   18033.000000        18033.000000         18033.000000\n",
       "mean       0.243551       0.269188            0.248738             0.273213\n",
       "std        1.700011       1.875240            1.584714             1.843810\n",
       "min        0.000001       0.000004            0.000008             0.000005\n",
       "25%        0.019129       0.019325            0.019254             0.019492\n",
       "50%        0.044726       0.045223            0.045196             0.045709\n",
       "75%        0.097320       0.096130            0.099192             0.098537\n",
       "max       73.881259      88.652037           64.744949            88.639168"
      ]
     },
     "execution_count": 3,
     "metadata": {},
     "output_type": "execute_result"
    }
   ],
   "source": [
    "doca_cols_chi2 = ['DOCA_mu_plus','DOCA_chi2_mu_plus','DOCA_mu_minus', 'DOCA_chi2_mu_minus', 'DOCA_analytic_plus', 'DOCA_analytic_minus']\n",
    "doca_cols = ['DOCA_mu_plus','DOCA_mu_minus', 'DOCA_analytic_plus', 'DOCA_analytic_minus']\n",
    "df[doca_cols].describe()"
   ]
  },
  {
   "cell_type": "code",
   "execution_count": 4,
   "metadata": {},
   "outputs": [
    {
     "data": {
      "application/vnd.jupyter.widget-view+json": {
       "model_id": "6a90989acd114f35b8ca39f29a06de24",
       "version_major": 2,
       "version_minor": 0
      },
      "text/plain": [
       "Canvas(toolbar=Toolbar(toolitems=[('Home', 'Reset original view', 'home', 'home'), ('Back', 'Back to previous …"
      ]
     },
     "metadata": {},
     "output_type": "display_data"
    }
   ],
   "source": [
    "plt.figure()\n",
    "df['DOCA_mu_plus'].hist(bins = 'auto', range = (0,0.1))\n",
    "plt.yscale('log')\n",
    "plt.title('DOCA_mu_plus')\n",
    "plt.tight_layout()\n",
    "plt.show()"
   ]
  },
  {
   "cell_type": "code",
   "execution_count": 5,
   "metadata": {},
   "outputs": [
    {
     "data": {
      "application/vnd.jupyter.widget-view+json": {
       "model_id": "c3660b6c8a2d4d2cb7ff81ca1d748b8d",
       "version_major": 2,
       "version_minor": 0
      },
      "text/plain": [
       "Canvas(toolbar=Toolbar(toolitems=[('Home', 'Reset original view', 'home', 'home'), ('Back', 'Back to previous …"
      ]
     },
     "metadata": {},
     "output_type": "display_data"
    }
   ],
   "source": [
    "fig, ax = plt.subplots(nrows = 2 , ncols = 2, figsize = (10,6))\n",
    "i = 0\n",
    "for row in ax:\n",
    "    for col in row:\n",
    "        N, bins, patches = col.hist(df[doca_cols[i]], bins = 'auto', range = (0,0.1))\n",
    "        fracs = N / N.max()\n",
    "        norm = colors.Normalize(fracs.min(), fracs.max())\n",
    "        for thisfrac, thispatch in zip(fracs, patches):\n",
    "            color = plt.cm.viridis(norm(thisfrac))\n",
    "            thispatch.set_facecolor(color)\n",
    "        col.set_yscale('log')\n",
    "        col.set_xlabel(doca_cols[i])\n",
    "        i+=1\n",
    "plt.suptitle('DOCA (log y)')\n",
    "plt.tight_layout()\n",
    "plt.show()"
   ]
  },
  {
   "cell_type": "code",
   "execution_count": 6,
   "metadata": {},
   "outputs": [
    {
     "data": {
      "application/vnd.jupyter.widget-view+json": {
       "model_id": "01b2e43f255e4fde95c00cdf2413a752",
       "version_major": 2,
       "version_minor": 0
      },
      "text/plain": [
       "Canvas(toolbar=Toolbar(toolitems=[('Home', 'Reset original view', 'home', 'home'), ('Back', 'Back to previous …"
      ]
     },
     "metadata": {},
     "output_type": "display_data"
    }
   ],
   "source": [
    "plt.figure()\n",
    "plt.hist(df['DOCA_mu_plus'], range = (0,0.1), alpha = 0.5, bins = 'auto', label = 'DOCA')\n",
    "plt.hist(df['DOCA_analytic_plus'], range = (0,0.1),alpha = 0.5, bins = 'auto', label = 'analytic')\n",
    "plt.yscale('log')\n",
    "plt.legend()\n",
    "plt.title('DOCA_mu_plus bender and analytic (log y)')\n",
    "plt.tight_layout()\n",
    "plt.show()"
   ]
  },
  {
   "cell_type": "code",
   "execution_count": 7,
   "metadata": {},
   "outputs": [
    {
     "data": {
      "application/vnd.jupyter.widget-view+json": {
       "model_id": "69ef98e3d7ef40e98c86721e2158326d",
       "version_major": 2,
       "version_minor": 0
      },
      "text/plain": [
       "Canvas(toolbar=Toolbar(toolitems=[('Home', 'Reset original view', 'home', 'home'), ('Back', 'Back to previous …"
      ]
     },
     "metadata": {},
     "output_type": "display_data"
    }
   ],
   "source": [
    "n = int(len(doca_cols)/2)\n",
    "fig,ax = plt.subplots(nrows =  n, ncols = n, figsize = (10,6))\n",
    "i = 0\n",
    "j = 0\n",
    "for row in ax:\n",
    "    for col in row:\n",
    "        col.scatter(df[doca_cols[i]],df[doca_cols[j]])\n",
    "        col.set_xlabel(doca_cols[i])\n",
    "        col.set_ylabel(doca_cols[j])\n",
    "        j+=1\n",
    "    i+=1\n",
    "plt.suptitle('Pairplot')\n",
    "plt.tight_layout()\n",
    "plt.show()"
   ]
  },
  {
   "cell_type": "code",
   "execution_count": 8,
   "metadata": {},
   "outputs": [
    {
     "data": {
      "application/vnd.jupyter.widget-view+json": {
       "model_id": "c9b91d2d5e5f4f55bd9df2025dc92307",
       "version_major": 2,
       "version_minor": 0
      },
      "text/plain": [
       "Canvas(toolbar=Toolbar(toolitems=[('Home', 'Reset original view', 'home', 'home'), ('Back', 'Back to previous …"
      ]
     },
     "metadata": {},
     "output_type": "display_data"
    },
    {
     "data": {
      "text/plain": [
       "<seaborn.axisgrid.PairGrid at 0x7fdd1e2138e0>"
      ]
     },
     "execution_count": 8,
     "metadata": {},
     "output_type": "execute_result"
    }
   ],
   "source": [
    "pairplot = sns.pairplot(df[doca_cols], diag_kind = None)\n",
    "pairplot.set(xlim = (0,1), ylim = (0,1))"
   ]
  },
  {
   "cell_type": "code",
   "execution_count": 9,
   "metadata": {},
   "outputs": [
    {
     "data": {
      "text/html": [
       "<div>\n",
       "<style scoped>\n",
       "    .dataframe tbody tr th:only-of-type {\n",
       "        vertical-align: middle;\n",
       "    }\n",
       "\n",
       "    .dataframe tbody tr th {\n",
       "        vertical-align: top;\n",
       "    }\n",
       "\n",
       "    .dataframe thead th {\n",
       "        text-align: right;\n",
       "    }\n",
       "</style>\n",
       "<table border=\"1\" class=\"dataframe\">\n",
       "  <thead>\n",
       "    <tr style=\"text-align: right;\">\n",
       "      <th></th>\n",
       "      <th></th>\n",
       "      <th>DOCA_mu_plus</th>\n",
       "      <th>DOCA_analytic_plus</th>\n",
       "    </tr>\n",
       "    <tr>\n",
       "      <th>entry</th>\n",
       "      <th>subentry</th>\n",
       "      <th></th>\n",
       "      <th></th>\n",
       "    </tr>\n",
       "  </thead>\n",
       "  <tbody>\n",
       "    <tr>\n",
       "      <th>0</th>\n",
       "      <th>0</th>\n",
       "      <td>0.021073</td>\n",
       "      <td>0.021072</td>\n",
       "    </tr>\n",
       "    <tr>\n",
       "      <th>1</th>\n",
       "      <th>0</th>\n",
       "      <td>0.024234</td>\n",
       "      <td>0.024234</td>\n",
       "    </tr>\n",
       "    <tr>\n",
       "      <th>2</th>\n",
       "      <th>0</th>\n",
       "      <td>0.201556</td>\n",
       "      <td>0.201556</td>\n",
       "    </tr>\n",
       "    <tr>\n",
       "      <th>3</th>\n",
       "      <th>0</th>\n",
       "      <td>0.008441</td>\n",
       "      <td>0.008441</td>\n",
       "    </tr>\n",
       "    <tr>\n",
       "      <th>4</th>\n",
       "      <th>0</th>\n",
       "      <td>0.005427</td>\n",
       "      <td>0.005427</td>\n",
       "    </tr>\n",
       "    <tr>\n",
       "      <th>...</th>\n",
       "      <th>...</th>\n",
       "      <td>...</td>\n",
       "      <td>...</td>\n",
       "    </tr>\n",
       "    <tr>\n",
       "      <th>18161</th>\n",
       "      <th>0</th>\n",
       "      <td>0.017339</td>\n",
       "      <td>0.017337</td>\n",
       "    </tr>\n",
       "    <tr>\n",
       "      <th>18162</th>\n",
       "      <th>0</th>\n",
       "      <td>0.048293</td>\n",
       "      <td>0.048293</td>\n",
       "    </tr>\n",
       "    <tr>\n",
       "      <th>18163</th>\n",
       "      <th>0</th>\n",
       "      <td>0.028332</td>\n",
       "      <td>0.028255</td>\n",
       "    </tr>\n",
       "    <tr>\n",
       "      <th>18164</th>\n",
       "      <th>0</th>\n",
       "      <td>0.028856</td>\n",
       "      <td>0.028856</td>\n",
       "    </tr>\n",
       "    <tr>\n",
       "      <th>18165</th>\n",
       "      <th>0</th>\n",
       "      <td>0.480801</td>\n",
       "      <td>0.480795</td>\n",
       "    </tr>\n",
       "  </tbody>\n",
       "</table>\n",
       "<p>18033 rows × 2 columns</p>\n",
       "</div>"
      ],
      "text/plain": [
       "                DOCA_mu_plus  DOCA_analytic_plus\n",
       "entry subentry                                  \n",
       "0     0             0.021073            0.021072\n",
       "1     0             0.024234            0.024234\n",
       "2     0             0.201556            0.201556\n",
       "3     0             0.008441            0.008441\n",
       "4     0             0.005427            0.005427\n",
       "...                      ...                 ...\n",
       "18161 0             0.017339            0.017337\n",
       "18162 0             0.048293            0.048293\n",
       "18163 0             0.028332            0.028255\n",
       "18164 0             0.028856            0.028856\n",
       "18165 0             0.480801            0.480795\n",
       "\n",
       "[18033 rows x 2 columns]"
      ]
     },
     "execution_count": 9,
     "metadata": {},
     "output_type": "execute_result"
    }
   ],
   "source": [
    "df[['DOCA_mu_plus','DOCA_analytic_plus']]"
   ]
  },
  {
   "cell_type": "code",
   "execution_count": 10,
   "metadata": {},
   "outputs": [
    {
     "data": {
      "application/vnd.jupyter.widget-view+json": {
       "model_id": "ab2a084c56d34f1b9762e696e6e869b9",
       "version_major": 2,
       "version_minor": 0
      },
      "text/plain": [
       "Canvas(toolbar=Toolbar(toolitems=[('Home', 'Reset original view', 'home', 'home'), ('Back', 'Back to previous …"
      ]
     },
     "metadata": {},
     "output_type": "display_data"
    }
   ],
   "source": [
    "fig, ax = plt.subplots(1,2, figsize = (10,5))\n",
    "ax[0].scatter(df['DOCA_mu_plus'], df['DOCA_mu_plus_err'], marker = 'x')\n",
    "ax[0].set_xlabel('DOCA_mu_plus')\n",
    "ax[0].set_ylabel('DOCA_mu_plus_err')\n",
    "ax[0].set_xlim(0,0.1)\n",
    "ax[0].set_ylim(0,1)\n",
    "ax[1].scatter(df['DOCA_mu_minus'], df['DOCA_mu_minus_err'], marker = 'x')\n",
    "ax[1].set_xlabel('DOCA_mu_minus')\n",
    "ax[1].set_ylabel('DOCA_mu_minus_err')\n",
    "ax[1].set_xlim(0,0.1)\n",
    "ax[1].set_ylim(0,1)\n",
    "plt.suptitle('DOCA error vs DOCA')\n",
    "plt.tight_layout()\n",
    "plt.show()"
   ]
  },
  {
   "cell_type": "code",
   "execution_count": 11,
   "metadata": {},
   "outputs": [
    {
     "data": {
      "application/vnd.jupyter.widget-view+json": {
       "model_id": "444585991d7c4ca096cbbc3221420ecb",
       "version_major": 2,
       "version_minor": 0
      },
      "text/plain": [
       "Canvas(toolbar=Toolbar(toolitems=[('Home', 'Reset original view', 'home', 'home'), ('Back', 'Back to previous …"
      ]
     },
     "metadata": {},
     "output_type": "display_data"
    }
   ],
   "source": [
    "fig, ax = plt.subplots(1,2, figsize = (10,5))\n",
    "ax[0].hist(df['DOCA_mu_plus_err'], bins = 'auto', range = (0,0.1))\n",
    "ax[0].set_xlabel('DOCA_mu_plus_err')\n",
    "ax[1].hist(df['DOCA_mu_minus_err'], bins = 'auto', range = (0,0.1))\n",
    "ax[1].set_xlabel('DOCA_mu_minus_err')\n",
    "plt.suptitle('Distribution of DOCA error')\n",
    "plt.tight_layout()\n",
    "plt.show()"
   ]
  },
  {
   "cell_type": "code",
   "execution_count": 12,
   "metadata": {},
   "outputs": [
    {
     "data": {
      "application/vnd.jupyter.widget-view+json": {
       "model_id": "200d3938cdcb497c88d2fcffc54b1181",
       "version_major": 2,
       "version_minor": 0
      },
      "text/plain": [
       "Canvas(toolbar=Toolbar(toolitems=[('Home', 'Reset original view', 'home', 'home'), ('Back', 'Back to previous …"
      ]
     },
     "metadata": {},
     "output_type": "display_data"
    }
   ],
   "source": [
    "fig, ax = plt.subplots(1,2, figsize = (10,5))\n",
    "ax[0].hist(df['DOCA_mu_plus_err'], bins = 'auto', range = (0,0.5))\n",
    "ax[0].set_xlabel('DOCA_mu_plus_err')\n",
    "ax[0].set_yscale('log')\n",
    "ax[1].hist(df['DOCA_mu_minus_err'], bins = 'auto', range = (0,0.5))\n",
    "ax[1].set_xlabel('DOCA_mu_minus_err')\n",
    "ax[1].set_yscale('log')\n",
    "plt.suptitle('Distribution of DOCA error (log y) (larger range)')\n",
    "plt.tight_layout()\n",
    "plt.show()"
   ]
  },
  {
   "cell_type": "code",
   "execution_count": 13,
   "metadata": {},
   "outputs": [
    {
     "data": {
      "text/html": [
       "<div>\n",
       "<style scoped>\n",
       "    .dataframe tbody tr th:only-of-type {\n",
       "        vertical-align: middle;\n",
       "    }\n",
       "\n",
       "    .dataframe tbody tr th {\n",
       "        vertical-align: top;\n",
       "    }\n",
       "\n",
       "    .dataframe thead th {\n",
       "        text-align: right;\n",
       "    }\n",
       "</style>\n",
       "<table border=\"1\" class=\"dataframe\">\n",
       "  <thead>\n",
       "    <tr style=\"text-align: right;\">\n",
       "      <th></th>\n",
       "      <th>DOCA_mu_plus</th>\n",
       "      <th>DOCA_mu_plus_err</th>\n",
       "      <th>DOCA_mu_minus</th>\n",
       "      <th>DOCA_mu_minus_err</th>\n",
       "    </tr>\n",
       "  </thead>\n",
       "  <tbody>\n",
       "    <tr>\n",
       "      <th>count</th>\n",
       "      <td>18033.000000</td>\n",
       "      <td>18033.000000</td>\n",
       "      <td>18033.000000</td>\n",
       "      <td>18033.000000</td>\n",
       "    </tr>\n",
       "    <tr>\n",
       "      <th>mean</th>\n",
       "      <td>0.243551</td>\n",
       "      <td>0.118749</td>\n",
       "      <td>0.269188</td>\n",
       "      <td>0.105506</td>\n",
       "    </tr>\n",
       "    <tr>\n",
       "      <th>std</th>\n",
       "      <td>1.700011</td>\n",
       "      <td>2.279957</td>\n",
       "      <td>1.875240</td>\n",
       "      <td>0.362121</td>\n",
       "    </tr>\n",
       "    <tr>\n",
       "      <th>min</th>\n",
       "      <td>0.000001</td>\n",
       "      <td>0.005191</td>\n",
       "      <td>0.000004</td>\n",
       "      <td>0.004174</td>\n",
       "    </tr>\n",
       "    <tr>\n",
       "      <th>25%</th>\n",
       "      <td>0.019129</td>\n",
       "      <td>0.034235</td>\n",
       "      <td>0.019325</td>\n",
       "      <td>0.034390</td>\n",
       "    </tr>\n",
       "    <tr>\n",
       "      <th>50%</th>\n",
       "      <td>0.044726</td>\n",
       "      <td>0.053359</td>\n",
       "      <td>0.045223</td>\n",
       "      <td>0.053726</td>\n",
       "    </tr>\n",
       "    <tr>\n",
       "      <th>75%</th>\n",
       "      <td>0.097320</td>\n",
       "      <td>0.085986</td>\n",
       "      <td>0.096130</td>\n",
       "      <td>0.085795</td>\n",
       "    </tr>\n",
       "    <tr>\n",
       "      <th>max</th>\n",
       "      <td>73.881259</td>\n",
       "      <td>302.105312</td>\n",
       "      <td>88.652037</td>\n",
       "      <td>18.414771</td>\n",
       "    </tr>\n",
       "  </tbody>\n",
       "</table>\n",
       "</div>"
      ],
      "text/plain": [
       "       DOCA_mu_plus  DOCA_mu_plus_err  DOCA_mu_minus  DOCA_mu_minus_err\n",
       "count  18033.000000      18033.000000   18033.000000       18033.000000\n",
       "mean       0.243551          0.118749       0.269188           0.105506\n",
       "std        1.700011          2.279957       1.875240           0.362121\n",
       "min        0.000001          0.005191       0.000004           0.004174\n",
       "25%        0.019129          0.034235       0.019325           0.034390\n",
       "50%        0.044726          0.053359       0.045223           0.053726\n",
       "75%        0.097320          0.085986       0.096130           0.085795\n",
       "max       73.881259        302.105312      88.652037          18.414771"
      ]
     },
     "execution_count": 13,
     "metadata": {},
     "output_type": "execute_result"
    }
   ],
   "source": [
    "df[['DOCA_mu_plus','DOCA_mu_plus_err','DOCA_mu_minus', 'DOCA_mu_minus_err']].describe()"
   ]
  },
  {
   "cell_type": "code",
   "execution_count": 14,
   "metadata": {},
   "outputs": [
    {
     "data": {
      "application/vnd.jupyter.widget-view+json": {
       "model_id": "067e9ad8ba0c406ea3f108e10810a4dd",
       "version_major": 2,
       "version_minor": 0
      },
      "text/plain": [
       "Canvas(toolbar=Toolbar(toolitems=[('Home', 'Reset original view', 'home', 'home'), ('Back', 'Back to previous …"
      ]
     },
     "metadata": {},
     "output_type": "display_data"
    }
   ],
   "source": [
    "fig, ax = plt.subplots(1,2, figsize = (10,5))\n",
    "ax[0].hist(df['DOCA_mu_plus_err'], bins = 'auto', range = (0,0.1), alpha = 0.5, label = 'DOCA_mu_plus_err')\n",
    "ax[0].hist(df['DOCA_mu_plus'], bins = 'auto', range = (0,0.1), alpha = 0.5, label = 'DOCA_mu_plus')\n",
    "ax[0].set_xlabel('DOCA_mu_plus/DOCA_mu_plus_err')\n",
    "ax[0].set_yscale('log')\n",
    "ax[0].legend()\n",
    "ax[1].hist(df['DOCA_mu_minus_err'], bins = 'auto', range = (0,0.1), alpha = 0.5, label = 'DOCA_mu_minus_err')\n",
    "ax[1].hist(df['DOCA_mu_minus'], bins = 'auto', range = (0,0.1), alpha = 0.5, label = 'DOCA_mu_minus')\n",
    "ax[1].set_xlabel('DOCA_mu_minus/DOCA_mu_minus_err')\n",
    "ax[1].set_yscale('log')\n",
    "ax[1].legend()\n",
    "plt.suptitle('Distribution of DOCA & error (log y)')\n",
    "plt.tight_layout()\n",
    "plt.show()"
   ]
  },
  {
   "cell_type": "code",
   "execution_count": 15,
   "metadata": {},
   "outputs": [
    {
     "data": {
      "application/vnd.jupyter.widget-view+json": {
       "model_id": "34a4fb2c20e3474db52e88bfa8f25dbf",
       "version_major": 2,
       "version_minor": 0
      },
      "text/plain": [
       "Canvas(toolbar=Toolbar(toolitems=[('Home', 'Reset original view', 'home', 'home'), ('Back', 'Back to previous …"
      ]
     },
     "metadata": {},
     "output_type": "display_data"
    }
   ],
   "source": [
    "fig, ax = plt.subplots(nrows = 1 , ncols = 2, figsize = (10,6))\n",
    "i = 0\n",
    "doca_columns = ['DOCA_analytic_plus', 'DOCA_analytic_minus']\n",
    "for col in ax:\n",
    "    N, bins, patches = col.hist(df2[doca_columns[i]], bins = 'auto', range = (0,0.02))\n",
    "    fracs = N / N.max()\n",
    "    norm = colors.Normalize(fracs.min(), fracs.max())\n",
    "    for thisfrac, thispatch in zip(fracs, patches):\n",
    "        color = plt.cm.viridis(norm(thisfrac))\n",
    "        thispatch.set_facecolor(color)\n",
    "    col.set_yscale('log')\n",
    "    col.set_xlabel(doca_columns[i])\n",
    "    i+=1\n",
    "fig.suptitle('DOCA analytic ditribution (log y) (Bs2KKmumu_MC_phimumu_MagUp_PID.root)')\n",
    "plt.tight_layout()\n",
    "plt.show()"
   ]
  },
  {
   "cell_type": "code",
   "execution_count": 16,
   "metadata": {},
   "outputs": [
    {
     "data": {
      "application/vnd.jupyter.widget-view+json": {
       "model_id": "cc0219712ca3469eb0a41b794ca85a99",
       "version_major": 2,
       "version_minor": 0
      },
      "text/plain": [
       "Canvas(toolbar=Toolbar(toolitems=[('Home', 'Reset original view', 'home', 'home'), ('Back', 'Back to previous …"
      ]
     },
     "metadata": {},
     "output_type": "display_data"
    }
   ],
   "source": [
    "fig, ax = plt.subplots(nrows = 1 , ncols = 2, figsize = (10,6))\n",
    "i = 0\n",
    "doca_columns = ['DOCA_analytic_plus', 'DOCA_analytic_minus']\n",
    "for col in ax:\n",
    "    N, bins, patches = col.hist(df[doca_columns[i]], bins = 'auto', range = (0,0.02))\n",
    "    fracs = N / N.max()\n",
    "    norm = colors.Normalize(fracs.min(), fracs.max())\n",
    "    for thisfrac, thispatch in zip(fracs, patches):\n",
    "        color = plt.cm.viridis(norm(thisfrac))\n",
    "        thispatch.set_facecolor(color)\n",
    "    col.set_yscale('log')\n",
    "    col.set_xlabel(doca_columns[i])\n",
    "    i+=1\n",
    "fig.suptitle('DOCA analytic ditribution (log y) (Bender.root)')\n",
    "plt.tight_layout()\n",
    "plt.show()"
   ]
  },
  {
   "cell_type": "code",
   "execution_count": 17,
   "metadata": {},
   "outputs": [
    {
     "data": {
      "text/html": [
       "<div>\n",
       "<style scoped>\n",
       "    .dataframe tbody tr th:only-of-type {\n",
       "        vertical-align: middle;\n",
       "    }\n",
       "\n",
       "    .dataframe tbody tr th {\n",
       "        vertical-align: top;\n",
       "    }\n",
       "\n",
       "    .dataframe thead th {\n",
       "        text-align: right;\n",
       "    }\n",
       "</style>\n",
       "<table border=\"1\" class=\"dataframe\">\n",
       "  <thead>\n",
       "    <tr style=\"text-align: right;\">\n",
       "      <th></th>\n",
       "      <th>DOCA_analytic_plus</th>\n",
       "      <th>DOCA_analytic_minus</th>\n",
       "    </tr>\n",
       "  </thead>\n",
       "  <tbody>\n",
       "    <tr>\n",
       "      <th>count</th>\n",
       "      <td>3.252100e+05</td>\n",
       "      <td>3.252100e+05</td>\n",
       "    </tr>\n",
       "    <tr>\n",
       "      <th>mean</th>\n",
       "      <td>2.267519e-02</td>\n",
       "      <td>2.227973e-02</td>\n",
       "    </tr>\n",
       "    <tr>\n",
       "      <th>std</th>\n",
       "      <td>7.596425e-02</td>\n",
       "      <td>6.668545e-02</td>\n",
       "    </tr>\n",
       "    <tr>\n",
       "      <th>min</th>\n",
       "      <td>4.702617e-07</td>\n",
       "      <td>7.202035e-07</td>\n",
       "    </tr>\n",
       "    <tr>\n",
       "      <th>25%</th>\n",
       "      <td>4.080178e-03</td>\n",
       "      <td>4.022120e-03</td>\n",
       "    </tr>\n",
       "    <tr>\n",
       "      <th>50%</th>\n",
       "      <td>9.655243e-03</td>\n",
       "      <td>9.582052e-03</td>\n",
       "    </tr>\n",
       "    <tr>\n",
       "      <th>75%</th>\n",
       "      <td>2.116856e-02</td>\n",
       "      <td>2.086950e-02</td>\n",
       "    </tr>\n",
       "    <tr>\n",
       "      <th>max</th>\n",
       "      <td>1.070628e+01</td>\n",
       "      <td>1.075924e+01</td>\n",
       "    </tr>\n",
       "  </tbody>\n",
       "</table>\n",
       "</div>"
      ],
      "text/plain": [
       "       DOCA_analytic_plus  DOCA_analytic_minus\n",
       "count        3.252100e+05         3.252100e+05\n",
       "mean         2.267519e-02         2.227973e-02\n",
       "std          7.596425e-02         6.668545e-02\n",
       "min          4.702617e-07         7.202035e-07\n",
       "25%          4.080178e-03         4.022120e-03\n",
       "50%          9.655243e-03         9.582052e-03\n",
       "75%          2.116856e-02         2.086950e-02\n",
       "max          1.070628e+01         1.075924e+01"
      ]
     },
     "execution_count": 17,
     "metadata": {},
     "output_type": "execute_result"
    }
   ],
   "source": [
    "df2[doca_columns].describe()"
   ]
  },
  {
   "cell_type": "code",
   "execution_count": 18,
   "metadata": {},
   "outputs": [
    {
     "data": {
      "text/html": [
       "<div>\n",
       "<style scoped>\n",
       "    .dataframe tbody tr th:only-of-type {\n",
       "        vertical-align: middle;\n",
       "    }\n",
       "\n",
       "    .dataframe tbody tr th {\n",
       "        vertical-align: top;\n",
       "    }\n",
       "\n",
       "    .dataframe thead th {\n",
       "        text-align: right;\n",
       "    }\n",
       "</style>\n",
       "<table border=\"1\" class=\"dataframe\">\n",
       "  <thead>\n",
       "    <tr style=\"text-align: right;\">\n",
       "      <th></th>\n",
       "      <th>DOCA_analytic_plus</th>\n",
       "      <th>DOCA_analytic_minus</th>\n",
       "    </tr>\n",
       "  </thead>\n",
       "  <tbody>\n",
       "    <tr>\n",
       "      <th>count</th>\n",
       "      <td>18033.000000</td>\n",
       "      <td>18033.000000</td>\n",
       "    </tr>\n",
       "    <tr>\n",
       "      <th>mean</th>\n",
       "      <td>0.248738</td>\n",
       "      <td>0.273213</td>\n",
       "    </tr>\n",
       "    <tr>\n",
       "      <th>std</th>\n",
       "      <td>1.584714</td>\n",
       "      <td>1.843810</td>\n",
       "    </tr>\n",
       "    <tr>\n",
       "      <th>min</th>\n",
       "      <td>0.000008</td>\n",
       "      <td>0.000005</td>\n",
       "    </tr>\n",
       "    <tr>\n",
       "      <th>25%</th>\n",
       "      <td>0.019254</td>\n",
       "      <td>0.019492</td>\n",
       "    </tr>\n",
       "    <tr>\n",
       "      <th>50%</th>\n",
       "      <td>0.045196</td>\n",
       "      <td>0.045709</td>\n",
       "    </tr>\n",
       "    <tr>\n",
       "      <th>75%</th>\n",
       "      <td>0.099192</td>\n",
       "      <td>0.098537</td>\n",
       "    </tr>\n",
       "    <tr>\n",
       "      <th>max</th>\n",
       "      <td>64.744949</td>\n",
       "      <td>88.639168</td>\n",
       "    </tr>\n",
       "  </tbody>\n",
       "</table>\n",
       "</div>"
      ],
      "text/plain": [
       "       DOCA_analytic_plus  DOCA_analytic_minus\n",
       "count        18033.000000         18033.000000\n",
       "mean             0.248738             0.273213\n",
       "std              1.584714             1.843810\n",
       "min              0.000008             0.000005\n",
       "25%              0.019254             0.019492\n",
       "50%              0.045196             0.045709\n",
       "75%              0.099192             0.098537\n",
       "max             64.744949            88.639168"
      ]
     },
     "execution_count": 18,
     "metadata": {},
     "output_type": "execute_result"
    }
   ],
   "source": [
    "df[doca_columns].describe()"
   ]
  },
  {
   "cell_type": "code",
   "execution_count": 19,
   "metadata": {},
   "outputs": [],
   "source": [
    "df2_reduced = pd.read_pickle('/home/hep/kj3417/UROP_notebooks/Bs_reduced_tau_reconstructed_data_frame_MC_phimumu.pkl.gz')"
   ]
  },
  {
   "cell_type": "code",
   "execution_count": 20,
   "metadata": {},
   "outputs": [
    {
     "data": {
      "application/vnd.jupyter.widget-view+json": {
       "model_id": "bf13faba2ed147f9bb2e3dd0b5584c4f",
       "version_major": 2,
       "version_minor": 0
      },
      "text/plain": [
       "Canvas(toolbar=Toolbar(toolitems=[('Home', 'Reset original view', 'home', 'home'), ('Back', 'Back to previous …"
      ]
     },
     "metadata": {},
     "output_type": "display_data"
    }
   ],
   "source": [
    "fig, ax = plt.subplots(nrows = 1 , ncols = 2, figsize = (10,6))\n",
    "i = 0\n",
    "doca_columns = ['_tau_plus_closest_dist', '_tau_minus_closest_dist']\n",
    "for col in ax:\n",
    "    N, bins, patches = col.hist(df2_reduced[doca_columns[i]], bins = 'auto', range = (0,0.02))\n",
    "    fracs = N / N.max()\n",
    "    norm = colors.Normalize(fracs.min(), fracs.max())\n",
    "    for thisfrac, thispatch in zip(fracs, patches):\n",
    "        color = plt.cm.viridis(norm(thisfrac))\n",
    "        thispatch.set_facecolor(color)\n",
    "    col.set_yscale('log')\n",
    "    col.set_xlabel(doca_columns[i])\n",
    "    i+=1\n",
    "fig.suptitle('tau CDA (emanuelle reduced)')\n",
    "plt.tight_layout()\n",
    "plt.show()"
   ]
  },
  {
   "cell_type": "code",
   "execution_count": 21,
   "metadata": {},
   "outputs": [],
   "source": [
    "bs_point_1 = df2_reduced[['Bs_OWNPV_X', 'Bs_OWNPV_Y', 'Bs_OWNPV_Z']].to_numpy() #on Bs LOF\n",
    "bs_point_2 = df2_reduced[['Bs_ENDVERTEX_X', 'Bs_ENDVERTEX_Y', 'Bs_ENDVERTEX_Z']].to_numpy() #on Bs LOF\n",
    "mu_plus_point = df2_reduced[['mu_plus_REFPX', 'mu_plus_REFPY', 'mu_plus_REFPZ']].to_numpy() #on mu + LOF\n",
    "#mu_plus_point = df[['mu_plus_OWNPV_X','mu_plus_OWNPV_Y','mu_plus_OWNPV_Z']].applymap(lambda x: x[0]).to_numpy() #on mu + LOF\n",
    "mu_minus_point = df2_reduced[['mu_minus_REFPX', 'mu_minus_REFPY', 'mu_minus_REFPZ']].to_numpy() #on mu - LOF\n",
    "#mu_minus_point = df[['mu_minus_OWNPV_X','mu_minus_OWNPV_Y','mu_minus_OWNPV_Z']].applymap(lambda x: x[0]).to_numpy() #on mu - LOF\n",
    "\n",
    "bs_dir = bs_point_1 - bs_point_2\n",
    "mu_plus_dir = df2_reduced[['mu_plus_AtVtx_PX', 'mu_plus_AtVtx_PY', 'mu_plus_AtVtx_PZ']].to_numpy()\n",
    "mu_minus_dir = df2_reduced[['mu_minus_AtVtx_PX', 'mu_minus_AtVtx_PY', 'mu_minus_AtVtx_PZ']].to_numpy()\n",
    "\n",
    "n_plus = np.cross(bs_dir,mu_plus_dir)\n",
    "n_plus = n_plus/np.linalg.norm(n_plus, axis = 1, keepdims = True)\n",
    "n_minus = np.cross(bs_dir,mu_minus_dir)\n",
    "n_minus = n_minus/np.linalg.norm(n_minus, axis = 1, keepdims = True)\n",
    "\n",
    "DOCA_plus = np.abs(((mu_plus_point - bs_point_1)*n_plus).sum(1))\n",
    "DOCA_minus = np.abs(((mu_minus_point - bs_point_1)*n_minus).sum(1))\n",
    "\n",
    "df2_reduced['DOCA_analytic_plus'] = DOCA_plus\n",
    "df2_reduced['DOCA_analytic_minus'] = DOCA_minus"
   ]
  },
  {
   "cell_type": "code",
   "execution_count": 22,
   "metadata": {},
   "outputs": [
    {
     "data": {
      "application/vnd.jupyter.widget-view+json": {
       "model_id": "6e055c76dc5640e3a9810dee2b4da7a4",
       "version_major": 2,
       "version_minor": 0
      },
      "text/plain": [
       "Canvas(toolbar=Toolbar(toolitems=[('Home', 'Reset original view', 'home', 'home'), ('Back', 'Back to previous …"
      ]
     },
     "metadata": {},
     "output_type": "display_data"
    }
   ],
   "source": [
    "fig, ax = plt.subplots(nrows = 1 , ncols = 2, figsize = (10,6))\n",
    "i = 0\n",
    "doca_columns = ['DOCA_analytic_plus', 'DOCA_analytic_minus']\n",
    "for col in ax:\n",
    "    N, bins, patches = col.hist(df2_reduced[doca_columns[i]], bins = 'auto', range = (0,0.02))\n",
    "    fracs = N / N.max()\n",
    "    norm = colors.Normalize(fracs.min(), fracs.max())\n",
    "    for thisfrac, thispatch in zip(fracs, patches):\n",
    "        color = plt.cm.viridis(norm(thisfrac))\n",
    "        thispatch.set_facecolor(color)\n",
    "    col.set_yscale('log')\n",
    "    col.set_xlabel(doca_columns[i])\n",
    "    i+=1\n",
    "fig.suptitle('DOCA analytic (log y) (emanuelle reduced)')\n",
    "plt.tight_layout()\n",
    "plt.show()"
   ]
  },
  {
   "cell_type": "code",
   "execution_count": 23,
   "metadata": {},
   "outputs": [
    {
     "data": {
      "application/vnd.jupyter.widget-view+json": {
       "model_id": "717a2ed0e3ac4c0094b497d111ec284e",
       "version_major": 2,
       "version_minor": 0
      },
      "text/plain": [
       "Canvas(toolbar=Toolbar(toolitems=[('Home', 'Reset original view', 'home', 'home'), ('Back', 'Back to previous …"
      ]
     },
     "metadata": {},
     "output_type": "display_data"
    }
   ],
   "source": [
    "doca_cols = ['DOCA_mu_plus','DOCA_mu_minus', 'DOCA_analytic_plus', 'DOCA_analytic_minus']\n",
    "fig,ax = plt.subplots(1,2, figsize = (10,5))\n",
    "ax[0].hist(df['DOCA_mu_plus'], range = (0,0.1), alpha = 0.5, bins = 'auto', label = 'DOCA_mu_plus')\n",
    "ax[0].hist(df['DOCA_analytic_plus'], range = (0,0.1),alpha = 0.5, bins = 'auto', label = 'DOCA_analytic_plus')\n",
    "ax[1].hist(df['DOCA_mu_minus'], range = (0,0.1), alpha = 0.5, bins = 'auto', label = 'DOCA_mu_minus')\n",
    "ax[1].hist(df['DOCA_analytic_minus'], range = (0,0.1),alpha = 0.5, bins = 'auto', label = 'DOCA_analytic_minus')\n",
    "ax[0].set_yscale('log')\n",
    "ax[1].set_yscale('log')\n",
    "ax[0].legend()\n",
    "ax[1].legend()\n",
    "plt.tight_layout()\n",
    "plt.show()"
   ]
  },
  {
   "cell_type": "code",
   "execution_count": 24,
   "metadata": {},
   "outputs": [
    {
     "data": {
      "application/vnd.jupyter.widget-view+json": {
       "model_id": "7af4c084c35f4840a6721540b5914b63",
       "version_major": 2,
       "version_minor": 0
      },
      "text/plain": [
       "Canvas(toolbar=Toolbar(toolitems=[('Home', 'Reset original view', 'home', 'home'), ('Back', 'Back to previous …"
      ]
     },
     "metadata": {},
     "output_type": "display_data"
    }
   ],
   "source": [
    "fig ,ax = plt.subplots(1,2,figsize = (10,6))\n",
    "ax[0].scatter(df['FD_tau_plus'],  df['tauplus_analytic_FD'], marker=\".\")\n",
    "ax[0].set_xlabel('FD_tau_plus')\n",
    "ax[0].set_ylabel('tauplus_analytic_FD')\n",
    "ax[0].set_xlim(-1, 100)\n",
    "ax[0].set_ylim(-1, 100)\n",
    "ax[1].scatter(df['FD_tau_minus'],  df['tauminus_analytic_FD'], marker=\".\")\n",
    "ax[1].set_xlabel('FD_tau_minus')\n",
    "ax[1].set_ylabel('tauminus_analytic_FD')\n",
    "ax[1].set_xlim(-1, 100)\n",
    "ax[1].set_ylim(-1, 100)\n",
    "fig.suptitle('FD')\n",
    "plt.tight_layout()\n",
    "plt.show()"
   ]
  },
  {
   "cell_type": "code",
   "execution_count": 25,
   "metadata": {},
   "outputs": [],
   "source": [
    "# droplist = [i for i in df.columns if all(val == -9999 for val in df[i].values)]\n",
    "# df_reduced = df.drop(droplist,axis=1)\n",
    "# for col in df_reduced.columns:\n",
    "#     if any(df_reduced[col].values == -9999):\n",
    "#         df_reduced.drop(df_reduced[df_reduced[col] == -9999].index, inplace =True)"
   ]
  },
  {
   "cell_type": "code",
   "execution_count": 26,
   "metadata": {},
   "outputs": [
    {
     "data": {
      "application/vnd.jupyter.widget-view+json": {
       "model_id": "87dfc00ad9484190b299151f508d14aa",
       "version_major": 2,
       "version_minor": 0
      },
      "text/plain": [
       "Canvas(toolbar=Toolbar(toolitems=[('Home', 'Reset original view', 'home', 'home'), ('Back', 'Back to previous …"
      ]
     },
     "metadata": {},
     "output_type": "display_data"
    }
   ],
   "source": [
    "# n = 180\n",
    "n = 300\n",
    "#n = 1386\n",
    "\n",
    "t = np.linspace(-5, 5, 10)\n",
    "\n",
    "fig = plt.figure()\n",
    "ax = Axes3D(fig)\n",
    "\n",
    "ax.scatter(df['VFIT_plus_x'][n], df['VFIT_plus_y'][n], df['VFIT_plus_z'][n], color=\"r\", label = 'VFIT_plus')\n",
    "ax.scatter(df['tauplus_closest_x'][n], df['tauplus_closest_y'][n], df['tauplus_closest_z'][n], color=\"b\", label = 'tauplus_closest')\n",
    "ax.scatter(df['muplus_closest_x'][n], df['muplus_closest_y'][n], df['muplus_closest_z'][n], color=\"orange\", label = 'muplus_closest')\n",
    "ax.scatter(df['phi3_VX'][n], df['phi3_VY'][n], df['phi3_VZ'][n], color=\"g\")\n",
    "ax.scatter(df['muplus_RefPoint_X'][n], df['muplus_RefPoint_Y'][n], df['muplus_RefPoint_Z'][n], color=\"c\")\n",
    "ax.scatter(df['Bs_VX'][n], df['Bs_VY'][n], df['Bs_VZ'][n], color=\"m\")\n",
    "\n",
    "ax.plot([df['muplus_closest_x'][n][0], df['tauplus_closest_x'][n][0]],\n",
    "        [df['muplus_closest_y'][n][0], df['tauplus_closest_y'][n][0]],\n",
    "        [df['muplus_closest_z'][n][0], df['tauplus_closest_z'][n][0]], color=\"black\", label=\"doca line\")\n",
    "\n",
    "ax.plot(df['phi3_VX'][n][0] + t*df['phi3_PX'][n][0]/df['phi3_P'][n][0],\n",
    "        df['phi3_VY'][n][0] + t*df['phi3_PY'][n][0]/df['phi3_P'][n][0], \n",
    "        df['phi3_VZ'][n][0] + t*df['phi3_PZ'][n][0]/df['phi3_P'][n][0], color='g', label='phi3')\n",
    "\n",
    "\n",
    "ax.plot(df['Bs_VX'][n][0] + t*df['Bs_PX'][n][0]/df['Bs_P'][n][0],\n",
    "        df['Bs_VY'][n][0] + t*df['Bs_PY'][n][0]/df['Bs_P'][n][0], \n",
    "        df['Bs_VZ'][n][0] + t*df['Bs_PZ'][n][0]/df['Bs_P'][n][0], color='m', label='Bs')\n",
    "\n",
    "\n",
    "ax.plot(df['muplus_RefPoint_X'][n][0] + t*df['muplus_PX'][n][0]/df['muplus_P'][n][0],\n",
    "        df['muplus_RefPoint_Y'][n][0] + t*df['muplus_PY'][n][0]/df['muplus_P'][n][0], \n",
    "        df['muplus_RefPoint_Z'][n][0] + t*df['muplus_PZ'][n][0]/df['muplus_P'][n][0], color='c', label='muplus')\n",
    "\n",
    "\n",
    "plt.legend()\n",
    "plt.show()"
   ]
  },
  {
   "cell_type": "code",
   "execution_count": 27,
   "metadata": {},
   "outputs": [
    {
     "data": {
      "application/vnd.jupyter.widget-view+json": {
       "model_id": "a0011c5984004dc3a9456ff5d96a9ed3",
       "version_major": 2,
       "version_minor": 0
      },
      "text/plain": [
       "Canvas(toolbar=Toolbar(toolitems=[('Home', 'Reset original view', 'home', 'home'), ('Back', 'Back to previous …"
      ]
     },
     "metadata": {},
     "output_type": "display_data"
    }
   ],
   "source": [
    "fig, ax = plt.subplots(1, 3, figsize=(12, 4))\n",
    "ax[0].scatter(df['VFIT_plus_x'],  df['tauplus_closest_x'], marker=\".\", color=\"r\")\n",
    "ax[0].set_xlim(-10, 10)\n",
    "ax[0].set_ylim(-10, 10)\n",
    "ax[0].set_ylabel(\"analytic\")\n",
    "ax[0].set_xlabel(\"VFIT_x\")\n",
    "ax[1].scatter(df['VFIT_plus_y'],  df['tauplus_closest_y'], marker=\".\", color=\"g\")\n",
    "ax[1].set_xlim(-10, 10)\n",
    "ax[1].set_ylim(-10, 10)\n",
    "ax[1].set_xlabel(\"VFIT_y\")\n",
    "ax[2].scatter(df['VFIT_plus_z'],  df['tauplus_closest_z'], marker=\".\", color=\"b\")\n",
    "ax[2].set_xlim(-200, 200)\n",
    "ax[2].set_ylim(-200, 200)\n",
    "ax[2].set_xlabel(\"VFIT_z\")\n",
    "# plt.ylim(-1, 50)\n",
    "# plt.xlabel('VFIT')\n",
    "# plt.ylabel('emanuelle')\n",
    "plt.show()"
   ]
  },
  {
   "cell_type": "code",
   "execution_count": 28,
   "metadata": {},
   "outputs": [
    {
     "name": "stdout",
     "output_type": "stream",
     "text": [
      "doca from points 0.06478407889930574\n",
      "doca from bender 0.07763598435113668\n",
      "doca analytic 0.07763684\n"
     ]
    }
   ],
   "source": [
    "n = 194\n",
    "analytic_muplus_point = df[['muplus_closest_x', 'muplus_closest_y', 'muplus_closest_z']].to_numpy()[n]\n",
    "analytic_tauplus_point = df[['tauplus_closest_x', 'tauplus_closest_y', 'tauplus_closest_z']].to_numpy()[n]\n",
    "\n",
    "doca_plus_frompoints = np.sqrt(np.sum((analytic_tauplus_point-analytic_muplus_point)**2, axis=0))\n",
    "\n",
    "print(\"doca from points\", doca_plus_frompoints)\n",
    "print(\"doca from bender\", df['DOCA_mu_plus'][n][0])\n",
    "print('doca analytic', df['DOCA_analytic_plus'][n][0])"
   ]
  },
  {
   "cell_type": "code",
   "execution_count": 33,
   "metadata": {},
   "outputs": [
    {
     "data": {
      "text/html": [
       "<div>\n",
       "<style scoped>\n",
       "    .dataframe tbody tr th:only-of-type {\n",
       "        vertical-align: middle;\n",
       "    }\n",
       "\n",
       "    .dataframe tbody tr th {\n",
       "        vertical-align: top;\n",
       "    }\n",
       "\n",
       "    .dataframe thead th {\n",
       "        text-align: right;\n",
       "    }\n",
       "</style>\n",
       "<table border=\"1\" class=\"dataframe\">\n",
       "  <thead>\n",
       "    <tr style=\"text-align: right;\">\n",
       "      <th></th>\n",
       "      <th></th>\n",
       "      <th>Bs_TRUE_M</th>\n",
       "      <th>Bs_TRUE_PX</th>\n",
       "      <th>Bs_TRUE_PY</th>\n",
       "      <th>Bs_TRUE_PZ</th>\n",
       "      <th>Bs_TRUE_E</th>\n",
       "      <th>Bs_TRUE_P</th>\n",
       "      <th>Bs_TRUE_PT</th>\n",
       "      <th>Bs_TRUE_ETA</th>\n",
       "      <th>Bs_TRUE_PHI</th>\n",
       "      <th>Bs_TRUE_VX</th>\n",
       "      <th>...</th>\n",
       "      <th>muplus_closest_x</th>\n",
       "      <th>muplus_closest_y</th>\n",
       "      <th>muplus_closest_z</th>\n",
       "      <th>muminus_closest_x</th>\n",
       "      <th>muminus_closest_y</th>\n",
       "      <th>muminus_closest_z</th>\n",
       "      <th>tauplus_analytic_FD</th>\n",
       "      <th>tauminus_analytic_FD</th>\n",
       "      <th>IP_analytic_plus</th>\n",
       "      <th>IP_analytic_minus</th>\n",
       "    </tr>\n",
       "    <tr>\n",
       "      <th>entry</th>\n",
       "      <th>subentry</th>\n",
       "      <th></th>\n",
       "      <th></th>\n",
       "      <th></th>\n",
       "      <th></th>\n",
       "      <th></th>\n",
       "      <th></th>\n",
       "      <th></th>\n",
       "      <th></th>\n",
       "      <th></th>\n",
       "      <th></th>\n",
       "      <th></th>\n",
       "      <th></th>\n",
       "      <th></th>\n",
       "      <th></th>\n",
       "      <th></th>\n",
       "      <th></th>\n",
       "      <th></th>\n",
       "      <th></th>\n",
       "      <th></th>\n",
       "      <th></th>\n",
       "      <th></th>\n",
       "    </tr>\n",
       "  </thead>\n",
       "  <tbody>\n",
       "  </tbody>\n",
       "</table>\n",
       "<p>0 rows × 1358 columns</p>\n",
       "</div>"
      ],
      "text/plain": [
       "Empty DataFrame\n",
       "Columns: [Bs_TRUE_M, Bs_TRUE_PX, Bs_TRUE_PY, Bs_TRUE_PZ, Bs_TRUE_E, Bs_TRUE_P, Bs_TRUE_PT, Bs_TRUE_ETA, Bs_TRUE_PHI, Bs_TRUE_VX, Bs_TRUE_VY, Bs_TRUE_VZ, Bs_TRUE_OVX, Bs_TRUE_OVY, Bs_TRUE_OVZ, Bs_TRUE_ID, Bs_M, Bs_PX, Bs_PY, Bs_PZ, Bs_E, Bs_P, Bs_PT, Bs_ETA, Bs_PHI, Bs_VX, Bs_VY, Bs_VZ, Bs_VCHI2, Bs_VCHI2NDOF, Bs_VNDOF, Bs_RichDLLe, Bs_RichDLLmu, Bs_RichDLLpi, Bs_RichDLLk, Bs_RichDLLp, Bs_RichDLLd, Bs_RichDLLbt, Bs_ProbNNe, Bs_ProbNNmu, Bs_ProbNNpi, Bs_ProbNNk, Bs_ProbNNp, Bs_ProbNNd, Bs_ProbNNghost, Bs_IsMuon, Bs_IsMuonLoose, Bs_IsMuonTight, Bs_ID, Bs_IP_0, Bs_IPCHI2_0, Bs_MINIP, Bs_MINIPCHI2, Bs_TRACKCHI2, Bs_TRACKCHI2NDOF, Bs_TRACKNDOF, Bs_CHARGE, Bs_ghostProb, Bs_RefPoint_X, Bs_RefPoint_Y, Bs_RefPoint_Z, Bs_PV, Bs_FD, Bs_FDCHI2, Bs_L0HadronDecision_Dec, Bs_L0HadronDecision_TOS, Bs_L0HadronDecision_TIS, Bs_L0MuonDecision_Dec, Bs_L0MuonDecision_TOS, Bs_L0MuonDecision_TIS, Bs_L0DiMuonDecision_Dec, Bs_L0DiMuonDecision_TOS, Bs_L0DiMuonDecision_TIS, Bs_L0ElectronDecision_Dec, Bs_L0ElectronDecision_TOS, Bs_L0ElectronDecision_TIS, Bs_L0PhotonDecision_Dec, Bs_L0PhotonDecision_TOS, Bs_L0PhotonDecision_TIS, Bs_L0LocalPi0Decision_Dec, Bs_L0LocalPi0Decision_TOS, Bs_L0LocalPi0Decision_TIS, Bs_L0GlobalPi0Decision_Dec, Bs_L0GlobalPi0Decision_TOS, Bs_L0GlobalPi0Decision_TIS, Bs_L0MuonNoGlobDecision_Dec, Bs_L0MuonNoGlobDecision_TOS, Bs_L0MuonNoGlobDecision_TIS, Bs_L0B1gasDecision_Dec, Bs_L0B1gasDecision_TOS, Bs_L0B1gasDecision_TIS, Bs_L0B2gasDecision_Dec, Bs_L0B2gasDecision_TOS, Bs_L0B2gasDecision_TIS, Bs_L0CALODecision_Dec, Bs_L0CALODecision_TOS, Bs_L0CALODecision_TIS, Bs_L0DiMuon,lowMultDecision_Dec, Bs_L0DiMuon,lowMultDecision_TOS, Bs_L0DiMuon,lowMultDecision_TIS, ...]\n",
       "Index: []\n",
       "\n",
       "[0 rows x 1358 columns]"
      ]
     },
     "execution_count": 33,
     "metadata": {},
     "output_type": "execute_result"
    }
   ],
   "source": [
    "df[df['phi3_VX'] == -9999.0]"
   ]
  },
  {
   "cell_type": "code",
   "execution_count": 2,
   "metadata": {},
   "outputs": [],
   "source": [
    "from matplotlib import rc\n",
    "plt.style.use('ggplot')\n",
    "rc('font', **{'family': 'serif', 'serif': ['Computer Modern']})\n",
    "rc('text', usetex=True)"
   ]
  },
  {
   "cell_type": "code",
   "execution_count": 7,
   "metadata": {},
   "outputs": [
    {
     "data": {
      "application/vnd.jupyter.widget-view+json": {
       "model_id": "0ba34f15f3c34acca7ce5cac571c7cee",
       "version_major": 2,
       "version_minor": 0
      },
      "text/plain": [
       "Canvas(toolbar=Toolbar(toolitems=[('Home', 'Reset original view', 'home', 'home'), ('Back', 'Back to previous …"
      ]
     },
     "metadata": {},
     "output_type": "display_data"
    }
   ],
   "source": [
    "plt.figure()\n",
    "plt.barh(y = [1,5], width = [10,20], tick_label = ['mu_minus_PT', '_tau_plus_phi_IP'])\n",
    "plt.show()"
   ]
  },
  {
   "cell_type": "code",
   "execution_count": 9,
   "metadata": {},
   "outputs": [
    {
     "name": "stdout",
     "output_type": "stream",
     "text": [
      "['\\textnormal{mu_minus_PT}}', '\\textnormal{_tau_plus_phi_IP}}']\n"
     ]
    }
   ],
   "source": [
    "_ = ['mu_minus_PT', '_tau_plus_phi_IP']\n",
    "print(['\\textnormal{%s}}' %n for n in _])"
   ]
  },
  {
   "cell_type": "code",
   "execution_count": 11,
   "metadata": {},
   "outputs": [
    {
     "data": {
      "text/plain": [
       "[['mu', 'minus', 'PT'], ['', 'tau', 'plus', 'phi', 'IP']]"
      ]
     },
     "execution_count": 11,
     "metadata": {},
     "output_type": "execute_result"
    }
   ],
   "source": [
    "[i.split('_') for i in _]"
   ]
  },
  {
   "cell_type": "code",
   "execution_count": null,
   "metadata": {},
   "outputs": [],
   "source": []
  }
 ],
 "metadata": {
  "kernelspec": {
   "display_name": "Python 3",
   "language": "python",
   "name": "python3"
  },
  "language_info": {
   "codemirror_mode": {
    "name": "ipython",
    "version": 3
   },
   "file_extension": ".py",
   "mimetype": "text/x-python",
   "name": "python",
   "nbconvert_exporter": "python",
   "pygments_lexer": "ipython3",
   "version": "3.8.5"
  }
 },
 "nbformat": 4,
 "nbformat_minor": 4
}
